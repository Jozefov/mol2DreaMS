{
 "cells": [
  {
   "metadata": {
    "ExecuteTime": {
     "end_time": "2024-10-07T12:51:19.216474Z",
     "start_time": "2024-10-07T12:51:19.214637Z"
    }
   },
   "cell_type": "code",
   "source": [
    "import pandas as pd\n",
    "from matchms.importing import load_from_mgf\n",
    "from rdkit import Chem\n",
    "from tqdm import tqdm\n",
    "from collections import defaultdict\n",
    "\n",
    "import torch\n",
    "from torch.utils.data import Dataset, DataLoader\n",
    "import random\n",
    "\n",
    "# Assuming 'murcko_hist' and 'are_sub_hists' are available from the 'dreams' package\n",
    "from dreams.algorithms.murcko_hist.murcko_hist import murcko_hist"
   ],
   "id": "86d10bd2b8a2fa5c",
   "outputs": [],
   "execution_count": 64
  },
  {
   "metadata": {
    "collapsed": true,
    "ExecuteTime": {
     "end_time": "2024-10-07T11:21:50.106023Z",
     "start_time": "2024-10-07T11:21:13.163419Z"
    }
   },
   "cell_type": "code",
   "source": [
    "def load_mgf_with_folds(mgf_path):\n",
    "    \"\"\"\n",
    "    Load the MGF file and assign folds based on the precomputed 'FOLD' column.\n",
    "\n",
    "    Parameters:\n",
    "    - mgf_path (str): Path to the MGF file.\n",
    "\n",
    "    Returns:\n",
    "    - df (pd.DataFrame): DataFrame containing spectra and associated metadata.\n",
    "    \"\"\"\n",
    "    spectra = list(load_from_mgf(mgf_path))\n",
    "    records = []\n",
    "    for spec in spectra:\n",
    "        record = spec.to_dict()\n",
    "        records.append(record)\n",
    "    df = pd.DataFrame(records)\n",
    "    \n",
    "    # Assuming 'FOLD' has been assigned previously and is part of the DataFrame\n",
    "    if 'fold' not in df.columns:\n",
    "        raise ValueError(\"FOLD column is missing. Ensure the dataset has been split into train/val/test.\")\n",
    "    \n",
    "    return df"
   ],
   "id": "initial_id",
   "outputs": [
    {
     "name": "stdout",
     "output_type": "stream",
     "text": [
      "             identifier                                         smiles  \\\n",
      "0  MassSpecGymID0000001  CC(=O)N[C@@H](CC1=CC=CC=C1)C2=CC(=CC(=O)O2)OC   \n",
      "1  MassSpecGymID0000002  CC(=O)N[C@@H](CC1=CC=CC=C1)C2=CC(=CC(=O)O2)OC   \n",
      "2  MassSpecGymID0000003  CC(=O)N[C@@H](CC1=CC=CC=C1)C2=CC(=CC(=O)O2)OC   \n",
      "3  MassSpecGymID0000004  CC(=O)N[C@@H](CC1=CC=CC=C1)C2=CC(=CC(=O)O2)OC   \n",
      "4  MassSpecGymID0000005  CC(=O)N[C@@H](CC1=CC=CC=C1)C2=CC(=CC(=O)O2)OC   \n",
      "\n",
      "         inchikey    formula precursor_formula parent_mass  precursor_mz  \\\n",
      "0  VFMQMACUYWGDOJ  C16H17NO4         C16H18NO4  287.115224      288.1225   \n",
      "1  VFMQMACUYWGDOJ  C16H17NO4         C16H18NO4  287.115224      288.1225   \n",
      "2  VFMQMACUYWGDOJ  C16H17NO4         C16H18NO4  287.115224      288.1225   \n",
      "3  VFMQMACUYWGDOJ  C16H17NO4         C16H18NO4  287.115224      288.1225   \n",
      "4  VFMQMACUYWGDOJ  C16H17NO4         C16H18NO4  287.115224      288.1225   \n",
      "\n",
      "   adduct instrument_type collision_energy   fold simulation_challenge  \\\n",
      "0  [M+H]+        Orbitrap             30.0  train                 True   \n",
      "1  [M+H]+        Orbitrap             20.0  train                 True   \n",
      "2  [M+H]+        Orbitrap             40.0  train                 True   \n",
      "3  [M+H]+        Orbitrap             55.0  train                 True   \n",
      "4  [M+H]+        Orbitrap             10.0  train                 True   \n",
      "\n",
      "                                          peaks_json  \n",
      "0  [[91.0542, 0.24524524524524524], [125.0233, 1....  \n",
      "1  [[91.0542, 0.0990990990990991], [125.0233, 0.2...  \n",
      "2  [[69.0343, 0.03403403403403404], [91.0542, 0.3...  \n",
      "3  [[69.0343, 0.17917917917917917], [91.0542, 0.4...  \n",
      "4  [[91.0542, 0.07807807807807808], [125.0233, 0....  \n"
     ]
    }
   ],
   "execution_count": 2
  },
  {
   "metadata": {
    "ExecuteTime": {
     "end_time": "2024-10-07T12:47:47.252030Z",
     "start_time": "2024-10-07T12:47:12.701314Z"
    }
   },
   "cell_type": "code",
   "source": [
    "spectra_path = \"../../data/data/MassSpecGym.mgf\"\n",
    "df = load_mgf_with_folds(spectra_path)\n",
    "print(df.head())"
   ],
   "id": "9b65779551498bf3",
   "outputs": [
    {
     "name": "stdout",
     "output_type": "stream",
     "text": [
      "             identifier                                         smiles  \\\n",
      "0  MassSpecGymID0000001  CC(=O)N[C@@H](CC1=CC=CC=C1)C2=CC(=CC(=O)O2)OC   \n",
      "1  MassSpecGymID0000002  CC(=O)N[C@@H](CC1=CC=CC=C1)C2=CC(=CC(=O)O2)OC   \n",
      "2  MassSpecGymID0000003  CC(=O)N[C@@H](CC1=CC=CC=C1)C2=CC(=CC(=O)O2)OC   \n",
      "3  MassSpecGymID0000004  CC(=O)N[C@@H](CC1=CC=CC=C1)C2=CC(=CC(=O)O2)OC   \n",
      "4  MassSpecGymID0000005  CC(=O)N[C@@H](CC1=CC=CC=C1)C2=CC(=CC(=O)O2)OC   \n",
      "\n",
      "         inchikey    formula precursor_formula parent_mass  precursor_mz  \\\n",
      "0  VFMQMACUYWGDOJ  C16H17NO4         C16H18NO4  287.115224      288.1225   \n",
      "1  VFMQMACUYWGDOJ  C16H17NO4         C16H18NO4  287.115224      288.1225   \n",
      "2  VFMQMACUYWGDOJ  C16H17NO4         C16H18NO4  287.115224      288.1225   \n",
      "3  VFMQMACUYWGDOJ  C16H17NO4         C16H18NO4  287.115224      288.1225   \n",
      "4  VFMQMACUYWGDOJ  C16H17NO4         C16H18NO4  287.115224      288.1225   \n",
      "\n",
      "   adduct instrument_type collision_energy   fold simulation_challenge  \\\n",
      "0  [M+H]+        Orbitrap             30.0  train                 True   \n",
      "1  [M+H]+        Orbitrap             20.0  train                 True   \n",
      "2  [M+H]+        Orbitrap             40.0  train                 True   \n",
      "3  [M+H]+        Orbitrap             55.0  train                 True   \n",
      "4  [M+H]+        Orbitrap             10.0  train                 True   \n",
      "\n",
      "                                          peaks_json  \n",
      "0  [[91.0542, 0.24524524524524524], [125.0233, 1....  \n",
      "1  [[91.0542, 0.0990990990990991], [125.0233, 0.2...  \n",
      "2  [[69.0343, 0.03403403403403404], [91.0542, 0.3...  \n",
      "3  [[69.0343, 0.17917917917917917], [91.0542, 0.4...  \n",
      "4  [[91.0542, 0.07807807807807808], [125.0233, 0....  \n"
     ]
    }
   ],
   "execution_count": 52
  },
  {
   "metadata": {
    "ExecuteTime": {
     "end_time": "2024-10-07T12:47:57.392302Z",
     "start_time": "2024-10-07T12:47:57.390228Z"
    }
   },
   "cell_type": "code",
   "source": [
    "def extract_training_set(df):\n",
    "    \"\"\"\n",
    "    Extract the training set from the DataFrame based on the 'FOLD' column.\n",
    "\n",
    "    Parameters:\n",
    "    - df (pd.DataFrame): Complete DataFrame with all folds.\n",
    "\n",
    "    Returns:\n",
    "    - df_train (pd.DataFrame): Training set DataFrame.\n",
    "    \"\"\"\n",
    "    df_train = df[df['fold'] == 'train'].reset_index(drop=True)\n",
    "    print(f\"Training set size: {len(df_train)} spectra\")\n",
    "    return df_train"
   ],
   "id": "ef69d2d1e1ab2a6b",
   "outputs": [],
   "execution_count": 56
  },
  {
   "metadata": {
    "ExecuteTime": {
     "end_time": "2024-10-07T12:48:01.512554Z",
     "start_time": "2024-10-07T12:48:01.415395Z"
    }
   },
   "cell_type": "code",
   "source": "df_train = extract_training_set(df)",
   "id": "aa7538508061379c",
   "outputs": [
    {
     "name": "stdout",
     "output_type": "stream",
     "text": [
      "Training set size: 194119 spectra\n"
     ]
    }
   ],
   "execution_count": 57
  },
  {
   "metadata": {
    "ExecuteTime": {
     "end_time": "2024-10-07T12:48:10.262266Z",
     "start_time": "2024-10-07T12:48:10.259864Z"
    }
   },
   "cell_type": "code",
   "source": [
    "def get_unique_smiles(df_train, smiles_col='smiles'):\n",
    "    \"\"\"\n",
    "    Extract unique SMILES from the training set.\n",
    "\n",
    "    Parameters:\n",
    "    - df_train (pd.DataFrame): Training set DataFrame.\n",
    "    - smiles_col (str): Column name for SMILES strings.\n",
    "\n",
    "    Returns:\n",
    "    - df_us (pd.DataFrame): DataFrame with unique SMILES.\n",
    "    \"\"\"\n",
    "    df_us = df_train.drop_duplicates(subset=[smiles_col]).copy()\n",
    "    print(f\"Number of unique SMILES in training set: {df_us[smiles_col].nunique()}\")\n",
    "    return df_us"
   ],
   "id": "85668f0f36331744",
   "outputs": [],
   "execution_count": 58
  },
  {
   "metadata": {
    "ExecuteTime": {
     "end_time": "2024-10-07T12:48:12.768359Z",
     "start_time": "2024-10-07T12:48:12.735885Z"
    }
   },
   "cell_type": "code",
   "source": "df_us_train = get_unique_smiles(df_train)",
   "id": "8efaff598182c32b",
   "outputs": [
    {
     "name": "stdout",
     "output_type": "stream",
     "text": [
      "Number of unique SMILES in training set: 25046\n"
     ]
    }
   ],
   "execution_count": 59
  },
  {
   "metadata": {
    "ExecuteTime": {
     "end_time": "2024-10-07T12:48:36.455588Z",
     "start_time": "2024-10-07T12:48:36.452606Z"
    }
   },
   "cell_type": "code",
   "source": [
    "def compute_murcko_histograms(df_us, smiles_col='smiles'):\n",
    "    \"\"\"\n",
    "    Compute Murcko histograms for each unique SMILES in the DataFrame.\n",
    "\n",
    "    Parameters:\n",
    "    - df_us (pd.DataFrame): DataFrame with unique SMILES.\n",
    "    - smiles_col (str): Column name for SMILES strings.\n",
    "\n",
    "    Returns:\n",
    "    - df_us (pd.DataFrame): Updated DataFrame with Murcko histograms.\n",
    "    \"\"\"\n",
    "    print(\"Computing Murcko histograms...\")\n",
    "    tqdm.pandas()\n",
    "    df_us['MurckoHist'] = df_us[smiles_col].progress_apply(\n",
    "        lambda x: murcko_hist(Chem.MolFromSmiles(x)) if Chem.MolFromSmiles(x) else {}\n",
    "    )\n",
    "    \n",
    "    # Convert dictionaries to strings for easier handling\n",
    "    df_us['MurckoHistStr'] = df_us['MurckoHist'].astype(str)\n",
    "    \n",
    "    print('Number of unique SMILES:', df_us[smiles_col].nunique(), \n",
    "          'Number of unique Murcko histograms:', df_us['MurckoHistStr'].nunique())\n",
    "    \n",
    "    print('Top 20 most common Murcko histograms:')\n",
    "    print(df_us['MurckoHistStr'].value_counts().head(20))\n",
    "    \n",
    "    return df_us"
   ],
   "id": "238428d16de4e377",
   "outputs": [],
   "execution_count": 60
  },
  {
   "metadata": {
    "ExecuteTime": {
     "end_time": "2024-10-07T12:51:19.058731Z",
     "start_time": "2024-10-07T12:48:43.210685Z"
    }
   },
   "cell_type": "code",
   "source": "df_us_train = compute_murcko_histograms(df_us_train)",
   "id": "ce120039c406e665",
   "outputs": [
    {
     "name": "stdout",
     "output_type": "stream",
     "text": [
      "Computing Murcko histograms...\n"
     ]
    },
    {
     "name": "stderr",
     "output_type": "stream",
     "text": [
      "100%|██████████| 25046/25046 [02:35<00:00, 160.73it/s] "
     ]
    },
    {
     "name": "stdout",
     "output_type": "stream",
     "text": [
      "Number of unique SMILES: 25046 Number of unique Murcko histograms: 338\n",
      "Top 20 most common Murcko histograms:\n",
      "MurckoHistStr\n",
      "{'0_1': 1, '1_0': 1, '1_1': 1}              3351\n",
      "{}                                          2953\n",
      "{'0_1': 2}                                  2948\n",
      "{'0_0': 1}                                  2875\n",
      "{'1_0': 2}                                  1626\n",
      "{'0_1': 2, '0_2': 1}                        1436\n",
      "{'1_0': 2, '2_0': 2}                        1134\n",
      "{'1_0': 2, '2_0': 1}                        1096\n",
      "{'0_1': 1, '0_2': 1, '1_0': 1, '1_1': 1}     751\n",
      "{'0_1': 2, '1_1': 2}                         545\n",
      "{'0_1': 1, '1_0': 1, '1_1': 1, '2_0': 1}     495\n",
      "{'0_1': 2, '1_0': 1, '1_2': 1}               481\n",
      "{'1_0': 2, '1_1': 2}                         456\n",
      "{'0_1': 3}                                   341\n",
      "{'1_0': 2, '2_0': 3}                         288\n",
      "{'0_1': 2, '0_2': 2}                         281\n",
      "{'0_1': 1, '1_0': 1, '1_1': 1, '2_0': 2}     246\n",
      "{'0_1': 2, '0_2': 1, '1_1': 2}               229\n",
      "{'0_1': 1, '1_0': 2, '2_1': 1}               225\n",
      "{'0_1': 2, '1_0': 1, '1_1': 1}               181\n",
      "Name: count, dtype: int64\n"
     ]
    },
    {
     "name": "stderr",
     "output_type": "stream",
     "text": [
      "\n"
     ]
    }
   ],
   "execution_count": 61
  },
  {
   "metadata": {},
   "cell_type": "code",
   "outputs": [],
   "execution_count": null,
   "source": "",
   "id": "cc2958e76e2dafef"
  },
  {
   "metadata": {
    "ExecuteTime": {
     "end_time": "2024-10-07T12:51:19.073239Z",
     "start_time": "2024-10-07T12:51:19.070601Z"
    }
   },
   "cell_type": "code",
   "source": [
    "def group_by_murcko_histograms(df_us, smiles_col='smiles'):\n",
    "    \"\"\"\n",
    "    Group molecules by their Murcko histogram strings.\n",
    "\n",
    "    Parameters:\n",
    "    - df_us (pd.DataFrame): DataFrame with MurckoHistStr column.\n",
    "    - smiles_col (str): Column name for SMILES strings.\n",
    "\n",
    "    Returns:\n",
    "    - df_gb (pd.DataFrame): Grouped DataFrame by MurckoHistStr.\n",
    "    \"\"\"\n",
    "    df_gb = df_us.groupby('MurckoHistStr').agg(\n",
    "        count=(smiles_col, 'count'),\n",
    "        smiles_list=(smiles_col, list)\n",
    "    ).reset_index()\n",
    "    \n",
    "    # Convert MurckoHistStr to MurckoHist\n",
    "    df_gb['MurckoHist'] = df_gb['MurckoHistStr'].apply(eval)\n",
    "    \n",
    "    # Sort by 'count' in descending order and reset index\n",
    "    df_gb = df_gb.sort_values('count', ascending=False).reset_index(drop=True)\n",
    "    \n",
    "    print(f\"Grouped into {len(df_gb)} Murcko histogram groups.\")\n",
    "    print(df_gb.head())\n",
    "    \n",
    "    return df_gb\n"
   ],
   "id": "4bf2131a6ab1dd3c",
   "outputs": [],
   "execution_count": 62
  },
  {
   "metadata": {
    "ExecuteTime": {
     "end_time": "2024-10-07T12:52:47.542550Z",
     "start_time": "2024-10-07T12:52:47.525617Z"
    }
   },
   "cell_type": "code",
   "source": "df_gb_train = group_by_murcko_histograms(df_us_train)",
   "id": "807715c4a5d28997",
   "outputs": [
    {
     "name": "stdout",
     "output_type": "stream",
     "text": [
      "Grouped into 338 Murcko histogram groups.\n",
      "                    MurckoHistStr  count  \\\n",
      "0  {'0_1': 1, '1_0': 1, '1_1': 1}   3351   \n",
      "1                              {}   2953   \n",
      "2                      {'0_1': 2}   2948   \n",
      "3                      {'0_0': 1}   2875   \n",
      "4                      {'1_0': 2}   1626   \n",
      "\n",
      "                                         smiles_list  \\\n",
      "0  [C1=CC=C(C=C1)C2=C(C(=O)NC3=CC=CC=C32)O, CN1C(...   \n",
      "1  [CC(=C)C(=O)/C(=C/C(=O)O)/OC, CC[C@@H](C)[C@H]...   \n",
      "2  [CC(=O)N[C@@H](CC1=CC=CC=C1)C2=CC(=CC(=O)O2)OC...   \n",
      "3  [C[C@@H]1C[C@H]2[C@H](O2)/C=C\\C(=O)CC(=O)O1, C...   \n",
      "4  [C[C@H]1CCCC(=O)CCC/C=C/C2=C(C(=CC(=C2)O)O)C(=...   \n",
      "\n",
      "                       MurckoHist  \n",
      "0  {'0_1': 1, '1_0': 1, '1_1': 1}  \n",
      "1                              {}  \n",
      "2                      {'0_1': 2}  \n",
      "3                      {'0_0': 1}  \n",
      "4                      {'1_0': 2}  \n"
     ]
    }
   ],
   "execution_count": 68
  },
  {
   "metadata": {
    "ExecuteTime": {
     "end_time": "2024-10-07T12:52:53.578744Z",
     "start_time": "2024-10-07T12:52:53.569007Z"
    }
   },
   "cell_type": "code",
   "source": "df_gb_train",
   "id": "9449414416d0dc95",
   "outputs": [
    {
     "data": {
      "text/plain": [
       "                                         MurckoHistStr  count  \\\n",
       "0                       {'0_1': 1, '1_0': 1, '1_1': 1}   3351   \n",
       "1                                                   {}   2953   \n",
       "2                                           {'0_1': 2}   2948   \n",
       "3                                           {'0_0': 1}   2875   \n",
       "4                                           {'1_0': 2}   1626   \n",
       "..                                                 ...    ...   \n",
       "333  {'0_1': 1, '2_0': 2, '3_0': 2, '12_1': 2, '18_...      1   \n",
       "334  {'1_0': 1, '1_1': 1, '7_0': 1, '7_1': 1, '8_1'...      1   \n",
       "335  {'1_0': 1, '2_0': 1, '3_0': 1, '4_0': 1, '14_0...      1   \n",
       "336           {'1_0': 1, '2_0': 1, '3_0': 3, '4_0': 1}      1   \n",
       "337           {'0_1': 2, '7_1': 1, '7_2': 1, '8_2': 1}      1   \n",
       "\n",
       "                                           smiles_list  \\\n",
       "0    [C1=CC=C(C=C1)C2=C(C(=O)NC3=CC=CC=C32)O, CN1C(...   \n",
       "1    [CC(=C)C(=O)/C(=C/C(=O)O)/OC, CC[C@@H](C)[C@H]...   \n",
       "2    [CC(=O)N[C@@H](CC1=CC=CC=C1)C2=CC(=CC(=O)O2)OC...   \n",
       "3    [C[C@@H]1C[C@H]2[C@H](O2)/C=C\\C(=O)CC(=O)O1, C...   \n",
       "4    [C[C@H]1CCCC(=O)CCC/C=C/C2=C(C(=CC(=C2)O)O)C(=...   \n",
       "..                                                 ...   \n",
       "333  [C1C2C3C(C(C(O2)OC(=O)C4=CC(=C(C(=C4)O)O)O)OC(...   \n",
       "334  [C1[C@@H]2CC(C[C@H]3N2CC(=O)C1C3)OC(=O)C4=CNC5...   \n",
       "335  [CC(=O)N1CCC2=CC(=C3C=C2[C@H]1CC4=CC=C(C=C4)OC...   \n",
       "336  [C[C@@H]1[C@@H]2C[C@@]3([C@H]4[C@H](O[C@H]([C@...   \n",
       "337  [COC1=CC(=O)OC(=C1)[C@@H]2[C@@]3(C[C@@H]4[C@H]...   \n",
       "\n",
       "                                            MurckoHist  \n",
       "0                       {'0_1': 1, '1_0': 1, '1_1': 1}  \n",
       "1                                                   {}  \n",
       "2                                           {'0_1': 2}  \n",
       "3                                           {'0_0': 1}  \n",
       "4                                           {'1_0': 2}  \n",
       "..                                                 ...  \n",
       "333  {'0_1': 1, '2_0': 2, '3_0': 2, '12_1': 2, '18_...  \n",
       "334  {'1_0': 1, '1_1': 1, '7_0': 1, '7_1': 1, '8_1'...  \n",
       "335  {'1_0': 1, '2_0': 1, '3_0': 1, '4_0': 1, '14_0...  \n",
       "336           {'1_0': 1, '2_0': 1, '3_0': 3, '4_0': 1}  \n",
       "337           {'0_1': 2, '7_1': 1, '7_2': 1, '8_2': 1}  \n",
       "\n",
       "[338 rows x 4 columns]"
      ],
      "text/html": [
       "<div>\n",
       "<style scoped>\n",
       "    .dataframe tbody tr th:only-of-type {\n",
       "        vertical-align: middle;\n",
       "    }\n",
       "\n",
       "    .dataframe tbody tr th {\n",
       "        vertical-align: top;\n",
       "    }\n",
       "\n",
       "    .dataframe thead th {\n",
       "        text-align: right;\n",
       "    }\n",
       "</style>\n",
       "<table border=\"1\" class=\"dataframe\">\n",
       "  <thead>\n",
       "    <tr style=\"text-align: right;\">\n",
       "      <th></th>\n",
       "      <th>MurckoHistStr</th>\n",
       "      <th>count</th>\n",
       "      <th>smiles_list</th>\n",
       "      <th>MurckoHist</th>\n",
       "    </tr>\n",
       "  </thead>\n",
       "  <tbody>\n",
       "    <tr>\n",
       "      <th>0</th>\n",
       "      <td>{'0_1': 1, '1_0': 1, '1_1': 1}</td>\n",
       "      <td>3351</td>\n",
       "      <td>[C1=CC=C(C=C1)C2=C(C(=O)NC3=CC=CC=C32)O, CN1C(...</td>\n",
       "      <td>{'0_1': 1, '1_0': 1, '1_1': 1}</td>\n",
       "    </tr>\n",
       "    <tr>\n",
       "      <th>1</th>\n",
       "      <td>{}</td>\n",
       "      <td>2953</td>\n",
       "      <td>[CC(=C)C(=O)/C(=C/C(=O)O)/OC, CC[C@@H](C)[C@H]...</td>\n",
       "      <td>{}</td>\n",
       "    </tr>\n",
       "    <tr>\n",
       "      <th>2</th>\n",
       "      <td>{'0_1': 2}</td>\n",
       "      <td>2948</td>\n",
       "      <td>[CC(=O)N[C@@H](CC1=CC=CC=C1)C2=CC(=CC(=O)O2)OC...</td>\n",
       "      <td>{'0_1': 2}</td>\n",
       "    </tr>\n",
       "    <tr>\n",
       "      <th>3</th>\n",
       "      <td>{'0_0': 1}</td>\n",
       "      <td>2875</td>\n",
       "      <td>[C[C@@H]1C[C@H]2[C@H](O2)/C=C\\C(=O)CC(=O)O1, C...</td>\n",
       "      <td>{'0_0': 1}</td>\n",
       "    </tr>\n",
       "    <tr>\n",
       "      <th>4</th>\n",
       "      <td>{'1_0': 2}</td>\n",
       "      <td>1626</td>\n",
       "      <td>[C[C@H]1CCCC(=O)CCC/C=C/C2=C(C(=CC(=C2)O)O)C(=...</td>\n",
       "      <td>{'1_0': 2}</td>\n",
       "    </tr>\n",
       "    <tr>\n",
       "      <th>...</th>\n",
       "      <td>...</td>\n",
       "      <td>...</td>\n",
       "      <td>...</td>\n",
       "      <td>...</td>\n",
       "    </tr>\n",
       "    <tr>\n",
       "      <th>333</th>\n",
       "      <td>{'0_1': 1, '2_0': 2, '3_0': 2, '12_1': 2, '18_...</td>\n",
       "      <td>1</td>\n",
       "      <td>[C1C2C3C(C(C(O2)OC(=O)C4=CC(=C(C(=C4)O)O)O)OC(...</td>\n",
       "      <td>{'0_1': 1, '2_0': 2, '3_0': 2, '12_1': 2, '18_...</td>\n",
       "    </tr>\n",
       "    <tr>\n",
       "      <th>334</th>\n",
       "      <td>{'1_0': 1, '1_1': 1, '7_0': 1, '7_1': 1, '8_1'...</td>\n",
       "      <td>1</td>\n",
       "      <td>[C1[C@@H]2CC(C[C@H]3N2CC(=O)C1C3)OC(=O)C4=CNC5...</td>\n",
       "      <td>{'1_0': 1, '1_1': 1, '7_0': 1, '7_1': 1, '8_1'...</td>\n",
       "    </tr>\n",
       "    <tr>\n",
       "      <th>335</th>\n",
       "      <td>{'1_0': 1, '2_0': 1, '3_0': 1, '4_0': 1, '14_0...</td>\n",
       "      <td>1</td>\n",
       "      <td>[CC(=O)N1CCC2=CC(=C3C=C2[C@H]1CC4=CC=C(C=C4)OC...</td>\n",
       "      <td>{'1_0': 1, '2_0': 1, '3_0': 1, '4_0': 1, '14_0...</td>\n",
       "    </tr>\n",
       "    <tr>\n",
       "      <th>336</th>\n",
       "      <td>{'1_0': 1, '2_0': 1, '3_0': 3, '4_0': 1}</td>\n",
       "      <td>1</td>\n",
       "      <td>[C[C@@H]1[C@@H]2C[C@@]3([C@H]4[C@H](O[C@H]([C@...</td>\n",
       "      <td>{'1_0': 1, '2_0': 1, '3_0': 3, '4_0': 1}</td>\n",
       "    </tr>\n",
       "    <tr>\n",
       "      <th>337</th>\n",
       "      <td>{'0_1': 2, '7_1': 1, '7_2': 1, '8_2': 1}</td>\n",
       "      <td>1</td>\n",
       "      <td>[COC1=CC(=O)OC(=C1)[C@@H]2[C@@]3(C[C@@H]4[C@H]...</td>\n",
       "      <td>{'0_1': 2, '7_1': 1, '7_2': 1, '8_2': 1}</td>\n",
       "    </tr>\n",
       "  </tbody>\n",
       "</table>\n",
       "<p>338 rows × 4 columns</p>\n",
       "</div>"
      ]
     },
     "execution_count": 69,
     "metadata": {},
     "output_type": "execute_result"
    }
   ],
   "execution_count": 69
  },
  {
   "metadata": {
    "ExecuteTime": {
     "end_time": "2024-10-07T13:25:04.562596Z",
     "start_time": "2024-10-07T13:25:04.559742Z"
    }
   },
   "cell_type": "code",
   "source": [
    "def create_mappings(df_gb, df_us_train, df_train, smiles_col='smiles', identifier_col='identifier'):\n",
    "    \"\"\"\n",
    "    Create mappings from MurckoHistStr to identifiers and vice versa.\n",
    "\n",
    "    Parameters:\n",
    "    - df_gb (pd.DataFrame): Grouped DataFrame by MurckoHistStr.\n",
    "    - df_us_train (pd.DataFrame): DataFrame with unique SMILES and their MurckoHistStr.\n",
    "    - df_train (pd.DataFrame): Training set DataFrame.\n",
    "    - smiles_col (str): Column name for SMILES strings.\n",
    "    - identifier_col (str): Column name for unique identifiers.\n",
    "\n",
    "    Returns:\n",
    "    - hist_to_ids (dict): Mapping from MurckoHistStr to list of identifiers.\n",
    "    - id_to_hist (dict): Mapping from identifier to MurckoHistStr.\n",
    "    \"\"\"\n",
    "    hist_to_ids = defaultdict(list)\n",
    "    # Iterate through each group and map identifiers\n",
    "    for _, row in df_gb.iterrows():\n",
    "        murcko_hist_str = row['MurckoHistStr']\n",
    "        smiles_list = row['smiles_list']\n",
    "        # Get identifiers corresponding to these SMILES\n",
    "        identifiers = df_train[df_train[smiles_col].isin(smiles_list)][identifier_col].tolist()\n",
    "        hist_to_ids[murcko_hist_str].extend(identifiers)\n",
    "    \n",
    "    # Create mapping from identifier to MurckoHistStr\n",
    "    id_to_hist = df_train.set_index(identifier_col)['MurckoHistStr'].to_dict()\n",
    "    \n",
    "    print(f\"Total Murcko histogram groups mapped to identifiers: {len(hist_to_ids)}\")\n",
    "    return hist_to_ids, id_to_hist\n"
   ],
   "id": "c92fa727cbedea61",
   "outputs": [],
   "execution_count": 72
  },
  {
   "metadata": {
    "ExecuteTime": {
     "end_time": "2024-10-07T13:26:16.925787Z",
     "start_time": "2024-10-07T13:26:16.913443Z"
    }
   },
   "cell_type": "code",
   "source": "df_train",
   "id": "a4280160f68b98b0",
   "outputs": [
    {
     "data": {
      "text/plain": [
       "                  identifier  \\\n",
       "0       MassSpecGymID0000001   \n",
       "1       MassSpecGymID0000002   \n",
       "2       MassSpecGymID0000003   \n",
       "3       MassSpecGymID0000004   \n",
       "4       MassSpecGymID0000005   \n",
       "...                      ...   \n",
       "194114  MassSpecGymID0414159   \n",
       "194115  MassSpecGymID0414160   \n",
       "194116  MassSpecGymID0414161   \n",
       "194117  MassSpecGymID0414162   \n",
       "194118  MassSpecGymID0414163   \n",
       "\n",
       "                                                   smiles        inchikey  \\\n",
       "0           CC(=O)N[C@@H](CC1=CC=CC=C1)C2=CC(=CC(=O)O2)OC  VFMQMACUYWGDOJ   \n",
       "1           CC(=O)N[C@@H](CC1=CC=CC=C1)C2=CC(=CC(=O)O2)OC  VFMQMACUYWGDOJ   \n",
       "2           CC(=O)N[C@@H](CC1=CC=CC=C1)C2=CC(=CC(=O)O2)OC  VFMQMACUYWGDOJ   \n",
       "3           CC(=O)N[C@@H](CC1=CC=CC=C1)C2=CC(=CC(=O)O2)OC  VFMQMACUYWGDOJ   \n",
       "4           CC(=O)N[C@@H](CC1=CC=CC=C1)C2=CC(=CC(=O)O2)OC  VFMQMACUYWGDOJ   \n",
       "...                                                   ...             ...   \n",
       "194114  CC(=O)OC[C@@H]1[C@H](C(C([C@@H](O1)OC2=C(OC3=C...  IGLUNMMNDNWZOA   \n",
       "194115  C[C@@H]1[C@@H]([C@@H]([C@H]([C@@H](O1)OC2=CC(=...  JYXSWDCPHRTYGU   \n",
       "194116  CC1[C@@H](C([C@@H]([C@@H](O1)OC2[C@@H](C(O[C@H...  YFPYXTNSQOUHPS   \n",
       "194117  CC1[C@@H]([C@@H](C([C@@H](O1)OC2=CC(=C3C(=C2)O...  DDELFAUOHDSZJL   \n",
       "194118  CC1[C@@H]([C@@H](C([C@@H](O1)OC2=CC(=C3C(=C2)O...  OTUCXMIQUNROBJ   \n",
       "\n",
       "          formula precursor_formula        parent_mass  precursor_mz  adduct  \\\n",
       "0       C16H17NO4         C16H18NO4         287.115224      288.1225  [M+H]+   \n",
       "1       C16H17NO4         C16H18NO4         287.115224      288.1225  [M+H]+   \n",
       "2       C16H17NO4         C16H18NO4         287.115224      288.1225  [M+H]+   \n",
       "3       C16H17NO4         C16H18NO4         287.115224      288.1225  [M+H]+   \n",
       "4       C16H17NO4         C16H18NO4         287.115224      288.1225  [M+H]+   \n",
       "...           ...               ...                ...           ...     ...   \n",
       "194114  C23H22O13         C23H23O13         506.106724      507.1140  [M+H]+   \n",
       "194115  C27H30O15         C27H31O15         594.158724      595.1660  [M+H]+   \n",
       "194116  C27H30O15         C27H31O15         594.158724      595.1660  [M+H]+   \n",
       "194117  C33H40O19         C33H41O19         740.216724      741.2240  [M+H]+   \n",
       "194118  C27H30O16         C27H31O16  610.1537239999999      611.1610  [M+H]+   \n",
       "\n",
       "       instrument_type collision_energy   fold simulation_challenge  \\\n",
       "0             Orbitrap             30.0  train                 True   \n",
       "1             Orbitrap             20.0  train                 True   \n",
       "2             Orbitrap             40.0  train                 True   \n",
       "3             Orbitrap             55.0  train                 True   \n",
       "4             Orbitrap             10.0  train                 True   \n",
       "...                ...              ...    ...                  ...   \n",
       "194114            QTOF              nan  train                False   \n",
       "194115            QTOF              nan  train                False   \n",
       "194116            QTOF              nan  train                False   \n",
       "194117            QTOF              nan  train                False   \n",
       "194118            QTOF              nan  train                False   \n",
       "\n",
       "                                               peaks_json  \n",
       "0       [[91.0542, 0.24524524524524524], [125.0233, 1....  \n",
       "1       [[91.0542, 0.0990990990990991], [125.0233, 0.2...  \n",
       "2       [[69.0343, 0.03403403403403404], [91.0542, 0.3...  \n",
       "3       [[69.0343, 0.17917917917917917], [91.0542, 0.4...  \n",
       "4       [[91.0542, 0.07807807807807808], [125.0233, 0....  \n",
       "...                                                   ...  \n",
       "194114  [[81.034798, 0.07607607607607608], [109.0299, ...  \n",
       "194115  [[287.05481, 1.0], [433.112701, 0.271271271271...  \n",
       "194116  [[71.050797, 0.043043043043043044], [85.029099...  \n",
       "194117  [[85.029198, 0.07707707707707707], [287.055115...  \n",
       "194118  [[303.049713, 1.0], [449.108185, 0.26326326326...  \n",
       "\n",
       "[194119 rows x 13 columns]"
      ],
      "text/html": [
       "<div>\n",
       "<style scoped>\n",
       "    .dataframe tbody tr th:only-of-type {\n",
       "        vertical-align: middle;\n",
       "    }\n",
       "\n",
       "    .dataframe tbody tr th {\n",
       "        vertical-align: top;\n",
       "    }\n",
       "\n",
       "    .dataframe thead th {\n",
       "        text-align: right;\n",
       "    }\n",
       "</style>\n",
       "<table border=\"1\" class=\"dataframe\">\n",
       "  <thead>\n",
       "    <tr style=\"text-align: right;\">\n",
       "      <th></th>\n",
       "      <th>identifier</th>\n",
       "      <th>smiles</th>\n",
       "      <th>inchikey</th>\n",
       "      <th>formula</th>\n",
       "      <th>precursor_formula</th>\n",
       "      <th>parent_mass</th>\n",
       "      <th>precursor_mz</th>\n",
       "      <th>adduct</th>\n",
       "      <th>instrument_type</th>\n",
       "      <th>collision_energy</th>\n",
       "      <th>fold</th>\n",
       "      <th>simulation_challenge</th>\n",
       "      <th>peaks_json</th>\n",
       "    </tr>\n",
       "  </thead>\n",
       "  <tbody>\n",
       "    <tr>\n",
       "      <th>0</th>\n",
       "      <td>MassSpecGymID0000001</td>\n",
       "      <td>CC(=O)N[C@@H](CC1=CC=CC=C1)C2=CC(=CC(=O)O2)OC</td>\n",
       "      <td>VFMQMACUYWGDOJ</td>\n",
       "      <td>C16H17NO4</td>\n",
       "      <td>C16H18NO4</td>\n",
       "      <td>287.115224</td>\n",
       "      <td>288.1225</td>\n",
       "      <td>[M+H]+</td>\n",
       "      <td>Orbitrap</td>\n",
       "      <td>30.0</td>\n",
       "      <td>train</td>\n",
       "      <td>True</td>\n",
       "      <td>[[91.0542, 0.24524524524524524], [125.0233, 1....</td>\n",
       "    </tr>\n",
       "    <tr>\n",
       "      <th>1</th>\n",
       "      <td>MassSpecGymID0000002</td>\n",
       "      <td>CC(=O)N[C@@H](CC1=CC=CC=C1)C2=CC(=CC(=O)O2)OC</td>\n",
       "      <td>VFMQMACUYWGDOJ</td>\n",
       "      <td>C16H17NO4</td>\n",
       "      <td>C16H18NO4</td>\n",
       "      <td>287.115224</td>\n",
       "      <td>288.1225</td>\n",
       "      <td>[M+H]+</td>\n",
       "      <td>Orbitrap</td>\n",
       "      <td>20.0</td>\n",
       "      <td>train</td>\n",
       "      <td>True</td>\n",
       "      <td>[[91.0542, 0.0990990990990991], [125.0233, 0.2...</td>\n",
       "    </tr>\n",
       "    <tr>\n",
       "      <th>2</th>\n",
       "      <td>MassSpecGymID0000003</td>\n",
       "      <td>CC(=O)N[C@@H](CC1=CC=CC=C1)C2=CC(=CC(=O)O2)OC</td>\n",
       "      <td>VFMQMACUYWGDOJ</td>\n",
       "      <td>C16H17NO4</td>\n",
       "      <td>C16H18NO4</td>\n",
       "      <td>287.115224</td>\n",
       "      <td>288.1225</td>\n",
       "      <td>[M+H]+</td>\n",
       "      <td>Orbitrap</td>\n",
       "      <td>40.0</td>\n",
       "      <td>train</td>\n",
       "      <td>True</td>\n",
       "      <td>[[69.0343, 0.03403403403403404], [91.0542, 0.3...</td>\n",
       "    </tr>\n",
       "    <tr>\n",
       "      <th>3</th>\n",
       "      <td>MassSpecGymID0000004</td>\n",
       "      <td>CC(=O)N[C@@H](CC1=CC=CC=C1)C2=CC(=CC(=O)O2)OC</td>\n",
       "      <td>VFMQMACUYWGDOJ</td>\n",
       "      <td>C16H17NO4</td>\n",
       "      <td>C16H18NO4</td>\n",
       "      <td>287.115224</td>\n",
       "      <td>288.1225</td>\n",
       "      <td>[M+H]+</td>\n",
       "      <td>Orbitrap</td>\n",
       "      <td>55.0</td>\n",
       "      <td>train</td>\n",
       "      <td>True</td>\n",
       "      <td>[[69.0343, 0.17917917917917917], [91.0542, 0.4...</td>\n",
       "    </tr>\n",
       "    <tr>\n",
       "      <th>4</th>\n",
       "      <td>MassSpecGymID0000005</td>\n",
       "      <td>CC(=O)N[C@@H](CC1=CC=CC=C1)C2=CC(=CC(=O)O2)OC</td>\n",
       "      <td>VFMQMACUYWGDOJ</td>\n",
       "      <td>C16H17NO4</td>\n",
       "      <td>C16H18NO4</td>\n",
       "      <td>287.115224</td>\n",
       "      <td>288.1225</td>\n",
       "      <td>[M+H]+</td>\n",
       "      <td>Orbitrap</td>\n",
       "      <td>10.0</td>\n",
       "      <td>train</td>\n",
       "      <td>True</td>\n",
       "      <td>[[91.0542, 0.07807807807807808], [125.0233, 0....</td>\n",
       "    </tr>\n",
       "    <tr>\n",
       "      <th>...</th>\n",
       "      <td>...</td>\n",
       "      <td>...</td>\n",
       "      <td>...</td>\n",
       "      <td>...</td>\n",
       "      <td>...</td>\n",
       "      <td>...</td>\n",
       "      <td>...</td>\n",
       "      <td>...</td>\n",
       "      <td>...</td>\n",
       "      <td>...</td>\n",
       "      <td>...</td>\n",
       "      <td>...</td>\n",
       "      <td>...</td>\n",
       "    </tr>\n",
       "    <tr>\n",
       "      <th>194114</th>\n",
       "      <td>MassSpecGymID0414159</td>\n",
       "      <td>CC(=O)OC[C@@H]1[C@H](C(C([C@@H](O1)OC2=C(OC3=C...</td>\n",
       "      <td>IGLUNMMNDNWZOA</td>\n",
       "      <td>C23H22O13</td>\n",
       "      <td>C23H23O13</td>\n",
       "      <td>506.106724</td>\n",
       "      <td>507.1140</td>\n",
       "      <td>[M+H]+</td>\n",
       "      <td>QTOF</td>\n",
       "      <td>nan</td>\n",
       "      <td>train</td>\n",
       "      <td>False</td>\n",
       "      <td>[[81.034798, 0.07607607607607608], [109.0299, ...</td>\n",
       "    </tr>\n",
       "    <tr>\n",
       "      <th>194115</th>\n",
       "      <td>MassSpecGymID0414160</td>\n",
       "      <td>C[C@@H]1[C@@H]([C@@H]([C@H]([C@@H](O1)OC2=CC(=...</td>\n",
       "      <td>JYXSWDCPHRTYGU</td>\n",
       "      <td>C27H30O15</td>\n",
       "      <td>C27H31O15</td>\n",
       "      <td>594.158724</td>\n",
       "      <td>595.1660</td>\n",
       "      <td>[M+H]+</td>\n",
       "      <td>QTOF</td>\n",
       "      <td>nan</td>\n",
       "      <td>train</td>\n",
       "      <td>False</td>\n",
       "      <td>[[287.05481, 1.0], [433.112701, 0.271271271271...</td>\n",
       "    </tr>\n",
       "    <tr>\n",
       "      <th>194116</th>\n",
       "      <td>MassSpecGymID0414161</td>\n",
       "      <td>CC1[C@@H](C([C@@H]([C@@H](O1)OC2[C@@H](C(O[C@H...</td>\n",
       "      <td>YFPYXTNSQOUHPS</td>\n",
       "      <td>C27H30O15</td>\n",
       "      <td>C27H31O15</td>\n",
       "      <td>594.158724</td>\n",
       "      <td>595.1660</td>\n",
       "      <td>[M+H]+</td>\n",
       "      <td>QTOF</td>\n",
       "      <td>nan</td>\n",
       "      <td>train</td>\n",
       "      <td>False</td>\n",
       "      <td>[[71.050797, 0.043043043043043044], [85.029099...</td>\n",
       "    </tr>\n",
       "    <tr>\n",
       "      <th>194117</th>\n",
       "      <td>MassSpecGymID0414162</td>\n",
       "      <td>CC1[C@@H]([C@@H](C([C@@H](O1)OC2=CC(=C3C(=C2)O...</td>\n",
       "      <td>DDELFAUOHDSZJL</td>\n",
       "      <td>C33H40O19</td>\n",
       "      <td>C33H41O19</td>\n",
       "      <td>740.216724</td>\n",
       "      <td>741.2240</td>\n",
       "      <td>[M+H]+</td>\n",
       "      <td>QTOF</td>\n",
       "      <td>nan</td>\n",
       "      <td>train</td>\n",
       "      <td>False</td>\n",
       "      <td>[[85.029198, 0.07707707707707707], [287.055115...</td>\n",
       "    </tr>\n",
       "    <tr>\n",
       "      <th>194118</th>\n",
       "      <td>MassSpecGymID0414163</td>\n",
       "      <td>CC1[C@@H]([C@@H](C([C@@H](O1)OC2=CC(=C3C(=C2)O...</td>\n",
       "      <td>OTUCXMIQUNROBJ</td>\n",
       "      <td>C27H30O16</td>\n",
       "      <td>C27H31O16</td>\n",
       "      <td>610.1537239999999</td>\n",
       "      <td>611.1610</td>\n",
       "      <td>[M+H]+</td>\n",
       "      <td>QTOF</td>\n",
       "      <td>nan</td>\n",
       "      <td>train</td>\n",
       "      <td>False</td>\n",
       "      <td>[[303.049713, 1.0], [449.108185, 0.26326326326...</td>\n",
       "    </tr>\n",
       "  </tbody>\n",
       "</table>\n",
       "<p>194119 rows × 13 columns</p>\n",
       "</div>"
      ]
     },
     "execution_count": 74,
     "metadata": {},
     "output_type": "execute_result"
    }
   ],
   "execution_count": 74
  },
  {
   "metadata": {
    "ExecuteTime": {
     "end_time": "2024-10-07T12:52:21.093725Z",
     "start_time": "2024-10-07T12:52:21.083191Z"
    }
   },
   "cell_type": "code",
   "source": "df_g",
   "id": "50dd4f96f06b8736",
   "outputs": [
    {
     "data": {
      "text/plain": [
       "                                         MurckoHistStr  count  \\\n",
       "0                       {'0_1': 1, '1_0': 1, '1_1': 1}   3351   \n",
       "1                                                   {}   2953   \n",
       "2                                           {'0_1': 2}   2948   \n",
       "3                                           {'0_0': 1}   2875   \n",
       "4                                           {'1_0': 2}   1626   \n",
       "..                                                 ...    ...   \n",
       "333  {'0_1': 1, '2_0': 2, '3_0': 2, '12_1': 2, '18_...      1   \n",
       "334  {'1_0': 1, '1_1': 1, '7_0': 1, '7_1': 1, '8_1'...      1   \n",
       "335  {'1_0': 1, '2_0': 1, '3_0': 1, '4_0': 1, '14_0...      1   \n",
       "336           {'1_0': 1, '2_0': 1, '3_0': 3, '4_0': 1}      1   \n",
       "337           {'0_1': 2, '7_1': 1, '7_2': 1, '8_2': 1}      1   \n",
       "\n",
       "                                           smiles_list  \\\n",
       "0    [C1=CC=C(C=C1)C2=C(C(=O)NC3=CC=CC=C32)O, CN1C(...   \n",
       "1    [CC(=C)C(=O)/C(=C/C(=O)O)/OC, CC[C@@H](C)[C@H]...   \n",
       "2    [CC(=O)N[C@@H](CC1=CC=CC=C1)C2=CC(=CC(=O)O2)OC...   \n",
       "3    [C[C@@H]1C[C@H]2[C@H](O2)/C=C\\C(=O)CC(=O)O1, C...   \n",
       "4    [C[C@H]1CCCC(=O)CCC/C=C/C2=C(C(=CC(=C2)O)O)C(=...   \n",
       "..                                                 ...   \n",
       "333  [C1C2C3C(C(C(O2)OC(=O)C4=CC(=C(C(=C4)O)O)O)OC(...   \n",
       "334  [C1[C@@H]2CC(C[C@H]3N2CC(=O)C1C3)OC(=O)C4=CNC5...   \n",
       "335  [CC(=O)N1CCC2=CC(=C3C=C2[C@H]1CC4=CC=C(C=C4)OC...   \n",
       "336  [C[C@@H]1[C@@H]2C[C@@]3([C@H]4[C@H](O[C@H]([C@...   \n",
       "337  [COC1=CC(=O)OC(=C1)[C@@H]2[C@@]3(C[C@@H]4[C@H]...   \n",
       "\n",
       "                                            MurckoHist  \n",
       "0                       {'0_1': 1, '1_0': 1, '1_1': 1}  \n",
       "1                                                   {}  \n",
       "2                                           {'0_1': 2}  \n",
       "3                                           {'0_0': 1}  \n",
       "4                                           {'1_0': 2}  \n",
       "..                                                 ...  \n",
       "333  {'0_1': 1, '2_0': 2, '3_0': 2, '12_1': 2, '18_...  \n",
       "334  {'1_0': 1, '1_1': 1, '7_0': 1, '7_1': 1, '8_1'...  \n",
       "335  {'1_0': 1, '2_0': 1, '3_0': 1, '4_0': 1, '14_0...  \n",
       "336           {'1_0': 1, '2_0': 1, '3_0': 3, '4_0': 1}  \n",
       "337           {'0_1': 2, '7_1': 1, '7_2': 1, '8_2': 1}  \n",
       "\n",
       "[338 rows x 4 columns]"
      ],
      "text/html": [
       "<div>\n",
       "<style scoped>\n",
       "    .dataframe tbody tr th:only-of-type {\n",
       "        vertical-align: middle;\n",
       "    }\n",
       "\n",
       "    .dataframe tbody tr th {\n",
       "        vertical-align: top;\n",
       "    }\n",
       "\n",
       "    .dataframe thead th {\n",
       "        text-align: right;\n",
       "    }\n",
       "</style>\n",
       "<table border=\"1\" class=\"dataframe\">\n",
       "  <thead>\n",
       "    <tr style=\"text-align: right;\">\n",
       "      <th></th>\n",
       "      <th>MurckoHistStr</th>\n",
       "      <th>count</th>\n",
       "      <th>smiles_list</th>\n",
       "      <th>MurckoHist</th>\n",
       "    </tr>\n",
       "  </thead>\n",
       "  <tbody>\n",
       "    <tr>\n",
       "      <th>0</th>\n",
       "      <td>{'0_1': 1, '1_0': 1, '1_1': 1}</td>\n",
       "      <td>3351</td>\n",
       "      <td>[C1=CC=C(C=C1)C2=C(C(=O)NC3=CC=CC=C32)O, CN1C(...</td>\n",
       "      <td>{'0_1': 1, '1_0': 1, '1_1': 1}</td>\n",
       "    </tr>\n",
       "    <tr>\n",
       "      <th>1</th>\n",
       "      <td>{}</td>\n",
       "      <td>2953</td>\n",
       "      <td>[CC(=C)C(=O)/C(=C/C(=O)O)/OC, CC[C@@H](C)[C@H]...</td>\n",
       "      <td>{}</td>\n",
       "    </tr>\n",
       "    <tr>\n",
       "      <th>2</th>\n",
       "      <td>{'0_1': 2}</td>\n",
       "      <td>2948</td>\n",
       "      <td>[CC(=O)N[C@@H](CC1=CC=CC=C1)C2=CC(=CC(=O)O2)OC...</td>\n",
       "      <td>{'0_1': 2}</td>\n",
       "    </tr>\n",
       "    <tr>\n",
       "      <th>3</th>\n",
       "      <td>{'0_0': 1}</td>\n",
       "      <td>2875</td>\n",
       "      <td>[C[C@@H]1C[C@H]2[C@H](O2)/C=C\\C(=O)CC(=O)O1, C...</td>\n",
       "      <td>{'0_0': 1}</td>\n",
       "    </tr>\n",
       "    <tr>\n",
       "      <th>4</th>\n",
       "      <td>{'1_0': 2}</td>\n",
       "      <td>1626</td>\n",
       "      <td>[C[C@H]1CCCC(=O)CCC/C=C/C2=C(C(=CC(=C2)O)O)C(=...</td>\n",
       "      <td>{'1_0': 2}</td>\n",
       "    </tr>\n",
       "    <tr>\n",
       "      <th>...</th>\n",
       "      <td>...</td>\n",
       "      <td>...</td>\n",
       "      <td>...</td>\n",
       "      <td>...</td>\n",
       "    </tr>\n",
       "    <tr>\n",
       "      <th>333</th>\n",
       "      <td>{'0_1': 1, '2_0': 2, '3_0': 2, '12_1': 2, '18_...</td>\n",
       "      <td>1</td>\n",
       "      <td>[C1C2C3C(C(C(O2)OC(=O)C4=CC(=C(C(=C4)O)O)O)OC(...</td>\n",
       "      <td>{'0_1': 1, '2_0': 2, '3_0': 2, '12_1': 2, '18_...</td>\n",
       "    </tr>\n",
       "    <tr>\n",
       "      <th>334</th>\n",
       "      <td>{'1_0': 1, '1_1': 1, '7_0': 1, '7_1': 1, '8_1'...</td>\n",
       "      <td>1</td>\n",
       "      <td>[C1[C@@H]2CC(C[C@H]3N2CC(=O)C1C3)OC(=O)C4=CNC5...</td>\n",
       "      <td>{'1_0': 1, '1_1': 1, '7_0': 1, '7_1': 1, '8_1'...</td>\n",
       "    </tr>\n",
       "    <tr>\n",
       "      <th>335</th>\n",
       "      <td>{'1_0': 1, '2_0': 1, '3_0': 1, '4_0': 1, '14_0...</td>\n",
       "      <td>1</td>\n",
       "      <td>[CC(=O)N1CCC2=CC(=C3C=C2[C@H]1CC4=CC=C(C=C4)OC...</td>\n",
       "      <td>{'1_0': 1, '2_0': 1, '3_0': 1, '4_0': 1, '14_0...</td>\n",
       "    </tr>\n",
       "    <tr>\n",
       "      <th>336</th>\n",
       "      <td>{'1_0': 1, '2_0': 1, '3_0': 3, '4_0': 1}</td>\n",
       "      <td>1</td>\n",
       "      <td>[C[C@@H]1[C@@H]2C[C@@]3([C@H]4[C@H](O[C@H]([C@...</td>\n",
       "      <td>{'1_0': 1, '2_0': 1, '3_0': 3, '4_0': 1}</td>\n",
       "    </tr>\n",
       "    <tr>\n",
       "      <th>337</th>\n",
       "      <td>{'0_1': 2, '7_1': 1, '7_2': 1, '8_2': 1}</td>\n",
       "      <td>1</td>\n",
       "      <td>[COC1=CC(=O)OC(=C1)[C@@H]2[C@@]3(C[C@@H]4[C@H]...</td>\n",
       "      <td>{'0_1': 2, '7_1': 1, '7_2': 1, '8_2': 1}</td>\n",
       "    </tr>\n",
       "  </tbody>\n",
       "</table>\n",
       "<p>338 rows × 4 columns</p>\n",
       "</div>"
      ]
     },
     "execution_count": 67,
     "metadata": {},
     "output_type": "execute_result"
    }
   ],
   "execution_count": 67
  },
  {
   "metadata": {
    "ExecuteTime": {
     "end_time": "2024-10-07T13:25:13.736501Z",
     "start_time": "2024-10-07T13:25:11.907629Z"
    }
   },
   "cell_type": "code",
   "source": "hist_to_ids, id_to_hist = create_mappings(df_gb_train, df_us_train, df_train)",
   "id": "50e1bb47b71f27f5",
   "outputs": [
    {
     "ename": "KeyError",
     "evalue": "'MurckoHistStr'",
     "output_type": "error",
     "traceback": [
      "\u001B[0;31m---------------------------------------------------------------------------\u001B[0m",
      "\u001B[0;31mKeyError\u001B[0m                                  Traceback (most recent call last)",
      "File \u001B[0;32m~/UTILS/anaconda3/envs/mol2dreams/lib/python3.11/site-packages/pandas/core/indexes/base.py:3805\u001B[0m, in \u001B[0;36mIndex.get_loc\u001B[0;34m(self, key)\u001B[0m\n\u001B[1;32m   3804\u001B[0m \u001B[38;5;28;01mtry\u001B[39;00m:\n\u001B[0;32m-> 3805\u001B[0m     \u001B[38;5;28;01mreturn\u001B[39;00m \u001B[38;5;28mself\u001B[39m\u001B[38;5;241m.\u001B[39m_engine\u001B[38;5;241m.\u001B[39mget_loc(casted_key)\n\u001B[1;32m   3806\u001B[0m \u001B[38;5;28;01mexcept\u001B[39;00m \u001B[38;5;167;01mKeyError\u001B[39;00m \u001B[38;5;28;01mas\u001B[39;00m err:\n",
      "File \u001B[0;32mindex.pyx:167\u001B[0m, in \u001B[0;36mpandas._libs.index.IndexEngine.get_loc\u001B[0;34m()\u001B[0m\n",
      "File \u001B[0;32mindex.pyx:196\u001B[0m, in \u001B[0;36mpandas._libs.index.IndexEngine.get_loc\u001B[0;34m()\u001B[0m\n",
      "File \u001B[0;32mpandas/_libs/hashtable_class_helper.pxi:7081\u001B[0m, in \u001B[0;36mpandas._libs.hashtable.PyObjectHashTable.get_item\u001B[0;34m()\u001B[0m\n",
      "File \u001B[0;32mpandas/_libs/hashtable_class_helper.pxi:7089\u001B[0m, in \u001B[0;36mpandas._libs.hashtable.PyObjectHashTable.get_item\u001B[0;34m()\u001B[0m\n",
      "\u001B[0;31mKeyError\u001B[0m: 'MurckoHistStr'",
      "\nThe above exception was the direct cause of the following exception:\n",
      "\u001B[0;31mKeyError\u001B[0m                                  Traceback (most recent call last)",
      "Cell \u001B[0;32mIn[73], line 1\u001B[0m\n\u001B[0;32m----> 1\u001B[0m hist_to_ids, id_to_hist \u001B[38;5;241m=\u001B[39m create_mappings(df_gb_train, df_us_train, df_train)\n",
      "Cell \u001B[0;32mIn[72], line 26\u001B[0m, in \u001B[0;36mcreate_mappings\u001B[0;34m(df_gb, df_us_train, df_train, smiles_col, identifier_col)\u001B[0m\n\u001B[1;32m     23\u001B[0m     hist_to_ids[murcko_hist_str]\u001B[38;5;241m.\u001B[39mextend(identifiers)\n\u001B[1;32m     25\u001B[0m \u001B[38;5;66;03m# Create mapping from identifier to MurckoHistStr\u001B[39;00m\n\u001B[0;32m---> 26\u001B[0m id_to_hist \u001B[38;5;241m=\u001B[39m df_train\u001B[38;5;241m.\u001B[39mset_index(identifier_col)[\u001B[38;5;124m'\u001B[39m\u001B[38;5;124mMurckoHistStr\u001B[39m\u001B[38;5;124m'\u001B[39m]\u001B[38;5;241m.\u001B[39mto_dict()\n\u001B[1;32m     28\u001B[0m \u001B[38;5;28mprint\u001B[39m(\u001B[38;5;124mf\u001B[39m\u001B[38;5;124m\"\u001B[39m\u001B[38;5;124mTotal Murcko histogram groups mapped to identifiers: \u001B[39m\u001B[38;5;132;01m{\u001B[39;00m\u001B[38;5;28mlen\u001B[39m(hist_to_ids)\u001B[38;5;132;01m}\u001B[39;00m\u001B[38;5;124m\"\u001B[39m)\n\u001B[1;32m     29\u001B[0m \u001B[38;5;28;01mreturn\u001B[39;00m hist_to_ids, id_to_hist\n",
      "File \u001B[0;32m~/UTILS/anaconda3/envs/mol2dreams/lib/python3.11/site-packages/pandas/core/frame.py:4090\u001B[0m, in \u001B[0;36mDataFrame.__getitem__\u001B[0;34m(self, key)\u001B[0m\n\u001B[1;32m   4088\u001B[0m \u001B[38;5;28;01mif\u001B[39;00m \u001B[38;5;28mself\u001B[39m\u001B[38;5;241m.\u001B[39mcolumns\u001B[38;5;241m.\u001B[39mnlevels \u001B[38;5;241m>\u001B[39m \u001B[38;5;241m1\u001B[39m:\n\u001B[1;32m   4089\u001B[0m     \u001B[38;5;28;01mreturn\u001B[39;00m \u001B[38;5;28mself\u001B[39m\u001B[38;5;241m.\u001B[39m_getitem_multilevel(key)\n\u001B[0;32m-> 4090\u001B[0m indexer \u001B[38;5;241m=\u001B[39m \u001B[38;5;28mself\u001B[39m\u001B[38;5;241m.\u001B[39mcolumns\u001B[38;5;241m.\u001B[39mget_loc(key)\n\u001B[1;32m   4091\u001B[0m \u001B[38;5;28;01mif\u001B[39;00m is_integer(indexer):\n\u001B[1;32m   4092\u001B[0m     indexer \u001B[38;5;241m=\u001B[39m [indexer]\n",
      "File \u001B[0;32m~/UTILS/anaconda3/envs/mol2dreams/lib/python3.11/site-packages/pandas/core/indexes/base.py:3812\u001B[0m, in \u001B[0;36mIndex.get_loc\u001B[0;34m(self, key)\u001B[0m\n\u001B[1;32m   3807\u001B[0m     \u001B[38;5;28;01mif\u001B[39;00m \u001B[38;5;28misinstance\u001B[39m(casted_key, \u001B[38;5;28mslice\u001B[39m) \u001B[38;5;129;01mor\u001B[39;00m (\n\u001B[1;32m   3808\u001B[0m         \u001B[38;5;28misinstance\u001B[39m(casted_key, abc\u001B[38;5;241m.\u001B[39mIterable)\n\u001B[1;32m   3809\u001B[0m         \u001B[38;5;129;01mand\u001B[39;00m \u001B[38;5;28many\u001B[39m(\u001B[38;5;28misinstance\u001B[39m(x, \u001B[38;5;28mslice\u001B[39m) \u001B[38;5;28;01mfor\u001B[39;00m x \u001B[38;5;129;01min\u001B[39;00m casted_key)\n\u001B[1;32m   3810\u001B[0m     ):\n\u001B[1;32m   3811\u001B[0m         \u001B[38;5;28;01mraise\u001B[39;00m InvalidIndexError(key)\n\u001B[0;32m-> 3812\u001B[0m     \u001B[38;5;28;01mraise\u001B[39;00m \u001B[38;5;167;01mKeyError\u001B[39;00m(key) \u001B[38;5;28;01mfrom\u001B[39;00m \u001B[38;5;21;01merr\u001B[39;00m\n\u001B[1;32m   3813\u001B[0m \u001B[38;5;28;01mexcept\u001B[39;00m \u001B[38;5;167;01mTypeError\u001B[39;00m:\n\u001B[1;32m   3814\u001B[0m     \u001B[38;5;66;03m# If we have a listlike key, _check_indexing_error will raise\u001B[39;00m\n\u001B[1;32m   3815\u001B[0m     \u001B[38;5;66;03m#  InvalidIndexError. Otherwise we fall through and re-raise\u001B[39;00m\n\u001B[1;32m   3816\u001B[0m     \u001B[38;5;66;03m#  the TypeError.\u001B[39;00m\n\u001B[1;32m   3817\u001B[0m     \u001B[38;5;28mself\u001B[39m\u001B[38;5;241m.\u001B[39m_check_indexing_error(key)\n",
      "\u001B[0;31mKeyError\u001B[0m: 'MurckoHistStr'"
     ]
    }
   ],
   "execution_count": 73
  },
  {
   "metadata": {},
   "cell_type": "code",
   "outputs": [],
   "execution_count": null,
   "source": [
    "def assign_murcko_hist_to_train(df_train, id_to_hist, identifier_col='identifier'):\n",
    "    \"\"\"\n",
    "    Assign MurckoHistStr to each identifier in the training set.\n",
    "\n",
    "    Parameters:\n",
    "    - df_train (pd.DataFrame): Training set DataFrame.\n",
    "    - id_to_hist (dict): Mapping from identifier to MurckoHistStr.\n",
    "    - identifier_col (str): Column name for unique identifiers.\n",
    "\n",
    "    Returns:\n",
    "    - df_train (pd.DataFrame): Updated DataFrame with MurckoHistStr.\n",
    "    \"\"\"\n",
    "    df_train['MurckoHistStr'] = df_train[identifier_col].map(id_to_hist)\n",
    "    \n",
    "    # Handle any missing mappings (assign an empty dictionary string)\n",
    "    df_train['MurckoHistStr'] = df_train['MurckoHistStr'].fillna('{}')\n",
    "    \n",
    "    print(f\"Assigned MurckoHistStr to {df_train['MurckoHistStr'].notna().sum()} identifiers.\")\n",
    "    return df_train"
   ],
   "id": "aeba2137f5634d16"
  },
  {
   "metadata": {},
   "cell_type": "code",
   "outputs": [],
   "execution_count": null,
   "source": "df_train = assign_murcko_hist_to_train(df_train, id_to_hist)",
   "id": "a57f3aefc5c197d4"
  },
  {
   "metadata": {},
   "cell_type": "code",
   "outputs": [],
   "execution_count": null,
   "source": "",
   "id": "19312a309939530e"
  },
  {
   "metadata": {},
   "cell_type": "code",
   "outputs": [],
   "execution_count": null,
   "source": "",
   "id": "359e58ccc178c6ac"
  },
  {
   "metadata": {},
   "cell_type": "code",
   "outputs": [],
   "execution_count": null,
   "source": "",
   "id": "cf9d823c5c18fa5c"
  },
  {
   "metadata": {},
   "cell_type": "code",
   "outputs": [],
   "execution_count": null,
   "source": "",
   "id": "504d5ae135862a80"
  },
  {
   "metadata": {},
   "cell_type": "code",
   "outputs": [],
   "execution_count": null,
   "source": "",
   "id": "1f0597963b66e103"
  },
  {
   "metadata": {},
   "cell_type": "code",
   "outputs": [],
   "execution_count": null,
   "source": "",
   "id": "9bcd108d7abb7066"
  },
  {
   "metadata": {},
   "cell_type": "markdown",
   "source": "# CLOSE",
   "id": "68b125493f130375"
  },
  {
   "metadata": {
    "ExecuteTime": {
     "end_time": "2024-10-07T11:22:38.115589Z",
     "start_time": "2024-10-07T11:22:38.113606Z"
    }
   },
   "cell_type": "code",
   "source": [
    "def get_train_set(df):\n",
    "    \"\"\"\n",
    "    Extract the training set from the DataFrame.\n",
    "\n",
    "    Parameters:\n",
    "    - df (pd.DataFrame): Complete DataFrame with all folds.\n",
    "\n",
    "    Returns:\n",
    "    - df_train (pd.DataFrame): Training set DataFrame.\n",
    "    \"\"\"\n",
    "    df_train = df[df['fold'] == 'train'].reset_index(drop=True)\n",
    "    return df_train"
   ],
   "id": "4faad24bfc078278",
   "outputs": [],
   "execution_count": 6
  },
  {
   "metadata": {
    "ExecuteTime": {
     "end_time": "2024-10-07T11:45:47.688982Z",
     "start_time": "2024-10-07T11:45:47.546029Z"
    }
   },
   "cell_type": "code",
   "source": [
    "df_train = get_train_set(df)\n",
    "print(f\"Training set size: {len(df_train)} spectra\")"
   ],
   "id": "858649c95e696809",
   "outputs": [
    {
     "name": "stdout",
     "output_type": "stream",
     "text": [
      "Training set size: 194119 spectra\n"
     ]
    }
   ],
   "execution_count": 13
  },
  {
   "metadata": {
    "ExecuteTime": {
     "end_time": "2024-10-07T11:47:06.255352Z",
     "start_time": "2024-10-07T11:47:06.218729Z"
    }
   },
   "cell_type": "code",
   "source": [
    "df_us_train = df_train.drop_duplicates(subset=['smiles']).copy()\n",
    "print(f\"Number of unique SMILES in training set: {df_us_train['smiles'].nunique()}\")"
   ],
   "id": "f8b541e21b26dfc9",
   "outputs": [
    {
     "name": "stdout",
     "output_type": "stream",
     "text": [
      "Number of unique SMILES in training set: 25046\n"
     ]
    }
   ],
   "execution_count": 14
  },
  {
   "metadata": {
    "ExecuteTime": {
     "end_time": "2024-10-07T11:51:18.506439Z",
     "start_time": "2024-10-07T11:51:18.501838Z"
    }
   },
   "cell_type": "code",
   "source": [
    "def compute_murcko_histograms(df_us, smiles_col='smiles'):\n",
    "    \"\"\"\n",
    "    Compute Murcko histograms for each unique SMILES in the DataFrame.\n",
    "\n",
    "    Parameters:\n",
    "    - df_us (pd.DataFrame): DataFrame with unique SMILES.\n",
    "    - smiles_col (str): Column name for SMILES strings.\n",
    "\n",
    "    Returns:\n",
    "    - df_us (pd.DataFrame): Updated DataFrame with Murcko histograms.\n",
    "    \"\"\"\n",
    "    print(\"Computing Murcko histograms...\")\n",
    "    tqdm.pandas()\n",
    "    df_us['MurckoHist'] = df_us[smiles_col].progress_apply(\n",
    "        lambda x: murcko_hist(Chem.MolFromSmiles(x)) if Chem.MolFromSmiles(x) else {}\n",
    "    )\n",
    "    \n",
    "    # Convert dictionaries to strings for easier handling\n",
    "    df_us['MurckoHistStr'] = df_us['MurckoHist'].astype(str)\n",
    "    \n",
    "    print('Number of unique SMILES:', df_us[smiles_col].nunique(), \n",
    "          'Number of unique Murcko histograms:', df_us['MurckoHistStr'].nunique())\n",
    "    \n",
    "    print('Top 20 most common Murcko histograms:')\n",
    "    print(df_us['MurckoHistStr'].value_counts().head(20))\n",
    "    \n",
    "    return df_us"
   ],
   "id": "6de03dc201680f37",
   "outputs": [],
   "execution_count": 24
  },
  {
   "metadata": {
    "ExecuteTime": {
     "end_time": "2024-10-07T11:53:54.400122Z",
     "start_time": "2024-10-07T11:51:19.234030Z"
    }
   },
   "cell_type": "code",
   "source": "df_us_train = compute_murcko_histograms(df_us_train)",
   "id": "4875df287d659590",
   "outputs": [
    {
     "name": "stdout",
     "output_type": "stream",
     "text": [
      "Computing Murcko histograms...\n"
     ]
    },
    {
     "name": "stderr",
     "output_type": "stream",
     "text": [
      "100%|██████████| 25046/25046 [02:35<00:00, 161.44it/s] "
     ]
    },
    {
     "name": "stdout",
     "output_type": "stream",
     "text": [
      "Number of unique SMILES: 25046 Number of unique Murcko histograms: 338\n",
      "Top 20 most common Murcko histograms:\n",
      "MurckoHistStr\n",
      "{'0_1': 1, '1_0': 1, '1_1': 1}              3351\n",
      "{}                                          2953\n",
      "{'0_1': 2}                                  2948\n",
      "{'0_0': 1}                                  2875\n",
      "{'1_0': 2}                                  1626\n",
      "{'0_1': 2, '0_2': 1}                        1436\n",
      "{'1_0': 2, '2_0': 2}                        1134\n",
      "{'1_0': 2, '2_0': 1}                        1096\n",
      "{'0_1': 1, '0_2': 1, '1_0': 1, '1_1': 1}     751\n",
      "{'0_1': 2, '1_1': 2}                         545\n",
      "{'0_1': 1, '1_0': 1, '1_1': 1, '2_0': 1}     495\n",
      "{'0_1': 2, '1_0': 1, '1_2': 1}               481\n",
      "{'1_0': 2, '1_1': 2}                         456\n",
      "{'0_1': 3}                                   341\n",
      "{'1_0': 2, '2_0': 3}                         288\n",
      "{'0_1': 2, '0_2': 2}                         281\n",
      "{'0_1': 1, '1_0': 1, '1_1': 1, '2_0': 2}     246\n",
      "{'0_1': 2, '0_2': 1, '1_1': 2}               229\n",
      "{'0_1': 1, '1_0': 2, '2_1': 1}               225\n",
      "{'0_1': 2, '1_0': 1, '1_1': 1}               181\n",
      "Name: count, dtype: int64\n"
     ]
    },
    {
     "name": "stderr",
     "output_type": "stream",
     "text": [
      "\n"
     ]
    }
   ],
   "execution_count": 25
  },
  {
   "metadata": {
    "ExecuteTime": {
     "end_time": "2024-10-07T11:53:54.452958Z",
     "start_time": "2024-10-07T11:53:54.450454Z"
    }
   },
   "cell_type": "code",
   "source": [
    "def group_by_murcko_histograms(df_us, smiles_col='smiles'):\n",
    "    \"\"\"\n",
    "    Group molecules by their Murcko histogram strings.\n",
    "\n",
    "    Parameters:\n",
    "    - df_us (pd.DataFrame): DataFrame with MurckoHistStr column.\n",
    "    - smiles_col (str): Column name for SMILES strings.\n",
    "\n",
    "    Returns:\n",
    "    - df_gb (pd.DataFrame): Grouped DataFrame by MurckoHistStr.\n",
    "    \"\"\"\n",
    "    df_gb = df_us.groupby('MurckoHistStr').agg(\n",
    "        count=(smiles_col, 'count'),\n",
    "        smiles_list=(smiles_col, list)\n",
    "    ).reset_index()\n",
    "    \n",
    "    # Convert MurckoHistStr to MurckoHist\n",
    "    df_gb['MurckoHist'] = df_gb['MurckoHistStr'].apply(eval)\n",
    "    \n",
    "    # Sort by 'count' in descending order and reset index\n",
    "    df_gb = df_gb.sort_values('count', ascending=False).reset_index(drop=True)\n",
    "    \n",
    "    print(f\"Grouped into {len(df_gb)} Murcko histogram groups.\")\n",
    "    print(df_gb.head())\n",
    "    \n",
    "    return df_gb"
   ],
   "id": "e6f003355b121b5f",
   "outputs": [],
   "execution_count": 27
  },
  {
   "metadata": {
    "ExecuteTime": {
     "end_time": "2024-10-07T12:10:40.543919Z",
     "start_time": "2024-10-07T12:10:40.521747Z"
    }
   },
   "cell_type": "code",
   "source": "df_gb_train = group_by_murcko_histograms(df_us_train)",
   "id": "4583af93ffd2b7d1",
   "outputs": [
    {
     "name": "stdout",
     "output_type": "stream",
     "text": [
      "Grouped into 338 Murcko histogram groups.\n",
      "                    MurckoHistStr  count  \\\n",
      "0  {'0_1': 1, '1_0': 1, '1_1': 1}   3351   \n",
      "1                              {}   2953   \n",
      "2                      {'0_1': 2}   2948   \n",
      "3                      {'0_0': 1}   2875   \n",
      "4                      {'1_0': 2}   1626   \n",
      "\n",
      "                                         smiles_list  \\\n",
      "0  [C1=CC=C(C=C1)C2=C(C(=O)NC3=CC=CC=C32)O, CN1C(...   \n",
      "1  [CC(=C)C(=O)/C(=C/C(=O)O)/OC, CC[C@@H](C)[C@H]...   \n",
      "2  [CC(=O)N[C@@H](CC1=CC=CC=C1)C2=CC(=CC(=O)O2)OC...   \n",
      "3  [C[C@@H]1C[C@H]2[C@H](O2)/C=C\\C(=O)CC(=O)O1, C...   \n",
      "4  [C[C@H]1CCCC(=O)CCC/C=C/C2=C(C(=CC(=C2)O)O)C(=...   \n",
      "\n",
      "                       MurckoHist  \n",
      "0  {'0_1': 1, '1_0': 1, '1_1': 1}  \n",
      "1                              {}  \n",
      "2                      {'0_1': 2}  \n",
      "3                      {'0_0': 1}  \n",
      "4                      {'1_0': 2}  \n"
     ]
    }
   ],
   "execution_count": 31
  },
  {
   "metadata": {
    "ExecuteTime": {
     "end_time": "2024-10-07T12:11:05.897925Z",
     "start_time": "2024-10-07T12:11:05.893239Z"
    }
   },
   "cell_type": "code",
   "source": "df_gb_train.keys()",
   "id": "8b57795229cb020e",
   "outputs": [
    {
     "data": {
      "text/plain": [
       "Index(['MurckoHistStr', 'count', 'smiles_list', 'MurckoHist'], dtype='object')"
      ]
     },
     "execution_count": 34,
     "metadata": {},
     "output_type": "execute_result"
    }
   ],
   "execution_count": 34
  },
  {
   "metadata": {
    "ExecuteTime": {
     "end_time": "2024-10-07T12:18:24.124978Z",
     "start_time": "2024-10-07T12:18:24.108023Z"
    }
   },
   "cell_type": "code",
   "source": [
    "# Explode the 'smiles_list' to have one SMILES per row\n",
    "df_gb_exploded = df_gb_train.explode('smiles_list')\n",
    "\n",
    "# Rename 'smiles_list' to 'SMILES' for clarity\n",
    "df_gb_exploded = df_gb_exploded.rename(columns={'smiles_list': 'SMILES'})\n",
    "\n",
    "# Reset index for cleanliness\n",
    "df_gb_exploded = df_gb_exploded.reset_index(drop=True)\n",
    "\n",
    "# Display the first few rows to verify\n",
    "print(df_gb_exploded[['MurckoHistStr', 'count', 'SMILES', 'MurckoHist']].head())"
   ],
   "id": "7e63921fbbf93b64",
   "outputs": [
    {
     "name": "stdout",
     "output_type": "stream",
     "text": [
      "                    MurckoHistStr  count  \\\n",
      "0  {'0_1': 1, '1_0': 1, '1_1': 1}   3351   \n",
      "1  {'0_1': 1, '1_0': 1, '1_1': 1}   3351   \n",
      "2  {'0_1': 1, '1_0': 1, '1_1': 1}   3351   \n",
      "3  {'0_1': 1, '1_0': 1, '1_1': 1}   3351   \n",
      "4  {'0_1': 1, '1_0': 1, '1_1': 1}   3351   \n",
      "\n",
      "                                              SMILES  \\\n",
      "0             C1=CC=C(C=C1)C2=C(C(=O)NC3=CC=CC=C32)O   \n",
      "1   CN1C(=O)C2=CC=CC=C2NC(=O)C13[C@H](O3)C4=CC=CC=C4   \n",
      "2  CCOC(=O)C(CC1=CC=CC=C1)NC(=O)C2=C(C3=C(CC(OC3=...   \n",
      "3  C[C@@H]1CC2=C(C=C(C(=C2C(=O)O1)O)C(=O)N[C@@H](...   \n",
      "4  CC1CC2=C(C=C(C(=C2C(=O)O1)O)C(=O)NC(CC3=CC=CC=...   \n",
      "\n",
      "                       MurckoHist  \n",
      "0  {'0_1': 1, '1_0': 1, '1_1': 1}  \n",
      "1  {'0_1': 1, '1_0': 1, '1_1': 1}  \n",
      "2  {'0_1': 1, '1_0': 1, '1_1': 1}  \n",
      "3  {'0_1': 1, '1_0': 1, '1_1': 1}  \n",
      "4  {'0_1': 1, '1_0': 1, '1_1': 1}  \n"
     ]
    }
   ],
   "execution_count": 37
  },
  {
   "metadata": {
    "ExecuteTime": {
     "end_time": "2024-10-07T12:18:39.908Z",
     "start_time": "2024-10-07T12:18:39.890180Z"
    }
   },
   "cell_type": "code",
   "source": [
    "# Create a mapping from SMILES to MurckoHist\n",
    "smiles_to_murcko_hist = pd.Series(\n",
    "    df_gb_exploded['MurckoHist'].values,\n",
    "    index=df_gb_exploded['SMILES']\n",
    ").to_dict()\n",
    "\n",
    "# Display a sample of the mapping\n",
    "print(\"Sample of SMILES to MurckoHist mapping:\")\n",
    "for i, (smiles, hist) in enumerate(smiles_to_murcko_hist.items()):\n",
    "    if i >= 5:\n",
    "        break\n",
    "    print(f\"SMILES: {smiles} => MurckoHist: {hist}\")"
   ],
   "id": "35abee47db037b5f",
   "outputs": [
    {
     "name": "stdout",
     "output_type": "stream",
     "text": [
      "Sample of SMILES to MurckoHist mapping:\n",
      "SMILES: C1=CC=C(C=C1)C2=C(C(=O)NC3=CC=CC=C32)O => MurckoHist: {'0_1': 1, '1_0': 1, '1_1': 1}\n",
      "SMILES: CN1C(=O)C2=CC=CC=C2NC(=O)C13[C@H](O3)C4=CC=CC=C4 => MurckoHist: {'0_1': 1, '1_0': 1, '1_1': 1}\n",
      "SMILES: CCOC(=O)C(CC1=CC=CC=C1)NC(=O)C2=C(C3=C(CC(OC3=O)C)C=C2)O => MurckoHist: {'0_1': 1, '1_0': 1, '1_1': 1}\n",
      "SMILES: C[C@@H]1CC2=C(C=C(C(=C2C(=O)O1)O)C(=O)N[C@@H](CC3=CC=CC=C3)C(=O)O)Cl => MurckoHist: {'0_1': 1, '1_0': 1, '1_1': 1}\n",
      "SMILES: CC1CC2=C(C=C(C(=C2C(=O)O1)O)C(=O)NC(CC3=CC=CC=C3)C(=O)O)Cl => MurckoHist: {'0_1': 1, '1_0': 1, '1_1': 1}\n"
     ]
    }
   ],
   "execution_count": 38
  },
  {
   "metadata": {
    "ExecuteTime": {
     "end_time": "2024-10-07T12:19:49.368586Z",
     "start_time": "2024-10-07T12:19:49.332096Z"
    }
   },
   "cell_type": "code",
   "source": [
    "# Map the MurckoHist to df_train based on SMILES\n",
    "df_train['MurckoHist'] = df_train['smiles'].map(smiles_to_murcko_hist)\n",
    "\n",
    "# Verify the assignment\n",
    "print(df_train[['identifier', 'smiles', 'MurckoHist']].head())"
   ],
   "id": "16f2687e4e050993",
   "outputs": [
    {
     "name": "stdout",
     "output_type": "stream",
     "text": [
      "             identifier                                         smiles  \\\n",
      "0  MassSpecGymID0000001  CC(=O)N[C@@H](CC1=CC=CC=C1)C2=CC(=CC(=O)O2)OC   \n",
      "1  MassSpecGymID0000002  CC(=O)N[C@@H](CC1=CC=CC=C1)C2=CC(=CC(=O)O2)OC   \n",
      "2  MassSpecGymID0000003  CC(=O)N[C@@H](CC1=CC=CC=C1)C2=CC(=CC(=O)O2)OC   \n",
      "3  MassSpecGymID0000004  CC(=O)N[C@@H](CC1=CC=CC=C1)C2=CC(=CC(=O)O2)OC   \n",
      "4  MassSpecGymID0000005  CC(=O)N[C@@H](CC1=CC=CC=C1)C2=CC(=CC(=O)O2)OC   \n",
      "\n",
      "   MurckoHist  \n",
      "0  {'0_1': 2}  \n",
      "1  {'0_1': 2}  \n",
      "2  {'0_1': 2}  \n",
      "3  {'0_1': 2}  \n",
      "4  {'0_1': 2}  \n"
     ]
    }
   ],
   "execution_count": 40
  },
  {
   "metadata": {
    "ExecuteTime": {
     "end_time": "2024-10-07T12:20:04.837383Z",
     "start_time": "2024-10-07T12:20:04.821188Z"
    }
   },
   "cell_type": "code",
   "source": [
    "# Check for any missing MurckoHist assignments\n",
    "missing_murcko = df_train['MurckoHist'].isna().sum()\n",
    "print(f\"Number of spectra with missing MurckoHist: {missing_murcko}\")\n",
    "\n",
    "# Optionally, handle missing values\n",
    "# For example, assign an empty dictionary\n",
    "df_train['MurckoHist'] = df_train['MurckoHist'].fillna({})"
   ],
   "id": "a9d26efbedad92fb",
   "outputs": [
    {
     "name": "stdout",
     "output_type": "stream",
     "text": [
      "Number of spectra with missing MurckoHist: 0\n"
     ]
    }
   ],
   "execution_count": 41
  },
  {
   "metadata": {
    "ExecuteTime": {
     "end_time": "2024-10-07T12:20:29.176432Z",
     "start_time": "2024-10-07T12:20:29.162362Z"
    }
   },
   "cell_type": "code",
   "source": "df_train.head()",
   "id": "42d1ea70bd7060f8",
   "outputs": [
    {
     "data": {
      "text/plain": [
       "             identifier                                         smiles  \\\n",
       "0  MassSpecGymID0000001  CC(=O)N[C@@H](CC1=CC=CC=C1)C2=CC(=CC(=O)O2)OC   \n",
       "1  MassSpecGymID0000002  CC(=O)N[C@@H](CC1=CC=CC=C1)C2=CC(=CC(=O)O2)OC   \n",
       "2  MassSpecGymID0000003  CC(=O)N[C@@H](CC1=CC=CC=C1)C2=CC(=CC(=O)O2)OC   \n",
       "3  MassSpecGymID0000004  CC(=O)N[C@@H](CC1=CC=CC=C1)C2=CC(=CC(=O)O2)OC   \n",
       "4  MassSpecGymID0000005  CC(=O)N[C@@H](CC1=CC=CC=C1)C2=CC(=CC(=O)O2)OC   \n",
       "\n",
       "         inchikey    formula precursor_formula parent_mass  precursor_mz  \\\n",
       "0  VFMQMACUYWGDOJ  C16H17NO4         C16H18NO4  287.115224      288.1225   \n",
       "1  VFMQMACUYWGDOJ  C16H17NO4         C16H18NO4  287.115224      288.1225   \n",
       "2  VFMQMACUYWGDOJ  C16H17NO4         C16H18NO4  287.115224      288.1225   \n",
       "3  VFMQMACUYWGDOJ  C16H17NO4         C16H18NO4  287.115224      288.1225   \n",
       "4  VFMQMACUYWGDOJ  C16H17NO4         C16H18NO4  287.115224      288.1225   \n",
       "\n",
       "   adduct instrument_type collision_energy   fold simulation_challenge  \\\n",
       "0  [M+H]+        Orbitrap             30.0  train                 True   \n",
       "1  [M+H]+        Orbitrap             20.0  train                 True   \n",
       "2  [M+H]+        Orbitrap             40.0  train                 True   \n",
       "3  [M+H]+        Orbitrap             55.0  train                 True   \n",
       "4  [M+H]+        Orbitrap             10.0  train                 True   \n",
       "\n",
       "                                          peaks_json  MurckoHist  \n",
       "0  [[91.0542, 0.24524524524524524], [125.0233, 1....  {'0_1': 2}  \n",
       "1  [[91.0542, 0.0990990990990991], [125.0233, 0.2...  {'0_1': 2}  \n",
       "2  [[69.0343, 0.03403403403403404], [91.0542, 0.3...  {'0_1': 2}  \n",
       "3  [[69.0343, 0.17917917917917917], [91.0542, 0.4...  {'0_1': 2}  \n",
       "4  [[91.0542, 0.07807807807807808], [125.0233, 0....  {'0_1': 2}  "
      ],
      "text/html": [
       "<div>\n",
       "<style scoped>\n",
       "    .dataframe tbody tr th:only-of-type {\n",
       "        vertical-align: middle;\n",
       "    }\n",
       "\n",
       "    .dataframe tbody tr th {\n",
       "        vertical-align: top;\n",
       "    }\n",
       "\n",
       "    .dataframe thead th {\n",
       "        text-align: right;\n",
       "    }\n",
       "</style>\n",
       "<table border=\"1\" class=\"dataframe\">\n",
       "  <thead>\n",
       "    <tr style=\"text-align: right;\">\n",
       "      <th></th>\n",
       "      <th>identifier</th>\n",
       "      <th>smiles</th>\n",
       "      <th>inchikey</th>\n",
       "      <th>formula</th>\n",
       "      <th>precursor_formula</th>\n",
       "      <th>parent_mass</th>\n",
       "      <th>precursor_mz</th>\n",
       "      <th>adduct</th>\n",
       "      <th>instrument_type</th>\n",
       "      <th>collision_energy</th>\n",
       "      <th>fold</th>\n",
       "      <th>simulation_challenge</th>\n",
       "      <th>peaks_json</th>\n",
       "      <th>MurckoHist</th>\n",
       "    </tr>\n",
       "  </thead>\n",
       "  <tbody>\n",
       "    <tr>\n",
       "      <th>0</th>\n",
       "      <td>MassSpecGymID0000001</td>\n",
       "      <td>CC(=O)N[C@@H](CC1=CC=CC=C1)C2=CC(=CC(=O)O2)OC</td>\n",
       "      <td>VFMQMACUYWGDOJ</td>\n",
       "      <td>C16H17NO4</td>\n",
       "      <td>C16H18NO4</td>\n",
       "      <td>287.115224</td>\n",
       "      <td>288.1225</td>\n",
       "      <td>[M+H]+</td>\n",
       "      <td>Orbitrap</td>\n",
       "      <td>30.0</td>\n",
       "      <td>train</td>\n",
       "      <td>True</td>\n",
       "      <td>[[91.0542, 0.24524524524524524], [125.0233, 1....</td>\n",
       "      <td>{'0_1': 2}</td>\n",
       "    </tr>\n",
       "    <tr>\n",
       "      <th>1</th>\n",
       "      <td>MassSpecGymID0000002</td>\n",
       "      <td>CC(=O)N[C@@H](CC1=CC=CC=C1)C2=CC(=CC(=O)O2)OC</td>\n",
       "      <td>VFMQMACUYWGDOJ</td>\n",
       "      <td>C16H17NO4</td>\n",
       "      <td>C16H18NO4</td>\n",
       "      <td>287.115224</td>\n",
       "      <td>288.1225</td>\n",
       "      <td>[M+H]+</td>\n",
       "      <td>Orbitrap</td>\n",
       "      <td>20.0</td>\n",
       "      <td>train</td>\n",
       "      <td>True</td>\n",
       "      <td>[[91.0542, 0.0990990990990991], [125.0233, 0.2...</td>\n",
       "      <td>{'0_1': 2}</td>\n",
       "    </tr>\n",
       "    <tr>\n",
       "      <th>2</th>\n",
       "      <td>MassSpecGymID0000003</td>\n",
       "      <td>CC(=O)N[C@@H](CC1=CC=CC=C1)C2=CC(=CC(=O)O2)OC</td>\n",
       "      <td>VFMQMACUYWGDOJ</td>\n",
       "      <td>C16H17NO4</td>\n",
       "      <td>C16H18NO4</td>\n",
       "      <td>287.115224</td>\n",
       "      <td>288.1225</td>\n",
       "      <td>[M+H]+</td>\n",
       "      <td>Orbitrap</td>\n",
       "      <td>40.0</td>\n",
       "      <td>train</td>\n",
       "      <td>True</td>\n",
       "      <td>[[69.0343, 0.03403403403403404], [91.0542, 0.3...</td>\n",
       "      <td>{'0_1': 2}</td>\n",
       "    </tr>\n",
       "    <tr>\n",
       "      <th>3</th>\n",
       "      <td>MassSpecGymID0000004</td>\n",
       "      <td>CC(=O)N[C@@H](CC1=CC=CC=C1)C2=CC(=CC(=O)O2)OC</td>\n",
       "      <td>VFMQMACUYWGDOJ</td>\n",
       "      <td>C16H17NO4</td>\n",
       "      <td>C16H18NO4</td>\n",
       "      <td>287.115224</td>\n",
       "      <td>288.1225</td>\n",
       "      <td>[M+H]+</td>\n",
       "      <td>Orbitrap</td>\n",
       "      <td>55.0</td>\n",
       "      <td>train</td>\n",
       "      <td>True</td>\n",
       "      <td>[[69.0343, 0.17917917917917917], [91.0542, 0.4...</td>\n",
       "      <td>{'0_1': 2}</td>\n",
       "    </tr>\n",
       "    <tr>\n",
       "      <th>4</th>\n",
       "      <td>MassSpecGymID0000005</td>\n",
       "      <td>CC(=O)N[C@@H](CC1=CC=CC=C1)C2=CC(=CC(=O)O2)OC</td>\n",
       "      <td>VFMQMACUYWGDOJ</td>\n",
       "      <td>C16H17NO4</td>\n",
       "      <td>C16H18NO4</td>\n",
       "      <td>287.115224</td>\n",
       "      <td>288.1225</td>\n",
       "      <td>[M+H]+</td>\n",
       "      <td>Orbitrap</td>\n",
       "      <td>10.0</td>\n",
       "      <td>train</td>\n",
       "      <td>True</td>\n",
       "      <td>[[91.0542, 0.07807807807807808], [125.0233, 0....</td>\n",
       "      <td>{'0_1': 2}</td>\n",
       "    </tr>\n",
       "  </tbody>\n",
       "</table>\n",
       "</div>"
      ]
     },
     "execution_count": 43,
     "metadata": {},
     "output_type": "execute_result"
    }
   ],
   "execution_count": 43
  },
  {
   "metadata": {
    "ExecuteTime": {
     "end_time": "2024-10-07T12:44:48.402915Z",
     "start_time": "2024-10-07T12:44:46.424519Z"
    }
   },
   "cell_type": "code",
   "source": [
    "from collections import defaultdict\n",
    "\n",
    "def create_mappings(df_gb, df_us_train, df_train, smiles_col='smiles', identifier_col='identifier'):\n",
    "    \"\"\"\n",
    "    Create mappings from MurckoHistStr to identifiers and vice versa.\n",
    "\n",
    "    Parameters:\n",
    "    - df_gb (pd.DataFrame): Grouped DataFrame by MurckoHistStr.\n",
    "    - df_us_train (pd.DataFrame): DataFrame with unique SMILES and their MurckoHistStr.\n",
    "    - df_train (pd.DataFrame): Training set DataFrame.\n",
    "    - smiles_col (str): Column name for SMILES strings.\n",
    "    - identifier_col (str): Column name for unique identifiers.\n",
    "\n",
    "    Returns:\n",
    "    - hist_to_ids (dict): Mapping from MurckoHistStr to list of identifiers.\n",
    "    - id_to_hist (dict): Mapping from identifier to MurckoHistStr.\n",
    "    \"\"\"\n",
    "    hist_to_ids = defaultdict(list)\n",
    "    # Iterate through each group and map identifiers\n",
    "    for _, row in df_gb.iterrows():\n",
    "        murcko_hist_str = row['MurckoHistStr']\n",
    "        smiles_list = row['smiles_list']\n",
    "        # Get identifiers corresponding to these SMILES\n",
    "        identifiers = df_train[df_train[smiles_col].isin(smiles_list)][identifier_col].tolist()\n",
    "        hist_to_ids[murcko_hist_str].extend(identifiers)\n",
    "    \n",
    "    # Create mapping from identifier to MurckoHistStr\n",
    "    id_to_hist = df_train.set_index('identifier')['MurckoHistStr'].to_dict()\n",
    "    \n",
    "    print(f\"Total Murcko histogram groups mapped to identifiers: {len(hist_to_ids)}\")\n",
    "    return hist_to_ids, id_to_hist\n",
    "\n",
    "# Usage\n",
    "hist_to_ids, id_to_hist = create_mappings(df_gb_train, df_us_train, df_train)"
   ],
   "id": "495e92a81795cbac",
   "outputs": [
    {
     "ename": "KeyError",
     "evalue": "'MurckoHistStr'",
     "output_type": "error",
     "traceback": [
      "\u001B[0;31m---------------------------------------------------------------------------\u001B[0m",
      "\u001B[0;31mKeyError\u001B[0m                                  Traceback (most recent call last)",
      "File \u001B[0;32m~/UTILS/anaconda3/envs/mol2dreams/lib/python3.11/site-packages/pandas/core/indexes/base.py:3805\u001B[0m, in \u001B[0;36mIndex.get_loc\u001B[0;34m(self, key)\u001B[0m\n\u001B[1;32m   3804\u001B[0m \u001B[38;5;28;01mtry\u001B[39;00m:\n\u001B[0;32m-> 3805\u001B[0m     \u001B[38;5;28;01mreturn\u001B[39;00m \u001B[38;5;28mself\u001B[39m\u001B[38;5;241m.\u001B[39m_engine\u001B[38;5;241m.\u001B[39mget_loc(casted_key)\n\u001B[1;32m   3806\u001B[0m \u001B[38;5;28;01mexcept\u001B[39;00m \u001B[38;5;167;01mKeyError\u001B[39;00m \u001B[38;5;28;01mas\u001B[39;00m err:\n",
      "File \u001B[0;32mindex.pyx:167\u001B[0m, in \u001B[0;36mpandas._libs.index.IndexEngine.get_loc\u001B[0;34m()\u001B[0m\n",
      "File \u001B[0;32mindex.pyx:196\u001B[0m, in \u001B[0;36mpandas._libs.index.IndexEngine.get_loc\u001B[0;34m()\u001B[0m\n",
      "File \u001B[0;32mpandas/_libs/hashtable_class_helper.pxi:7081\u001B[0m, in \u001B[0;36mpandas._libs.hashtable.PyObjectHashTable.get_item\u001B[0;34m()\u001B[0m\n",
      "File \u001B[0;32mpandas/_libs/hashtable_class_helper.pxi:7089\u001B[0m, in \u001B[0;36mpandas._libs.hashtable.PyObjectHashTable.get_item\u001B[0;34m()\u001B[0m\n",
      "\u001B[0;31mKeyError\u001B[0m: 'MurckoHistStr'",
      "\nThe above exception was the direct cause of the following exception:\n",
      "\u001B[0;31mKeyError\u001B[0m                                  Traceback (most recent call last)",
      "Cell \u001B[0;32mIn[51], line 34\u001B[0m\n\u001B[1;32m     31\u001B[0m     \u001B[38;5;28;01mreturn\u001B[39;00m hist_to_ids, id_to_hist\n\u001B[1;32m     33\u001B[0m \u001B[38;5;66;03m# Usage\u001B[39;00m\n\u001B[0;32m---> 34\u001B[0m hist_to_ids, id_to_hist \u001B[38;5;241m=\u001B[39m create_mappings(df_gb_train, df_us_train, df_train)\n",
      "Cell \u001B[0;32mIn[51], line 28\u001B[0m, in \u001B[0;36mcreate_mappings\u001B[0;34m(df_gb, df_us_train, df_train, smiles_col, identifier_col)\u001B[0m\n\u001B[1;32m     25\u001B[0m     hist_to_ids[murcko_hist_str]\u001B[38;5;241m.\u001B[39mextend(identifiers)\n\u001B[1;32m     27\u001B[0m \u001B[38;5;66;03m# Create mapping from identifier to MurckoHistStr\u001B[39;00m\n\u001B[0;32m---> 28\u001B[0m id_to_hist \u001B[38;5;241m=\u001B[39m df_train\u001B[38;5;241m.\u001B[39mset_index(\u001B[38;5;124m'\u001B[39m\u001B[38;5;124midentifier\u001B[39m\u001B[38;5;124m'\u001B[39m)[\u001B[38;5;124m'\u001B[39m\u001B[38;5;124mMurckoHistStr\u001B[39m\u001B[38;5;124m'\u001B[39m]\u001B[38;5;241m.\u001B[39mto_dict()\n\u001B[1;32m     30\u001B[0m \u001B[38;5;28mprint\u001B[39m(\u001B[38;5;124mf\u001B[39m\u001B[38;5;124m\"\u001B[39m\u001B[38;5;124mTotal Murcko histogram groups mapped to identifiers: \u001B[39m\u001B[38;5;132;01m{\u001B[39;00m\u001B[38;5;28mlen\u001B[39m(hist_to_ids)\u001B[38;5;132;01m}\u001B[39;00m\u001B[38;5;124m\"\u001B[39m)\n\u001B[1;32m     31\u001B[0m \u001B[38;5;28;01mreturn\u001B[39;00m hist_to_ids, id_to_hist\n",
      "File \u001B[0;32m~/UTILS/anaconda3/envs/mol2dreams/lib/python3.11/site-packages/pandas/core/frame.py:4090\u001B[0m, in \u001B[0;36mDataFrame.__getitem__\u001B[0;34m(self, key)\u001B[0m\n\u001B[1;32m   4088\u001B[0m \u001B[38;5;28;01mif\u001B[39;00m \u001B[38;5;28mself\u001B[39m\u001B[38;5;241m.\u001B[39mcolumns\u001B[38;5;241m.\u001B[39mnlevels \u001B[38;5;241m>\u001B[39m \u001B[38;5;241m1\u001B[39m:\n\u001B[1;32m   4089\u001B[0m     \u001B[38;5;28;01mreturn\u001B[39;00m \u001B[38;5;28mself\u001B[39m\u001B[38;5;241m.\u001B[39m_getitem_multilevel(key)\n\u001B[0;32m-> 4090\u001B[0m indexer \u001B[38;5;241m=\u001B[39m \u001B[38;5;28mself\u001B[39m\u001B[38;5;241m.\u001B[39mcolumns\u001B[38;5;241m.\u001B[39mget_loc(key)\n\u001B[1;32m   4091\u001B[0m \u001B[38;5;28;01mif\u001B[39;00m is_integer(indexer):\n\u001B[1;32m   4092\u001B[0m     indexer \u001B[38;5;241m=\u001B[39m [indexer]\n",
      "File \u001B[0;32m~/UTILS/anaconda3/envs/mol2dreams/lib/python3.11/site-packages/pandas/core/indexes/base.py:3812\u001B[0m, in \u001B[0;36mIndex.get_loc\u001B[0;34m(self, key)\u001B[0m\n\u001B[1;32m   3807\u001B[0m     \u001B[38;5;28;01mif\u001B[39;00m \u001B[38;5;28misinstance\u001B[39m(casted_key, \u001B[38;5;28mslice\u001B[39m) \u001B[38;5;129;01mor\u001B[39;00m (\n\u001B[1;32m   3808\u001B[0m         \u001B[38;5;28misinstance\u001B[39m(casted_key, abc\u001B[38;5;241m.\u001B[39mIterable)\n\u001B[1;32m   3809\u001B[0m         \u001B[38;5;129;01mand\u001B[39;00m \u001B[38;5;28many\u001B[39m(\u001B[38;5;28misinstance\u001B[39m(x, \u001B[38;5;28mslice\u001B[39m) \u001B[38;5;28;01mfor\u001B[39;00m x \u001B[38;5;129;01min\u001B[39;00m casted_key)\n\u001B[1;32m   3810\u001B[0m     ):\n\u001B[1;32m   3811\u001B[0m         \u001B[38;5;28;01mraise\u001B[39;00m InvalidIndexError(key)\n\u001B[0;32m-> 3812\u001B[0m     \u001B[38;5;28;01mraise\u001B[39;00m \u001B[38;5;167;01mKeyError\u001B[39;00m(key) \u001B[38;5;28;01mfrom\u001B[39;00m \u001B[38;5;21;01merr\u001B[39;00m\n\u001B[1;32m   3813\u001B[0m \u001B[38;5;28;01mexcept\u001B[39;00m \u001B[38;5;167;01mTypeError\u001B[39;00m:\n\u001B[1;32m   3814\u001B[0m     \u001B[38;5;66;03m# If we have a listlike key, _check_indexing_error will raise\u001B[39;00m\n\u001B[1;32m   3815\u001B[0m     \u001B[38;5;66;03m#  InvalidIndexError. Otherwise we fall through and re-raise\u001B[39;00m\n\u001B[1;32m   3816\u001B[0m     \u001B[38;5;66;03m#  the TypeError.\u001B[39;00m\n\u001B[1;32m   3817\u001B[0m     \u001B[38;5;28mself\u001B[39m\u001B[38;5;241m.\u001B[39m_check_indexing_error(key)\n",
      "\u001B[0;31mKeyError\u001B[0m: 'MurckoHistStr'"
     ]
    }
   ],
   "execution_count": 51
  },
  {
   "metadata": {
    "ExecuteTime": {
     "end_time": "2024-10-07T12:34:16.236247Z",
     "start_time": "2024-10-07T12:34:15.601790Z"
    }
   },
   "cell_type": "code",
   "source": [
    "import torch\n",
    "from torch.utils.data import Dataset\n",
    "import random"
   ],
   "id": "d54d8abbaf3f22e6",
   "outputs": [],
   "execution_count": 46
  },
  {
   "metadata": {
    "ExecuteTime": {
     "end_time": "2024-10-07T12:34:23.118366Z",
     "start_time": "2024-10-07T12:34:23.112721Z"
    }
   },
   "cell_type": "code",
   "source": [
    "class ContrastiveDataset(Dataset):\n",
    "    def __init__(self, smiles_list, smiles_to_hist, hist_to_smiles, num_negatives=5, seed=None):\n",
    "        \"\"\"\n",
    "        Initialize the Contrastive Dataset.\n",
    "        \n",
    "        Parameters:\n",
    "        - smiles_list (list): List of unique SMILES strings.\n",
    "        - smiles_to_hist (dict): Mapping from SMILES to MurckoHistStr.\n",
    "        - hist_to_smiles (dict): Mapping from MurckoHistStr to list of SMILES.\n",
    "        - num_negatives (int): Number of negative examples per anchor.\n",
    "        - seed (int, optional): Random seed for reproducibility.\n",
    "        \"\"\"\n",
    "        self.smiles_list = smiles_list\n",
    "        self.smiles_to_hist = smiles_to_hist\n",
    "        self.hist_to_smiles = hist_to_smiles\n",
    "        self.num_negatives = num_negatives\n",
    "        self.all_smiles = set(smiles_list)\n",
    "        self.all_hist_strs = list(hist_to_smiles.keys())\n",
    "        \n",
    "        if seed is not None:\n",
    "            random.seed(seed)\n",
    "        \n",
    "    def __len__(self):\n",
    "        return len(self.smiles_list)\n",
    "    \n",
    "    def __getitem__(self, idx):\n",
    "        \"\"\"\n",
    "        Get a triplet for the given index.\n",
    "        \n",
    "        Returns:\n",
    "        - anchor (str): Anchor SMILES.\n",
    "        - positive (str): Positive SMILES (same MurckoHistStr).\n",
    "        - negatives (list of str): List of negative SMILES (different MurckoHistStr).\n",
    "        \"\"\"\n",
    "        anchor = self.smiles_list[idx]\n",
    "        anchor_hist = self.smiles_to_hist[anchor]\n",
    "        \n",
    "        # Positive Example\n",
    "        positive_candidates = self.hist_to_smiles[anchor_hist].copy()\n",
    "        positive_candidates.remove(anchor)  # Exclude the anchor itself\n",
    "        \n",
    "        if not positive_candidates:\n",
    "            # If no positive available, return anchor with itself and random negatives\n",
    "            positive = anchor\n",
    "        else:\n",
    "            positive = random.choice(positive_candidates)\n",
    "        \n",
    "        # Negative Examples\n",
    "        # Select SMILES from different MurckoHistStrs\n",
    "        negative_hist_strs = [hist for hist in self.all_hist_strs if hist != anchor_hist]\n",
    "        negative_smiles_pool = []\n",
    "        for hist in negative_hist_strs:\n",
    "            negative_smiles_pool.extend(self.hist_to_smiles[hist])\n",
    "        \n",
    "        # If there are fewer negatives than required, adjust\n",
    "        if len(negative_smiles_pool) < self.num_negatives:\n",
    "            negatives = random.sample(negative_smiles_pool, len(negative_smiles_pool))\n",
    "        else:\n",
    "            negatives = random.sample(negative_smiles_pool, self.num_negatives)\n",
    "        \n",
    "        return anchor, positive, negatives"
   ],
   "id": "d23a8b0052dcb8ad",
   "outputs": [],
   "execution_count": 47
  },
  {
   "metadata": {
    "ExecuteTime": {
     "end_time": "2024-10-07T12:34:43.293139Z",
     "start_time": "2024-10-07T12:34:43.286058Z"
    }
   },
   "cell_type": "code",
   "source": [
    "# Extract the list of unique SMILES\n",
    "unique_smiles = df_us_train['smiles'].tolist()\n",
    "\n",
    "# Initialize the dataset\n",
    "contrastive_dataset = ContrastiveDataset(\n",
    "    smiles_list=unique_smiles,\n",
    "    smiles_to_hist=smiles_to_hist,\n",
    "    hist_to_smiles=hist_to_smiles,\n",
    "    num_negatives=5,\n",
    "    seed=42  # Optional: for reproducibility\n",
    ")\n",
    "\n",
    "print(f\"Dataset size: {len(contrastive_dataset)}\")"
   ],
   "id": "79b3669121c0e034",
   "outputs": [
    {
     "name": "stdout",
     "output_type": "stream",
     "text": [
      "Dataset size: 25046\n"
     ]
    }
   ],
   "execution_count": 49
  },
  {
   "metadata": {
    "ExecuteTime": {
     "end_time": "2024-10-07T12:35:08.726078Z",
     "start_time": "2024-10-07T12:35:08.723708Z"
    }
   },
   "cell_type": "code",
   "source": [
    "def collate_fn(batch):\n",
    "    \"\"\"\n",
    "    Custom collate function to handle batches of triplets.\n",
    "    \n",
    "    Parameters:\n",
    "    - batch (list of tuples): Each tuple contains (anchor, positive, negatives)\n",
    "    \n",
    "    Returns:\n",
    "    - anchors (list): List of anchor SMILES.\n",
    "    - positives (list): List of positive SMILES.\n",
    "    - negatives (list of lists): List containing lists of negative SMILES.\n",
    "    \"\"\"\n",
    "    anchors = [item[0] for item in batch]\n",
    "    positives = [item[1] for item in batch]\n",
    "    negatives = [item[2] for item in batch]\n",
    "    return anchors, positives, negatives"
   ],
   "id": "cf1bcd390f3933e0",
   "outputs": [],
   "execution_count": 50
  }
 ],
 "metadata": {
  "kernelspec": {
   "display_name": "Python 3",
   "language": "python",
   "name": "python3"
  },
  "language_info": {
   "codemirror_mode": {
    "name": "ipython",
    "version": 2
   },
   "file_extension": ".py",
   "mimetype": "text/x-python",
   "name": "python",
   "nbconvert_exporter": "python",
   "pygments_lexer": "ipython2",
   "version": "2.7.6"
  }
 },
 "nbformat": 4,
 "nbformat_minor": 5
}
