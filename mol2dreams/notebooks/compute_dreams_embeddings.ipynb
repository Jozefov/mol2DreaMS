{
 "cells": [
  {
   "cell_type": "code",
   "execution_count": 19,
   "id": "bbc7584c-8f0e-411a-a62f-1603075db074",
   "metadata": {},
   "outputs": [],
   "source": [
    "from dreams.api import dreams_embeddings\n",
    "from matchms.importing import load_from_mgf\n",
    "from matchms import Spectrum\n",
    "from matchms.exporting import save_as_mgf\n",
    "\n",
    "from dreams.definitions import DREAMS_EMBEDDING\n",
    "from dreams.utils.data import MSData"
   ]
  },
  {
   "cell_type": "code",
   "execution_count": 2,
   "id": "30254f30-c411-49c3-9498-96c006007dc3",
   "metadata": {},
   "outputs": [],
   "source": [
    "massspectgym_path =\"/workspace/mol2DreaMS/data/data/MassSpecGym.mgf\""
   ]
  },
  {
   "cell_type": "code",
   "execution_count": 6,
   "id": "9999b69f-9268-4b2b-8179-a2e5eb19b3d9",
   "metadata": {},
   "outputs": [
    {
     "name": "stderr",
     "output_type": "stream",
     "text": [
      "Computing DreaMS embedding: 100%|██████████| 231104/231104 [05:43<00:00, 673.74it/s]\n"
     ]
    }
   ],
   "source": [
    "dreams_embs = dreams_embeddings(massspectgym_path, prec_mz_col='PRECURSOR_MZ')"
   ]
  },
  {
   "cell_type": "code",
   "execution_count": 9,
   "id": "0ebe9210-81b8-470e-b944-69e5091e7312",
   "metadata": {},
   "outputs": [
    {
     "data": {
      "text/plain": [
       "(231104, 1024)"
      ]
     },
     "execution_count": 9,
     "metadata": {},
     "output_type": "execute_result"
    }
   ],
   "source": [
    "dreams_embs.shape"
   ]
  },
  {
   "cell_type": "code",
   "execution_count": 8,
   "id": "e84e8d28-74dc-4715-8dd5-ac07bdb79a18",
   "metadata": {},
   "outputs": [
    {
     "data": {
      "text/plain": [
       "array([[ 0.22195248, -0.5375411 , -0.5991391 , ..., -0.45315918,\n",
       "         0.80612165,  1.337087  ],\n",
       "       [-0.28255856, -0.4625993 , -0.76268137, ..., -0.2596016 ,\n",
       "         0.61134255,  0.64017355],\n",
       "       [ 0.11121915, -0.35258758, -0.4906476 , ..., -0.5522816 ,\n",
       "         0.2577802 ,  0.9908015 ],\n",
       "       ...,\n",
       "       [-0.39851522, -0.84326875, -0.6090119 , ..., -1.122334  ,\n",
       "         0.26077583, -0.7364357 ],\n",
       "       [-1.1556643 ,  0.2024601 , -0.24088667, ..., -0.58375216,\n",
       "        -1.0787734 , -0.89217705],\n",
       "       [ 0.20935775,  0.70727056, -0.2958385 , ..., -1.0314586 ,\n",
       "        -0.35540977, -0.85699624]], dtype=float32)"
      ]
     },
     "execution_count": 8,
     "metadata": {},
     "output_type": "execute_result"
    }
   ],
   "source": [
    "dreams_embs"
   ]
  },
  {
   "cell_type": "code",
   "execution_count": 12,
   "id": "104fdf64-5ba7-4638-a252-68d2f985b5c4",
   "metadata": {},
   "outputs": [],
   "source": [
    "spectra_from_path = list(load_from_mgf(massspectgym_path))"
   ]
  },
  {
   "cell_type": "code",
   "execution_count": 14,
   "id": "6795f3ca-6e13-45bb-9704-f305407f9eaf",
   "metadata": {},
   "outputs": [
    {
     "name": "stdout",
     "output_type": "stream",
     "text": [
      "All spectra have been updated with 'dreams_embedding' attributes.\n"
     ]
    }
   ],
   "source": [
    "if len(spectra_from_path) != dreams_embs.shape[0]:\n",
    "    raise ValueError(\"The number of embeddings does not match the number of spectra.\")\n",
    "\n",
    "for idx, (spectrum, embedding) in enumerate(zip(spectra_from_path, dreams_embs)):\n",
    "    spectrum.set(\"dreams_embedding\", embedding.tolist())  \n",
    "\n",
    "print(\"All spectra have been updated with 'dreams_embedding' attributes.\")"
   ]
  },
  {
   "cell_type": "code",
   "execution_count": 15,
   "id": "436811a1-fe6a-459b-914d-f89e30833e04",
   "metadata": {},
   "outputs": [
    {
     "name": "stdout",
     "output_type": "stream",
     "text": [
      "dict_keys(['spectra'])\n"
     ]
    }
   ],
   "source": [
    "output_mgf_path = \"/workspace/mol2DreaMS/data/data/Enveda/DreaMS_MassSpecGym.mgf\"\n",
    "\n",
    "# save_as_mgf(spectra_from_path, output_mgf_path)"
   ]
  },
  {
   "cell_type": "code",
   "execution_count": null,
   "id": "2489cf63-6cf4-4fc6-9562-8bdccbf6568b",
   "metadata": {},
   "outputs": [],
   "source": []
  },
  {
   "cell_type": "code",
   "execution_count": null,
   "id": "ebcf809c-0e38-4795-ad31-d858f51ccf90",
   "metadata": {},
   "outputs": [],
   "source": []
  },
  {
   "cell_type": "code",
   "execution_count": 25,
   "id": "caeaface-6857-4edc-926d-17b94055da7c",
   "metadata": {},
   "outputs": [],
   "source": [
    "loaded_spectra_from_path = list(load_from_mgf(output_mgf_path))"
   ]
  },
  {
   "cell_type": "code",
   "execution_count": 29,
   "id": "3bbb2ffa-66db-43a3-8da6-b497522c901f",
   "metadata": {},
   "outputs": [],
   "source": [
    "# spectra_from_path[0].metadata"
   ]
  },
  {
   "cell_type": "code",
   "execution_count": 20,
   "id": "41daf936-035f-4237-9193-3203188af3b6",
   "metadata": {},
   "outputs": [],
   "source": [
    "hdf5_path = \"../../data/data/MassSpecGym_DreaMS.hdf5\"\n",
    "msdata = MSData.from_hdf5(hdf5_path, prec_mz_col='precursor_mz')\n",
    "embs = msdata[DREAMS_EMBEDDING]"
   ]
  },
  {
   "cell_type": "code",
   "execution_count": 22,
   "id": "abd39cda-cfeb-4fb8-830b-39140565e76b",
   "metadata": {},
   "outputs": [
    {
     "data": {
      "text/plain": [
       "['COLLISION_ENERGY',\n",
       " 'DreaMS_embedding',\n",
       " 'FOLD',\n",
       " 'FORMULA',\n",
       " 'IDENTIFIER',\n",
       " 'INCHIKEY',\n",
       " 'INSTRUMENT_TYPE',\n",
       " 'PARENT_MASS',\n",
       " 'PRECURSOR_FORMULA',\n",
       " 'SIMULATION_CHALLENGE',\n",
       " 'adduct',\n",
       " 'precursor_mz',\n",
       " 'smiles',\n",
       " 'spectrum']"
      ]
     },
     "execution_count": 22,
     "metadata": {},
     "output_type": "execute_result"
    }
   ],
   "source": [
    "msdata.columns()"
   ]
  },
  {
   "cell_type": "code",
   "execution_count": 27,
   "id": "b335cf9b-cdc0-489a-9fa1-94e2e96939ee",
   "metadata": {},
   "outputs": [],
   "source": [
    "identifiers_hdf5 = msdata['IDENTIFIER']\n",
    "embeddings_hdf5 = msdata['DreaMS_embedding']"
   ]
  },
  {
   "cell_type": "code",
   "execution_count": 28,
   "id": "c31919a5-d9d3-47f5-bf38-ccf3a43a4ee5",
   "metadata": {},
   "outputs": [
    {
     "name": "stdout",
     "output_type": "stream",
     "text": [
      "Number of spectra in HDF5: 213548\n"
     ]
    }
   ],
   "source": [
    "print(f\"Number of spectra in HDF5: {len(identifiers_hdf5)}\")"
   ]
  },
  {
   "cell_type": "code",
   "execution_count": 33,
   "id": "ccc061f0-25d1-461d-88ff-af60731b79ec",
   "metadata": {},
   "outputs": [
    {
     "name": "stdout",
     "output_type": "stream",
     "text": [
      "Number of identifiers in HDF5 mapping: 213548\n",
      "Number of identifiers in MGF mapping: 231104\n"
     ]
    }
   ],
   "source": [
    "# Create a mapping from IDENTIFIER to DreaMS_embedding in HDF5\n",
    "identifier_to_embedding_hdf5 = {\n",
    "    identifier: embedding for identifier, embedding in zip(identifiers_hdf5, embeddings_hdf5)\n",
    "}\n",
    "\n",
    "# Create a mapping from IDENTIFIER to dreams_embedding in MGF\n",
    "identifier_to_embedding_mgf = {\n",
    "    spectrum.get(\"identifier\"): spectrum.get(\"dreams_embedding\") for spectrum in loaded_spectra_from_path\n",
    "}\n",
    "\n",
    "# Verify the mappings\n",
    "print(f\"Number of identifiers in HDF5 mapping: {len(identifier_to_embedding_hdf5)}\")\n",
    "print(f\"Number of identifiers in MGF mapping: {len(identifier_to_embedding_mgf)}\")"
   ]
  },
  {
   "cell_type": "code",
   "execution_count": 38,
   "id": "4ef914de-a2c1-48c2-8c89-f35cbfd4f04c",
   "metadata": {},
   "outputs": [],
   "source": [
    "import json"
   ]
  },
  {
   "cell_type": "code",
   "execution_count": 39,
   "id": "20caf88c-f271-4fbf-be2b-dfb7aa8c2fad",
   "metadata": {},
   "outputs": [
    {
     "name": "stdout",
     "output_type": "stream",
     "text": [
      "Number of identifiers in MGF mapping: 231104\n"
     ]
    }
   ],
   "source": [
    "# Function to parse the dreams_embedding string to a list\n",
    "def parse_embedding(embedding_str):\n",
    "    try:\n",
    "        return json.loads(embedding_str)\n",
    "    except json.JSONDecodeError:\n",
    "        # Handle cases where the embedding is not a valid JSON string\n",
    "        # For example, if it's stored as a plain string with space-separated values\n",
    "        # Uncomment the following lines if needed:\n",
    "        # return list(map(float, embedding_str.strip('[]').split(',')))\n",
    "        raise ValueError(\"Embedding string is not in valid JSON format.\")\n",
    "\n",
    "# Create a mapping from IDENTIFIER to dreams_embedding\n",
    "identifier_to_embedding_mgf = {}\n",
    "for spectrum in loaded_spectra_from_path:\n",
    "    identifier = spectrum.get(\"identifier\")\n",
    "    embedding_str = spectrum.get(\"dreams_embedding\")\n",
    "    if identifier is None or embedding_str is None:\n",
    "        continue  # Skip spectra without IDENTIFIER or dreams_embedding\n",
    "    embedding_list = parse_embedding(embedding_str)\n",
    "    identifier_to_embedding_mgf[identifier] = embedding_list\n",
    "\n",
    "print(f\"Number of identifiers in MGF mapping: {len(identifier_to_embedding_mgf)}\")"
   ]
  },
  {
   "cell_type": "code",
   "execution_count": 40,
   "id": "2300dfa0-1435-4ce5-aa5e-2823cb26989e",
   "metadata": {},
   "outputs": [
    {
     "name": "stdout",
     "output_type": "stream",
     "text": [
      "Number of identifiers in HDF5 mapping: 213548\n"
     ]
    }
   ],
   "source": [
    "# Create a mapping from IDENTIFIER to DreaMS_embedding in HDF5\n",
    "identifier_to_embedding_hdf5 = {\n",
    "    identifier: embedding for identifier, embedding in zip(identifiers_hdf5, embeddings_hdf5)\n",
    "}\n",
    "\n",
    "print(f\"Number of identifiers in HDF5 mapping: {len(identifier_to_embedding_hdf5)}\")"
   ]
  },
  {
   "cell_type": "code",
   "execution_count": 41,
   "id": "cd3f18af-5448-4d38-8745-7345abc16239",
   "metadata": {},
   "outputs": [
    {
     "name": "stdout",
     "output_type": "stream",
     "text": [
      "Number of overlapping identifiers: 213548\n"
     ]
    }
   ],
   "source": [
    "# Get sets of identifiers\n",
    "identifiers_mgf_set = set(identifier_to_embedding_mgf.keys())\n",
    "identifiers_hdf5_set = set(identifier_to_embedding_hdf5.keys())\n",
    "\n",
    "# Find overlapping identifiers\n",
    "overlapping_identifiers = identifiers_mgf_set.intersection(identifiers_hdf5_set)\n",
    "\n",
    "print(f\"Number of overlapping identifiers: {len(overlapping_identifiers)}\")"
   ]
  },
  {
   "cell_type": "code",
   "execution_count": 43,
   "id": "6ae171af-4264-45ee-9c59-3ab7389b42a9",
   "metadata": {},
   "outputs": [
    {
     "name": "stdout",
     "output_type": "stream",
     "text": [
      "\n",
      "--- Embedding Comparison Summary ---\n",
      "Total overlapping identifiers: 213548\n",
      "Matched embeddings: 213548\n",
      "Mismatched embeddings: 0\n"
     ]
    }
   ],
   "source": [
    "total_overlapping = len(overlapping_identifiers)\n",
    "matched_embeddings = 0\n",
    "mismatched_embeddings = 0\n",
    "\n",
    "# List to store mismatched identifiers\n",
    "mismatched_ids = []\n",
    "\n",
    "# Iterate over overlapping identifiers and compare embeddings\n",
    "for identifier in overlapping_identifiers:\n",
    "    embedding_mgf = np.array(identifier_to_embedding_mgf[identifier])\n",
    "    embedding_hdf5 = np.array(identifier_to_embedding_hdf5[identifier])\n",
    "    \n",
    "    # Check if embeddings are identical within a tolerance\n",
    "    if np.allclose(embedding_mgf, embedding_hdf5, atol=1e-5):\n",
    "        matched_embeddings += 1\n",
    "    else:\n",
    "        mismatched_embeddings += 1\n",
    "        mismatched_ids.append(identifier)\n",
    "\n",
    "# Summary of comparison\n",
    "print(\"\\n--- Embedding Comparison Summary ---\")\n",
    "print(f\"Total overlapping identifiers: {total_overlapping}\")\n",
    "print(f\"Matched embeddings: {matched_embeddings}\")\n",
    "print(f\"Mismatched embeddings: {mismatched_embeddings}\")"
   ]
  },
  {
   "cell_type": "markdown",
   "id": "673e1b6d-1578-4ffa-a729-26b7e64ef0a5",
   "metadata": {},
   "source": [
    "# enveda_dadta"
   ]
  },
  {
   "cell_type": "code",
   "execution_count": 44,
   "id": "f32393ab-2743-474f-9940-b3f89231bd38",
   "metadata": {},
   "outputs": [],
   "source": [
    "import pandas as pd"
   ]
  },
  {
   "cell_type": "code",
   "execution_count": 62,
   "id": "624a0199-fd5e-4685-b58d-2815b6f38941",
   "metadata": {},
   "outputs": [],
   "source": [
    "dataframe_path = \"/workspace/mol2DreaMS/data/data/Enveda/enveda_spec_df.csv\""
   ]
  },
  {
   "cell_type": "code",
   "execution_count": 63,
   "id": "fc1c1915-2840-4dfd-9a4a-32884f910b91",
   "metadata": {},
   "outputs": [],
   "source": [
    "df = pd.read_csv(dataframe_path)"
   ]
  },
  {
   "cell_type": "code",
   "execution_count": 64,
   "id": "b06c1f54-281f-478b-8ff0-21ada7b55e72",
   "metadata": {},
   "outputs": [
    {
     "data": {
      "text/plain": [
       "Index(['Unnamed: 0', 'spec_id', 'mol_id', 'group_id', 'inst_type', 'prec_type',\n",
       "       'ace', 'prec_mz', 'peaks', 'smiles'],\n",
       "      dtype='object')"
      ]
     },
     "execution_count": 64,
     "metadata": {},
     "output_type": "execute_result"
    }
   ],
   "source": [
    "df.columns"
   ]
  },
  {
   "cell_type": "code",
   "execution_count": 65,
   "id": "a03488a6-d51f-4b2e-a60f-2ca05d19417e",
   "metadata": {},
   "outputs": [
    {
     "data": {
      "text/html": [
       "<div>\n",
       "<style scoped>\n",
       "    .dataframe tbody tr th:only-of-type {\n",
       "        vertical-align: middle;\n",
       "    }\n",
       "\n",
       "    .dataframe tbody tr th {\n",
       "        vertical-align: top;\n",
       "    }\n",
       "\n",
       "    .dataframe thead th {\n",
       "        text-align: right;\n",
       "    }\n",
       "</style>\n",
       "<table border=\"1\" class=\"dataframe\">\n",
       "  <thead>\n",
       "    <tr style=\"text-align: right;\">\n",
       "      <th></th>\n",
       "      <th>Unnamed: 0</th>\n",
       "      <th>spec_id</th>\n",
       "      <th>mol_id</th>\n",
       "      <th>group_id</th>\n",
       "      <th>inst_type</th>\n",
       "      <th>prec_type</th>\n",
       "      <th>ace</th>\n",
       "      <th>prec_mz</th>\n",
       "      <th>peaks</th>\n",
       "      <th>smiles</th>\n",
       "    </tr>\n",
       "  </thead>\n",
       "  <tbody>\n",
       "    <tr>\n",
       "      <th>0</th>\n",
       "      <td>0</td>\n",
       "      <td>0</td>\n",
       "      <td>0</td>\n",
       "      <td>0</td>\n",
       "      <td>Orbitrap</td>\n",
       "      <td>[M+H]+</td>\n",
       "      <td>60.000000</td>\n",
       "      <td>417.230011</td>\n",
       "      <td>[(227.07, 0.03), (240.078, 0.007), (241.086, 0...</td>\n",
       "      <td>COc1cc2c(c(OC)c1OC)-c1c(cc(OC)c(OC)c1OC)CC(C)C...</td>\n",
       "    </tr>\n",
       "    <tr>\n",
       "      <th>1</th>\n",
       "      <td>1</td>\n",
       "      <td>1</td>\n",
       "      <td>0</td>\n",
       "      <td>0</td>\n",
       "      <td>Orbitrap</td>\n",
       "      <td>[M+H]+</td>\n",
       "      <td>20.000000</td>\n",
       "      <td>417.230011</td>\n",
       "      <td>[(316.131, 0.04), (347.149, 0.095), (373.155, ...</td>\n",
       "      <td>COc1cc2c(c(OC)c1OC)-c1c(cc(OC)c(OC)c1OC)CC(C)C...</td>\n",
       "    </tr>\n",
       "    <tr>\n",
       "      <th>2</th>\n",
       "      <td>2</td>\n",
       "      <td>2</td>\n",
       "      <td>0</td>\n",
       "      <td>0</td>\n",
       "      <td>Orbitrap</td>\n",
       "      <td>[M+H]+</td>\n",
       "      <td>10.000000</td>\n",
       "      <td>417.230011</td>\n",
       "      <td>[(399.141, 0.01), (402.204, 0.006), (417.182, ...</td>\n",
       "      <td>COc1cc2c(c(OC)c1OC)-c1c(cc(OC)c(OC)c1OC)CC(C)C...</td>\n",
       "    </tr>\n",
       "    <tr>\n",
       "      <th>3</th>\n",
       "      <td>3</td>\n",
       "      <td>3</td>\n",
       "      <td>0</td>\n",
       "      <td>0</td>\n",
       "      <td>Orbitrap</td>\n",
       "      <td>[M+H]+</td>\n",
       "      <td>80.000000</td>\n",
       "      <td>417.230011</td>\n",
       "      <td>[(169.065, 0.017), (181.065, 0.051), (197.06, ...</td>\n",
       "      <td>COc1cc2c(c(OC)c1OC)-c1c(cc(OC)c(OC)c1OC)CC(C)C...</td>\n",
       "    </tr>\n",
       "    <tr>\n",
       "      <th>4</th>\n",
       "      <td>4</td>\n",
       "      <td>4</td>\n",
       "      <td>0</td>\n",
       "      <td>0</td>\n",
       "      <td>Orbitrap</td>\n",
       "      <td>[M+H]+</td>\n",
       "      <td>80.000000</td>\n",
       "      <td>417.230011</td>\n",
       "      <td>[(181.065, 0.014), (197.06, 0.245), (198.067, ...</td>\n",
       "      <td>COc1cc2c(c(OC)c1OC)-c1c(cc(OC)c(OC)c1OC)CC(C)C...</td>\n",
       "    </tr>\n",
       "    <tr>\n",
       "      <th>...</th>\n",
       "      <td>...</td>\n",
       "      <td>...</td>\n",
       "      <td>...</td>\n",
       "      <td>...</td>\n",
       "      <td>...</td>\n",
       "      <td>...</td>\n",
       "      <td>...</td>\n",
       "      <td>...</td>\n",
       "      <td>...</td>\n",
       "      <td>...</td>\n",
       "    </tr>\n",
       "    <tr>\n",
       "      <th>154469</th>\n",
       "      <td>154469</td>\n",
       "      <td>154861</td>\n",
       "      <td>9117</td>\n",
       "      <td>17415</td>\n",
       "      <td>QTOF</td>\n",
       "      <td>[M-H]-</td>\n",
       "      <td>10.000000</td>\n",
       "      <td>276.064172</td>\n",
       "      <td>[(68.995758, 0.65665666), (69.039554, 0.011011...</td>\n",
       "      <td>O=C(Nc1ccc2c(c1)Cc1ccccc1-2)C(F)(F)F</td>\n",
       "    </tr>\n",
       "    <tr>\n",
       "      <th>154470</th>\n",
       "      <td>154470</td>\n",
       "      <td>154862</td>\n",
       "      <td>9118</td>\n",
       "      <td>17416</td>\n",
       "      <td>QTOF</td>\n",
       "      <td>[M-H]-</td>\n",
       "      <td>45.000000</td>\n",
       "      <td>899.565430</td>\n",
       "      <td>[(223.002, 0.03), (240.995, 0.016), (241.015, ...</td>\n",
       "      <td>CCC=CCC=CCC=CCC=CCCCCCCC(=O)OC(COC(=O)CCCCCCCC...</td>\n",
       "    </tr>\n",
       "    <tr>\n",
       "      <th>154471</th>\n",
       "      <td>154471</td>\n",
       "      <td>154863</td>\n",
       "      <td>9118</td>\n",
       "      <td>17416</td>\n",
       "      <td>QTOF</td>\n",
       "      <td>[M-H]-</td>\n",
       "      <td>45.000000</td>\n",
       "      <td>899.565400</td>\n",
       "      <td>[(223.002, 0.02902903), (240.995, 0.01501502),...</td>\n",
       "      <td>CCC=CCC=CCC=CCC=CCCCCCCC(=O)OC(COC(=O)CCCCCCCC...</td>\n",
       "    </tr>\n",
       "    <tr>\n",
       "      <th>154472</th>\n",
       "      <td>154472</td>\n",
       "      <td>154864</td>\n",
       "      <td>9119</td>\n",
       "      <td>17417</td>\n",
       "      <td>Orbitrap</td>\n",
       "      <td>[M+H]+</td>\n",
       "      <td>14.403912</td>\n",
       "      <td>240.065200</td>\n",
       "      <td>[(56.0498, 1.0), (84.0556, 0.23923924), (90.03...</td>\n",
       "      <td>O=NNC1=NCCN1Cc1ccc(Cl)nc1</td>\n",
       "    </tr>\n",
       "    <tr>\n",
       "      <th>154473</th>\n",
       "      <td>154473</td>\n",
       "      <td>154865</td>\n",
       "      <td>9120</td>\n",
       "      <td>17418</td>\n",
       "      <td>Orbitrap</td>\n",
       "      <td>[M+H]+</td>\n",
       "      <td>25.476417</td>\n",
       "      <td>283.071300</td>\n",
       "      <td>[(58.0649, 0.002002), (69.9923, 0.04704705), (...</td>\n",
       "      <td>O=C(O)c1ccccc1-n1c(=O)[nH]c(=O)c2ccccc21</td>\n",
       "    </tr>\n",
       "  </tbody>\n",
       "</table>\n",
       "<p>154474 rows × 10 columns</p>\n",
       "</div>"
      ],
      "text/plain": [
       "        Unnamed: 0  spec_id  mol_id  group_id inst_type prec_type        ace  \\\n",
       "0                0        0       0         0  Orbitrap    [M+H]+  60.000000   \n",
       "1                1        1       0         0  Orbitrap    [M+H]+  20.000000   \n",
       "2                2        2       0         0  Orbitrap    [M+H]+  10.000000   \n",
       "3                3        3       0         0  Orbitrap    [M+H]+  80.000000   \n",
       "4                4        4       0         0  Orbitrap    [M+H]+  80.000000   \n",
       "...            ...      ...     ...       ...       ...       ...        ...   \n",
       "154469      154469   154861    9117     17415      QTOF    [M-H]-  10.000000   \n",
       "154470      154470   154862    9118     17416      QTOF    [M-H]-  45.000000   \n",
       "154471      154471   154863    9118     17416      QTOF    [M-H]-  45.000000   \n",
       "154472      154472   154864    9119     17417  Orbitrap    [M+H]+  14.403912   \n",
       "154473      154473   154865    9120     17418  Orbitrap    [M+H]+  25.476417   \n",
       "\n",
       "           prec_mz                                              peaks  \\\n",
       "0       417.230011  [(227.07, 0.03), (240.078, 0.007), (241.086, 0...   \n",
       "1       417.230011  [(316.131, 0.04), (347.149, 0.095), (373.155, ...   \n",
       "2       417.230011  [(399.141, 0.01), (402.204, 0.006), (417.182, ...   \n",
       "3       417.230011  [(169.065, 0.017), (181.065, 0.051), (197.06, ...   \n",
       "4       417.230011  [(181.065, 0.014), (197.06, 0.245), (198.067, ...   \n",
       "...            ...                                                ...   \n",
       "154469  276.064172  [(68.995758, 0.65665666), (69.039554, 0.011011...   \n",
       "154470  899.565430  [(223.002, 0.03), (240.995, 0.016), (241.015, ...   \n",
       "154471  899.565400  [(223.002, 0.02902903), (240.995, 0.01501502),...   \n",
       "154472  240.065200  [(56.0498, 1.0), (84.0556, 0.23923924), (90.03...   \n",
       "154473  283.071300  [(58.0649, 0.002002), (69.9923, 0.04704705), (...   \n",
       "\n",
       "                                                   smiles  \n",
       "0       COc1cc2c(c(OC)c1OC)-c1c(cc(OC)c(OC)c1OC)CC(C)C...  \n",
       "1       COc1cc2c(c(OC)c1OC)-c1c(cc(OC)c(OC)c1OC)CC(C)C...  \n",
       "2       COc1cc2c(c(OC)c1OC)-c1c(cc(OC)c(OC)c1OC)CC(C)C...  \n",
       "3       COc1cc2c(c(OC)c1OC)-c1c(cc(OC)c(OC)c1OC)CC(C)C...  \n",
       "4       COc1cc2c(c(OC)c1OC)-c1c(cc(OC)c(OC)c1OC)CC(C)C...  \n",
       "...                                                   ...  \n",
       "154469               O=C(Nc1ccc2c(c1)Cc1ccccc1-2)C(F)(F)F  \n",
       "154470  CCC=CCC=CCC=CCC=CCCCCCCC(=O)OC(COC(=O)CCCCCCCC...  \n",
       "154471  CCC=CCC=CCC=CCC=CCCCCCCC(=O)OC(COC(=O)CCCCCCCC...  \n",
       "154472                          O=NNC1=NCCN1Cc1ccc(Cl)nc1  \n",
       "154473           O=C(O)c1ccccc1-n1c(=O)[nH]c(=O)c2ccccc21  \n",
       "\n",
       "[154474 rows x 10 columns]"
      ]
     },
     "execution_count": 65,
     "metadata": {},
     "output_type": "execute_result"
    }
   ],
   "source": [
    "df"
   ]
  },
  {
   "cell_type": "code",
   "execution_count": 60,
   "id": "47abffd4-095f-40da-9c0d-a874d9f6d484",
   "metadata": {},
   "outputs": [
    {
     "data": {
      "text/plain": [
       "array(['[M+H]+', '[M-H]-'], dtype=object)"
      ]
     },
     "execution_count": 60,
     "metadata": {},
     "output_type": "execute_result"
    }
   ],
   "source": [
    "df['prec_type'].unique()"
   ]
  },
  {
   "cell_type": "code",
   "execution_count": 53,
   "id": "f13f73b5-b148-4ecb-8c1b-7ad776c392e5",
   "metadata": {},
   "outputs": [
    {
     "name": "stdout",
     "output_type": "stream",
     "text": [
      "\n",
      "Transformed DataFrame for MSData:\n",
      "        IDENTIFIER  PRECURSOR_MZ  \\\n",
      "0  EnvedaID0000000    417.230011   \n",
      "1  EnvedaID0000001    417.230011   \n",
      "2  EnvedaID0000002    417.230011   \n",
      "3  EnvedaID0000003    417.230011   \n",
      "4  EnvedaID0000004    417.230011   \n",
      "\n",
      "                                              smiles  \\\n",
      "0  COc1cc2c(c(OC)c1OC)-c1c(cc(OC)c(OC)c1OC)CC(C)C...   \n",
      "1  COc1cc2c(c(OC)c1OC)-c1c(cc(OC)c(OC)c1OC)CC(C)C...   \n",
      "2  COc1cc2c(c(OC)c1OC)-c1c(cc(OC)c(OC)c1OC)CC(C)C...   \n",
      "3  COc1cc2c(c(OC)c1OC)-c1c(cc(OC)c(OC)c1OC)CC(C)C...   \n",
      "4  COc1cc2c(c(OC)c1OC)-c1c(cc(OC)c(OC)c1OC)CC(C)C...   \n",
      "\n",
      "                                            spectrum  \n",
      "0  [[227.07, 240.078, 241.086, 242.094, 243.065, ...  \n",
      "1  [[316.131, 347.149, 373.155, 386.209, 402.204,...  \n",
      "2  [[399.141, 402.204, 417.182, 417.227, 423.109]...  \n",
      "3  [[169.065, 181.065, 197.06, 198.068, 199.075, ...  \n",
      "4  [[181.065, 197.06, 198.067, 199.075, 211.075, ...  \n"
     ]
    }
   ],
   "source": [
    "import numpy as np\n",
    "from matchms import Spectrum\n",
    "from dreams.utils.data import MSData\n",
    "\n",
    "# Function to convert peaks to m/z and intensity lists\n",
    "def convert_peaks(peaks_str):\n",
    "    # If peaks are stored as strings, parse them\n",
    "    if isinstance(peaks_str, str):\n",
    "        try:\n",
    "            peaks = json.loads(peaks_str.replace(\"'\", \"\\\"\"))\n",
    "        except json.JSONDecodeError:\n",
    "            # Handle other formats if necessary\n",
    "            peaks = eval(peaks_str)\n",
    "    else:\n",
    "        peaks = peaks_str  # Assuming it's already a list of tuples\n",
    "\n",
    "    mz, intensity = zip(*peaks) if peaks else ([], [])\n",
    "    return list(mz), list(intensity)\n",
    "\n",
    "# Apply the conversion to the 'peaks' column\n",
    "df[['mz', 'intensity']] = df['peaks'].apply(lambda x: pd.Series(convert_peaks(x)))\n",
    "\n",
    "# Create an 'IDENTIFIER' column based on 'spec_id'\n",
    "df['IDENTIFIER'] = 'EnvedaID' + df['spec_id'].astype(str).str.zfill(7)\n",
    "\n",
    "# Select necessary columns for MSData\n",
    "msdata_df = df[['IDENTIFIER', 'prec_mz', 'mz', 'intensity', 'smiles']].copy()\n",
    "msdata_df = msdata_df.rename(columns={\n",
    "    'prec_mz': 'PRECURSOR_MZ',\n",
    "    'mz': 'spectrum_mz',\n",
    "    'intensity': 'spectrum_intensity'\n",
    "})\n",
    "\n",
    "# Create the 'spectrum' column as a list of two lists: [mz, intensity]\n",
    "msdata_df['spectrum'] = msdata_df.apply(lambda row: [row['spectrum_mz'], row['spectrum_intensity']], axis=1)\n",
    "\n",
    "# Drop intermediate columns\n",
    "msdata_df = msdata_df.drop(columns=['spectrum_mz', 'spectrum_intensity'])\n",
    "\n",
    "# Display the transformed DataFrame\n",
    "print(\"\\nTransformed DataFrame for MSData:\")\n",
    "print(msdata_df.head())"
   ]
  },
  {
   "cell_type": "code",
   "execution_count": 55,
   "id": "6afe03cf-73e5-4c17-9d6c-a00fe23cdae1",
   "metadata": {},
   "outputs": [
    {
     "data": {
      "text/plain": [
       "[[227.07,\n",
       "  240.078,\n",
       "  241.086,\n",
       "  242.094,\n",
       "  243.065,\n",
       "  243.102,\n",
       "  255.065,\n",
       "  255.102,\n",
       "  257.081,\n",
       "  258.089,\n",
       "  269.081,\n",
       "  270.089,\n",
       "  271.06,\n",
       "  271.096,\n",
       "  272.104,\n",
       "  273.112,\n",
       "  282.089,\n",
       "  283.096,\n",
       "  285.076,\n",
       "  285.112,\n",
       "  286.084,\n",
       "  287.091,\n",
       "  289.107,\n",
       "  298.12,\n",
       "  299.091,\n",
       "  300.099,\n",
       "  301.107,\n",
       "  315.123,\n",
       "  316.13,\n",
       "  317.102,\n",
       "  341.138],\n",
       " [0.03,\n",
       "  0.007,\n",
       "  0.117,\n",
       "  0.365,\n",
       "  0.019,\n",
       "  0.007,\n",
       "  0.008,\n",
       "  0.054,\n",
       "  0.087,\n",
       "  0.172,\n",
       "  0.019,\n",
       "  0.156,\n",
       "  0.022,\n",
       "  0.092,\n",
       "  0.022,\n",
       "  0.124,\n",
       "  0.016,\n",
       "  0.032,\n",
       "  0.039,\n",
       "  0.659,\n",
       "  0.137,\n",
       "  0.008,\n",
       "  0.041,\n",
       "  0.011,\n",
       "  0.04,\n",
       "  0.069,\n",
       "  1.0,\n",
       "  0.079,\n",
       "  0.177,\n",
       "  0.102,\n",
       "  0.01]]"
      ]
     },
     "execution_count": 55,
     "metadata": {},
     "output_type": "execute_result"
    }
   ],
   "source": [
    "msdata_df['spectrum'].iloc[0]"
   ]
  },
  {
   "cell_type": "markdown",
   "id": "6b47122b-90f6-4fdb-bd66-ac3c9196e941",
   "metadata": {},
   "source": [
    "### convert csv to mgf"
   ]
  },
  {
   "cell_type": "code",
   "execution_count": 66,
   "id": "412eac7f-1149-4e7c-8ef5-5f0974b2fd39",
   "metadata": {},
   "outputs": [],
   "source": [
    "import pandas as pd\n",
    "import ast\n",
    "import os"
   ]
  },
  {
   "cell_type": "code",
   "execution_count": 67,
   "id": "1f0f4cac-bc18-47f8-8886-586833d98e92",
   "metadata": {},
   "outputs": [
    {
     "name": "stdout",
     "output_type": "stream",
     "text": [
      "   Unnamed: 0  spec_id  mol_id  group_id inst_type prec_type   ace  \\\n",
      "0           0        0       0         0  Orbitrap    [M+H]+  60.0   \n",
      "1           1        1       0         0  Orbitrap    [M+H]+  20.0   \n",
      "2           2        2       0         0  Orbitrap    [M+H]+  10.0   \n",
      "3           3        3       0         0  Orbitrap    [M+H]+  80.0   \n",
      "4           4        4       0         0  Orbitrap    [M+H]+  80.0   \n",
      "\n",
      "      prec_mz                                              peaks  \\\n",
      "0  417.230011  [(227.07, 0.03), (240.078, 0.007), (241.086, 0...   \n",
      "1  417.230011  [(316.131, 0.04), (347.149, 0.095), (373.155, ...   \n",
      "2  417.230011  [(399.141, 0.01), (402.204, 0.006), (417.182, ...   \n",
      "3  417.230011  [(169.065, 0.017), (181.065, 0.051), (197.06, ...   \n",
      "4  417.230011  [(181.065, 0.014), (197.06, 0.245), (198.067, ...   \n",
      "\n",
      "                                              smiles  \n",
      "0  COc1cc2c(c(OC)c1OC)-c1c(cc(OC)c(OC)c1OC)CC(C)C...  \n",
      "1  COc1cc2c(c(OC)c1OC)-c1c(cc(OC)c(OC)c1OC)CC(C)C...  \n",
      "2  COc1cc2c(c(OC)c1OC)-c1c(cc(OC)c(OC)c1OC)CC(C)C...  \n",
      "3  COc1cc2c(c(OC)c1OC)-c1c(cc(OC)c(OC)c1OC)CC(C)C...  \n",
      "4  COc1cc2c(c(OC)c1OC)-c1c(cc(OC)c(OC)c1OC)CC(C)C...  \n"
     ]
    }
   ],
   "source": [
    "dataframe_path = \"/workspace/mol2DreaMS/data/data/Enveda/enveda_spec_df.csv\"\n",
    "\n",
    "df = pd.read_csv(dataframe_path)\n",
    "\n",
    "print(df.head())"
   ]
  },
  {
   "cell_type": "code",
   "execution_count": 68,
   "id": "056fce43-2f40-48c5-9b3c-6f93db2100b1",
   "metadata": {},
   "outputs": [],
   "source": [
    "adduct_to_charge = {\n",
    "    '[M+H]+': 1,\n",
    "    '[M-H]-': -1\n",
    "}\n",
    "\n",
    "df['CHARGE'] = df['prec_type'].map(adduct_to_charge)\n",
    "\n",
    "if df['CHARGE'].isnull().any():\n",
    "    unmapped = df[df['CHARGE'].isnull()]['prec_type'].unique()\n",
    "    raise ValueError(f\"Unmapped adduct types found: {unmapped}\")"
   ]
  },
  {
   "cell_type": "code",
   "execution_count": 69,
   "id": "888a739c-6992-4543-aaa7-f10e62b92b47",
   "metadata": {},
   "outputs": [],
   "source": [
    "df['IDENTIFIER'] = df['spec_id'].apply(lambda x: f\"EnvedaID{int(x):07d}\")"
   ]
  },
  {
   "cell_type": "code",
   "execution_count": 70,
   "id": "a0f26534-a47a-43fc-acef-f53841fc1201",
   "metadata": {},
   "outputs": [],
   "source": [
    "# Function to safely parse the 'peaks' string into a list of tuples\n",
    "def parse_peaks(peaks_str):\n",
    "    try:\n",
    "        peaks = ast.literal_eval(peaks_str)\n",
    "        if isinstance(peaks, list) and all(isinstance(t, tuple) for t in peaks):\n",
    "            return peaks\n",
    "        else:\n",
    "            raise ValueError\n",
    "    except (ValueError, SyntaxError):\n",
    "        print(f\"Malformed peaks entry: {peaks_str}\")\n",
    "        return []"
   ]
  },
  {
   "cell_type": "code",
   "execution_count": 71,
   "id": "b5d9ee7a-a3af-4807-9eb4-b26c81c3cc5c",
   "metadata": {},
   "outputs": [],
   "source": [
    "df['parsed_peaks'] = df['peaks'].apply(parse_peaks)"
   ]
  },
  {
   "cell_type": "code",
   "execution_count": 73,
   "id": "2a7a69ca-7d5e-4cf8-bb87-0d77d850f222",
   "metadata": {},
   "outputs": [],
   "source": [
    "additional_metadata = ['mol_id', 'group_id', 'inst_type', 'ace']"
   ]
  },
  {
   "cell_type": "code",
   "execution_count": 74,
   "id": "22ce4150-cf82-4b54-9eb8-8cd6830a499a",
   "metadata": {},
   "outputs": [],
   "source": [
    "# Path to save the MGF file\n",
    "mgf_output_path = \"/workspace/mol2DreaMS/data/data/Enveda/enveda_spec_df.mgf\""
   ]
  },
  {
   "cell_type": "code",
   "execution_count": 75,
   "id": "27c424f6-6c70-4178-9af3-b06f0067ef02",
   "metadata": {},
   "outputs": [],
   "source": [
    "# Open the MGF file for writing\n",
    "with open(mgf_output_path, 'w') as mgf_file:\n",
    "    # Iterate over each row in the DataFrame\n",
    "    for index, row in df.iterrows():\n",
    "        # Begin IONS block\n",
    "        mgf_file.write(\"BEGIN IONS\\n\")\n",
    "        \n",
    "        # Write mandatory and additional metadata\n",
    "        mgf_file.write(f\"IDENTIFIER={row['IDENTIFIER']}\\n\")\n",
    "        mgf_file.write(f\"SMILES={row['smiles']}\\n\")\n",
    "        mgf_file.write(f\"ADDUCT={row['prec_type']}\\n\")\n",
    "        mgf_file.write(f\"CHARGE={row['CHARGE']}\\n\")\n",
    "        mgf_file.write(f\"PRECURSOR_MZ={row['prec_mz']}\\n\")\n",
    "        \n",
    "        # Include additional metadata\n",
    "        for meta in additional_metadata:\n",
    "            mgf_file.write(f\"{meta.upper()}={row[meta]}\\n\")\n",
    "        \n",
    "        # Write the peaks\n",
    "        for mz, intensity in row['parsed_peaks']:\n",
    "            mgf_file.write(f\"{mz} {intensity}\\n\")\n",
    "        \n",
    "        # End IONS block\n",
    "        mgf_file.write(\"END IONS\\n\\n\")"
   ]
  },
  {
   "cell_type": "code",
   "execution_count": 76,
   "id": "ee0f7191-3cc7-4bb3-952a-d0e92b79b408",
   "metadata": {},
   "outputs": [],
   "source": [
    "spectra_from_path = list(load_from_mgf(mgf_output_path))"
   ]
  },
  {
   "cell_type": "code",
   "execution_count": 77,
   "id": "3c604108-82fe-4a27-a2be-5a641dd24fcc",
   "metadata": {},
   "outputs": [
    {
     "data": {
      "text/plain": [
       "154474"
      ]
     },
     "execution_count": 77,
     "metadata": {},
     "output_type": "execute_result"
    }
   ],
   "source": [
    "len(spectra_from_path)"
   ]
  },
  {
   "cell_type": "code",
   "execution_count": 78,
   "id": "31244e92-961a-450c-9e3d-8077fdf73ed9",
   "metadata": {},
   "outputs": [
    {
     "name": "stderr",
     "output_type": "stream",
     "text": [
      "Computing DreaMS embedding: 100%|██████████| 154474/154474 [03:50<00:00, 671.10it/s]\n"
     ]
    }
   ],
   "source": [
    "dreams_embs = dreams_embeddings(mgf_output_path, prec_mz_col='PRECURSOR_MZ')"
   ]
  },
  {
   "cell_type": "code",
   "execution_count": 79,
   "id": "9d528889-22e7-4d7d-9544-e5007984fd72",
   "metadata": {},
   "outputs": [
    {
     "name": "stdout",
     "output_type": "stream",
     "text": [
      "All spectra have been updated with 'dreams_embedding' attributes.\n"
     ]
    }
   ],
   "source": [
    "if len(spectra_from_path) != dreams_embs.shape[0]:\n",
    "    raise ValueError(\"The number of embeddings does not match the number of spectra.\")\n",
    "\n",
    "for idx, (spectrum, embedding) in enumerate(zip(spectra_from_path, dreams_embs)):\n",
    "    spectrum.set(\"dreams_embedding\", embedding.tolist())  \n",
    "\n",
    "print(\"All spectra have been updated with 'dreams_embedding' attributes.\")"
   ]
  },
  {
   "cell_type": "code",
   "execution_count": 80,
   "id": "aa7cc712-fb53-4355-95b7-aa1f05aa993a",
   "metadata": {},
   "outputs": [
    {
     "name": "stdout",
     "output_type": "stream",
     "text": [
      "dict_keys(['spectra'])\n"
     ]
    }
   ],
   "source": [
    "output_mgf_path = \"/workspace/mol2DreaMS/data/data/Enveda/DreaMS_Enveda_spec.mgf\"\n",
    "\n",
    "# save_as_mgf(spectra_from_path, output_mgf_path)"
   ]
  },
  {
   "cell_type": "code",
   "execution_count": 81,
   "id": "e9fcd12b-1bd1-46c7-a1c7-62314c724fc6",
   "metadata": {},
   "outputs": [],
   "source": [
    "loaded_spectra_from_path = list(load_from_mgf(\"/workspace/mol2DreaMS/data/data/Enveda/DreaMS_Enveda_spec.mgf\"))"
   ]
  },
  {
   "cell_type": "code",
   "execution_count": 83,
   "id": "4813937c-96af-4b0e-baf1-411d12a8c253",
   "metadata": {},
   "outputs": [
    {
     "data": {
      "text/plain": [
       "{'charge': 1,\n",
       " 'identifier': 'EnvedaID0000000',\n",
       " 'smiles': 'COc1cc2c(c(OC)c1OC)-c1c(cc(OC)c(OC)c1OC)CC(C)C(C)C2',\n",
       " 'adduct': '[M+H]+',\n",
       " 'precursor_mz': 417.230010986328,\n",
       " 'mol_id': '0',\n",
       " 'group_id': '0',\n",
       " 'inst_type': 'Orbitrap',\n",
       " 'ace': '60.0',\n",
       " 'dreams_embedding': '[0.8425571322441101, 0.0918535366654396, -1.1419888734817505, 0.6671642661094666, -0.0880361944437027, 0.6634528040885925, -0.6003973484039307, -0.2649351954460144, 0.36253616213798523, 0.2710038423538208, -0.8484073877334595, -1.0968399047851562, 0.027199842035770416, 0.9952453374862671, 0.693976879119873, -0.11301381140947342, 0.2924557328224182, 0.39215439558029175, -1.6976791620254517, 0.5363748669624329, 1.437273621559143, -0.21050402522087097, 0.3839256763458252, -0.8289666771888733, -0.9512644410133362, -0.529186487197876, -0.47029027342796326, -0.1632167398929596, -0.4269216060638428, -0.6551788449287415, 1.039275884628296, 0.6268438696861267, 1.215273141860962, 0.0648469477891922, 1.4068809747695923, 0.35655584931373596, 0.2451997846364975, 1.3068585395812988, -0.6142439246177673, 0.4002814292907715, 0.4536372125148773, -2.0610244274139404, 0.012145983055233955, 1.858072280883789, 0.7387872338294983, 1.1426316499710083, -0.5946118235588074, -0.24681878089904785, 0.18433256447315216, 0.20975755155086517, -1.0623279809951782, 1.0749231576919556, -0.06875187903642654, 1.6235580444335938, -0.5587511658668518, 0.4693080484867096, 0.6527215242385864, 0.6806079745292664, -0.42117857933044434, 0.40827396512031555, 1.6058528423309326, -0.8814092874526978, 0.8371913433074951, -1.1273977756500244, -0.7642764449119568, 0.40196794271469116, -1.8775876760482788, -0.8602967262268066, 1.8260226249694824, 0.7427188158035278, -0.45912110805511475, -0.8989698886871338, 0.5696096420288086, 1.7877840995788574, 0.18766313791275024, 0.9186036586761475, 0.7191129326820374, 0.4105371832847595, -0.07335411012172699, 0.8200699090957642, -0.6853463053703308, 0.626397967338562, -1.6195944547653198, 0.2328530251979828, 0.6508552432060242, 0.13346844911575317, -0.29889824986457825, 0.06330610066652298, -0.11609596759080887, -0.7704647183418274, -0.8353484272956848, -2.294499158859253, 0.00345764122903347, 0.6275492906570435, -1.025848150253296, 1.248056173324585, -0.2804209589958191, -0.14710883796215057, -0.620201826095581, -0.7659159898757935, 0.36766645312309265, 0.24721454083919525, -0.5988162755966187, -0.10981391370296478, -0.3345091938972473, 0.9232763648033142, -0.7696747183799744, 1.1358915567398071, 1.0784368515014648, -1.8441340923309326, 0.16490083932876587, -1.1122791767120361, 0.19697144627571106, -0.08819272369146347, 0.22961662709712982, 0.07868201285600662, -0.34200796484947205, 0.06444971263408661, -0.6980780959129333, -1.7448608875274658, -0.6810991168022156, 0.17677059769630432, 0.782782793045044, 0.8709489703178406, -1.1440722942352295, 0.680168628692627, -1.3217837810516357, 0.22368277609348297, 1.2701793909072876, -0.6939693689346313, -0.33765825629234314, -0.27236658334732056, 0.37479981780052185, 2.1694629192352295, -0.7524397373199463, 1.3896653652191162, -0.7854070663452148, 0.6963719725608826, -0.8221400380134583, -0.46105125546455383, 0.16389037668704987, -0.9236756563186646, 0.5216226577758789, 0.39463600516319275, 0.06475752592086792, -0.021206799894571304, 0.9329720139503479, -0.5889258980751038, 1.6399520635604858, -0.5306816101074219, -0.15931877493858337, -0.591874361038208, 1.3907225131988525, 0.9058641791343689, -0.35019126534461975, -0.3797835111618042, 1.4227018356323242, -0.8705884218215942, 0.10619586706161499, -0.48760151863098145, -0.14576786756515503, -2.425884485244751, -0.4856293499469757, -0.5456641912460327, -0.4654856324195862, -1.4095836877822876, 0.7646433711051941, 0.14838732779026031, -0.01577337272465229, 1.1305714845657349, 0.09433791041374207, -1.42617928981781, -0.9138532280921936, -1.2461026906967163, -0.23311260342597961, -1.1235142946243286, 1.3061888217926025, -0.9671155214309692, 3.3339269161224365, 0.17290909588336945, 0.08844294399023056, -0.3460697531700134, -0.8115645051002502, 0.8086656928062439, -2.7586276531219482, -0.96368008852005, -1.0312390327453613, 0.2727788984775543, -0.3656046390533447, 1.6152664422988892, -0.13892270624637604, -2.3916358947753906, -0.4983453154563904, -0.5417206883430481, 0.23580683767795563, -0.551160991191864, -1.7261297702789307, -1.2179120779037476, -0.14417611062526703, -0.4983726143836975, 1.1595783233642578, -0.8960249423980713, -0.9368650317192078, 0.5728445053100586, 0.8915276527404785, -0.21098145842552185, -0.36047089099884033, 1.25507390499115, 0.1200716644525528, -0.7016616463661194, -0.5394543409347534, 1.0096968412399292, 0.29253166913986206, -0.8378833532333374, 0.26686492562294006, -0.8039394617080688, 0.07179032266139984, -1.537165641784668, -2.661536931991577, 0.906113862991333, 0.29517698287963867, 1.0229766368865967, -0.2846006453037262, -1.1957210302352905, -0.1292228102684021, -1.435781478881836, -0.3701382875442505, -0.24194125831127167, -0.9930912852287292, 1.5890476703643799, -0.17638015747070312, 1.4149181842803955, 0.6448851823806763, -0.9342379570007324, 1.6953692436218262, -0.586980938911438, -0.12787894904613495, -0.2747722268104553, -0.11696986854076385, -1.1551607847213745, -1.0185102224349976, -0.4518788158893585, 0.6689621210098267, -1.1361639499664307, -0.5196740627288818, -0.34741276502609253, 1.6693649291992188, 0.6319247484207153, 0.20824600756168365, -1.4600200653076172, 1.1315202713012695, -0.3264133632183075, 0.36874207854270935, -0.7558271288871765, -0.6265223026275635, -0.8041867613792419, 1.5676026344299316, 0.11663380265235901, -0.30011308193206787, -1.0696779489517212, 0.30231401324272156, -1.1638331413269043, -0.4553406834602356, -0.5587287545204163, 1.229508399963379, 1.3085957765579224, -0.41203004121780396, 0.7405309677124023, 0.7111210227012634, 0.6152437925338745, 1.530903935432434, -2.1637377738952637, -1.4265812635421753, 0.9490336179733276, -0.5493103861808777, -0.5076468586921692, 0.8819053769111633, 0.34544333815574646, -0.06419780850410461, 0.07569308578968048, -1.4344587326049805, -2.9006385803222656, 0.7062503695487976, 1.3389363288879395, -0.6209330558776855, -0.7081939578056335, 0.3778684735298157, -0.5631421804428101, 0.19896751642227173, 0.772936999797821, 0.7679399847984314, -0.05270283669233322, -0.96437007188797, 0.06853257119655609, 0.3708876371383667, -1.1371852159500122, 0.6249563694000244, -0.43869835138320923, 0.7371876835823059, 0.16615217924118042, -0.8405396342277527, 1.3784347772598267, 0.19478249549865723, -0.3514784276485443, -0.5856468677520752, -0.05318761616945267, -0.9437413215637207, -1.1458715200424194, -0.7247073650360107, -0.2096356600522995, 0.7878990173339844, -0.5455628633499146, 1.48972487449646, -0.9187875390052795, -0.5461750030517578, 0.2343864142894745, -1.308799147605896, 0.6423875093460083, 0.1613720953464508, -0.32375994324684143, 1.4124397039413452, 0.36379295587539673, -0.22248147428035736, -0.45879656076431274, 0.21543702483177185, -1.7704501152038574, 1.1146602630615234, 2.173745632171631, 0.11406431347131729, 0.44588106870651245, 1.348136305809021, 0.6145380139350891, -1.412427544593811, 0.817520022392273, 1.0871022939682007, 0.28207454085350037, 0.16578254103660583, 0.013891326263546944, 0.33495640754699707, 0.01723073050379753, 0.44913992285728455, 0.48564761877059937, -0.0014393776655197144, -0.19780005514621735, -0.8591554760932922, -1.8735610246658325, 0.7991641759872437, 0.6586461067199707, -0.4944451153278351, -0.4183211028575897, 0.3696504831314087, 0.6625139117240906, 0.7373679876327515, -0.6815365552902222, -1.0637078285217285, 1.1655353307724, 0.515740692615509, -0.13469673693180084, -0.16481605172157288, 0.2951958477497101, -2.5833182334899902, -0.4643780291080475, -1.7567837238311768, 0.09967372566461563, -1.73227059841156, -0.9770477414131165, 0.8659321665763855, 1.0397871732711792, 1.2394870519638062, -1.0498332977294922, 1.4910818338394165, -0.66957688331604, -0.8601812720298767, 0.1349359005689621, -0.5515817403793335, 0.22871063649654388, 1.7307202816009521, -0.4835622310638428, 1.3279306888580322, -0.24923163652420044, -1.1768627166748047, 2.0154221057891846, -0.7573091387748718, -0.41305750608444214, 0.39743345975875854, 0.49222519993782043, 1.0720511674880981, -0.35218486189842224, 0.009124765172600746, 0.6183695197105408, -0.7887447476387024, 0.28204819560050964, -0.2571989595890045, 0.24937660992145538, 1.0749040842056274, -2.05244517326355, 0.8554503321647644, -0.06965367496013641, 1.1979598999023438, -1.058135747909546, -0.5391326546669006, 2.012357234954834, -0.31981876492500305, 0.8331215381622314, 0.8515297770500183, -1.744576334953308, 0.7501786947250366, 0.40897151827812195, 0.6911229491233826, 0.8789691925048828, 0.34658002853393555, 1.1266286373138428, -1.1793303489685059, 0.46582645177841187, -0.601076066493988, 1.4138636589050293, 0.219054713845253, 0.2409101128578186, -0.6682077050209045, -1.1245691776275635, -0.28282392024993896, 0.8983529210090637, 0.23914045095443726, 0.19991451501846313, 0.7184043526649475, 0.9277297854423523, -0.1463271677494049, -1.5855538845062256, 0.8610548973083496, 0.8851249814033508, 0.05353266000747681, 0.38567742705345154, 0.2927381694316864, -0.13109338283538818, 0.8130955100059509, -0.8058741092681885, -0.009266054257750511, -0.5594213008880615, 0.6622602343559265, -0.061412617564201355, 0.49106109142303467, 0.5100975036621094, 1.1790951490402222, -0.16302809119224548, -0.32651370763778687, 0.47131797671318054, -0.3918185234069824, 0.1483505666255951, 1.0878512859344482, 0.2302367091178894, -1.2341563701629639, 0.09858421981334686, 1.2209043502807617, -0.6455433368682861, 1.9596703052520752, -0.3549436330795288, 0.4575982987880707, -0.09365584701299667, 0.7753899693489075, -0.5448070764541626, 0.3126605451107025, -0.36316952109336853, -0.47671017050743103, -0.658576488494873, 0.1472097933292389, -1.5715916156768799, -2.395766019821167, 0.36682796478271484, 0.5552011132240295, -1.0201292037963867, -1.090954065322876, -1.4353760480880737, 0.4140029847621918, 0.5661706328392029, 0.952119767665863, -0.2876070737838745, 0.5991086959838867, -0.7259792685508728, -0.28848087787628174, 0.020477790385484695, 1.0919934511184692, -0.9269102215766907, 0.8446306586265564, 0.18039470911026, -0.1306203007698059, 0.462502121925354, -0.3852488398551941, 0.4518999755382538, -1.3436516523361206, 0.51497483253479, 0.8281930685043335, 1.3220386505126953, -1.9413117170333862, -0.5129785537719727, 0.21116876602172852, 0.7988157272338867, -0.1616629809141159, -1.3041260242462158, 1.9272247552871704, -1.6629934310913086, 0.9610424041748047, 0.3236526846885681, -1.0971570014953613, 0.28514546155929565, 0.29251378774642944, 0.46776771545410156, 0.2791253328323364, 0.894230842590332, -0.8432565331459045, -0.28481847047805786, 2.2465834617614746, 0.34429454803466797, 0.03663955628871918, -0.13449642062187195, -2.4517643451690674, 1.601065993309021, -0.5741422772407532, -0.8540166616439819, 0.6931105256080627, -0.8667569160461426, -0.7765142917633057, -0.323439359664917, 0.37163516879081726, -0.5179256200790405, 0.16243067383766174, -0.7531476616859436, 0.12402553856372833, 0.17596697807312012, 0.2872988283634186, 1.1877501010894775, -1.6250371932983398, -1.9094244241714478, 0.4305880069732666, -0.24722866714000702, -0.4065850079059601, 0.5112037658691406, 0.4694775342941284, -0.35055801272392273, 2.282046318054199, -0.14359961450099945, -1.531591534614563, 0.7193803787231445, -0.043929323554039, 0.4918207824230194, -0.1475982964038849, -1.2994462251663208, 0.5743830800056458, 0.771694540977478, 0.46729913353919983, -0.568455696105957, -0.8745589256286621, 1.3326215744018555, 0.9204622507095337, -0.2315690517425537, 0.8001703023910522, 0.6779314279556274, 0.05630128085613251, 1.239425539970398, -0.7394796013832092, -0.14705419540405273, 0.2549722194671631, -2.3148365020751953, -2.2352311611175537, 0.2106432169675827, -0.50517737865448, 1.546451210975647, 2.1609280109405518, 0.7165067791938782, -0.1316838264465332, 0.5446817874908447, 0.27461522817611694, -0.47478753328323364, -2.0558667182922363, -1.8366954326629639, 0.5649522542953491, -0.9247081875801086, 0.022362172603607178, -1.435821771621704, -0.8272202610969543, 1.2073140144348145, -0.7427921891212463, 0.5885945558547974, 1.1568483114242554, -1.4148484468460083, -0.39493000507354736, -0.12208198010921478, -0.9849221110343933, 1.3400036096572876, -0.127100870013237, -0.17337027192115784, -1.1989331245422363, -0.922718346118927, -0.9919072985649109, -0.0514865517616272, -1.7998048067092896, 0.5375459790229797, 0.10107508301734924, 1.3837887048721313, -0.5756480693817139, 0.8746284246444702, -0.5108317732810974, 0.6527583003044128, -0.04748609662055969, 0.3245721161365509, 0.6667766571044922, 0.7808958888053894, -0.9256953597068787, -1.3934307098388672, 0.948548436164856, -1.2116343975067139, 1.071717619895935, -0.8926040530204773, -0.22957105934619904, -0.03710419684648514, -0.20684237778186798, -0.5425131320953369, 0.9354550242424011, -0.011387011967599392, 0.025340082123875618, 1.0098707675933838, -0.4039929211139679, -0.09460136294364929, -0.00332039687782526, 0.9564246535301208, -0.4753042459487915, -0.35639405250549316, -0.9290691614151001, -1.0446937084197998, -0.3373434245586395, 0.4388968050479889, -0.39700281620025635, -0.7075526118278503, 0.9414303302764893, -2.140880823135376, 0.3537992835044861, 0.7731305956840515, -0.05759473145008087, -1.549294114112854, 0.2678452730178833, -0.5868657827377319, 0.998218297958374, -0.8466923832893372, 0.2442522644996643, 0.8949443697929382, -0.7510735988616943, -0.5549235939979553, -0.49512195587158203, -0.025533083826303482, 0.23152168095111847, 0.8473701477050781, -0.13590165972709656, 0.549075186252594, -0.29451408982276917, 0.11489253491163254, -1.0195435285568237, -2.254246711730957, -0.9221454858779907, 0.6092411875724792, -1.2688180208206177, 1.6710562705993652, -0.3474198877811432, 0.6403120160102844, -0.5657303333282471, -1.1337519884109497, -0.9944669604301453, 0.5055615901947021, -0.9121468663215637, 1.1033459901809692, -0.6105656623840332, 0.8358517289161682, -0.5300220251083374, 1.2276222705841064, -0.7785203456878662, -0.08054537326097488, 0.5733532905578613, -0.5870331525802612, -0.018089979887008667, -0.15004055202007294, 1.66835618019104, -0.49068430066108704, -0.3529719114303589, 0.3504906892776489, 0.4736107885837555, 0.5721290111541748, 0.043950509279966354, -1.529668927192688, 0.24448749423027039, 0.7345983386039734, 1.373072624206543, -0.2768799662590027, -1.663979411125183, -1.9801312685012817, 0.9801769256591797, 1.6668487787246704, -0.17800267040729523, -0.9295042157173157, -0.6545568704605103, 0.679214358329773, -0.03196508437395096, 1.4796110391616821, -0.27387765049934387, -1.5490368604660034, 0.0444628968834877, 1.1000747680664062, 0.02481415681540966, -0.3079863488674164, -1.373872995376587, 0.4564410150051117, -0.042101211845874786, -1.4899474382400513, -0.020211271941661835, -0.3563230633735657, 0.30349409580230713, -0.855968713760376, -0.3792334496974945, -0.6587792634963989, -0.3981492221355438, 0.7023952603340149, -0.786935567855835, 0.40218421816825867, 0.34569647908210754, -0.74260014295578, 0.8736402988433838, -0.04759392887353897, 0.37083810567855835, 0.5956708192825317, 0.6130138635635376, -0.3864705562591553, -0.6575455069541931, 0.41727253794670105, -0.1911655217409134, -0.6579825282096863, 0.3701414465904236, -0.44576898217201233, 0.6394439935684204, 0.16785597801208496, -0.6764428615570068, -0.7072100639343262, 1.1489273309707642, 1.0401002168655396, 1.1243526935577393, 1.3227843046188354, 0.5733722448348999, 1.3748154640197754, 0.19580130279064178, 1.1424592733383179, -0.4950966238975525, 0.5279067158699036, -1.6186332702636719, 0.13620267808437347, -0.28428560495376587, 0.08102114498615265, -0.7340553998947144, -0.41030558943748474, 0.2762807011604309, 0.1497211754322052, -0.9838178753852844, -0.41761085391044617, 0.43955913186073303, -1.4956581592559814, 0.512742817401886, 0.2929748594760895, -0.6650533080101013, 0.08321334421634674, 1.295406699180603, -1.199729561805725, 0.16471591591835022, 0.6680693030357361, 0.3520410358905792, -0.4886168837547302, -1.0314449071884155, 0.8964617848396301, 1.4182325601577759, -1.1521880626678467, 2.030317544937134, -0.39134570956230164, 1.9405992031097412, 0.1450127363204956, -2.0613880157470703, 1.1993253231048584, -1.341471791267395, -0.872707724571228, 0.40386074781417847, -0.622511625289917, 0.001746535301208496, 0.38046133518218994, 0.3811470568180084, -1.1322104930877686, 0.5779525637626648, -0.00971206370741129, -1.4244099855422974, -0.25592076778411865, 0.5561032295227051, 0.6868991851806641, -1.0152790546417236, 0.39314955472946167, -0.7423791885375977, -0.7421216368675232, -0.6627875566482544, 0.6420726776123047, -0.49565577507019043, -0.43531620502471924, -0.9109678864479065, -0.08339361846446991, -0.26436740159988403, 0.2524544298648834, 0.6978089809417725, -1.067984700202942, -1.0484931468963623, -0.6519862413406372, -0.4559739828109741, 0.8650755286216736, -0.6175207495689392, -0.497875452041626, 0.7220762968063354, -0.42234745621681213, 1.0704678297042847, -0.7597945928573608, 0.3766383230686188, -1.3630084991455078, 1.3742233514785767, 1.093684434890747, 0.9111097455024719, 1.5212643146514893, -0.3492172062397003, -0.7704761624336243, 0.36286017298698425, 0.6862396597862244, 0.7944929003715515, 2.1087629795074463, 0.210229754447937, 1.8129980564117432, 1.3107759952545166, 0.011096645146608353, -0.4119146466255188, 1.8281627893447876, -0.02372932806611061, 1.9171375036239624, 0.09493105113506317, 0.28191617131233215, -0.35564178228378296, -0.421642005443573, 1.3768885135650635, -0.28199490904808044, -1.0719549655914307, -0.16876861453056335, -1.2301287651062012, -0.14743946492671967, -0.689024031162262, -0.9285193085670471, 0.748530387878418, -0.8750021457672119, 0.9056112766265869, -0.4130108654499054, 0.8830399513244629, -0.3906581699848175, 0.08501213043928146, -0.11578376591205597, 0.6030886769294739, 0.9381668567657471, 0.43967846035957336, -0.6482231616973877, -0.8083133697509766, -0.5923483967781067, 0.3909011781215668, 0.9861714839935303, -0.45258593559265137, 0.6694793701171875, 0.03274664282798767, -0.080118328332901, -0.5479993224143982, -0.08857760578393936, -0.7574942111968994, 0.30104494094848633, 0.4970785081386566, 0.052320532500743866, 1.3292962312698364, -0.6525137424468994, 1.3678019046783447, 0.13493768870830536, 1.5375481843948364, -1.6469744443893433, -0.6704668998718262, 0.6243095993995667, -0.22797201573848724, -0.11791827529668808, 0.16758519411087036, 0.13955146074295044, -1.2365500926971436, -1.2517869472503662, 0.8305659294128418, 0.7822654843330383, -2.1424357891082764, -1.1865514516830444, 0.9427807331085205, -0.4288758635520935, -0.10336432605981827, -0.7818549275398254, -0.7903960347175598, -0.9061429500579834, -0.9792213439941406, -0.28419455885887146, 0.5464658737182617, -0.7207418084144592, -0.4626319706439972, -0.6818472146987915, -0.5094828009605408, -0.43932512402534485, -0.32058149576187134, -1.1071213483810425, 0.7517204284667969, 1.4362574815750122, 1.610949158668518, 0.04124295711517334, 0.8068623542785645, 0.015326013788580894, 1.8669947385787964, 1.4517191648483276, -0.7062087655067444, 0.7682139873504639, -0.04124554619193077, -1.4985207319259644, 1.1610138416290283, -0.7973657250404358, -1.5372334718704224, 1.4667130708694458, -1.5568342208862305, 1.7675329446792603, -0.8784973621368408, -0.7711507678031921, -0.5132770538330078, -0.5524122714996338, -0.7914877533912659, -0.5198434591293335, -1.0066256523132324, -0.6183299422264099, -0.3854135274887085, 0.6769801378250122, 1.024135708808899, -1.1735937595367432, 0.09499271959066391, 0.026845578104257584, 2.122953414916992, 0.21262189745903015, -0.7944579720497131, 0.77295982837677, 0.6083573698997498, 0.24272549152374268, 0.5046661496162415, -0.6971724033355713, -2.3496644496917725, -0.6415930986404419, -0.5604098439216614, -1.0640060901641846, 0.44768667221069336, 0.6854305267333984, 0.5991746187210083, -1.4092854261398315, 1.4883900880813599, 0.9263903498649597, -0.28218990564346313, 0.1718827188014984, 0.633481502532959, 0.07028770446777344, -0.5677275061607361, 1.7940152883529663, -1.2172784805297852, -1.1780604124069214, -0.5937491059303284, -0.7291707992553711, 0.19617514312267303, -0.21112531423568726, 0.6204426288604736, -0.1859852820634842, -1.2257102727890015, -0.41349557042121887, -0.9424988031387329, 0.5321101546287537, -0.30174970626831055, -1.0890376567840576, 0.11795956641435623, 0.6079022884368896, 0.48603498935699463, -0.7171565294265747, -0.06385041028261185, -0.6652502417564392, -1.0204581022262573, -0.7176096439361572, 0.15725846588611603, -0.7537969946861267, 0.7086960077285767, 1.8726719617843628, 0.042649172246456146, -1.4412028789520264, 0.06585536897182465, 0.903388261795044, -0.02888258546590805, -0.41587555408477783, -0.2621625065803528, -0.10612046718597412, 0.44753792881965637, 0.08265962451696396, -1.0148091316223145, 1.0704795122146606, 0.38346269726753235, -0.15295876562595367, 0.030661221593618393, 0.14602454006671906, -0.7867074012756348, 0.025488173589110374, -1.3391534090042114, 0.31995508074760437, 2.564384937286377, -0.12664441764354706, 1.106884479522705, 1.6686068773269653, -0.9823406934738159, 0.45068857073783875, 0.21742026507854462, 0.6092784404754639, 0.5823290348052979, 0.7454227805137634, 0.48096612095832825, 0.42105716466903687]'}"
      ]
     },
     "execution_count": 83,
     "metadata": {},
     "output_type": "execute_result"
    }
   ],
   "source": [
    "loaded_spectra_from_path[0].metadata"
   ]
  },
  {
   "cell_type": "code",
   "execution_count": null,
   "id": "13779f1f-3873-442b-afcc-b53334ed290a",
   "metadata": {},
   "outputs": [],
   "source": []
  }
 ],
 "metadata": {
  "kernelspec": {
   "display_name": "Python (mol2DreaMS)",
   "language": "python",
   "name": "mol2dreams"
  },
  "language_info": {
   "codemirror_mode": {
    "name": "ipython",
    "version": 3
   },
   "file_extension": ".py",
   "mimetype": "text/x-python",
   "name": "python",
   "nbconvert_exporter": "python",
   "pygments_lexer": "ipython3",
   "version": "3.11.10"
  }
 },
 "nbformat": 4,
 "nbformat_minor": 5
}
