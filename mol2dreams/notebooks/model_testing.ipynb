{
 "cells": [
  {
   "cell_type": "code",
   "id": "initial_id",
   "metadata": {
    "collapsed": true,
    "ExecuteTime": {
     "end_time": "2024-10-08T12:09:54.811502Z",
     "start_time": "2024-10-08T12:09:54.808853Z"
    }
   },
   "source": [
    "import torch\n",
    "from mol2dreams.utils.parser import build_model_from_config"
   ],
   "outputs": [],
   "execution_count": 3
  },
  {
   "metadata": {
    "ExecuteTime": {
     "end_time": "2024-10-08T12:09:54.829626Z",
     "start_time": "2024-10-08T12:09:54.823466Z"
    }
   },
   "cell_type": "code",
   "source": [
    "load_path = \"../../data/data/precomputed_batches_small.pt\"\n",
    "\n",
    "loaded_batches = torch.load(load_path)\n",
    "\n",
    "print(f\"Loaded {len(loaded_batches)} batches from {load_path}.\")"
   ],
   "id": "ed6874224734fb48",
   "outputs": [
    {
     "name": "stdout",
     "output_type": "stream",
     "text": [
      "Loaded 3 batches from ../../data/data/precomputed_batches_small.pt.\n"
     ]
    }
   ],
   "execution_count": 4
  },
  {
   "metadata": {
    "ExecuteTime": {
     "end_time": "2024-10-08T12:09:54.900491Z",
     "start_time": "2024-10-08T12:09:54.898292Z"
    }
   },
   "cell_type": "code",
   "source": [
    "for batch in loaded_batches:\n",
    "    print(batch) "
   ],
   "id": "961ef0c72460df34",
   "outputs": [
    {
     "name": "stdout",
     "output_type": "stream",
     "text": [
      "DataBatch(x=[1427, 84], edge_index=[2, 2968], edge_attr=[2968, 7], y=[32, 1024], IDENTIFIER=[32], COLLISION_ENERGY=[32, 1], adduct=[32], precursor_mz=[32, 1], batch=[1427], ptr=[33])\n",
      "DataBatch(x=[1405, 84], edge_index=[2, 2988], edge_attr=[2988, 7], y=[32, 1024], IDENTIFIER=[32], COLLISION_ENERGY=[32, 1], adduct=[32], precursor_mz=[32, 1], batch=[1405], ptr=[33])\n",
      "DataBatch(x=[1391, 84], edge_index=[2, 2990], edge_attr=[2990, 7], y=[32, 1024], IDENTIFIER=[32], COLLISION_ENERGY=[32, 1], adduct=[32], precursor_mz=[32, 1], batch=[1391], ptr=[33])\n"
     ]
    }
   ],
   "execution_count": 5
  },
  {
   "metadata": {
    "ExecuteTime": {
     "end_time": "2024-10-08T12:09:54.981216Z",
     "start_time": "2024-10-08T12:09:54.977474Z"
    }
   },
   "cell_type": "code",
   "source": "batch.x[0][0].dtype, batch.edge_index[0][0].dtype, batch.edge_attr[0][0].dtype, batch.y[0][0].dtype",
   "id": "3989891a0112f73b",
   "outputs": [
    {
     "data": {
      "text/plain": [
       "(torch.float32, torch.int64, torch.float32, torch.float32)"
      ]
     },
     "execution_count": 6,
     "metadata": {},
     "output_type": "execute_result"
    }
   ],
   "execution_count": 6
  },
  {
   "metadata": {},
   "cell_type": "markdown",
   "source": "# Build network ",
   "id": "31398a056e23e7f8"
  },
  {
   "metadata": {
    "ExecuteTime": {
     "end_time": "2024-10-08T12:09:55.034856Z",
     "start_time": "2024-10-08T12:09:55.032496Z"
    }
   },
   "cell_type": "code",
   "source": [
    "config = {\n",
    "    'input_layer': {\n",
    "        'type': 'CONV_GNN',\n",
    "        'params': {\n",
    "            'node_features': 84,\n",
    "            'embedding_size_reduced': 128\n",
    "        }\n",
    "    },\n",
    "    'body_layer': {\n",
    "        'type': 'SKIPBLOCK_BODY',\n",
    "        'params': {\n",
    "            'embedding_size_gnn': 128,\n",
    "            'embedding_size': 256,\n",
    "            'num_skipblocks': 7,\n",
    "            'pooling_fn': 'mean'\n",
    "        }\n",
    "    },\n",
    "    'head_layer': {\n",
    "        'type': 'BidirectionalHeadLayer',\n",
    "        'params': {\n",
    "            'input_size': 256,\n",
    "            'output_size': 1024\n",
    "        }\n",
    "    }\n",
    "}\n"
   ],
   "id": "d2b6790ae5d0b6d9",
   "outputs": [],
   "execution_count": 7
  },
  {
   "metadata": {
    "ExecuteTime": {
     "end_time": "2024-10-08T12:09:55.088871Z",
     "start_time": "2024-10-08T12:09:55.050450Z"
    }
   },
   "cell_type": "code",
   "source": [
    "device = torch.device('cuda' if torch.cuda.is_available() else 'cpu')\n",
    "model = build_model_from_config(config)\n",
    "model.to(device)"
   ],
   "id": "a409e46572bd5680",
   "outputs": [
    {
     "name": "stderr",
     "output_type": "stream",
     "text": [
      "/Users/macbook/UTILS/anaconda3/envs/mol2dreams/lib/python3.11/site-packages/torch/nn/utils/weight_norm.py:28: UserWarning: torch.nn.utils.weight_norm is deprecated in favor of torch.nn.utils.parametrizations.weight_norm.\n",
      "  warnings.warn(\"torch.nn.utils.weight_norm is deprecated in favor of torch.nn.utils.parametrizations.weight_norm.\")\n"
     ]
    },
    {
     "data": {
      "text/plain": [
       "Mol2DreaMS(\n",
       "  (input_layer): CONV_GNN(\n",
       "    (initial_conv): GCNConv(84, 128)\n",
       "    (reluinit): ReLU()\n",
       "    (conv1): GCNConv(128, 128)\n",
       "    (reluconv1): ReLU()\n",
       "    (conv2): GCNConv(128, 128)\n",
       "    (reluconv2): ReLU()\n",
       "    (conv3): GCNConv(128, 128)\n",
       "    (reluconv3): ReLU()\n",
       "    (conv4): GCNConv(128, 128)\n",
       "    (reluconv4): ReLU()\n",
       "  )\n",
       "  (body_layer): SKIPBLOCK_BODY(\n",
       "    (bottleneck): Linear(in_features=128, out_features=256, bias=True)\n",
       "    (skipblocks): ModuleList(\n",
       "      (0-6): 7 x SKIPblock(\n",
       "        (batchNorm1): BatchNorm1d(256, eps=1e-05, momentum=0.1, affine=True, track_running_stats=True)\n",
       "        (relu1): ReLU()\n",
       "        (dropout1): Dropout(p=0.2, inplace=False)\n",
       "        (hidden1): Linear(in_features=256, out_features=128, bias=True)\n",
       "        (batchNorm2): BatchNorm1d(128, eps=1e-05, momentum=0.1, affine=True, track_running_stats=True)\n",
       "        (relu2): ReLU()\n",
       "        (dropout2): Dropout(p=0.2, inplace=False)\n",
       "        (hidden2): Linear(in_features=128, out_features=256, bias=True)\n",
       "      )\n",
       "    )\n",
       "    (relu_out_resnet): ReLU()\n",
       "  )\n",
       "  (head_layer): BidirectionalHeadLayer(\n",
       "    (forward_prediction): Linear(in_features=256, out_features=1024, bias=True)\n",
       "    (backward_prediction): Linear(in_features=256, out_features=1024, bias=True)\n",
       "    (gate): Linear(in_features=256, out_features=1024, bias=True)\n",
       "    (relu_out): ReLU()\n",
       "  )\n",
       ")"
      ]
     },
     "execution_count": 9,
     "metadata": {},
     "output_type": "execute_result"
    }
   ],
   "execution_count": 9
  },
  {
   "metadata": {
    "ExecuteTime": {
     "end_time": "2024-10-08T12:10:12.642612Z",
     "start_time": "2024-10-08T12:10:12.639843Z"
    }
   },
   "cell_type": "code",
   "source": "model.count_parameters()",
   "id": "b07e274dad080502",
   "outputs": [
    {
     "data": {
      "text/plain": [
       "1368960"
      ]
     },
     "execution_count": 13,
     "metadata": {},
     "output_type": "execute_result"
    }
   ],
   "execution_count": 13
  },
  {
   "metadata": {
    "ExecuteTime": {
     "end_time": "2024-10-08T12:09:55.162768Z",
     "start_time": "2024-10-08T12:09:55.117681Z"
    }
   },
   "cell_type": "code",
   "source": [
    "for batch in loaded_batches:\n",
    "    # Ensure batch data types are correct\n",
    "    batch.x = batch.x.float()\n",
    "    batch.edge_index = batch.edge_index.long()\n",
    "    batch.edge_attr = batch.edge_attr.float()\n",
    "    batch.y = batch.y.float()\n",
    "\n",
    "    # Move batch to the same device as the model\n",
    "    batch = batch.to(device)\n",
    "\n",
    "    # Forward pass\n",
    "    output = model(batch)\n",
    "\n",
    "    # Print output shape\n",
    "    print(f\"Output shape: {output.shape}\")"
   ],
   "id": "24952f209bc300a7",
   "outputs": [
    {
     "name": "stdout",
     "output_type": "stream",
     "text": [
      "Output shape: torch.Size([32, 1024])\n",
      "Output shape: torch.Size([32, 1024])\n",
      "Output shape: torch.Size([32, 1024])\n"
     ]
    }
   ],
   "execution_count": 12
  },
  {
   "metadata": {
    "ExecuteTime": {
     "end_time": "2024-10-08T12:09:55.171085Z",
     "start_time": "2024-10-08T12:09:55.169500Z"
    }
   },
   "cell_type": "code",
   "source": "",
   "id": "3964a6681702f09f",
   "outputs": [],
   "execution_count": null
  },
  {
   "metadata": {
    "ExecuteTime": {
     "end_time": "2024-10-08T12:09:55.178512Z",
     "start_time": "2024-10-08T12:09:55.177278Z"
    }
   },
   "cell_type": "code",
   "source": "",
   "id": "6d44c3f60972eeb2",
   "outputs": [],
   "execution_count": null
  }
 ],
 "metadata": {
  "kernelspec": {
   "display_name": "Python 3",
   "language": "python",
   "name": "python3"
  },
  "language_info": {
   "codemirror_mode": {
    "name": "ipython",
    "version": 2
   },
   "file_extension": ".py",
   "mimetype": "text/x-python",
   "name": "python",
   "nbconvert_exporter": "python",
   "pygments_lexer": "ipython2",
   "version": "2.7.6"
  }
 },
 "nbformat": 4,
 "nbformat_minor": 5
}
