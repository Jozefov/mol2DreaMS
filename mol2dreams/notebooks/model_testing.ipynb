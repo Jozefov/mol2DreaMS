{
 "cells": [
  {
   "cell_type": "code",
   "id": "initial_id",
   "metadata": {
    "collapsed": true,
    "ExecuteTime": {
     "end_time": "2024-10-08T08:41:41.542277Z",
     "start_time": "2024-10-08T08:41:40.830330Z"
    }
   },
   "source": "import torch",
   "outputs": [],
   "execution_count": 2
  },
  {
   "metadata": {},
   "cell_type": "code",
   "outputs": [],
   "execution_count": null,
   "source": [
    "load_path = \"../../data/data/precomputed_batches_small.pt\"\n",
    "\n",
    "loaded_batches = torch.load(load_path)\n",
    "\n",
    "print(f\"Loaded {len(loaded_batches)} batches from {load_path}.\")"
   ],
   "id": "ed6874224734fb48"
  },
  {
   "metadata": {
    "ExecuteTime": {
     "end_time": "2024-10-08T08:42:25.255337Z",
     "start_time": "2024-10-08T08:42:25.252200Z"
    }
   },
   "cell_type": "code",
   "source": [
    "for batch in loaded_batches:\n",
    "    print(batch) "
   ],
   "id": "961ef0c72460df34",
   "outputs": [
    {
     "name": "stdout",
     "output_type": "stream",
     "text": [
      "DataBatch(x=[1427, 84], edge_index=[2, 2968], edge_attr=[2968, 7], y=[32, 1024], IDENTIFIER=[32], COLLISION_ENERGY=[32, 1], adduct=[32], precursor_mz=[32, 1], batch=[1427], ptr=[33])\n",
      "DataBatch(x=[1405, 84], edge_index=[2, 2988], edge_attr=[2988, 7], y=[32, 1024], IDENTIFIER=[32], COLLISION_ENERGY=[32, 1], adduct=[32], precursor_mz=[32, 1], batch=[1405], ptr=[33])\n",
      "DataBatch(x=[1391, 84], edge_index=[2, 2990], edge_attr=[2990, 7], y=[32, 1024], IDENTIFIER=[32], COLLISION_ENERGY=[32, 1], adduct=[32], precursor_mz=[32, 1], batch=[1391], ptr=[33])\n"
     ]
    }
   ],
   "execution_count": 6
  },
  {
   "metadata": {
    "ExecuteTime": {
     "end_time": "2024-10-08T09:56:51.922344Z",
     "start_time": "2024-10-08T09:56:51.847120Z"
    }
   },
   "cell_type": "code",
   "source": "type(batch.x[0][0][0])",
   "id": "a6517570935e9230",
   "outputs": [
    {
     "ename": "IndexError",
     "evalue": "invalid index of a 0-dim tensor. Use `tensor.item()` in Python or `tensor.item<T>()` in C++ to convert a 0-dim tensor to a number",
     "output_type": "error",
     "traceback": [
      "\u001B[0;31m---------------------------------------------------------------------------\u001B[0m",
      "\u001B[0;31mIndexError\u001B[0m                                Traceback (most recent call last)",
      "Cell \u001B[0;32mIn[12], line 1\u001B[0m\n\u001B[0;32m----> 1\u001B[0m \u001B[38;5;28mtype\u001B[39m(batch\u001B[38;5;241m.\u001B[39mx[\u001B[38;5;241m0\u001B[39m][\u001B[38;5;241m0\u001B[39m][\u001B[38;5;241m0\u001B[39m])\n",
      "\u001B[0;31mIndexError\u001B[0m: invalid index of a 0-dim tensor. Use `tensor.item()` in Python or `tensor.item<T>()` in C++ to convert a 0-dim tensor to a number"
     ]
    }
   ],
   "execution_count": 12
  },
  {
   "metadata": {
    "ExecuteTime": {
     "end_time": "2024-10-08T10:00:32.441104Z",
     "start_time": "2024-10-08T10:00:32.438276Z"
    }
   },
   "cell_type": "code",
   "source": "batch.x[0][0].dtype, batch.edge_index[0][0].dtype, batch.edge_attr[0][0].dtype, batch.y[0][0].dtype",
   "id": "3989891a0112f73b",
   "outputs": [
    {
     "data": {
      "text/plain": [
       "(torch.float32, torch.int64, torch.float32, torch.float32)"
      ]
     },
     "execution_count": 18,
     "metadata": {},
     "output_type": "execute_result"
    }
   ],
   "execution_count": 18
  },
  {
   "metadata": {},
   "cell_type": "code",
   "outputs": [],
   "execution_count": null,
   "source": "batch.x",
   "id": "acd23ec5f0b44cc4"
  },
  {
   "metadata": {},
   "cell_type": "code",
   "outputs": [],
   "execution_count": null,
   "source": "",
   "id": "d4d71b6e43d3d0a1"
  }
 ],
 "metadata": {
  "kernelspec": {
   "display_name": "Python 3",
   "language": "python",
   "name": "python3"
  },
  "language_info": {
   "codemirror_mode": {
    "name": "ipython",
    "version": 2
   },
   "file_extension": ".py",
   "mimetype": "text/x-python",
   "name": "python",
   "nbconvert_exporter": "python",
   "pygments_lexer": "ipython2",
   "version": "2.7.6"
  }
 },
 "nbformat": 4,
 "nbformat_minor": 5
}
