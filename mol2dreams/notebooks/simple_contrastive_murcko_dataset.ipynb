{
 "cells": [
  {
   "cell_type": "code",
   "id": "initial_id",
   "metadata": {
    "collapsed": true,
    "ExecuteTime": {
     "end_time": "2024-10-14T06:20:51.405301Z",
     "start_time": "2024-10-14T06:20:48.832349Z"
    }
   },
   "source": [
    "import pandas as pd\n",
    "from matchms.importing import load_from_mgf\n",
    "from rdkit import Chem\n",
    "\n",
    "from collections import defaultdict\n",
    "import pandas as pd\n",
    "from tqdm import tqdm\n",
    "import logging\n",
    "\n",
    "import torch\n",
    "from torch.utils.data import Dataset, DataLoader\n",
    "import random\n",
    "\n",
    "from dreams.algorithms.murcko_hist.murcko_hist import murcko_hist"
   ],
   "outputs": [],
   "execution_count": 3
  },
  {
   "metadata": {
    "ExecuteTime": {
     "end_time": "2024-10-14T06:25:32.922665Z",
     "start_time": "2024-10-14T06:25:32.914758Z"
    }
   },
   "cell_type": "code",
   "source": [
    "def load_mgf_with_folds(mgf_path):\n",
    "\n",
    "    spectra = list(load_from_mgf(mgf_path))\n",
    "    records = []\n",
    "    for spec in spectra:\n",
    "        record = spec.to_dict()\n",
    "        records.append(record)\n",
    "    df = pd.DataFrame(records)\n",
    "\n",
    "    if 'fold' not in df.columns:\n",
    "        raise ValueError(\"fold column is missing. Ensure the dataset has been split into train/val/test.\")\n",
    "    \n",
    "    return df\n",
    "\n",
    "def extract_training_set(df):\n",
    "\n",
    "    df_train = df[df['fold'] == 'train'].reset_index(drop=True)\n",
    "    print(f\"Training set size: {len(df_train)} spectra\")\n",
    "    return df_train\n",
    "\n",
    "def get_unique_smiles(df_train, smiles_col='smiles'):\n",
    "\n",
    "    df_us = df_train.drop_duplicates(subset=[smiles_col]).copy()\n",
    "    print(f\"Number of unique SMILES in training set: {df_us[smiles_col].nunique()}\")\n",
    "    return df_us\n",
    "\n",
    "def compute_murcko_histograms(df_us, smiles_col='smiles'):\n",
    "\n",
    "    print(\"Computing Murcko histograms...\")\n",
    "    tqdm.pandas()\n",
    "    df_us['murckohist'] = df_us[smiles_col].progress_apply(\n",
    "        lambda x: murcko_hist(Chem.MolFromSmiles(x)) if Chem.MolFromSmiles(x) else {}\n",
    "    )\n",
    "    \n",
    "    # Convert dictionaries to strings for easier handling\n",
    "    df_us['murckohiststr'] = df_us['murckohist'].astype(str)\n",
    "    \n",
    "    print('Number of unique SMILES:', df_us[smiles_col].nunique(), \n",
    "          'Number of unique Murcko histograms:', df_us['murckohiststr'].nunique())\n",
    "    \n",
    "    print('Top 20 most common Murcko histograms:')\n",
    "    print(df_us['murckohiststr'].value_counts().head(20))\n",
    "    \n",
    "    return df_us\n",
    "\n",
    "def group_by_murcko_histograms(df_us, smiles_col='smiles'):\n",
    "\n",
    "    df_gb = df_us.groupby('murckohiststr').agg(\n",
    "        count=(smiles_col, 'count'),\n",
    "        smiles_list=(smiles_col, list)\n",
    "    ).reset_index()\n",
    "\n",
    "    df_gb['murckohist'] = df_gb['murckohiststr'].apply(eval)\n",
    "\n",
    "    df_gb = df_gb.sort_values('count', ascending=False).reset_index(drop=True)\n",
    "    \n",
    "    print(f\"Grouped into {len(df_gb)} Murcko histogram groups.\")\n",
    "    print(df_gb.head())\n",
    "    \n",
    "    return df_gb\n",
    "\n",
    "def merge_murcko_hist(df_train, df_us_train, smiles_col='smiles'):\n",
    "\n",
    "    df_train = df_train.merge(df_us_train[['smiles', 'murckohiststr']], on='smiles', how='left')\n",
    "    # Handle any missing murckohiststr by assigning an empty dictionary string\n",
    "    df_train['murckohiststr'] = df_train['murckohiststr'].fillna('{}')\n",
    "    print(f\"After merge, 'murckohiststr' assigned to {df_train['murckohiststr'].notna().sum()} identifiers.\")\n",
    "    return df_train\n",
    "\n",
    "def create_mappings(df_train, hist_col='murckohiststr', identifier_col='identifier'):\n",
    "\n",
    "    hist_to_indices = defaultdict(list)\n",
    "    for idx, hist in enumerate(df_train[hist_col]):\n",
    "        hist_to_indices[hist].append(idx)\n",
    "    \n",
    "    index_to_hist = df_train[hist_col].to_dict()\n",
    "    \n",
    "    print(f\"Total unique Murcko histograms: {len(hist_to_indices)}\")\n",
    "    return hist_to_indices, index_to_hist"
   ],
   "id": "1c2534811b8f0b16",
   "outputs": [],
   "execution_count": 6
  },
  {
   "metadata": {
    "ExecuteTime": {
     "end_time": "2024-10-14T06:21:30.897795Z",
     "start_time": "2024-10-14T06:20:52.509504Z"
    }
   },
   "cell_type": "code",
   "source": [
    "spectra_path = \"../../data/data/MassSpecGym.mgf\"\n",
    "df = load_mgf_with_folds(spectra_path)\n",
    "print(df.head())"
   ],
   "id": "f78974f6b0d8ea75",
   "outputs": [
    {
     "name": "stdout",
     "output_type": "stream",
     "text": [
      "             identifier                                         smiles  \\\n",
      "0  MassSpecGymID0000001  CC(=O)N[C@@H](CC1=CC=CC=C1)C2=CC(=CC(=O)O2)OC   \n",
      "1  MassSpecGymID0000002  CC(=O)N[C@@H](CC1=CC=CC=C1)C2=CC(=CC(=O)O2)OC   \n",
      "2  MassSpecGymID0000003  CC(=O)N[C@@H](CC1=CC=CC=C1)C2=CC(=CC(=O)O2)OC   \n",
      "3  MassSpecGymID0000004  CC(=O)N[C@@H](CC1=CC=CC=C1)C2=CC(=CC(=O)O2)OC   \n",
      "4  MassSpecGymID0000005  CC(=O)N[C@@H](CC1=CC=CC=C1)C2=CC(=CC(=O)O2)OC   \n",
      "\n",
      "         inchikey    formula precursor_formula parent_mass  precursor_mz  \\\n",
      "0  VFMQMACUYWGDOJ  C16H17NO4         C16H18NO4  287.115224      288.1225   \n",
      "1  VFMQMACUYWGDOJ  C16H17NO4         C16H18NO4  287.115224      288.1225   \n",
      "2  VFMQMACUYWGDOJ  C16H17NO4         C16H18NO4  287.115224      288.1225   \n",
      "3  VFMQMACUYWGDOJ  C16H17NO4         C16H18NO4  287.115224      288.1225   \n",
      "4  VFMQMACUYWGDOJ  C16H17NO4         C16H18NO4  287.115224      288.1225   \n",
      "\n",
      "   adduct instrument_type collision_energy   fold simulation_challenge  \\\n",
      "0  [M+H]+        Orbitrap             30.0  train                 True   \n",
      "1  [M+H]+        Orbitrap             20.0  train                 True   \n",
      "2  [M+H]+        Orbitrap             40.0  train                 True   \n",
      "3  [M+H]+        Orbitrap             55.0  train                 True   \n",
      "4  [M+H]+        Orbitrap             10.0  train                 True   \n",
      "\n",
      "                                          peaks_json  \n",
      "0  [[91.0542, 0.24524524524524524], [125.0233, 1....  \n",
      "1  [[91.0542, 0.0990990990990991], [125.0233, 0.2...  \n",
      "2  [[69.0343, 0.03403403403403404], [91.0542, 0.3...  \n",
      "3  [[69.0343, 0.17917917917917917], [91.0542, 0.4...  \n",
      "4  [[91.0542, 0.07807807807807808], [125.0233, 0....  \n"
     ]
    }
   ],
   "execution_count": 5
  },
  {
   "metadata": {
    "ExecuteTime": {
     "end_time": "2024-10-14T06:29:39.479586Z",
     "start_time": "2024-10-14T06:27:05.927340Z"
    }
   },
   "cell_type": "code",
   "source": [
    "df_train = extract_training_set(df)\n",
    "\n",
    "df_us_train = get_unique_smiles(df_train)\n",
    "\n",
    "df_us_train = compute_murcko_histograms(df_us_train)\n",
    "\n",
    "df_gb_train = group_by_murcko_histograms(df_us_train)\n",
    "\n",
    "df_train = merge_murcko_hist(df_train, df_us_train)"
   ],
   "id": "a1f9a44a2d42b9c0",
   "outputs": [
    {
     "name": "stdout",
     "output_type": "stream",
     "text": [
      "Training set size: 194119 spectra\n",
      "Number of unique SMILES in training set: 25046\n",
      "Computing Murcko histograms...\n"
     ]
    },
    {
     "name": "stderr",
     "output_type": "stream",
     "text": [
      "100%|██████████| 25046/25046 [02:33<00:00, 163.46it/s] \n"
     ]
    },
    {
     "name": "stdout",
     "output_type": "stream",
     "text": [
      "Number of unique SMILES: 25046 Number of unique Murcko histograms: 338\n",
      "Top 20 most common Murcko histograms:\n",
      "murckohiststr\n",
      "{'0_1': 1, '1_0': 1, '1_1': 1}              3351\n",
      "{}                                          2953\n",
      "{'0_1': 2}                                  2948\n",
      "{'0_0': 1}                                  2875\n",
      "{'1_0': 2}                                  1626\n",
      "{'0_1': 2, '0_2': 1}                        1436\n",
      "{'1_0': 2, '2_0': 2}                        1134\n",
      "{'1_0': 2, '2_0': 1}                        1096\n",
      "{'0_1': 1, '0_2': 1, '1_0': 1, '1_1': 1}     751\n",
      "{'0_1': 2, '1_1': 2}                         545\n",
      "{'0_1': 1, '1_0': 1, '1_1': 1, '2_0': 1}     495\n",
      "{'0_1': 2, '1_0': 1, '1_2': 1}               481\n",
      "{'1_0': 2, '1_1': 2}                         456\n",
      "{'0_1': 3}                                   341\n",
      "{'1_0': 2, '2_0': 3}                         288\n",
      "{'0_1': 2, '0_2': 2}                         281\n",
      "{'0_1': 1, '1_0': 1, '1_1': 1, '2_0': 2}     246\n",
      "{'0_1': 2, '0_2': 1, '1_1': 2}               229\n",
      "{'0_1': 1, '1_0': 2, '2_1': 1}               225\n",
      "{'0_1': 2, '1_0': 1, '1_1': 1}               181\n",
      "Name: count, dtype: int64\n",
      "Grouped into 338 Murcko histogram groups.\n",
      "                    murckohiststr  count  \\\n",
      "0  {'0_1': 1, '1_0': 1, '1_1': 1}   3351   \n",
      "1                              {}   2953   \n",
      "2                      {'0_1': 2}   2948   \n",
      "3                      {'0_0': 1}   2875   \n",
      "4                      {'1_0': 2}   1626   \n",
      "\n",
      "                                         smiles_list  \\\n",
      "0  [C1=CC=C(C=C1)C2=C(C(=O)NC3=CC=CC=C32)O, CN1C(...   \n",
      "1  [CC(=C)C(=O)/C(=C/C(=O)O)/OC, CC[C@@H](C)[C@H]...   \n",
      "2  [CC(=O)N[C@@H](CC1=CC=CC=C1)C2=CC(=CC(=O)O2)OC...   \n",
      "3  [C[C@@H]1C[C@H]2[C@H](O2)/C=C\\C(=O)CC(=O)O1, C...   \n",
      "4  [C[C@H]1CCCC(=O)CCC/C=C/C2=C(C(=CC(=C2)O)O)C(=...   \n",
      "\n",
      "                       murckohist  \n",
      "0  {'0_1': 1, '1_0': 1, '1_1': 1}  \n",
      "1                              {}  \n",
      "2                      {'0_1': 2}  \n",
      "3                      {'0_0': 1}  \n",
      "4                      {'1_0': 2}  \n",
      "After merge, 'murckohiststr' assigned to 194119 identifiers.\n"
     ]
    }
   ],
   "execution_count": 7
  },
  {
   "metadata": {
    "ExecuteTime": {
     "end_time": "2024-10-14T06:29:39.612567Z",
     "start_time": "2024-10-14T06:29:39.601616Z"
    }
   },
   "cell_type": "code",
   "source": "len(df_train['murckohiststr'].unique())",
   "id": "f5c09611daa62291",
   "outputs": [
    {
     "data": {
      "text/plain": [
       "338"
      ]
     },
     "execution_count": 8,
     "metadata": {},
     "output_type": "execute_result"
    }
   ],
   "execution_count": 8
  },
  {
   "metadata": {
    "ExecuteTime": {
     "end_time": "2024-10-14T06:29:40.003644Z",
     "start_time": "2024-10-14T06:29:39.926658Z"
    }
   },
   "cell_type": "code",
   "source": "hist_to_indices, index_to_hist = create_mappings(df_train)",
   "id": "32304e264c75520a",
   "outputs": [
    {
     "name": "stdout",
     "output_type": "stream",
     "text": [
      "Total unique Murcko histograms: 338\n"
     ]
    }
   ],
   "execution_count": 10
  },
  {
   "metadata": {
    "ExecuteTime": {
     "end_time": "2024-10-14T06:29:39.832444Z",
     "start_time": "2024-10-14T06:29:39.830273Z"
    }
   },
   "cell_type": "code",
   "source": "df_train.columns",
   "id": "90f0d77d5e0236e7",
   "outputs": [
    {
     "data": {
      "text/plain": [
       "Index(['identifier', 'smiles', 'inchikey', 'formula', 'precursor_formula',\n",
       "       'parent_mass', 'precursor_mz', 'adduct', 'instrument_type',\n",
       "       'collision_energy', 'fold', 'simulation_challenge', 'peaks_json',\n",
       "       'murckohiststr'],\n",
       "      dtype='object')"
      ]
     },
     "execution_count": 9,
     "metadata": {},
     "output_type": "execute_result"
    }
   ],
   "execution_count": 9
  },
  {
   "metadata": {},
   "cell_type": "code",
   "outputs": [],
   "execution_count": null,
   "source": "",
   "id": "9ff31df294bdc770"
  },
  {
   "metadata": {},
   "cell_type": "code",
   "outputs": [],
   "execution_count": null,
   "source": "",
   "id": "4c62bcbcd40eabb2"
  },
  {
   "metadata": {},
   "cell_type": "code",
   "outputs": [],
   "execution_count": null,
   "source": "",
   "id": "fef989b674c7d6b"
  },
  {
   "metadata": {},
   "cell_type": "code",
   "outputs": [],
   "execution_count": null,
   "source": "",
   "id": "ec4d6e936d08c87b"
  },
  {
   "metadata": {},
   "cell_type": "code",
   "outputs": [],
   "execution_count": null,
   "source": "",
   "id": "1acbeb2a1c2873b1"
  }
 ],
 "metadata": {
  "kernelspec": {
   "display_name": "Python 3",
   "language": "python",
   "name": "python3"
  },
  "language_info": {
   "codemirror_mode": {
    "name": "ipython",
    "version": 2
   },
   "file_extension": ".py",
   "mimetype": "text/x-python",
   "name": "python",
   "nbconvert_exporter": "python",
   "pygments_lexer": "ipython2",
   "version": "2.7.6"
  }
 },
 "nbformat": 4,
 "nbformat_minor": 5
}
