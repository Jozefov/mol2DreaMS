{
 "cells": [
  {
   "metadata": {
    "ExecuteTime": {
     "end_time": "2024-10-10T08:40:13.295107Z",
     "start_time": "2024-10-10T08:40:11.771740Z"
    }
   },
   "cell_type": "code",
   "source": [
    "import yaml\n",
    "from mol2dreams.utils.parser import (\n",
    "    build_model_from_config,\n",
    "    build_trainer_from_config)\n",
    "from mol2dreams.datasets.TripletDataset import TripletDataset"
   ],
   "id": "5fa08241e1195bb4",
   "outputs": [],
   "execution_count": 1
  },
  {
   "metadata": {
    "ExecuteTime": {
     "end_time": "2024-10-10T08:40:13.303729Z",
     "start_time": "2024-10-10T08:40:13.298100Z"
    }
   },
   "cell_type": "code",
   "source": [
    "with open(\"/Users/macbook/CODE/mol2DreaMS/mol2dreams/configs/local_config_adversarial_fine_tune_triplet.yaml\") as stream:\n",
    "    config = yaml.safe_load(stream)"
   ],
   "id": "610b3e7b91c034c5",
   "outputs": [],
   "execution_count": 2
  },
  {
   "metadata": {
    "ExecuteTime": {
     "end_time": "2024-10-10T08:40:16.586765Z",
     "start_time": "2024-10-10T08:40:13.342748Z"
    }
   },
   "cell_type": "code",
   "source": "trainer = build_trainer_from_config(config)",
   "id": "a0362df2138eaeff",
   "outputs": [
    {
     "name": "stdout",
     "output_type": "stream",
     "text": [
      "Loaded pretrained weights from /Users/macbook/CODE/mol2DreaMS/data/logs/mol2dreams/20241010_100301_mol2dreams/best_model.pt\n"
     ]
    },
    {
     "name": "stderr",
     "output_type": "stream",
     "text": [
      "/Users/macbook/UTILS/anaconda3/envs/mol2dreams/lib/python3.11/site-packages/torch/nn/utils/weight_norm.py:28: UserWarning: torch.nn.utils.weight_norm is deprecated in favor of torch.nn.utils.parametrizations.weight_norm.\n",
      "  warnings.warn(\"torch.nn.utils.weight_norm is deprecated in favor of torch.nn.utils.parametrizations.weight_norm.\")\n"
     ]
    }
   ],
   "execution_count": 3
  },
  {
   "metadata": {
    "ExecuteTime": {
     "end_time": "2024-10-10T08:40:19.453260Z",
     "start_time": "2024-10-10T08:40:16.592403Z"
    }
   },
   "cell_type": "code",
   "source": "trainer.test()",
   "id": "ce0023247484cba",
   "outputs": [
    {
     "name": "stdout",
     "output_type": "stream",
     "text": [
      "Test Loss: 1.1041, Triplet Loss: 0.3585, Adv Loss: 0.7457, Pos Sim: 1.0000, Neg Sim: 0.7415\n"
     ]
    }
   ],
   "execution_count": 4
  },
  {
   "metadata": {
    "ExecuteTime": {
     "end_time": "2024-10-10T08:41:59.140718Z",
     "start_time": "2024-10-10T08:40:30.812935Z"
    }
   },
   "cell_type": "code",
   "source": "trainer.train()",
   "id": "bb674042f4530157",
   "outputs": [
    {
     "name": "stdout",
     "output_type": "stream",
     "text": [
      "Epoch [1/10], Batch [0/117], Total Loss: 1.0993, Triplet Loss: 0.3577, Adv Loss: 0.7416, Disc Loss: 9.3081\n",
      "Epoch [1/10], Batch [10/117], Total Loss: 0.4356, Triplet Loss: 0.1132, Adv Loss: 0.3223, Disc Loss: 3.5162\n",
      "Epoch [1/10], Batch [20/117], Total Loss: 0.4804, Triplet Loss: 0.1152, Adv Loss: 0.3652, Disc Loss: 2.3000\n",
      "Epoch [1/10], Batch [30/117], Total Loss: 0.8596, Triplet Loss: 0.1067, Adv Loss: 0.7529, Disc Loss: 1.6891\n",
      "Epoch [1/10], Batch [40/117], Total Loss: 1.3103, Triplet Loss: 0.1041, Adv Loss: 1.2063, Disc Loss: 1.4759\n",
      "Epoch [1/10], Batch [50/117], Total Loss: 1.2517, Triplet Loss: 0.1026, Adv Loss: 1.1492, Disc Loss: 1.5555\n",
      "Epoch [1/10], Batch [60/117], Total Loss: 1.3202, Triplet Loss: 0.1008, Adv Loss: 1.2194, Disc Loss: 1.4531\n",
      "Epoch [1/10], Batch [70/117], Total Loss: 1.2460, Triplet Loss: 0.1008, Adv Loss: 1.1452, Disc Loss: 1.4243\n",
      "Epoch [1/10], Batch [80/117], Total Loss: 1.1066, Triplet Loss: 0.1007, Adv Loss: 1.0059, Disc Loss: 1.4134\n",
      "Epoch [1/10], Batch [90/117], Total Loss: 1.4636, Triplet Loss: 0.1036, Adv Loss: 1.3600, Disc Loss: 1.4902\n",
      "Epoch [1/10], Batch [100/117], Total Loss: 1.1033, Triplet Loss: 0.1064, Adv Loss: 0.9970, Disc Loss: 1.4795\n",
      "Epoch [1/10], Batch [110/117], Total Loss: 1.2678, Triplet Loss: 0.1062, Adv Loss: 1.1616, Disc Loss: 1.4722\n",
      "Epoch [1/10] Completed. Avg Total Loss: 1.1755, Avg Triplet Loss: 0.1123, Avg Adv Loss: 1.0632, Avg Disc Loss: 1.9682\n",
      "Epoch [2/10], Batch [0/117], Total Loss: 1.1728, Triplet Loss: 0.1113, Adv Loss: 1.0616, Disc Loss: 1.9510\n",
      "Epoch [2/10], Batch [10/117], Total Loss: 1.1673, Triplet Loss: 0.1043, Adv Loss: 1.0630, Disc Loss: 1.5874\n",
      "Epoch [2/10], Batch [20/117], Total Loss: 0.8192, Triplet Loss: 0.1026, Adv Loss: 0.7166, Disc Loss: 1.4650\n",
      "Epoch [2/10], Batch [30/117], Total Loss: 0.9231, Triplet Loss: 0.1013, Adv Loss: 0.8218, Disc Loss: 1.4719\n",
      "Epoch [2/10], Batch [40/117], Total Loss: 0.9413, Triplet Loss: 0.1008, Adv Loss: 0.8405, Disc Loss: 1.5110\n",
      "Epoch [2/10], Batch [50/117], Total Loss: 0.9506, Triplet Loss: 0.1004, Adv Loss: 0.8502, Disc Loss: 1.4061\n",
      "Epoch [2/10], Batch [60/117], Total Loss: 0.9384, Triplet Loss: 0.1002, Adv Loss: 0.8382, Disc Loss: 1.4652\n",
      "Epoch [2/10], Batch [70/117], Total Loss: 0.9893, Triplet Loss: 0.1003, Adv Loss: 0.8890, Disc Loss: 1.4065\n",
      "Epoch [2/10], Batch [80/117], Total Loss: 0.8367, Triplet Loss: 0.1002, Adv Loss: 0.7365, Disc Loss: 1.4133\n",
      "Epoch [2/10], Batch [90/117], Total Loss: 0.9589, Triplet Loss: 0.1008, Adv Loss: 0.8581, Disc Loss: 1.4286\n",
      "Epoch [2/10], Batch [100/117], Total Loss: 0.7235, Triplet Loss: 0.1008, Adv Loss: 0.6228, Disc Loss: 1.5919\n",
      "Epoch [2/10], Batch [110/117], Total Loss: 1.1893, Triplet Loss: 0.1008, Adv Loss: 1.0885, Disc Loss: 1.6250\n",
      "Epoch [2/10] Completed. Avg Total Loss: 0.9724, Avg Triplet Loss: 0.1015, Avg Adv Loss: 0.8708, Avg Disc Loss: 1.5328\n",
      "Validation Loss: 5.0428, Triplet Loss: 0.1002, Adv Loss: 4.9426, Pos Sim: 1.0000, Neg Sim: 0.9998\n",
      "Validation Loss after Epoch 2: 5.0428\n",
      "Best model saved at epoch 2 with validation loss inf\n",
      "Model checkpoint saved at ../../data/logs/mol2dreams/20241010_104016_mol2dreams/model_epoch_2.pt\n",
      "Epoch [3/10], Batch [0/117], Total Loss: 1.3719, Triplet Loss: 0.1028, Adv Loss: 1.2691, Disc Loss: 1.6584\n",
      "Epoch [3/10], Batch [10/117], Total Loss: 1.2673, Triplet Loss: 0.1039, Adv Loss: 1.1634, Disc Loss: 1.5414\n",
      "Epoch [3/10], Batch [20/117], Total Loss: 1.1025, Triplet Loss: 0.1006, Adv Loss: 1.0019, Disc Loss: 1.4677\n",
      "Epoch [3/10], Batch [30/117], Total Loss: 1.0520, Triplet Loss: 0.1029, Adv Loss: 0.9492, Disc Loss: 1.3917\n",
      "Epoch [3/10], Batch [40/117], Total Loss: 1.0246, Triplet Loss: 0.1074, Adv Loss: 0.9173, Disc Loss: 1.4237\n",
      "Epoch [3/10], Batch [50/117], Total Loss: 1.1094, Triplet Loss: 0.1101, Adv Loss: 0.9993, Disc Loss: 1.4600\n",
      "Epoch [3/10], Batch [60/117], Total Loss: 1.1332, Triplet Loss: 0.1008, Adv Loss: 1.0324, Disc Loss: 1.4109\n",
      "Epoch [3/10], Batch [70/117], Total Loss: 1.0443, Triplet Loss: 0.1002, Adv Loss: 0.9441, Disc Loss: 1.3967\n",
      "Epoch [3/10], Batch [80/117], Total Loss: 0.9061, Triplet Loss: 0.1001, Adv Loss: 0.8060, Disc Loss: 1.4677\n",
      "Epoch [3/10], Batch [90/117], Total Loss: 0.9553, Triplet Loss: 0.1005, Adv Loss: 0.8548, Disc Loss: 1.4188\n",
      "Epoch [3/10], Batch [100/117], Total Loss: 0.7483, Triplet Loss: 0.1021, Adv Loss: 0.6462, Disc Loss: 1.5078\n",
      "Epoch [3/10], Batch [110/117], Total Loss: 0.6927, Triplet Loss: 0.1003, Adv Loss: 0.5925, Disc Loss: 1.7039\n",
      "Epoch [3/10] Completed. Avg Total Loss: 1.0602, Avg Triplet Loss: 0.1029, Avg Adv Loss: 0.9573, Avg Disc Loss: 1.4977\n",
      "Epoch [4/10], Batch [0/117], Total Loss: 0.8679, Triplet Loss: 0.1000, Adv Loss: 0.7679, Disc Loss: 1.4782\n",
      "Epoch [4/10], Batch [10/117], Total Loss: 1.5766, Triplet Loss: 0.1000, Adv Loss: 1.4766, Disc Loss: 1.8301\n",
      "Epoch [4/10], Batch [20/117], Total Loss: 0.3830, Triplet Loss: 0.1000, Adv Loss: 0.2830, Disc Loss: 1.6462\n",
      "Epoch [4/10], Batch [30/117], Total Loss: 1.0927, Triplet Loss: 0.1000, Adv Loss: 0.9927, Disc Loss: 1.4937\n",
      "Epoch [4/10], Batch [40/117], Total Loss: 0.6077, Triplet Loss: 0.1000, Adv Loss: 0.5077, Disc Loss: 1.4648\n",
      "Epoch [4/10], Batch [50/117], Total Loss: 0.8091, Triplet Loss: 0.1000, Adv Loss: 0.7091, Disc Loss: 1.4519\n",
      "Epoch [4/10], Batch [60/117], Total Loss: 0.8854, Triplet Loss: 0.1000, Adv Loss: 0.7854, Disc Loss: 1.4019\n",
      "Epoch [4/10], Batch [70/117], Total Loss: 0.7407, Triplet Loss: 0.1000, Adv Loss: 0.6407, Disc Loss: 1.3869\n",
      "Epoch [4/10], Batch [80/117], Total Loss: 0.8347, Triplet Loss: 0.1000, Adv Loss: 0.7347, Disc Loss: 1.3900\n",
      "Epoch [4/10], Batch [90/117], Total Loss: 0.8312, Triplet Loss: 0.1000, Adv Loss: 0.7312, Disc Loss: 1.3890\n",
      "Epoch [4/10], Batch [100/117], Total Loss: 0.5326, Triplet Loss: 0.1000, Adv Loss: 0.4326, Disc Loss: 1.4040\n",
      "Epoch [4/10], Batch [110/117], Total Loss: 0.6035, Triplet Loss: 0.1000, Adv Loss: 0.5035, Disc Loss: 1.4449\n",
      "Epoch [4/10] Completed. Avg Total Loss: 0.8485, Avg Triplet Loss: 0.1001, Avg Adv Loss: 0.7485, Avg Disc Loss: 1.7122\n",
      "Validation Loss: 0.7086, Triplet Loss: 0.1000, Adv Loss: 0.6086, Pos Sim: 1.0000, Neg Sim: 1.0000\n",
      "Validation Loss after Epoch 4: 0.7086\n",
      "Best model saved at epoch 4 with validation loss inf\n",
      "Model checkpoint saved at ../../data/logs/mol2dreams/20241010_104016_mol2dreams/model_epoch_4.pt\n",
      "Epoch [5/10], Batch [0/117], Total Loss: 0.5869, Triplet Loss: 0.1000, Adv Loss: 0.4869, Disc Loss: 1.3940\n",
      "Epoch [5/10], Batch [10/117], Total Loss: 0.6333, Triplet Loss: 0.1000, Adv Loss: 0.5333, Disc Loss: 1.3869\n",
      "Epoch [5/10], Batch [20/117], Total Loss: 0.6351, Triplet Loss: 0.1000, Adv Loss: 0.5351, Disc Loss: 1.4268\n",
      "Epoch [5/10], Batch [30/117], Total Loss: 0.9274, Triplet Loss: 0.1000, Adv Loss: 0.8274, Disc Loss: 1.5234\n",
      "Epoch [5/10], Batch [40/117], Total Loss: 0.5450, Triplet Loss: 0.1000, Adv Loss: 0.4450, Disc Loss: 1.4390\n",
      "Epoch [5/10], Batch [50/117], Total Loss: 0.6317, Triplet Loss: 0.1000, Adv Loss: 0.5317, Disc Loss: 1.3865\n",
      "Epoch [5/10], Batch [60/117], Total Loss: 0.7482, Triplet Loss: 0.1000, Adv Loss: 0.6482, Disc Loss: 1.4043\n",
      "Epoch [5/10], Batch [70/117], Total Loss: 0.4695, Triplet Loss: 0.1000, Adv Loss: 0.3695, Disc Loss: 1.3938\n",
      "Epoch [5/10], Batch [80/117], Total Loss: 1.0059, Triplet Loss: 0.1000, Adv Loss: 0.9059, Disc Loss: 1.3925\n",
      "Epoch [5/10], Batch [90/117], Total Loss: 0.8554, Triplet Loss: 0.1000, Adv Loss: 0.7554, Disc Loss: 1.4249\n",
      "Epoch [5/10], Batch [100/117], Total Loss: 1.0837, Triplet Loss: 0.1000, Adv Loss: 0.9837, Disc Loss: 1.4075\n",
      "Epoch [5/10], Batch [110/117], Total Loss: 1.3124, Triplet Loss: 0.1000, Adv Loss: 1.2124, Disc Loss: 1.4827\n",
      "Epoch [5/10] Completed. Avg Total Loss: 0.8322, Avg Triplet Loss: 0.1000, Avg Adv Loss: 0.7322, Avg Disc Loss: 1.4592\n",
      "Epoch [6/10], Batch [0/117], Total Loss: 0.7557, Triplet Loss: 0.1000, Adv Loss: 0.6557, Disc Loss: 1.4763\n",
      "Epoch [6/10], Batch [10/117], Total Loss: 0.6383, Triplet Loss: 0.1000, Adv Loss: 0.5383, Disc Loss: 1.3865\n",
      "Epoch [6/10], Batch [20/117], Total Loss: 0.5761, Triplet Loss: 0.1000, Adv Loss: 0.4761, Disc Loss: 1.4323\n",
      "Epoch [6/10], Batch [30/117], Total Loss: 0.5263, Triplet Loss: 0.1000, Adv Loss: 0.4263, Disc Loss: 1.5067\n",
      "Epoch [6/10], Batch [40/117], Total Loss: 1.4098, Triplet Loss: 0.1000, Adv Loss: 1.3098, Disc Loss: 1.5100\n",
      "Epoch [6/10], Batch [50/117], Total Loss: 1.0666, Triplet Loss: 0.1000, Adv Loss: 0.9666, Disc Loss: 1.3893\n",
      "Epoch [6/10], Batch [60/117], Total Loss: 1.0005, Triplet Loss: 0.1000, Adv Loss: 0.9005, Disc Loss: 1.3936\n",
      "Epoch [6/10], Batch [70/117], Total Loss: 0.7320, Triplet Loss: 0.1000, Adv Loss: 0.6320, Disc Loss: 1.3869\n",
      "Epoch [6/10], Batch [80/117], Total Loss: 0.9881, Triplet Loss: 0.1000, Adv Loss: 0.8881, Disc Loss: 1.8621\n",
      "Epoch [6/10], Batch [90/117], Total Loss: 0.8537, Triplet Loss: 0.1000, Adv Loss: 0.7537, Disc Loss: 1.5431\n",
      "Epoch [6/10], Batch [100/117], Total Loss: 0.6130, Triplet Loss: 0.1000, Adv Loss: 0.5130, Disc Loss: 1.3960\n",
      "Epoch [6/10], Batch [110/117], Total Loss: 0.7776, Triplet Loss: 0.1000, Adv Loss: 0.6776, Disc Loss: 1.4104\n",
      "Epoch [6/10] Completed. Avg Total Loss: 0.8309, Avg Triplet Loss: 0.1000, Avg Adv Loss: 0.7309, Avg Disc Loss: 1.4629\n",
      "Validation Loss: 0.8312, Triplet Loss: 0.1000, Adv Loss: 0.7312, Pos Sim: 1.0000, Neg Sim: 1.0000\n",
      "Validation Loss after Epoch 6: 0.8312\n",
      "Model checkpoint saved at ../../data/logs/mol2dreams/20241010_104016_mol2dreams/model_epoch_6.pt\n",
      "Epoch [7/10], Batch [0/117], Total Loss: 0.6832, Triplet Loss: 0.1000, Adv Loss: 0.5832, Disc Loss: 1.3877\n",
      "Epoch [7/10], Batch [10/117], Total Loss: 0.7380, Triplet Loss: 0.1000, Adv Loss: 0.6380, Disc Loss: 1.3868\n",
      "Epoch [7/10], Batch [20/117], Total Loss: 0.8205, Triplet Loss: 0.1000, Adv Loss: 0.7205, Disc Loss: 1.7062\n",
      "Epoch [7/10], Batch [30/117], Total Loss: 0.9102, Triplet Loss: 0.1000, Adv Loss: 0.8102, Disc Loss: 1.4895\n",
      "Epoch [7/10], Batch [40/117], Total Loss: 0.6838, Triplet Loss: 0.1000, Adv Loss: 0.5838, Disc Loss: 1.3977\n",
      "Epoch [7/10], Batch [50/117], Total Loss: 0.7850, Triplet Loss: 0.1000, Adv Loss: 0.6850, Disc Loss: 1.3979\n",
      "Epoch [7/10], Batch [60/117], Total Loss: 0.7016, Triplet Loss: 0.1000, Adv Loss: 0.6016, Disc Loss: 1.3901\n",
      "Epoch [7/10], Batch [70/117], Total Loss: 1.7301, Triplet Loss: 0.1000, Adv Loss: 1.6301, Disc Loss: 1.5285\n",
      "Epoch [7/10], Batch [80/117], Total Loss: 0.5674, Triplet Loss: 0.1000, Adv Loss: 0.4674, Disc Loss: 1.4757\n",
      "Epoch [7/10], Batch [90/117], Total Loss: 0.6327, Triplet Loss: 0.1000, Adv Loss: 0.5327, Disc Loss: 1.3869\n",
      "Epoch [7/10], Batch [100/117], Total Loss: 0.9344, Triplet Loss: 0.1000, Adv Loss: 0.8344, Disc Loss: 1.3933\n",
      "Epoch [7/10], Batch [110/117], Total Loss: 0.4602, Triplet Loss: 0.1000, Adv Loss: 0.3602, Disc Loss: 1.4811\n",
      "Epoch [7/10] Completed. Avg Total Loss: 0.8381, Avg Triplet Loss: 0.1000, Avg Adv Loss: 0.7381, Avg Disc Loss: 1.4718\n",
      "Epoch [8/10], Batch [0/117], Total Loss: 0.4122, Triplet Loss: 0.1000, Adv Loss: 0.3122, Disc Loss: 1.4869\n",
      "Epoch [8/10], Batch [10/117], Total Loss: 0.7217, Triplet Loss: 0.1000, Adv Loss: 0.6217, Disc Loss: 1.4603\n",
      "Epoch [8/10], Batch [20/117], Total Loss: 0.9689, Triplet Loss: 0.1000, Adv Loss: 0.8689, Disc Loss: 1.3942\n",
      "Epoch [8/10], Batch [30/117], Total Loss: 0.3692, Triplet Loss: 0.1000, Adv Loss: 0.2692, Disc Loss: 1.5475\n",
      "Epoch [8/10], Batch [40/117], Total Loss: 0.7364, Triplet Loss: 0.1000, Adv Loss: 0.6364, Disc Loss: 1.4146\n",
      "Epoch [8/10], Batch [50/117], Total Loss: 0.8216, Triplet Loss: 0.1000, Adv Loss: 0.7216, Disc Loss: 1.4106\n",
      "Epoch [8/10], Batch [60/117], Total Loss: 0.7040, Triplet Loss: 0.1000, Adv Loss: 0.6040, Disc Loss: 1.3965\n",
      "Epoch [8/10], Batch [70/117], Total Loss: 1.0151, Triplet Loss: 0.1000, Adv Loss: 0.9151, Disc Loss: 1.3896\n",
      "Epoch [8/10], Batch [80/117], Total Loss: 1.0380, Triplet Loss: 0.1000, Adv Loss: 0.9380, Disc Loss: 1.3923\n",
      "Epoch [8/10], Batch [90/117], Total Loss: 0.9006, Triplet Loss: 0.1000, Adv Loss: 0.8006, Disc Loss: 1.3871\n",
      "Epoch [8/10], Batch [100/117], Total Loss: 1.1432, Triplet Loss: 0.1000, Adv Loss: 1.0432, Disc Loss: 1.5113\n",
      "Epoch [8/10], Batch [110/117], Total Loss: 1.1916, Triplet Loss: 0.1000, Adv Loss: 1.0916, Disc Loss: 1.4342\n",
      "Epoch [8/10] Completed. Avg Total Loss: 0.8311, Avg Triplet Loss: 0.1000, Avg Adv Loss: 0.7311, Avg Disc Loss: 1.4663\n",
      "Validation Loss: 0.5282, Triplet Loss: 0.1000, Adv Loss: 0.4282, Pos Sim: 1.0000, Neg Sim: 1.0000\n",
      "Validation Loss after Epoch 8: 0.5282\n",
      "Best model saved at epoch 8 with validation loss inf\n",
      "Model checkpoint saved at ../../data/logs/mol2dreams/20241010_104016_mol2dreams/model_epoch_8.pt\n",
      "Epoch [9/10], Batch [0/117], Total Loss: 1.3754, Triplet Loss: 0.1000, Adv Loss: 1.2754, Disc Loss: 1.4826\n",
      "Epoch [9/10], Batch [10/117], Total Loss: 0.7395, Triplet Loss: 0.1000, Adv Loss: 0.6395, Disc Loss: 1.4116\n",
      "Epoch [9/10], Batch [20/117], Total Loss: 0.6330, Triplet Loss: 0.1000, Adv Loss: 0.5330, Disc Loss: 1.4159\n",
      "Epoch [9/10], Batch [30/117], Total Loss: 1.4516, Triplet Loss: 0.1000, Adv Loss: 1.3516, Disc Loss: 1.5951\n",
      "Epoch [9/10], Batch [40/117], Total Loss: 0.4628, Triplet Loss: 0.1000, Adv Loss: 0.3628, Disc Loss: 1.5483\n",
      "Epoch [9/10], Batch [50/117], Total Loss: 0.7780, Triplet Loss: 0.1000, Adv Loss: 0.6780, Disc Loss: 1.4001\n",
      "Epoch [9/10], Batch [60/117], Total Loss: 0.6684, Triplet Loss: 0.1000, Adv Loss: 0.5684, Disc Loss: 1.4064\n",
      "Epoch [9/10], Batch [70/117], Total Loss: 0.8830, Triplet Loss: 0.1000, Adv Loss: 0.7830, Disc Loss: 1.3915\n",
      "Epoch [9/10], Batch [80/117], Total Loss: 0.5815, Triplet Loss: 0.1000, Adv Loss: 0.4815, Disc Loss: 1.4183\n",
      "Epoch [9/10], Batch [90/117], Total Loss: 0.6081, Triplet Loss: 0.1000, Adv Loss: 0.5081, Disc Loss: 1.4125\n",
      "Epoch [9/10], Batch [100/117], Total Loss: 1.2147, Triplet Loss: 0.1000, Adv Loss: 1.1147, Disc Loss: 1.4376\n",
      "Epoch [9/10], Batch [110/117], Total Loss: 0.6916, Triplet Loss: 0.1000, Adv Loss: 0.5916, Disc Loss: 1.4240\n",
      "Epoch [9/10] Completed. Avg Total Loss: 0.8331, Avg Triplet Loss: 0.1000, Avg Adv Loss: 0.7331, Avg Disc Loss: 1.4568\n",
      "Epoch [10/10], Batch [0/117], Total Loss: 0.4912, Triplet Loss: 0.1000, Adv Loss: 0.3912, Disc Loss: 1.5132\n",
      "Epoch [10/10], Batch [10/117], Total Loss: 0.4854, Triplet Loss: 0.1000, Adv Loss: 0.3854, Disc Loss: 1.4645\n",
      "Epoch [10/10], Batch [20/117], Total Loss: 0.8188, Triplet Loss: 0.1000, Adv Loss: 0.7188, Disc Loss: 1.4500\n",
      "Epoch [10/10], Batch [30/117], Total Loss: 0.7006, Triplet Loss: 0.1000, Adv Loss: 0.6006, Disc Loss: 1.3881\n",
      "Epoch [10/10], Batch [40/117], Total Loss: 1.2723, Triplet Loss: 0.1000, Adv Loss: 1.1723, Disc Loss: 1.4812\n",
      "Epoch [10/10], Batch [50/117], Total Loss: 0.5394, Triplet Loss: 0.1000, Adv Loss: 0.4394, Disc Loss: 1.5047\n",
      "Epoch [10/10], Batch [60/117], Total Loss: 1.2151, Triplet Loss: 0.1000, Adv Loss: 1.1151, Disc Loss: 1.5017\n",
      "Epoch [10/10], Batch [70/117], Total Loss: 1.1718, Triplet Loss: 0.1000, Adv Loss: 1.0718, Disc Loss: 1.4374\n",
      "Epoch [10/10], Batch [80/117], Total Loss: 0.5162, Triplet Loss: 0.1000, Adv Loss: 0.4162, Disc Loss: 1.4916\n",
      "Epoch [10/10], Batch [90/117], Total Loss: 0.9062, Triplet Loss: 0.1000, Adv Loss: 0.8062, Disc Loss: 1.4126\n",
      "Epoch [10/10], Batch [100/117], Total Loss: 0.3364, Triplet Loss: 0.1000, Adv Loss: 0.2364, Disc Loss: 1.8922\n",
      "Epoch [10/10], Batch [110/117], Total Loss: 0.5680, Triplet Loss: 0.1000, Adv Loss: 0.4680, Disc Loss: 1.5044\n",
      "Epoch [10/10] Completed. Avg Total Loss: 0.8326, Avg Triplet Loss: 0.1000, Avg Adv Loss: 0.7326, Avg Disc Loss: 1.4671\n",
      "Validation Loss: 0.6279, Triplet Loss: 0.1000, Adv Loss: 0.5279, Pos Sim: 1.0000, Neg Sim: 1.0000\n",
      "Validation Loss after Epoch 10: 0.6279\n",
      "Model checkpoint saved at ../../data/logs/mol2dreams/20241010_104016_mol2dreams/model_epoch_10.pt\n"
     ]
    }
   ],
   "execution_count": 5
  },
  {
   "metadata": {
    "ExecuteTime": {
     "end_time": "2024-10-10T08:42:02.193124Z",
     "start_time": "2024-10-10T08:41:59.145058Z"
    }
   },
   "cell_type": "code",
   "source": "trainer.test()",
   "id": "76464651fc473ef6",
   "outputs": [
    {
     "name": "stdout",
     "output_type": "stream",
     "text": [
      "Test Loss: 0.6279, Triplet Loss: 0.1000, Adv Loss: 0.5279, Pos Sim: 1.0000, Neg Sim: 1.0000\n"
     ]
    }
   ],
   "execution_count": 6
  }
 ],
 "metadata": {
  "kernelspec": {
   "display_name": "Python 3",
   "language": "python",
   "name": "python3"
  },
  "language_info": {
   "codemirror_mode": {
    "name": "ipython",
    "version": 2
   },
   "file_extension": ".py",
   "mimetype": "text/x-python",
   "name": "python",
   "nbconvert_exporter": "python",
   "pygments_lexer": "ipython2",
   "version": "2.7.6"
  }
 },
 "nbformat": 4,
 "nbformat_minor": 5
}
