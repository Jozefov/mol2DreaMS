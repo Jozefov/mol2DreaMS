{
 "cells": [
  {
   "cell_type": "code",
   "id": "initial_id",
   "metadata": {
    "collapsed": true,
    "ExecuteTime": {
     "end_time": "2024-10-08T15:33:50.688942Z",
     "start_time": "2024-10-08T15:33:49.938741Z"
    }
   },
   "source": [
    "import torch\n",
    "import yaml\n",
    "from mol2dreams.trainer.trainer import Trainer\n",
    "from mol2dreams.trainer.loss import MSELoss\n",
    "\n",
    "from mol2dreams.utils.parser import (\n",
    "    build_model_from_config,\n",
    "    build_trainer_from_config,\n",
    "    build_loss_from_config,\n",
    "    build_optimizer_from_config,\n",
    "    build_data_loaders_from_config\n",
    ")\n"
   ],
   "outputs": [],
   "execution_count": 1
  },
  {
   "metadata": {
    "ExecuteTime": {
     "end_time": "2024-10-08T14:28:20.332856Z",
     "start_time": "2024-10-08T14:28:20.330691Z"
    }
   },
   "cell_type": "code",
   "source": [
    "# Device configuration\n",
    "device = torch.device('cuda' if torch.cuda.is_available() else 'cpu')\n",
    "\n",
    "# Load configuration\n",
    "config = {\n",
    "    'input_layer': {\n",
    "        'type': 'CONV_GNN',\n",
    "        'params': {\n",
    "            'node_features': 84,\n",
    "            'embedding_size_reduced': 128\n",
    "        }\n",
    "    },\n",
    "    'body_layer': {\n",
    "        'type': 'SKIPBLOCK_BODY',\n",
    "        'params': {\n",
    "            'embedding_size_gnn': 128,\n",
    "            'embedding_size': 256,\n",
    "            'num_skipblocks': 7,\n",
    "            'pooling_fn': 'mean'\n",
    "        }\n",
    "    },\n",
    "    'head_layer': {\n",
    "        'type': 'BidirectionalHeadLayer',\n",
    "        'params': {\n",
    "            'input_size': 256,\n",
    "            'output_size': 1024\n",
    "        }\n",
    "    }\n",
    "}"
   ],
   "id": "6486682c44f0bae",
   "outputs": [],
   "execution_count": 2
  },
  {
   "metadata": {
    "ExecuteTime": {
     "end_time": "2024-10-08T14:28:21.162743Z",
     "start_time": "2024-10-08T14:28:20.371048Z"
    }
   },
   "cell_type": "code",
   "source": [
    "# Build model\n",
    "model = build_model_from_config(config)\n",
    "model.to(device)\n",
    "\n",
    "# Print number of parameters\n",
    "num_params = model.count_parameters()\n",
    "print(f\"The model has {num_params} trainable parameters.\")"
   ],
   "id": "fad6a3ac5320ab8c",
   "outputs": [
    {
     "name": "stdout",
     "output_type": "stream",
     "text": [
      "The model has 1368960 trainable parameters.\n"
     ]
    },
    {
     "name": "stderr",
     "output_type": "stream",
     "text": [
      "/Users/macbook/UTILS/anaconda3/envs/mol2dreams/lib/python3.11/site-packages/torch/nn/utils/weight_norm.py:28: UserWarning: torch.nn.utils.weight_norm is deprecated in favor of torch.nn.utils.parametrizations.weight_norm.\n",
      "  warnings.warn(\"torch.nn.utils.weight_norm is deprecated in favor of torch.nn.utils.parametrizations.weight_norm.\")\n"
     ]
    }
   ],
   "execution_count": 3
  },
  {
   "metadata": {},
   "cell_type": "markdown",
   "source": "## Train part",
   "id": "116a58acb86dfb5e"
  },
  {
   "metadata": {
    "ExecuteTime": {
     "end_time": "2024-10-08T14:28:21.318897Z",
     "start_time": "2024-10-08T14:28:21.310716Z"
    }
   },
   "cell_type": "code",
   "source": [
    "load_path = \"../../data/data/precomputed_batches_small.pt\"\n",
    "\n",
    "loaded_batches = torch.load(load_path)\n",
    "\n",
    "print(f\"Loaded {len(loaded_batches)} batches from {load_path}.\")"
   ],
   "id": "3e74b66202bbe543",
   "outputs": [
    {
     "name": "stdout",
     "output_type": "stream",
     "text": [
      "Loaded 3 batches from ../../data/data/precomputed_batches_small.pt.\n"
     ]
    }
   ],
   "execution_count": 4
  },
  {
   "metadata": {
    "ExecuteTime": {
     "end_time": "2024-10-08T14:28:21.366792Z",
     "start_time": "2024-10-08T14:28:21.362153Z"
    }
   },
   "cell_type": "code",
   "source": [
    "loss_fn = MSELoss()\n",
    "optimizer = torch.optim.Adam(model.parameters(), lr=0.001)\n",
    "\n",
    "trainer = Trainer(\n",
    "    model=model,\n",
    "    loss_fn=loss_fn,\n",
    "    optimizer=optimizer,\n",
    "    train_loader=loaded_batches,\n",
    "    val_loader=loaded_batches,\n",
    "    device=device,\n",
    "    log_dir='../../data/logs/mol2dreams',\n",
    "    epochs=50,\n",
    "    validate_every=5,   \n",
    "    save_every=5,           \n",
    "    save_best_only=True     \n",
    ")\n",
    "\n"
   ],
   "id": "b3ff747a31861415",
   "outputs": [],
   "execution_count": 5
  },
  {
   "metadata": {
    "ExecuteTime": {
     "end_time": "2024-10-08T14:28:21.376122Z",
     "start_time": "2024-10-08T14:28:21.373611Z"
    }
   },
   "cell_type": "code",
   "source": [
    "for batch in loaded_batches:\n",
    "    print(batch.x[0][0].dtype, batch.edge_index[0][0].dtype, batch.edge_attr[0][0].dtype, batch.y[0][0].dtype)"
   ],
   "id": "ecca54f4633f7b91",
   "outputs": [
    {
     "name": "stdout",
     "output_type": "stream",
     "text": [
      "torch.float32 torch.int64 torch.float32 torch.float32\n",
      "torch.float32 torch.int64 torch.float32 torch.float32\n",
      "torch.float32 torch.int64 torch.float32 torch.float32\n"
     ]
    }
   ],
   "execution_count": 6
  },
  {
   "metadata": {
    "ExecuteTime": {
     "end_time": "2024-10-08T14:28:25.987293Z",
     "start_time": "2024-10-08T14:28:21.384969Z"
    }
   },
   "cell_type": "code",
   "source": [
    "trainer.train()\n",
    "\n",
    "trainer.test()"
   ],
   "id": "a7dcca6b36994d62",
   "outputs": [
    {
     "name": "stdout",
     "output_type": "stream",
     "text": [
      "Epoch [1/0], Loss: 0.6985, Cosine Sim: 0.0959\n",
      "Epoch [2/1], Loss: 0.6316, Cosine Sim: 0.2801\n",
      "Epoch [3/2], Loss: 0.6022, Cosine Sim: 0.3551\n",
      "Epoch [4/3], Loss: 0.5843, Cosine Sim: 0.3931\n",
      "Epoch [5/4], Loss: 0.5694, Cosine Sim: 0.4143\n",
      "Validation Loss: 0.6276, Validation Cosine Sim: 0.3687\n",
      "Best model saved at epoch 5 with validation loss 0.6276\n",
      "Model checkpoint saved at ../../data/logs/mol2dreams/model_epoch_5.pt\n",
      "Epoch [6/5], Loss: 0.5560, Cosine Sim: 0.4357\n",
      "Epoch [7/6], Loss: 0.5487, Cosine Sim: 0.4476\n",
      "Epoch [8/7], Loss: 0.5406, Cosine Sim: 0.4614\n",
      "Epoch [9/8], Loss: 0.5343, Cosine Sim: 0.4714\n",
      "Epoch [10/9], Loss: 0.5287, Cosine Sim: 0.4805\n",
      "Validation Loss: 0.5964, Validation Cosine Sim: 0.3650\n",
      "Best model saved at epoch 10 with validation loss 0.5964\n",
      "Model checkpoint saved at ../../data/logs/mol2dreams/model_epoch_10.pt\n",
      "Epoch [11/10], Loss: 0.5237, Cosine Sim: 0.4885\n",
      "Epoch [12/11], Loss: 0.5198, Cosine Sim: 0.4930\n",
      "Epoch [13/12], Loss: 0.5167, Cosine Sim: 0.4988\n",
      "Epoch [14/13], Loss: 0.5119, Cosine Sim: 0.5040\n",
      "Epoch [15/14], Loss: 0.5102, Cosine Sim: 0.5066\n",
      "Validation Loss: 0.6097, Validation Cosine Sim: 0.3586\n",
      "Model checkpoint saved at ../../data/logs/mol2dreams/model_epoch_15.pt\n",
      "Epoch [16/15], Loss: 0.5089, Cosine Sim: 0.5085\n",
      "Epoch [17/16], Loss: 0.5087, Cosine Sim: 0.5102\n",
      "Epoch [18/17], Loss: 0.5076, Cosine Sim: 0.5119\n",
      "Epoch [19/18], Loss: 0.5025, Cosine Sim: 0.5164\n",
      "Epoch [20/19], Loss: 0.5020, Cosine Sim: 0.5173\n",
      "Validation Loss: 0.5430, Validation Cosine Sim: 0.4582\n",
      "Best model saved at epoch 20 with validation loss 0.5430\n",
      "Model checkpoint saved at ../../data/logs/mol2dreams/model_epoch_20.pt\n",
      "Epoch [21/20], Loss: 0.5015, Cosine Sim: 0.5171\n",
      "Epoch [22/21], Loss: 0.5023, Cosine Sim: 0.5172\n",
      "Epoch [23/22], Loss: 0.5025, Cosine Sim: 0.5181\n",
      "Epoch [24/23], Loss: 0.5014, Cosine Sim: 0.5195\n",
      "Epoch [25/24], Loss: 0.4995, Cosine Sim: 0.5205\n",
      "Validation Loss: 0.5064, Validation Cosine Sim: 0.5095\n",
      "Best model saved at epoch 25 with validation loss 0.5064\n",
      "Model checkpoint saved at ../../data/logs/mol2dreams/model_epoch_25.pt\n",
      "Epoch [26/25], Loss: 0.5000, Cosine Sim: 0.5201\n",
      "Epoch [27/26], Loss: 0.4977, Cosine Sim: 0.5222\n",
      "Epoch [28/27], Loss: 0.4968, Cosine Sim: 0.5233\n",
      "Epoch [29/28], Loss: 0.4990, Cosine Sim: 0.5220\n",
      "Epoch [30/29], Loss: 0.4971, Cosine Sim: 0.5230\n",
      "Validation Loss: 0.5002, Validation Cosine Sim: 0.5217\n",
      "Best model saved at epoch 30 with validation loss 0.5002\n",
      "Model checkpoint saved at ../../data/logs/mol2dreams/model_epoch_30.pt\n",
      "Epoch [31/30], Loss: 0.4969, Cosine Sim: 0.5247\n",
      "Epoch [32/31], Loss: 0.4974, Cosine Sim: 0.5237\n",
      "Epoch [33/32], Loss: 0.4990, Cosine Sim: 0.5225\n",
      "Epoch [34/33], Loss: 0.4982, Cosine Sim: 0.5235\n",
      "Epoch [35/34], Loss: 0.4966, Cosine Sim: 0.5246\n",
      "Validation Loss: 0.4983, Validation Cosine Sim: 0.5222\n",
      "Best model saved at epoch 35 with validation loss 0.4983\n",
      "Model checkpoint saved at ../../data/logs/mol2dreams/model_epoch_35.pt\n",
      "Epoch [36/35], Loss: 0.4962, Cosine Sim: 0.5251\n",
      "Epoch [37/36], Loss: 0.4946, Cosine Sim: 0.5270\n",
      "Epoch [38/37], Loss: 0.4941, Cosine Sim: 0.5272\n",
      "Epoch [39/38], Loss: 0.4937, Cosine Sim: 0.5273\n",
      "Epoch [40/39], Loss: 0.4924, Cosine Sim: 0.5293\n",
      "Validation Loss: 0.4939, Validation Cosine Sim: 0.5280\n",
      "Best model saved at epoch 40 with validation loss 0.4939\n",
      "Model checkpoint saved at ../../data/logs/mol2dreams/model_epoch_40.pt\n",
      "Epoch [41/40], Loss: 0.4925, Cosine Sim: 0.5290\n",
      "Epoch [42/41], Loss: 0.4925, Cosine Sim: 0.5296\n",
      "Epoch [43/42], Loss: 0.4917, Cosine Sim: 0.5318\n",
      "Epoch [44/43], Loss: 0.4935, Cosine Sim: 0.5289\n",
      "Epoch [45/44], Loss: 0.4892, Cosine Sim: 0.5328\n",
      "Validation Loss: 0.5766, Validation Cosine Sim: 0.4063\n",
      "Model checkpoint saved at ../../data/logs/mol2dreams/model_epoch_45.pt\n",
      "Epoch [46/45], Loss: 0.4886, Cosine Sim: 0.5355\n",
      "Epoch [47/46], Loss: 0.4896, Cosine Sim: 0.5335\n",
      "Epoch [48/47], Loss: 0.4875, Cosine Sim: 0.5362\n",
      "Epoch [49/48], Loss: 0.4863, Cosine Sim: 0.5364\n",
      "Epoch [50/49], Loss: 0.4884, Cosine Sim: 0.5340\n",
      "Validation Loss: 0.5002, Validation Cosine Sim: 0.5200\n",
      "Model checkpoint saved at ../../data/logs/mol2dreams/model_epoch_50.pt\n",
      "Test loader is not provided.\n"
     ]
    }
   ],
   "execution_count": 7
  },
  {
   "metadata": {},
   "cell_type": "markdown",
   "source": "## Train from yaml",
   "id": "f110f1a603baf1a8"
  },
  {
   "metadata": {
    "ExecuteTime": {
     "end_time": "2024-10-08T16:20:37.976204Z",
     "start_time": "2024-10-08T16:20:37.971867Z"
    }
   },
   "cell_type": "code",
   "source": [
    "config = {\n",
    "    'model': {\n",
    "        'input_layer': {\n",
    "            'type': 'CONV_GNN',\n",
    "            'params': {\n",
    "                'node_features': 84,\n",
    "                'embedding_size_reduced': 128\n",
    "            }\n",
    "        },\n",
    "        'body_layer': {\n",
    "            'type': 'SKIPBLOCK_BODY',\n",
    "            'params': {\n",
    "                'embedding_size_gnn': 128,\n",
    "                'embedding_size': 256,\n",
    "                'num_skipblocks': 7,\n",
    "                'pooling_fn': 'mean'\n",
    "            }\n",
    "        },\n",
    "        'head_layer': {\n",
    "            'type': 'BidirectionalHeadLayer',\n",
    "            'params': {\n",
    "                'input_size': 256,\n",
    "                'output_size': 1024\n",
    "            }\n",
    "        }\n",
    "    },\n",
    "    'training': {\n",
    "        'num_epochs': 50,\n",
    "        'validate_every': 5,\n",
    "        'save_every': 5,\n",
    "        'save_best_only': True,\n",
    "        'device': 'cpu',\n",
    "        'log_dir': '../../data/logs',\n",
    "        'loss_function': {\n",
    "            'type': 'MSELoss',\n",
    "            'params': {}\n",
    "        },\n",
    "        'optimizer': {\n",
    "            'type': 'Adam',\n",
    "            'params': {\n",
    "                'lr': 0.001\n",
    "            }\n",
    "        },\n",
    "        'train_loader': {\n",
    "            'path': '../../data/data/precomputed_batches_small.pt'\n",
    "        },\n",
    "        'val_loader': {\n",
    "            'path': '../../data/data/precomputed_batches_small.pt'\n",
    "        },\n",
    "        'test_loader': {\n",
    "            'path': '../../data/data/precomputed_batches_small.pt'\n",
    "        }\n",
    "    },\n",
    "    'data_processing': {\n",
    "        'bond_config' : {\n",
    "            'features': {\n",
    "                'bond_type': True,\n",
    "                'conjugated': True,\n",
    "                'in_ring': True,\n",
    "                'stereochemistry': False,\n",
    "            }\n",
    "        },\n",
    "        'atom_config' : {\n",
    "            'features': {\n",
    "                'atom_symbol': True,\n",
    "                'total_valence': True,\n",
    "                'aromatic': True,\n",
    "                'hybridization': True,\n",
    "                'formal_charge': True,\n",
    "                'default_valence': True,\n",
    "                'ring_size': True,        \n",
    "                'hydrogen_count': True,\n",
    "            },\n",
    "            'feature_attributes': {\n",
    "                'atom_symbol': {\n",
    "                    'top_n_atoms': 42,     \n",
    "                    'include_other': True,    \n",
    "                },\n",
    "        \n",
    "            }\n",
    "        }\n",
    "        \n",
    "    },\n",
    "}\n"
   ],
   "id": "75b03861248da924",
   "outputs": [],
   "execution_count": 17
  },
  {
   "metadata": {
    "ExecuteTime": {
     "end_time": "2024-10-08T16:18:43.595353Z",
     "start_time": "2024-10-08T16:18:43.589742Z"
    }
   },
   "cell_type": "code",
   "source": [
    "# yaml_file_path = '../configs/example_config.yaml'\n",
    "# with open(yaml_file_path, 'w') as file:\n",
    "#     yaml.dump(config, file, default_flow_style=False)"
   ],
   "id": "5da22b711340c69c",
   "outputs": [],
   "execution_count": 13
  },
  {
   "metadata": {
    "ExecuteTime": {
     "end_time": "2024-10-08T16:20:41.006682Z",
     "start_time": "2024-10-08T16:20:40.981561Z"
    }
   },
   "cell_type": "code",
   "source": "trainer = build_trainer_from_config(config)",
   "id": "3d91990123f87048",
   "outputs": [],
   "execution_count": 18
  },
  {
   "metadata": {
    "ExecuteTime": {
     "end_time": "2024-10-08T16:20:45.952291Z",
     "start_time": "2024-10-08T16:20:41.418029Z"
    }
   },
   "cell_type": "code",
   "source": "trainer.train()",
   "id": "6533c8cb6a5d86d6",
   "outputs": [
    {
     "name": "stdout",
     "output_type": "stream",
     "text": [
      "Epoch [1/0], Loss: 0.6985, Cosine Sim: 0.0959\n",
      "Epoch [2/1], Loss: 0.6316, Cosine Sim: 0.2801\n",
      "Epoch [3/2], Loss: 0.6022, Cosine Sim: 0.3551\n",
      "Epoch [4/3], Loss: 0.5843, Cosine Sim: 0.3931\n",
      "Epoch [5/4], Loss: 0.5694, Cosine Sim: 0.4143\n",
      "Validation Loss: 0.6276, Validation Cosine Sim: 0.3687\n",
      "Best model saved at epoch 5 with validation loss 0.6276\n",
      "Model checkpoint saved at ../../data/logs/20241008_182041_mol2dreams/model_epoch_5.pt\n",
      "Epoch [6/5], Loss: 0.5560, Cosine Sim: 0.4357\n",
      "Epoch [7/6], Loss: 0.5487, Cosine Sim: 0.4476\n",
      "Epoch [8/7], Loss: 0.5406, Cosine Sim: 0.4614\n",
      "Epoch [9/8], Loss: 0.5343, Cosine Sim: 0.4714\n",
      "Epoch [10/9], Loss: 0.5287, Cosine Sim: 0.4805\n",
      "Validation Loss: 0.5964, Validation Cosine Sim: 0.3650\n",
      "Best model saved at epoch 10 with validation loss 0.5964\n",
      "Model checkpoint saved at ../../data/logs/20241008_182041_mol2dreams/model_epoch_10.pt\n",
      "Epoch [11/10], Loss: 0.5237, Cosine Sim: 0.4885\n",
      "Epoch [12/11], Loss: 0.5198, Cosine Sim: 0.4930\n",
      "Epoch [13/12], Loss: 0.5167, Cosine Sim: 0.4988\n",
      "Epoch [14/13], Loss: 0.5119, Cosine Sim: 0.5040\n",
      "Epoch [15/14], Loss: 0.5102, Cosine Sim: 0.5066\n",
      "Validation Loss: 0.6097, Validation Cosine Sim: 0.3586\n",
      "Model checkpoint saved at ../../data/logs/20241008_182041_mol2dreams/model_epoch_15.pt\n",
      "Epoch [16/15], Loss: 0.5089, Cosine Sim: 0.5085\n",
      "Epoch [17/16], Loss: 0.5087, Cosine Sim: 0.5102\n",
      "Epoch [18/17], Loss: 0.5076, Cosine Sim: 0.5119\n",
      "Epoch [19/18], Loss: 0.5025, Cosine Sim: 0.5164\n",
      "Epoch [20/19], Loss: 0.5020, Cosine Sim: 0.5173\n",
      "Validation Loss: 0.5430, Validation Cosine Sim: 0.4582\n",
      "Best model saved at epoch 20 with validation loss 0.5430\n",
      "Model checkpoint saved at ../../data/logs/20241008_182041_mol2dreams/model_epoch_20.pt\n",
      "Epoch [21/20], Loss: 0.5015, Cosine Sim: 0.5171\n",
      "Epoch [22/21], Loss: 0.5023, Cosine Sim: 0.5172\n",
      "Epoch [23/22], Loss: 0.5025, Cosine Sim: 0.5181\n",
      "Epoch [24/23], Loss: 0.5014, Cosine Sim: 0.5195\n",
      "Epoch [25/24], Loss: 0.4995, Cosine Sim: 0.5205\n",
      "Validation Loss: 0.5064, Validation Cosine Sim: 0.5095\n",
      "Best model saved at epoch 25 with validation loss 0.5064\n",
      "Model checkpoint saved at ../../data/logs/20241008_182041_mol2dreams/model_epoch_25.pt\n",
      "Epoch [26/25], Loss: 0.5000, Cosine Sim: 0.5201\n",
      "Epoch [27/26], Loss: 0.4977, Cosine Sim: 0.5222\n",
      "Epoch [28/27], Loss: 0.4968, Cosine Sim: 0.5233\n",
      "Epoch [29/28], Loss: 0.4990, Cosine Sim: 0.5220\n",
      "Epoch [30/29], Loss: 0.4971, Cosine Sim: 0.5230\n",
      "Validation Loss: 0.5002, Validation Cosine Sim: 0.5217\n",
      "Best model saved at epoch 30 with validation loss 0.5002\n",
      "Model checkpoint saved at ../../data/logs/20241008_182041_mol2dreams/model_epoch_30.pt\n",
      "Epoch [31/30], Loss: 0.4969, Cosine Sim: 0.5247\n",
      "Epoch [32/31], Loss: 0.4974, Cosine Sim: 0.5237\n",
      "Epoch [33/32], Loss: 0.4990, Cosine Sim: 0.5225\n",
      "Epoch [34/33], Loss: 0.4982, Cosine Sim: 0.5235\n",
      "Epoch [35/34], Loss: 0.4966, Cosine Sim: 0.5246\n",
      "Validation Loss: 0.4983, Validation Cosine Sim: 0.5222\n",
      "Best model saved at epoch 35 with validation loss 0.4983\n",
      "Model checkpoint saved at ../../data/logs/20241008_182041_mol2dreams/model_epoch_35.pt\n",
      "Epoch [36/35], Loss: 0.4962, Cosine Sim: 0.5251\n",
      "Epoch [37/36], Loss: 0.4946, Cosine Sim: 0.5270\n",
      "Epoch [38/37], Loss: 0.4941, Cosine Sim: 0.5272\n",
      "Epoch [39/38], Loss: 0.4937, Cosine Sim: 0.5273\n",
      "Epoch [40/39], Loss: 0.4924, Cosine Sim: 0.5293\n",
      "Validation Loss: 0.4939, Validation Cosine Sim: 0.5280\n",
      "Best model saved at epoch 40 with validation loss 0.4939\n",
      "Model checkpoint saved at ../../data/logs/20241008_182041_mol2dreams/model_epoch_40.pt\n",
      "Epoch [41/40], Loss: 0.4925, Cosine Sim: 0.5290\n",
      "Epoch [42/41], Loss: 0.4925, Cosine Sim: 0.5296\n",
      "Epoch [43/42], Loss: 0.4917, Cosine Sim: 0.5318\n",
      "Epoch [44/43], Loss: 0.4935, Cosine Sim: 0.5289\n",
      "Epoch [45/44], Loss: 0.4892, Cosine Sim: 0.5328\n",
      "Validation Loss: 0.5766, Validation Cosine Sim: 0.4063\n",
      "Model checkpoint saved at ../../data/logs/20241008_182041_mol2dreams/model_epoch_45.pt\n",
      "Epoch [46/45], Loss: 0.4886, Cosine Sim: 0.5355\n",
      "Epoch [47/46], Loss: 0.4896, Cosine Sim: 0.5335\n",
      "Epoch [48/47], Loss: 0.4875, Cosine Sim: 0.5362\n",
      "Epoch [49/48], Loss: 0.4863, Cosine Sim: 0.5364\n",
      "Epoch [50/49], Loss: 0.4884, Cosine Sim: 0.5340\n",
      "Validation Loss: 0.5002, Validation Cosine Sim: 0.5200\n",
      "Model checkpoint saved at ../../data/logs/20241008_182041_mol2dreams/model_epoch_50.pt\n"
     ]
    }
   ],
   "execution_count": 19
  },
  {
   "metadata": {
    "ExecuteTime": {
     "end_time": "2024-10-08T16:20:46.803695Z",
     "start_time": "2024-10-08T16:20:46.768324Z"
    }
   },
   "cell_type": "code",
   "source": "trainer.test()",
   "id": "e7c8d2235fa44a46",
   "outputs": [
    {
     "name": "stdout",
     "output_type": "stream",
     "text": [
      "Test Loss: 0.5002, Test Cosine Sim: 0.5200\n"
     ]
    }
   ],
   "execution_count": 20
  },
  {
   "metadata": {
    "ExecuteTime": {
     "end_time": "2024-10-08T14:28:26.012539Z",
     "start_time": "2024-10-08T14:28:26.011210Z"
    }
   },
   "cell_type": "code",
   "source": "",
   "id": "f23795aee443f1a1",
   "outputs": [],
   "execution_count": null
  }
 ],
 "metadata": {
  "kernelspec": {
   "display_name": "Python 3",
   "language": "python",
   "name": "python3"
  },
  "language_info": {
   "codemirror_mode": {
    "name": "ipython",
    "version": 2
   },
   "file_extension": ".py",
   "mimetype": "text/x-python",
   "name": "python",
   "nbconvert_exporter": "python",
   "pygments_lexer": "ipython2",
   "version": "2.7.6"
  }
 },
 "nbformat": 4,
 "nbformat_minor": 5
}
