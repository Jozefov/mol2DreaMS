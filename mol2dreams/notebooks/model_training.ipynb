{
 "cells": [
  {
   "cell_type": "code",
   "id": "initial_id",
   "metadata": {
    "collapsed": true,
    "ExecuteTime": {
     "end_time": "2024-10-10T09:54:59.761720Z",
     "start_time": "2024-10-10T09:54:58.249537Z"
    }
   },
   "source": [
    "import torch\n",
    "import yaml\n",
    "from fire.test_components import simple_decorator\n",
    "\n",
    "from mol2dreams.trainer.trainer import Trainer\n",
    "from mol2dreams.trainer.loss import MSELoss\n",
    "\n",
    "from mol2dreams.utils.parser import (\n",
    "    build_model_from_config,\n",
    "    build_trainer_from_config,\n",
    "    build_loss_from_config,\n",
    "    build_optimizer_from_config,\n",
    "    build_data_loaders_from_config\n",
    ")\n"
   ],
   "outputs": [],
   "execution_count": 1
  },
  {
   "metadata": {
    "ExecuteTime": {
     "end_time": "2024-10-10T05:21:14.403952Z",
     "start_time": "2024-10-10T05:21:14.398983Z"
    }
   },
   "cell_type": "code",
   "source": [
    "device = torch.device('cuda' if torch.cuda.is_available() else 'cpu')\n",
    "\n",
    "config = {\n",
    "    'input_layer': {\n",
    "        'type': 'CONV_GNN',\n",
    "        'params': {\n",
    "            'node_features': 84,\n",
    "            'embedding_size_reduced': 128\n",
    "        }\n",
    "    },\n",
    "    'body_layer': {\n",
    "        'type': 'SKIPBLOCK_BODY',\n",
    "        'params': {\n",
    "            'embedding_size_gnn': 128,\n",
    "            'embedding_size': 256,\n",
    "            'num_skipblocks': 7,\n",
    "            'pooling_fn': 'mean'\n",
    "        }\n",
    "    },\n",
    "    'head_layer': {\n",
    "        'type': 'BidirectionalHeadLayer',\n",
    "        'params': {\n",
    "            'input_size': 256,\n",
    "            'output_size': 1024\n",
    "        }\n",
    "    }\n",
    "}"
   ],
   "id": "6486682c44f0bae",
   "outputs": [],
   "execution_count": 29
  },
  {
   "metadata": {
    "ExecuteTime": {
     "end_time": "2024-10-10T05:21:16.091192Z",
     "start_time": "2024-10-10T05:21:16.070189Z"
    }
   },
   "cell_type": "code",
   "source": [
    "# Build model\n",
    "model = build_model_from_config(config)\n",
    "model.to(device)\n",
    "\n",
    "# Print number of parameters\n",
    "num_params = model.count_parameters()\n",
    "print(f\"The model has {num_params} trainable parameters.\")"
   ],
   "id": "fad6a3ac5320ab8c",
   "outputs": [
    {
     "name": "stdout",
     "output_type": "stream",
     "text": [
      "The model has 1368960 trainable parameters.\n"
     ]
    }
   ],
   "execution_count": 30
  },
  {
   "metadata": {},
   "cell_type": "markdown",
   "source": "## Train part",
   "id": "116a58acb86dfb5e"
  },
  {
   "metadata": {
    "ExecuteTime": {
     "end_time": "2024-10-09T14:04:45.356560Z",
     "start_time": "2024-10-09T14:04:44.245618Z"
    }
   },
   "cell_type": "code",
   "source": [
    "from mol2dreams.datasets.SimpleDataset import SimpleDataset\n",
    "from torch.utils.data import Dataset, DataLoader"
   ],
   "id": "7f4b5e3c48d58b92",
   "outputs": [],
   "execution_count": 2
  },
  {
   "metadata": {
    "ExecuteTime": {
     "end_time": "2024-10-09T14:26:23.564890Z",
     "start_time": "2024-10-09T14:26:23.549632Z"
    }
   },
   "cell_type": "code",
   "source": [
    "load_path = \"../../data/data/precomputed_batches_small.pt\"\n",
    "\n",
    "loaded_data = torch.load(load_path)\n",
    "\n",
    "simple_dataset = SimpleDataset(loaded_data)\n",
    "\n",
    "batch_size = 32\n",
    "simple_loader = DataLoader(\n",
    "    simple_dataset,\n",
    "    batch_size=batch_size,\n",
    "    shuffle=False,\n",
    "    collate_fn=simple_dataset.collate_fn,\n",
    "    num_workers=0\n",
    ")\n",
    "\n",
    "\n",
    "\n",
    "print(f\"Loaded {len(simple_loader)} batches from {load_path}.\")"
   ],
   "id": "3e74b66202bbe543",
   "outputs": [
    {
     "name": "stdout",
     "output_type": "stream",
     "text": [
      "Loaded 4 batches from ../../data/data/precomputed_batches_small.pt.\n"
     ]
    }
   ],
   "execution_count": 24
  },
  {
   "metadata": {
    "ExecuteTime": {
     "end_time": "2024-10-09T14:16:16.689108Z",
     "start_time": "2024-10-09T14:16:16.683262Z"
    }
   },
   "cell_type": "code",
   "source": [
    "loss_fn = MSELoss()\n",
    "optimizer = torch.optim.Adam(model.parameters(), lr=0.001)\n",
    "\n",
    "trainer = Trainer(\n",
    "    model=model,\n",
    "    loss_fn=loss_fn,\n",
    "    optimizer=optimizer,\n",
    "    train_loader=simple_loader,\n",
    "    val_loader=simple_loader,\n",
    "    device=device,\n",
    "    log_dir='../../data/logs/mol2dreams',\n",
    "    epochs=50,\n",
    "    validate_every=5,   \n",
    "    save_every=5,           \n",
    "    save_best_only=True     \n",
    ")\n",
    "\n"
   ],
   "id": "b3ff747a31861415",
   "outputs": [],
   "execution_count": 22
  },
  {
   "metadata": {
    "ExecuteTime": {
     "end_time": "2024-10-09T14:16:26.092304Z",
     "start_time": "2024-10-09T14:16:20.649542Z"
    }
   },
   "cell_type": "code",
   "source": [
    "trainer.train()\n",
    "\n",
    "trainer.test()"
   ],
   "id": "a7dcca6b36994d62",
   "outputs": [
    {
     "name": "stdout",
     "output_type": "stream",
     "text": [
      "Epoch [1/50], Loss: 0.6944, Cosine Sim: 0.1222\n",
      "Epoch [2/50], Loss: 0.6203, Cosine Sim: 0.3176\n",
      "Epoch [3/50], Loss: 0.5948, Cosine Sim: 0.3716\n",
      "Epoch [4/50], Loss: 0.5842, Cosine Sim: 0.3952\n",
      "Epoch [5/50], Loss: 0.5744, Cosine Sim: 0.4070\n",
      "Validation Loss: 0.6217, Validation Cosine Sim: 0.3800\n",
      "Best model saved at epoch 5 with validation loss 0.6217\n",
      "Model checkpoint saved at ../../data/logs/mol2dreams/model_epoch_5.pt\n",
      "Epoch [6/50], Loss: 0.5716, Cosine Sim: 0.4083\n",
      "Epoch [7/50], Loss: 0.5709, Cosine Sim: 0.4137\n",
      "Epoch [8/50], Loss: 0.5574, Cosine Sim: 0.4370\n",
      "Epoch [9/50], Loss: 0.5556, Cosine Sim: 0.4413\n",
      "Epoch [10/50], Loss: 0.5486, Cosine Sim: 0.4546\n",
      "Validation Loss: 0.6104, Validation Cosine Sim: 0.3489\n",
      "Best model saved at epoch 10 with validation loss 0.6104\n",
      "Model checkpoint saved at ../../data/logs/mol2dreams/model_epoch_10.pt\n",
      "Epoch [11/50], Loss: 0.5443, Cosine Sim: 0.4603\n",
      "Epoch [12/50], Loss: 0.5508, Cosine Sim: 0.4471\n",
      "Epoch [13/50], Loss: 0.5466, Cosine Sim: 0.4551\n",
      "Epoch [14/50], Loss: 0.5416, Cosine Sim: 0.4647\n",
      "Epoch [15/50], Loss: 0.5353, Cosine Sim: 0.4711\n",
      "Validation Loss: 0.5932, Validation Cosine Sim: 0.3821\n",
      "Best model saved at epoch 15 with validation loss 0.5932\n",
      "Model checkpoint saved at ../../data/logs/mol2dreams/model_epoch_15.pt\n",
      "Epoch [16/50], Loss: 0.5347, Cosine Sim: 0.4718\n",
      "Epoch [17/50], Loss: 0.5338, Cosine Sim: 0.4760\n",
      "Epoch [18/50], Loss: 0.5302, Cosine Sim: 0.4806\n",
      "Epoch [19/50], Loss: 0.5299, Cosine Sim: 0.4809\n",
      "Epoch [20/50], Loss: 0.5231, Cosine Sim: 0.4888\n",
      "Validation Loss: 0.5569, Validation Cosine Sim: 0.4375\n",
      "Best model saved at epoch 20 with validation loss 0.5569\n",
      "Model checkpoint saved at ../../data/logs/mol2dreams/model_epoch_20.pt\n",
      "Epoch [21/50], Loss: 0.5178, Cosine Sim: 0.4958\n",
      "Epoch [22/50], Loss: 0.5259, Cosine Sim: 0.4854\n",
      "Epoch [23/50], Loss: 0.5215, Cosine Sim: 0.4920\n",
      "Epoch [24/50], Loss: 0.5158, Cosine Sim: 0.5001\n",
      "Epoch [25/50], Loss: 0.5163, Cosine Sim: 0.4979\n",
      "Validation Loss: 0.5658, Validation Cosine Sim: 0.4221\n",
      "Model checkpoint saved at ../../data/logs/mol2dreams/model_epoch_25.pt\n",
      "Epoch [26/50], Loss: 0.5164, Cosine Sim: 0.4972\n",
      "Epoch [27/50], Loss: 0.5139, Cosine Sim: 0.5012\n",
      "Epoch [28/50], Loss: 0.5100, Cosine Sim: 0.5059\n",
      "Epoch [29/50], Loss: 0.5135, Cosine Sim: 0.5034\n",
      "Epoch [30/50], Loss: 0.5120, Cosine Sim: 0.5062\n",
      "Validation Loss: 0.5486, Validation Cosine Sim: 0.4555\n",
      "Best model saved at epoch 30 with validation loss 0.5486\n",
      "Model checkpoint saved at ../../data/logs/mol2dreams/model_epoch_30.pt\n",
      "Epoch [31/50], Loss: 0.5093, Cosine Sim: 0.5082\n",
      "Epoch [32/50], Loss: 0.5047, Cosine Sim: 0.5148\n",
      "Epoch [33/50], Loss: 0.5080, Cosine Sim: 0.5119\n",
      "Epoch [34/50], Loss: 0.5052, Cosine Sim: 0.5163\n",
      "Epoch [35/50], Loss: 0.4985, Cosine Sim: 0.5210\n",
      "Validation Loss: 0.5831, Validation Cosine Sim: 0.4060\n",
      "Model checkpoint saved at ../../data/logs/mol2dreams/model_epoch_35.pt\n",
      "Epoch [36/50], Loss: 0.5017, Cosine Sim: 0.5199\n",
      "Epoch [37/50], Loss: 0.5069, Cosine Sim: 0.5142\n",
      "Epoch [38/50], Loss: 0.5001, Cosine Sim: 0.5217\n",
      "Epoch [39/50], Loss: 0.4994, Cosine Sim: 0.5218\n",
      "Epoch [40/50], Loss: 0.4984, Cosine Sim: 0.5236\n",
      "Validation Loss: 0.5429, Validation Cosine Sim: 0.4618\n",
      "Best model saved at epoch 40 with validation loss 0.5429\n",
      "Model checkpoint saved at ../../data/logs/mol2dreams/model_epoch_40.pt\n",
      "Epoch [41/50], Loss: 0.4951, Cosine Sim: 0.5270\n",
      "Epoch [42/50], Loss: 0.4926, Cosine Sim: 0.5295\n",
      "Epoch [43/50], Loss: 0.4968, Cosine Sim: 0.5269\n",
      "Epoch [44/50], Loss: 0.5004, Cosine Sim: 0.5213\n",
      "Epoch [45/50], Loss: 0.4914, Cosine Sim: 0.5331\n",
      "Validation Loss: 0.5387, Validation Cosine Sim: 0.4683\n",
      "Best model saved at epoch 45 with validation loss 0.5387\n",
      "Model checkpoint saved at ../../data/logs/mol2dreams/model_epoch_45.pt\n",
      "Epoch [46/50], Loss: 0.4959, Cosine Sim: 0.5279\n",
      "Epoch [47/50], Loss: 0.4913, Cosine Sim: 0.5326\n",
      "Epoch [48/50], Loss: 0.5030, Cosine Sim: 0.5253\n",
      "Epoch [49/50], Loss: 0.4916, Cosine Sim: 0.5340\n",
      "Epoch [50/50], Loss: 0.5006, Cosine Sim: 0.5227\n",
      "Validation Loss: 0.5472, Validation Cosine Sim: 0.4708\n",
      "Model checkpoint saved at ../../data/logs/mol2dreams/model_epoch_50.pt\n",
      "Test loader is not provided.\n"
     ]
    }
   ],
   "execution_count": 23
  },
  {
   "metadata": {},
   "cell_type": "markdown",
   "source": "## Train from yaml",
   "id": "f110f1a603baf1a8"
  },
  {
   "metadata": {
    "ExecuteTime": {
     "end_time": "2024-10-10T08:03:00.339216Z",
     "start_time": "2024-10-10T08:03:00.330708Z"
    }
   },
   "cell_type": "code",
   "source": [
    "with open(\"/Users/macbook/CODE/mol2DreaMS/mol2dreams/configs/local_config_simple_dataset.yaml\") as stream:\n",
    "    config = yaml.safe_load(stream)"
   ],
   "id": "44243a4691ddc97c",
   "outputs": [],
   "execution_count": 2
  },
  {
   "metadata": {
    "ExecuteTime": {
     "end_time": "2024-10-10T08:03:01.074226Z",
     "start_time": "2024-10-10T08:03:00.999280Z"
    }
   },
   "cell_type": "code",
   "source": "trainer = build_trainer_from_config(config)",
   "id": "3d91990123f87048",
   "outputs": [
    {
     "name": "stderr",
     "output_type": "stream",
     "text": [
      "/Users/macbook/UTILS/anaconda3/envs/mol2dreams/lib/python3.11/site-packages/torch/nn/utils/weight_norm.py:28: UserWarning: torch.nn.utils.weight_norm is deprecated in favor of torch.nn.utils.parametrizations.weight_norm.\n",
      "  warnings.warn(\"torch.nn.utils.weight_norm is deprecated in favor of torch.nn.utils.parametrizations.weight_norm.\")\n"
     ]
    }
   ],
   "execution_count": 3
  },
  {
   "metadata": {
    "ExecuteTime": {
     "end_time": "2024-10-10T08:03:08.001082Z",
     "start_time": "2024-10-10T08:03:02.472228Z"
    }
   },
   "cell_type": "code",
   "source": "trainer.train()",
   "id": "6533c8cb6a5d86d6",
   "outputs": [
    {
     "name": "stdout",
     "output_type": "stream",
     "text": [
      "Epoch [1/50], Loss: 0.6932, Cosine Sim: 0.1314\n",
      "Epoch [2/50], Loss: 0.6206, Cosine Sim: 0.3201\n",
      "Epoch [3/50], Loss: 0.5794, Cosine Sim: 0.3763\n",
      "Epoch [4/50], Loss: 0.5777, Cosine Sim: 0.3846\n",
      "Epoch [5/50], Loss: 0.5990, Cosine Sim: 0.3817\n",
      "Validation Loss: 0.6345, Validation Cosine Sim: 0.3684\n",
      "Best model saved at epoch 5 with validation loss 0.6345\n",
      "Model checkpoint saved at ../../data/logs/mol2dreams/20241010_100301_mol2dreams/model_epoch_5.pt\n",
      "Epoch [6/50], Loss: 0.5369, Cosine Sim: 0.4357\n",
      "Epoch [7/50], Loss: 0.5789, Cosine Sim: 0.4225\n",
      "Epoch [8/50], Loss: 0.5908, Cosine Sim: 0.3988\n",
      "Epoch [9/50], Loss: 0.5379, Cosine Sim: 0.4458\n",
      "Epoch [10/50], Loss: 0.5477, Cosine Sim: 0.4480\n",
      "Validation Loss: 0.5989, Validation Cosine Sim: 0.3793\n",
      "Best model saved at epoch 10 with validation loss 0.5989\n",
      "Model checkpoint saved at ../../data/logs/mol2dreams/20241010_100301_mol2dreams/model_epoch_10.pt\n",
      "Epoch [11/50], Loss: 0.5266, Cosine Sim: 0.4531\n",
      "Epoch [12/50], Loss: 0.5716, Cosine Sim: 0.4424\n",
      "Epoch [13/50], Loss: 0.5568, Cosine Sim: 0.4523\n",
      "Epoch [14/50], Loss: 0.5239, Cosine Sim: 0.4574\n",
      "Epoch [15/50], Loss: 0.5418, Cosine Sim: 0.4645\n",
      "Validation Loss: 0.5908, Validation Cosine Sim: 0.3846\n",
      "Best model saved at epoch 15 with validation loss 0.5908\n",
      "Model checkpoint saved at ../../data/logs/mol2dreams/20241010_100301_mol2dreams/model_epoch_15.pt\n",
      "Epoch [16/50], Loss: 0.5623, Cosine Sim: 0.4433\n",
      "Epoch [17/50], Loss: 0.5607, Cosine Sim: 0.4638\n",
      "Epoch [18/50], Loss: 0.5339, Cosine Sim: 0.4614\n",
      "Epoch [19/50], Loss: 0.5354, Cosine Sim: 0.4706\n",
      "Epoch [20/50], Loss: 0.5620, Cosine Sim: 0.4498\n",
      "Validation Loss: 0.5406, Validation Cosine Sim: 0.4569\n",
      "Best model saved at epoch 20 with validation loss 0.5406\n",
      "Model checkpoint saved at ../../data/logs/mol2dreams/20241010_100301_mol2dreams/model_epoch_20.pt\n",
      "Epoch [21/50], Loss: 0.5254, Cosine Sim: 0.4695\n",
      "Epoch [22/50], Loss: 0.5306, Cosine Sim: 0.4784\n",
      "Epoch [23/50], Loss: 0.5411, Cosine Sim: 0.4637\n",
      "Epoch [24/50], Loss: 0.5279, Cosine Sim: 0.4667\n",
      "Epoch [25/50], Loss: 0.5346, Cosine Sim: 0.4912\n",
      "Validation Loss: 0.5360, Validation Cosine Sim: 0.4693\n",
      "Best model saved at epoch 25 with validation loss 0.5360\n",
      "Model checkpoint saved at ../../data/logs/mol2dreams/20241010_100301_mol2dreams/model_epoch_25.pt\n",
      "Epoch [26/50], Loss: 0.5175, Cosine Sim: 0.4936\n",
      "Epoch [27/50], Loss: 0.5481, Cosine Sim: 0.4920\n",
      "Epoch [28/50], Loss: 0.5335, Cosine Sim: 0.4798\n",
      "Epoch [29/50], Loss: 0.5453, Cosine Sim: 0.4566\n",
      "Epoch [30/50], Loss: 0.5541, Cosine Sim: 0.4606\n",
      "Validation Loss: 0.5433, Validation Cosine Sim: 0.4738\n",
      "Model checkpoint saved at ../../data/logs/mol2dreams/20241010_100301_mol2dreams/model_epoch_30.pt\n",
      "Epoch [31/50], Loss: 0.5311, Cosine Sim: 0.4913\n",
      "Epoch [32/50], Loss: 0.5196, Cosine Sim: 0.4889\n",
      "Epoch [33/50], Loss: 0.5228, Cosine Sim: 0.4744\n",
      "Epoch [34/50], Loss: 0.4934, Cosine Sim: 0.4891\n",
      "Epoch [35/50], Loss: 0.5204, Cosine Sim: 0.4670\n",
      "Validation Loss: 0.5348, Validation Cosine Sim: 0.4816\n",
      "Best model saved at epoch 35 with validation loss 0.5348\n",
      "Model checkpoint saved at ../../data/logs/mol2dreams/20241010_100301_mol2dreams/model_epoch_35.pt\n",
      "Epoch [36/50], Loss: 0.5536, Cosine Sim: 0.4737\n",
      "Epoch [37/50], Loss: 0.5384, Cosine Sim: 0.4815\n",
      "Epoch [38/50], Loss: 0.5188, Cosine Sim: 0.5031\n",
      "Epoch [39/50], Loss: 0.5138, Cosine Sim: 0.4977\n",
      "Epoch [40/50], Loss: 0.4994, Cosine Sim: 0.4918\n",
      "Validation Loss: 0.5250, Validation Cosine Sim: 0.4868\n",
      "Best model saved at epoch 40 with validation loss 0.5250\n",
      "Model checkpoint saved at ../../data/logs/mol2dreams/20241010_100301_mol2dreams/model_epoch_40.pt\n",
      "Epoch [41/50], Loss: 0.4980, Cosine Sim: 0.5102\n",
      "Epoch [42/50], Loss: 0.5268, Cosine Sim: 0.4898\n",
      "Epoch [43/50], Loss: 0.5098, Cosine Sim: 0.5089\n",
      "Epoch [44/50], Loss: 0.4845, Cosine Sim: 0.5112\n",
      "Epoch [45/50], Loss: 0.5242, Cosine Sim: 0.5072\n",
      "Validation Loss: 0.5113, Validation Cosine Sim: 0.5103\n",
      "Best model saved at epoch 45 with validation loss 0.5113\n",
      "Model checkpoint saved at ../../data/logs/mol2dreams/20241010_100301_mol2dreams/model_epoch_45.pt\n",
      "Epoch [46/50], Loss: 0.5064, Cosine Sim: 0.5238\n",
      "Epoch [47/50], Loss: 0.5143, Cosine Sim: 0.4862\n",
      "Epoch [48/50], Loss: 0.5596, Cosine Sim: 0.4668\n",
      "Epoch [49/50], Loss: 0.5444, Cosine Sim: 0.4893\n",
      "Epoch [50/50], Loss: 0.5132, Cosine Sim: 0.4914\n",
      "Validation Loss: 0.5126, Validation Cosine Sim: 0.5104\n",
      "Model checkpoint saved at ../../data/logs/mol2dreams/20241010_100301_mol2dreams/model_epoch_50.pt\n"
     ]
    }
   ],
   "execution_count": 4
  },
  {
   "metadata": {
    "ExecuteTime": {
     "end_time": "2024-10-10T08:03:08.047990Z",
     "start_time": "2024-10-10T08:03:08.008220Z"
    }
   },
   "cell_type": "code",
   "source": "trainer.test()",
   "id": "e7c8d2235fa44a46",
   "outputs": [
    {
     "name": "stdout",
     "output_type": "stream",
     "text": [
      "Test Loss: 0.5126, Test Cosine Sim: 0.5104\n"
     ]
    }
   ],
   "execution_count": 5
  },
  {
   "metadata": {},
   "cell_type": "markdown",
   "source": "### Train Cosine Similarity loss",
   "id": "f29ae4df7dd5a851"
  },
  {
   "metadata": {
    "ExecuteTime": {
     "end_time": "2024-10-10T09:59:15.381116Z",
     "start_time": "2024-10-10T09:59:15.372325Z"
    }
   },
   "cell_type": "code",
   "source": [
    "with open(\"/Users/macbook/CODE/mol2DreaMS/mol2dreams/configs/local_config_train_cosin_loss.yaml\") as stream:\n",
    "    config = yaml.safe_load(stream)"
   ],
   "id": "f782081546cc4c8b",
   "outputs": [],
   "execution_count": 6
  },
  {
   "metadata": {
    "ExecuteTime": {
     "end_time": "2024-10-10T09:59:15.667301Z",
     "start_time": "2024-10-10T09:59:15.617173Z"
    }
   },
   "cell_type": "code",
   "source": "trainer = build_trainer_from_config(config)",
   "id": "1e353fcf03c53dd7",
   "outputs": [],
   "execution_count": 7
  },
  {
   "metadata": {
    "ExecuteTime": {
     "end_time": "2024-10-10T09:59:21.656247Z",
     "start_time": "2024-10-10T09:59:15.798689Z"
    }
   },
   "cell_type": "code",
   "source": "trainer.train()",
   "id": "f8e8bd202a7c47d6",
   "outputs": [
    {
     "name": "stdout",
     "output_type": "stream",
     "text": [
      "Epoch [1/50], Loss: 0.8503, Cosine Sim: 0.1497\n",
      "Epoch [2/50], Loss: 0.6596, Cosine Sim: 0.3404\n",
      "Epoch [3/50], Loss: 0.6014, Cosine Sim: 0.3986\n",
      "Epoch [4/50], Loss: 0.5931, Cosine Sim: 0.4069\n",
      "Epoch [5/50], Loss: 0.5943, Cosine Sim: 0.4057\n",
      "Validation Loss: 0.6047, Validation Cosine Sim: 0.3953\n",
      "Best model saved at epoch 5 with validation loss 0.6047\n",
      "Model checkpoint saved at ../../data/logs/mol2dreams/20241010_115915_mol2dreams/model_epoch_5.pt\n",
      "Epoch [6/50], Loss: 0.5368, Cosine Sim: 0.4632\n",
      "Epoch [7/50], Loss: 0.5538, Cosine Sim: 0.4462\n",
      "Epoch [8/50], Loss: 0.5796, Cosine Sim: 0.4204\n",
      "Epoch [9/50], Loss: 0.5302, Cosine Sim: 0.4698\n",
      "Epoch [10/50], Loss: 0.5233, Cosine Sim: 0.4767\n",
      "Validation Loss: 0.6136, Validation Cosine Sim: 0.3864\n",
      "Model checkpoint saved at ../../data/logs/mol2dreams/20241010_115915_mol2dreams/model_epoch_10.pt\n",
      "Epoch [11/50], Loss: 0.5120, Cosine Sim: 0.4880\n",
      "Epoch [12/50], Loss: 0.5319, Cosine Sim: 0.4681\n",
      "Epoch [13/50], Loss: 0.5338, Cosine Sim: 0.4662\n",
      "Epoch [14/50], Loss: 0.5190, Cosine Sim: 0.4810\n",
      "Epoch [15/50], Loss: 0.5068, Cosine Sim: 0.4932\n",
      "Validation Loss: 0.6061, Validation Cosine Sim: 0.3939\n",
      "Model checkpoint saved at ../../data/logs/mol2dreams/20241010_115915_mol2dreams/model_epoch_15.pt\n",
      "Epoch [16/50], Loss: 0.5347, Cosine Sim: 0.4653\n",
      "Epoch [17/50], Loss: 0.5250, Cosine Sim: 0.4750\n",
      "Epoch [18/50], Loss: 0.5326, Cosine Sim: 0.4674\n",
      "Epoch [19/50], Loss: 0.5108, Cosine Sim: 0.4892\n",
      "Epoch [20/50], Loss: 0.5340, Cosine Sim: 0.4660\n",
      "Validation Loss: 0.5559, Validation Cosine Sim: 0.4441\n",
      "Best model saved at epoch 20 with validation loss 0.5559\n",
      "Model checkpoint saved at ../../data/logs/mol2dreams/20241010_115915_mol2dreams/model_epoch_20.pt\n",
      "Epoch [21/50], Loss: 0.5150, Cosine Sim: 0.4850\n",
      "Epoch [22/50], Loss: 0.4985, Cosine Sim: 0.5015\n",
      "Epoch [23/50], Loss: 0.5263, Cosine Sim: 0.4737\n",
      "Epoch [24/50], Loss: 0.5115, Cosine Sim: 0.4885\n",
      "Epoch [25/50], Loss: 0.4924, Cosine Sim: 0.5076\n",
      "Validation Loss: 0.4995, Validation Cosine Sim: 0.5005\n",
      "Best model saved at epoch 25 with validation loss 0.4995\n",
      "Model checkpoint saved at ../../data/logs/mol2dreams/20241010_115915_mol2dreams/model_epoch_25.pt\n",
      "Epoch [26/50], Loss: 0.4934, Cosine Sim: 0.5066\n",
      "Epoch [27/50], Loss: 0.4973, Cosine Sim: 0.5027\n",
      "Epoch [28/50], Loss: 0.4986, Cosine Sim: 0.5014\n",
      "Epoch [29/50], Loss: 0.5161, Cosine Sim: 0.4839\n",
      "Epoch [30/50], Loss: 0.5212, Cosine Sim: 0.4788\n",
      "Validation Loss: 0.4969, Validation Cosine Sim: 0.5031\n",
      "Best model saved at epoch 30 with validation loss 0.4969\n",
      "Model checkpoint saved at ../../data/logs/mol2dreams/20241010_115915_mol2dreams/model_epoch_30.pt\n",
      "Epoch [31/50], Loss: 0.4977, Cosine Sim: 0.5023\n",
      "Epoch [32/50], Loss: 0.4901, Cosine Sim: 0.5099\n",
      "Epoch [33/50], Loss: 0.4986, Cosine Sim: 0.5014\n",
      "Epoch [34/50], Loss: 0.5038, Cosine Sim: 0.4962\n",
      "Epoch [35/50], Loss: 0.5209, Cosine Sim: 0.4791\n",
      "Validation Loss: 0.5213, Validation Cosine Sim: 0.4787\n",
      "Model checkpoint saved at ../../data/logs/mol2dreams/20241010_115915_mol2dreams/model_epoch_35.pt\n",
      "Epoch [36/50], Loss: 0.5096, Cosine Sim: 0.4904\n",
      "Epoch [37/50], Loss: 0.4896, Cosine Sim: 0.5104\n",
      "Epoch [38/50], Loss: 0.4901, Cosine Sim: 0.5099\n",
      "Epoch [39/50], Loss: 0.4792, Cosine Sim: 0.5208\n",
      "Epoch [40/50], Loss: 0.4970, Cosine Sim: 0.5030\n",
      "Validation Loss: 0.5283, Validation Cosine Sim: 0.4717\n",
      "Model checkpoint saved at ../../data/logs/mol2dreams/20241010_115915_mol2dreams/model_epoch_40.pt\n",
      "Epoch [41/50], Loss: 0.4815, Cosine Sim: 0.5185\n",
      "Epoch [42/50], Loss: 0.4994, Cosine Sim: 0.5006\n",
      "Epoch [43/50], Loss: 0.4876, Cosine Sim: 0.5124\n",
      "Epoch [44/50], Loss: 0.4835, Cosine Sim: 0.5165\n",
      "Epoch [45/50], Loss: 0.4903, Cosine Sim: 0.5097\n",
      "Validation Loss: 0.4836, Validation Cosine Sim: 0.5164\n",
      "Best model saved at epoch 45 with validation loss 0.4836\n",
      "Model checkpoint saved at ../../data/logs/mol2dreams/20241010_115915_mol2dreams/model_epoch_45.pt\n",
      "Epoch [46/50], Loss: 0.4730, Cosine Sim: 0.5270\n",
      "Epoch [47/50], Loss: 0.5059, Cosine Sim: 0.4941\n",
      "Epoch [48/50], Loss: 0.5258, Cosine Sim: 0.4742\n",
      "Epoch [49/50], Loss: 0.4933, Cosine Sim: 0.5067\n",
      "Epoch [50/50], Loss: 0.5102, Cosine Sim: 0.4898\n",
      "Validation Loss: 0.5206, Validation Cosine Sim: 0.4794\n",
      "Model checkpoint saved at ../../data/logs/mol2dreams/20241010_115915_mol2dreams/model_epoch_50.pt\n"
     ]
    }
   ],
   "execution_count": 8
  },
  {
   "metadata": {
    "ExecuteTime": {
     "end_time": "2024-10-10T09:59:21.708687Z",
     "start_time": "2024-10-10T09:59:21.665130Z"
    }
   },
   "cell_type": "code",
   "source": "trainer.test()",
   "id": "2818df6961addcf6",
   "outputs": [
    {
     "name": "stdout",
     "output_type": "stream",
     "text": [
      "Test Loss: 0.5206, Test Cosine Sim: 0.4794\n"
     ]
    }
   ],
   "execution_count": 9
  },
  {
   "metadata": {},
   "cell_type": "markdown",
   "source": "## Load model from config",
   "id": "7d24fa7743b1c339"
  },
  {
   "metadata": {
    "ExecuteTime": {
     "end_time": "2024-10-09T15:00:10.882103Z",
     "start_time": "2024-10-09T15:00:10.873004Z"
    }
   },
   "cell_type": "code",
   "source": [
    "with open(\"/Users/macbook/CODE/mol2DreaMS/mol2dreams/configs/local_config_load_trained_model_simple_dataset.yaml\") as stream:\n",
    "    config = yaml.safe_load(stream)"
   ],
   "id": "a579dcc7cdd956",
   "outputs": [],
   "execution_count": 25
  },
  {
   "metadata": {
    "ExecuteTime": {
     "end_time": "2024-10-09T15:00:20.323950Z",
     "start_time": "2024-10-09T15:00:20.265913Z"
    }
   },
   "cell_type": "code",
   "source": "trainer = build_trainer_from_config(config)",
   "id": "eebd72248e459c1d",
   "outputs": [
    {
     "name": "stdout",
     "output_type": "stream",
     "text": [
      "Loaded pretrained weights from /Users/macbook/CODE/mol2DreaMS/data/logs/mol2dreams/best_model.pt\n"
     ]
    }
   ],
   "execution_count": 26
  },
  {
   "metadata": {
    "ExecuteTime": {
     "end_time": "2024-10-09T15:00:29.746303Z",
     "start_time": "2024-10-09T15:00:29.700461Z"
    }
   },
   "cell_type": "code",
   "source": "trainer.test()",
   "id": "468883a31d7528d0",
   "outputs": [
    {
     "name": "stdout",
     "output_type": "stream",
     "text": [
      "Test Loss: 0.5387, Test Cosine Sim: 0.4683\n"
     ]
    }
   ],
   "execution_count": 27
  },
  {
   "metadata": {},
   "cell_type": "code",
   "outputs": [],
   "execution_count": null,
   "source": "",
   "id": "23ee03a2068b03f7"
  },
  {
   "metadata": {},
   "cell_type": "code",
   "outputs": [],
   "execution_count": null,
   "source": "",
   "id": "37abf70f20bf200c"
  },
  {
   "metadata": {
    "ExecuteTime": {
     "end_time": "2024-10-09T13:32:07.633628Z",
     "start_time": "2024-10-08T14:28:26.011210Z"
    }
   },
   "cell_type": "code",
   "source": "",
   "id": "f23795aee443f1a1",
   "outputs": [],
   "execution_count": null
  }
 ],
 "metadata": {
  "kernelspec": {
   "display_name": "Python 3",
   "language": "python",
   "name": "python3"
  },
  "language_info": {
   "codemirror_mode": {
    "name": "ipython",
    "version": 2
   },
   "file_extension": ".py",
   "mimetype": "text/x-python",
   "name": "python",
   "nbconvert_exporter": "python",
   "pygments_lexer": "ipython2",
   "version": "2.7.6"
  }
 },
 "nbformat": 4,
 "nbformat_minor": 5
}
