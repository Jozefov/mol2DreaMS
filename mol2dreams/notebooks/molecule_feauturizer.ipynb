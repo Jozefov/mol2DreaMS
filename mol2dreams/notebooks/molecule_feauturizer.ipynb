{
 "cells": [
  {
   "cell_type": "code",
   "id": "initial_id",
   "metadata": {
    "collapsed": true,
    "ExecuteTime": {
     "end_time": "2024-10-07T09:20:40.162425Z",
     "start_time": "2024-10-07T09:20:38.122898Z"
    }
   },
   "source": [
    "import numpy as np\n",
    "import torch\n",
    "from torch_geometric.data import DataLoader\n",
    "from rdkit import Chem\n",
    "from matchms.importing import load_from_mgf\n",
    "from mol2dreams.featurizer.featurize import MoleculeFeaturizer\n",
    "from mol2dreams.featurizer.atom_features import AtomFeaturizer\n",
    "from mol2dreams.featurizer.bond_features import BondFeaturizer"
   ],
   "outputs": [],
   "execution_count": 1
  },
  {
   "metadata": {
    "ExecuteTime": {
     "end_time": "2024-10-07T09:20:40.182508Z",
     "start_time": "2024-10-07T09:20:40.176052Z"
    }
   },
   "cell_type": "code",
   "source": [
    "bond_config = {\n",
    "    'features': {\n",
    "        'bond_type': True,\n",
    "        'conjugated': True,\n",
    "        'in_ring': True,\n",
    "        'stereochemistry': False,\n",
    "    }\n",
    "}\n",
    "\n",
    "# Initialize the BondFeaturizer\n",
    "featurizer = BondFeaturizer(bond_config)\n",
    "\n",
    "# Test with a sample molecule (Ethylene)\n",
    "smiles = 'C=C'\n",
    "mol = Chem.MolFromSmiles(smiles)\n",
    "bond = mol.GetBondBetweenAtoms(0, 1)  # Bond between first and second atom\n",
    "\n",
    "feature = featurizer.featurize(bond)\n",
    "print(f\"Bond features shape: {feature.shape}\")\n",
    "print(feature)"
   ],
   "id": "6766068bc425fffd",
   "outputs": [
    {
     "name": "stdout",
     "output_type": "stream",
     "text": [
      "Bond features shape: torch.Size([7])\n",
      "tensor([0., 1., 0., 0., 0., 0., 0.])\n"
     ]
    }
   ],
   "execution_count": 2
  },
  {
   "metadata": {
    "ExecuteTime": {
     "end_time": "2024-10-07T09:20:40.239556Z",
     "start_time": "2024-10-07T09:20:40.235570Z"
    }
   },
   "cell_type": "code",
   "source": [
    "atom_config = {\n",
    "    'features': {\n",
    "        'atom_symbol': True,\n",
    "        'total_valence': True,\n",
    "        'aromatic': True,\n",
    "        'hybridization': True,\n",
    "        'formal_charge': True,\n",
    "        'default_valence': True,\n",
    "        'ring_size': True,        \n",
    "        'hydrogen_count': True,\n",
    "    },\n",
    "    'feature_attributes': {\n",
    "        'atom_symbol': {\n",
    "            'top_n_atoms': 42,        # Number of top atoms to recognize\n",
    "            'include_other': True,    # Whether to include an 'Unknown' category\n",
    "        },\n",
    "        # Additional feature-specific attributes can be added here\n",
    "    }\n",
    "}\n",
    "\n",
    "# Initialize the AtomFeaturizer\n",
    "featurizer = AtomFeaturizer(atom_config)\n",
    "\n",
    "# Test with a sample molecule (Ethanol)\n",
    "smiles = 'CCO'\n",
    "mol = Chem.MolFromSmiles(smiles)\n",
    "\n",
    "for atom in mol.GetAtoms():\n",
    "    feature = featurizer.featurize(atom)\n",
    "    print(f\"Atom index {atom.GetIdx()}: Feature shape {feature.shape}\")\n",
    "    print(feature)"
   ],
   "id": "c9be6f9ca9b41fc4",
   "outputs": [
    {
     "name": "stdout",
     "output_type": "stream",
     "text": [
      "Atom index 0: Feature shape torch.Size([84])\n",
      "tensor([1., 0., 0., 0., 0., 0., 0., 0., 0., 0., 0., 0., 0., 0., 0., 0., 0., 0.,\n",
      "        0., 0., 0., 0., 0., 0., 0., 0., 0., 0., 0., 0., 0., 0., 0., 0., 0., 0.,\n",
      "        0., 0., 0., 0., 0., 0., 0., 0., 0., 0., 0., 1., 0., 0., 0., 0., 0., 0.,\n",
      "        0., 0., 1., 0., 0., 0., 0., 0., 1., 0., 0., 0., 0., 0., 0., 1., 0., 0.,\n",
      "        0., 0., 0., 0., 0., 0., 0., 0., 0., 1., 0., 0.])\n",
      "Atom index 1: Feature shape torch.Size([84])\n",
      "tensor([1., 0., 0., 0., 0., 0., 0., 0., 0., 0., 0., 0., 0., 0., 0., 0., 0., 0.,\n",
      "        0., 0., 0., 0., 0., 0., 0., 0., 0., 0., 0., 0., 0., 0., 0., 0., 0., 0.,\n",
      "        0., 0., 0., 0., 0., 0., 0., 0., 0., 0., 0., 1., 0., 0., 0., 0., 0., 0.,\n",
      "        0., 0., 1., 0., 0., 0., 0., 0., 1., 0., 0., 0., 0., 0., 0., 1., 0., 0.,\n",
      "        0., 0., 0., 0., 0., 0., 0., 0., 1., 0., 0., 0.])\n",
      "Atom index 2: Feature shape torch.Size([84])\n",
      "tensor([0., 0., 1., 0., 0., 0., 0., 0., 0., 0., 0., 0., 0., 0., 0., 0., 0., 0.,\n",
      "        0., 0., 0., 0., 0., 0., 0., 0., 0., 0., 0., 0., 0., 0., 0., 0., 0., 0.,\n",
      "        0., 0., 0., 0., 0., 0., 0., 0., 0., 1., 0., 0., 0., 0., 0., 0., 0., 0.,\n",
      "        0., 0., 1., 0., 0., 0., 0., 0., 1., 0., 0., 0., 0., 1., 0., 0., 0., 0.,\n",
      "        0., 0., 0., 0., 0., 0., 0., 1., 0., 0., 0., 0.])\n"
     ]
    }
   ],
   "execution_count": 3
  },
  {
   "metadata": {
    "ExecuteTime": {
     "end_time": "2024-10-07T09:20:40.244784Z",
     "start_time": "2024-10-07T09:20:40.243068Z"
    }
   },
   "cell_type": "code",
   "source": [
    "spectrum_embedding_size = 1024 \n",
    "featurizer = MoleculeFeaturizer(atom_config, bond_config, spectrum_embedding_size)"
   ],
   "id": "75a29b9874448b5c",
   "outputs": [],
   "execution_count": 4
  },
  {
   "metadata": {
    "ExecuteTime": {
     "end_time": "2024-10-07T09:20:40.251165Z",
     "start_time": "2024-10-07T09:20:40.249657Z"
    }
   },
   "cell_type": "code",
   "source": "spectra_path = \"../../data/data/MassSpecGym.mgf\"",
   "id": "a5956febe0bba95d",
   "outputs": [],
   "execution_count": 5
  },
  {
   "metadata": {
    "ExecuteTime": {
     "end_time": "2024-10-07T09:21:08.771690Z",
     "start_time": "2024-10-07T09:20:40.256022Z"
    }
   },
   "cell_type": "code",
   "source": "spectra = list(load_from_mgf(spectra_path))",
   "id": "e183cc26f162500a",
   "outputs": [],
   "execution_count": 6
  },
  {
   "metadata": {
    "ExecuteTime": {
     "end_time": "2024-10-07T09:21:08.779386Z",
     "start_time": "2024-10-07T09:21:08.777504Z"
    }
   },
   "cell_type": "code",
   "source": "spectra_small = spectra[:50]",
   "id": "3b46870b0e15549f",
   "outputs": [],
   "execution_count": 7
  },
  {
   "metadata": {
    "ExecuteTime": {
     "end_time": "2024-10-07T09:23:24.492329Z",
     "start_time": "2024-10-07T09:23:24.485773Z"
    }
   },
   "cell_type": "code",
   "source": [
    "list_smiles = []\n",
    "for spectrum in spectra_small:\n",
    "    entry = {}\n",
    "    entry['smiles'] = spectrum.metadata.get('smiles', None)\n",
    "    entry['embedding'] = torch.zeros(1024)\n",
    "    list_smiles.append(entry)\n"
   ],
   "id": "302cabf99239e9a",
   "outputs": [],
   "execution_count": 12
  },
  {
   "metadata": {
    "ExecuteTime": {
     "end_time": "2024-10-07T09:23:25.063134Z",
     "start_time": "2024-10-07T09:23:24.890468Z"
    }
   },
   "cell_type": "code",
   "source": [
    "# Preprocess the dataset\n",
    "data_list = featurizer.featurize_dataset(list_smiles)\n",
    "\n",
    "print(f\"Number of successfully featurized molecules: {len(data_list)}\")\n"
   ],
   "id": "8e69bfaa6312840f",
   "outputs": [
    {
     "name": "stderr",
     "output_type": "stream",
     "text": [
      "Featurizing dataset: 100%|██████████| 50/50 [00:00<00:00, 295.81it/s]"
     ]
    },
    {
     "name": "stdout",
     "output_type": "stream",
     "text": [
      "Number of successfully featurized molecules: 50\n"
     ]
    },
    {
     "name": "stderr",
     "output_type": "stream",
     "text": [
      "\n"
     ]
    }
   ],
   "execution_count": 13
  },
  {
   "metadata": {
    "ExecuteTime": {
     "end_time": "2024-10-07T09:23:25.201044Z",
     "start_time": "2024-10-07T09:23:25.198048Z"
    }
   },
   "cell_type": "code",
   "source": "data_list",
   "id": "17ab11c0aca19837",
   "outputs": [
    {
     "data": {
      "text/plain": [
       "[Data(x=[21, 84], edge_index=[2, 44], edge_attr=[44, 7], y=[1, 1024]),\n",
       " Data(x=[21, 84], edge_index=[2, 44], edge_attr=[44, 7], y=[1, 1024]),\n",
       " Data(x=[21, 84], edge_index=[2, 44], edge_attr=[44, 7], y=[1, 1024]),\n",
       " Data(x=[21, 84], edge_index=[2, 44], edge_attr=[44, 7], y=[1, 1024]),\n",
       " Data(x=[21, 84], edge_index=[2, 44], edge_attr=[44, 7], y=[1, 1024]),\n",
       " Data(x=[21, 84], edge_index=[2, 44], edge_attr=[44, 7], y=[1, 1024]),\n",
       " Data(x=[21, 84], edge_index=[2, 44], edge_attr=[44, 7], y=[1, 1024]),\n",
       " Data(x=[21, 84], edge_index=[2, 44], edge_attr=[44, 7], y=[1, 1024]),\n",
       " Data(x=[21, 84], edge_index=[2, 44], edge_attr=[44, 7], y=[1, 1024]),\n",
       " Data(x=[21, 84], edge_index=[2, 44], edge_attr=[44, 7], y=[1, 1024]),\n",
       " Data(x=[21, 84], edge_index=[2, 44], edge_attr=[44, 7], y=[1, 1024]),\n",
       " Data(x=[23, 84], edge_index=[2, 48], edge_attr=[48, 7], y=[1, 1024]),\n",
       " Data(x=[23, 84], edge_index=[2, 48], edge_attr=[48, 7], y=[1, 1024]),\n",
       " Data(x=[23, 84], edge_index=[2, 48], edge_attr=[48, 7], y=[1, 1024]),\n",
       " Data(x=[23, 84], edge_index=[2, 48], edge_attr=[48, 7], y=[1, 1024]),\n",
       " Data(x=[23, 84], edge_index=[2, 48], edge_attr=[48, 7], y=[1, 1024]),\n",
       " Data(x=[23, 84], edge_index=[2, 48], edge_attr=[48, 7], y=[1, 1024]),\n",
       " Data(x=[23, 84], edge_index=[2, 48], edge_attr=[48, 7], y=[1, 1024]),\n",
       " Data(x=[23, 84], edge_index=[2, 48], edge_attr=[48, 7], y=[1, 1024]),\n",
       " Data(x=[23, 84], edge_index=[2, 48], edge_attr=[48, 7], y=[1, 1024]),\n",
       " Data(x=[23, 84], edge_index=[2, 48], edge_attr=[48, 7], y=[1, 1024]),\n",
       " Data(x=[23, 84], edge_index=[2, 48], edge_attr=[48, 7], y=[1, 1024]),\n",
       " Data(x=[23, 84], edge_index=[2, 48], edge_attr=[48, 7], y=[1, 1024]),\n",
       " Data(x=[23, 84], edge_index=[2, 48], edge_attr=[48, 7], y=[1, 1024]),\n",
       " Data(x=[23, 84], edge_index=[2, 48], edge_attr=[48, 7], y=[1, 1024]),\n",
       " Data(x=[23, 84], edge_index=[2, 48], edge_attr=[48, 7], y=[1, 1024]),\n",
       " Data(x=[23, 84], edge_index=[2, 48], edge_attr=[48, 7], y=[1, 1024]),\n",
       " Data(x=[23, 84], edge_index=[2, 48], edge_attr=[48, 7], y=[1, 1024]),\n",
       " Data(x=[23, 84], edge_index=[2, 48], edge_attr=[48, 7], y=[1, 1024]),\n",
       " Data(x=[23, 84], edge_index=[2, 48], edge_attr=[48, 7], y=[1, 1024]),\n",
       " Data(x=[23, 84], edge_index=[2, 48], edge_attr=[48, 7], y=[1, 1024]),\n",
       " Data(x=[23, 84], edge_index=[2, 48], edge_attr=[48, 7], y=[1, 1024]),\n",
       " Data(x=[23, 84], edge_index=[2, 48], edge_attr=[48, 7], y=[1, 1024]),\n",
       " Data(x=[23, 84], edge_index=[2, 48], edge_attr=[48, 7], y=[1, 1024]),\n",
       " Data(x=[23, 84], edge_index=[2, 48], edge_attr=[48, 7], y=[1, 1024]),\n",
       " Data(x=[23, 84], edge_index=[2, 48], edge_attr=[48, 7], y=[1, 1024]),\n",
       " Data(x=[23, 84], edge_index=[2, 48], edge_attr=[48, 7], y=[1, 1024]),\n",
       " Data(x=[23, 84], edge_index=[2, 48], edge_attr=[48, 7], y=[1, 1024]),\n",
       " Data(x=[23, 84], edge_index=[2, 48], edge_attr=[48, 7], y=[1, 1024]),\n",
       " Data(x=[23, 84], edge_index=[2, 48], edge_attr=[48, 7], y=[1, 1024]),\n",
       " Data(x=[23, 84], edge_index=[2, 48], edge_attr=[48, 7], y=[1, 1024]),\n",
       " Data(x=[23, 84], edge_index=[2, 48], edge_attr=[48, 7], y=[1, 1024]),\n",
       " Data(x=[31, 84], edge_index=[2, 68], edge_attr=[68, 7], y=[1, 1024]),\n",
       " Data(x=[31, 84], edge_index=[2, 68], edge_attr=[68, 7], y=[1, 1024]),\n",
       " Data(x=[31, 84], edge_index=[2, 68], edge_attr=[68, 7], y=[1, 1024]),\n",
       " Data(x=[31, 84], edge_index=[2, 68], edge_attr=[68, 7], y=[1, 1024]),\n",
       " Data(x=[31, 84], edge_index=[2, 68], edge_attr=[68, 7], y=[1, 1024]),\n",
       " Data(x=[31, 84], edge_index=[2, 68], edge_attr=[68, 7], y=[1, 1024]),\n",
       " Data(x=[31, 84], edge_index=[2, 68], edge_attr=[68, 7], y=[1, 1024]),\n",
       " Data(x=[31, 84], edge_index=[2, 68], edge_attr=[68, 7], y=[1, 1024])]"
      ]
     },
     "execution_count": 14,
     "metadata": {},
     "output_type": "execute_result"
    }
   ],
   "execution_count": 14
  },
  {
   "metadata": {
    "ExecuteTime": {
     "end_time": "2024-10-07T09:23:27.232879Z",
     "start_time": "2024-10-07T09:23:25.801905Z"
    }
   },
   "cell_type": "code",
   "source": [
    "batch_size = 32\n",
    "loader = DataLoader(data_list, batch_size=batch_size, shuffle=True, num_workers=1)\n",
    "\n",
    "for batch in loader:\n",
    "    print(batch)\n",
    "    print(f\"Batch size: {batch.num_graphs}\")\n",
    "    print(f\"Node feature shape: {batch.x.shape}\")         \n",
    "    print(f\"Edge index shape: {batch.edge_index.shape}\")  \n",
    "    print(f\"Edge feature shape: {batch.edge_attr.shape}\") \n",
    "    print(f\"Spectrum embedding shape: {batch.y.shape}\")  \n",
    "    break "
   ],
   "id": "a93cb800046f52e6",
   "outputs": [
    {
     "name": "stdout",
     "output_type": "stream",
     "text": [
      "DataBatch(x=[752, 84], edge_index=[2, 1584], edge_attr=[1584, 7], y=[32, 1024], batch=[752], ptr=[33])\n",
      "Batch size: 32\n",
      "Node feature shape: torch.Size([752, 84])\n",
      "Edge index shape: torch.Size([2, 1584])\n",
      "Edge feature shape: torch.Size([1584, 7])\n",
      "Spectrum embedding shape: torch.Size([32, 1024])\n"
     ]
    }
   ],
   "execution_count": 15
  },
  {
   "metadata": {
    "ExecuteTime": {
     "end_time": "2024-10-07T09:21:10.694674Z",
     "start_time": "2024-10-07T09:21:10.693319Z"
    }
   },
   "cell_type": "code",
   "source": "",
   "id": "d0ed9f4d5064a9c9",
   "outputs": [],
   "execution_count": null
  },
  {
   "metadata": {
    "ExecuteTime": {
     "end_time": "2024-10-07T09:21:10.703210Z",
     "start_time": "2024-10-07T09:21:10.701946Z"
    }
   },
   "cell_type": "code",
   "source": "",
   "id": "a4c3e5b75d164c19",
   "outputs": [],
   "execution_count": null
  },
  {
   "metadata": {
    "ExecuteTime": {
     "end_time": "2024-10-07T09:21:10.712068Z",
     "start_time": "2024-10-07T09:21:10.710795Z"
    }
   },
   "cell_type": "code",
   "source": "",
   "id": "4398e8bf39f00de",
   "outputs": [],
   "execution_count": null
  },
  {
   "metadata": {
    "ExecuteTime": {
     "end_time": "2024-10-07T09:21:10.720994Z",
     "start_time": "2024-10-07T09:21:10.719519Z"
    }
   },
   "cell_type": "code",
   "source": "",
   "id": "74497a81dea32b24",
   "outputs": [],
   "execution_count": null
  }
 ],
 "metadata": {
  "kernelspec": {
   "display_name": "Python 3",
   "language": "python",
   "name": "python3"
  },
  "language_info": {
   "codemirror_mode": {
    "name": "ipython",
    "version": 2
   },
   "file_extension": ".py",
   "mimetype": "text/x-python",
   "name": "python",
   "nbconvert_exporter": "python",
   "pygments_lexer": "ipython2",
   "version": "2.7.6"
  }
 },
 "nbformat": 4,
 "nbformat_minor": 5
}
