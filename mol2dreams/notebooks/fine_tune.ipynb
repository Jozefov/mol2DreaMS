{
 "cells": [
  {
   "cell_type": "code",
   "id": "initial_id",
   "metadata": {
    "collapsed": true,
    "ExecuteTime": {
     "end_time": "2024-10-10T05:47:10.579905Z",
     "start_time": "2024-10-10T05:47:09.166772Z"
    }
   },
   "source": [
    "import yaml\n",
    "from mol2dreams.utils.parser import (\n",
    "    build_model_from_config,\n",
    "    build_trainer_from_config)\n",
    "from mol2dreams.datasets.TripletDataset import TripletDataset"
   ],
   "outputs": [],
   "execution_count": 1
  },
  {
   "metadata": {
    "ExecuteTime": {
     "end_time": "2024-10-10T05:47:10.588683Z",
     "start_time": "2024-10-10T05:47:10.582960Z"
    }
   },
   "cell_type": "code",
   "source": [
    "with open(\"/Users/macbook/CODE/mol2DreaMS/mol2dreams/configs/local_config_triplet_cosine_fine_tune.yaml\") as stream:\n",
    "    config = yaml.safe_load(stream)"
   ],
   "id": "194a7c4082506c64",
   "outputs": [],
   "execution_count": 2
  },
  {
   "metadata": {
    "ExecuteTime": {
     "end_time": "2024-10-10T05:47:13.812035Z",
     "start_time": "2024-10-10T05:47:10.625388Z"
    }
   },
   "cell_type": "code",
   "source": "trainer = build_trainer_from_config(config)",
   "id": "32679678ad1aa27c",
   "outputs": [
    {
     "name": "stdout",
     "output_type": "stream",
     "text": [
      "Loaded pretrained weights from /Users/macbook/CODE/mol2DreaMS/data/logs/mol2dreams/20241010_072128_mol2dreams/best_model.pt\n"
     ]
    },
    {
     "name": "stderr",
     "output_type": "stream",
     "text": [
      "/Users/macbook/UTILS/anaconda3/envs/mol2dreams/lib/python3.11/site-packages/torch/nn/utils/weight_norm.py:28: UserWarning: torch.nn.utils.weight_norm is deprecated in favor of torch.nn.utils.parametrizations.weight_norm.\n",
      "  warnings.warn(\"torch.nn.utils.weight_norm is deprecated in favor of torch.nn.utils.parametrizations.weight_norm.\")\n"
     ]
    }
   ],
   "execution_count": 3
  },
  {
   "metadata": {
    "ExecuteTime": {
     "end_time": "2024-10-10T05:47:16.051480Z",
     "start_time": "2024-10-10T05:47:13.816675Z"
    }
   },
   "cell_type": "code",
   "source": "trainer.test()",
   "id": "a19988f2e1228798",
   "outputs": [
    {
     "name": "stdout",
     "output_type": "stream",
     "text": [
      "Test Loss: 0.3614, Pos Cosine: 1.0000, Neg Cosine: 0.7386\n"
     ]
    }
   ],
   "execution_count": 4
  },
  {
   "metadata": {
    "ExecuteTime": {
     "end_time": "2024-10-10T05:48:30.164090Z",
     "start_time": "2024-10-10T05:47:16.112891Z"
    }
   },
   "cell_type": "code",
   "source": "trainer.train()",
   "id": "a44fbe3be9e01c3e",
   "outputs": [
    {
     "name": "stdout",
     "output_type": "stream",
     "text": [
      "Epoch [1/10], Loss: 0.1375, Pos Sim: 0.9640, Neg Sim: 0.9266\n",
      "Epoch [2/10], Loss: 0.1016, Pos Sim: 0.9774, Neg Sim: 0.9758\n",
      "Validation Loss: 0.1059, Pos Sim: 1.0000, Neg Sim: 0.9941\n",
      "Best model saved at epoch 2 with validation loss 0.1059\n",
      "Model checkpoint saved at ../../data/logs/mol2dreams/20241010_074713_mol2dreams/model_epoch_2.pt\n",
      "Epoch [3/10], Loss: 0.1010, Pos Sim: 0.9813, Neg Sim: 0.9803\n",
      "Epoch [4/10], Loss: 0.1005, Pos Sim: 0.9836, Neg Sim: 0.9831\n",
      "Validation Loss: 0.1035, Pos Sim: 1.0000, Neg Sim: 0.9965\n",
      "Best model saved at epoch 4 with validation loss 0.1035\n",
      "Model checkpoint saved at ../../data/logs/mol2dreams/20241010_074713_mol2dreams/model_epoch_4.pt\n",
      "Epoch [5/10], Loss: 0.1004, Pos Sim: 0.9850, Neg Sim: 0.9846\n",
      "Epoch [6/10], Loss: 0.1004, Pos Sim: 0.9860, Neg Sim: 0.9856\n",
      "Validation Loss: 0.1024, Pos Sim: 1.0000, Neg Sim: 0.9976\n",
      "Best model saved at epoch 6 with validation loss 0.1024\n",
      "Model checkpoint saved at ../../data/logs/mol2dreams/20241010_074713_mol2dreams/model_epoch_6.pt\n",
      "Epoch [7/10], Loss: 0.1001, Pos Sim: 0.9865, Neg Sim: 0.9863\n",
      "Epoch [8/10], Loss: 0.1002, Pos Sim: 0.9872, Neg Sim: 0.9870\n",
      "Validation Loss: 0.1022, Pos Sim: 1.0000, Neg Sim: 0.9978\n",
      "Best model saved at epoch 8 with validation loss 0.1022\n",
      "Model checkpoint saved at ../../data/logs/mol2dreams/20241010_074713_mol2dreams/model_epoch_8.pt\n",
      "Epoch [9/10], Loss: 0.1003, Pos Sim: 0.9880, Neg Sim: 0.9877\n",
      "Epoch [10/10], Loss: 0.1002, Pos Sim: 0.9891, Neg Sim: 0.9889\n",
      "Validation Loss: 0.1018, Pos Sim: 1.0000, Neg Sim: 0.9982\n",
      "Best model saved at epoch 10 with validation loss 0.1018\n",
      "Model checkpoint saved at ../../data/logs/mol2dreams/20241010_074713_mol2dreams/model_epoch_10.pt\n"
     ]
    }
   ],
   "execution_count": 5
  },
  {
   "metadata": {
    "ExecuteTime": {
     "end_time": "2024-10-10T05:48:32.540142Z",
     "start_time": "2024-10-10T05:48:30.170045Z"
    }
   },
   "cell_type": "code",
   "source": "trainer.test()",
   "id": "29609b7f5f16604d",
   "outputs": [
    {
     "name": "stdout",
     "output_type": "stream",
     "text": [
      "Test Loss: 0.1018, Pos Cosine: 1.0000, Neg Cosine: 0.9982\n"
     ]
    }
   ],
   "execution_count": 6
  },
  {
   "metadata": {
    "ExecuteTime": {
     "end_time": "2024-10-10T05:48:32.603407Z",
     "start_time": "2024-10-10T05:48:32.601917Z"
    }
   },
   "cell_type": "code",
   "source": "",
   "id": "8ba68ad63ab07669",
   "outputs": [],
   "execution_count": null
  }
 ],
 "metadata": {
  "kernelspec": {
   "display_name": "Python 3",
   "language": "python",
   "name": "python3"
  },
  "language_info": {
   "codemirror_mode": {
    "name": "ipython",
    "version": 2
   },
   "file_extension": ".py",
   "mimetype": "text/x-python",
   "name": "python",
   "nbconvert_exporter": "python",
   "pygments_lexer": "ipython2",
   "version": "2.7.6"
  }
 },
 "nbformat": 4,
 "nbformat_minor": 5
}
