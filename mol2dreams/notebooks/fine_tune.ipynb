{
 "cells": [
  {
   "cell_type": "code",
   "id": "initial_id",
   "metadata": {
    "collapsed": true,
    "ExecuteTime": {
     "end_time": "2024-10-09T15:05:59.106662Z",
     "start_time": "2024-10-09T15:05:59.103433Z"
    }
   },
   "source": [
    "import yaml\n",
    "from mol2dreams.utils.parser import (\n",
    "    build_model_from_config,\n",
    "    build_trainer_from_config)\n",
    "from mol2dreams.datasets.TripletDataset import TripletDataset"
   ],
   "outputs": [],
   "execution_count": 5
  },
  {
   "metadata": {
    "ExecuteTime": {
     "end_time": "2024-10-09T15:06:00.646980Z",
     "start_time": "2024-10-09T15:06:00.638950Z"
    }
   },
   "cell_type": "code",
   "source": [
    "with open(\"/Users/macbook/CODE/mol2DreaMS/mol2dreams/configs/local_config_fine_tune_triplet.yaml\") as stream:\n",
    "    config = yaml.safe_load(stream)"
   ],
   "id": "194a7c4082506c64",
   "outputs": [],
   "execution_count": 6
  },
  {
   "metadata": {
    "ExecuteTime": {
     "end_time": "2024-10-09T15:06:05.371720Z",
     "start_time": "2024-10-09T15:06:01.995033Z"
    }
   },
   "cell_type": "code",
   "source": "trainer = build_trainer_from_config(config)",
   "id": "32679678ad1aa27c",
   "outputs": [
    {
     "name": "stdout",
     "output_type": "stream",
     "text": [
      "Loaded pretrained weights from /Users/macbook/CODE/mol2DreaMS/data/logs/mol2dreams/best_model.pt\n"
     ]
    }
   ],
   "execution_count": 7
  },
  {
   "metadata": {
    "ExecuteTime": {
     "end_time": "2024-10-09T15:06:15.493430Z",
     "start_time": "2024-10-09T15:06:13.060803Z"
    }
   },
   "cell_type": "code",
   "source": "trainer.test()",
   "id": "a19988f2e1228798",
   "outputs": [
    {
     "name": "stdout",
     "output_type": "stream",
     "text": [
      "Test Loss: 0.0017, Pos Dist: 0.0005, Neg Dist: 23.8343\n"
     ]
    }
   ],
   "execution_count": 8
  },
  {
   "metadata": {
    "ExecuteTime": {
     "end_time": "2024-10-09T15:07:40.827637Z",
     "start_time": "2024-10-09T15:06:25.470414Z"
    }
   },
   "cell_type": "code",
   "source": "trainer.train()",
   "id": "a44fbe3be9e01c3e",
   "outputs": [
    {
     "name": "stdout",
     "output_type": "stream",
     "text": [
      "Epoch [1/10], Loss: 0.1222, Pos Dist: 4.6389, Neg Dist: 13.1186\n",
      "Epoch [2/10], Loss: 0.0636, Pos Dist: 5.3190, Neg Dist: 17.7120\n",
      "Validation Loss: 0.0021, Pos Dist: 0.0019, Neg Dist: 17.5857\n",
      "Best model saved at epoch 2 with validation loss 0.0021\n",
      "Model checkpoint saved at ../../data/logs/mol2dreams/20241009_170605_mol2dreams/model_epoch_2.pt\n",
      "Epoch [3/10], Loss: 0.0579, Pos Dist: 5.4286, Neg Dist: 17.5011\n",
      "Epoch [4/10], Loss: 0.0504, Pos Dist: 5.4089, Neg Dist: 18.1001\n",
      "Validation Loss: 0.0020, Pos Dist: 0.0006, Neg Dist: 17.6245\n",
      "Best model saved at epoch 4 with validation loss 0.0020\n",
      "Model checkpoint saved at ../../data/logs/mol2dreams/20241009_170605_mol2dreams/model_epoch_4.pt\n",
      "Epoch [5/10], Loss: 0.0568, Pos Dist: 5.4566, Neg Dist: 19.4341\n",
      "Epoch [6/10], Loss: 0.0440, Pos Dist: 6.1568, Neg Dist: 22.6493\n",
      "Validation Loss: 0.0012, Pos Dist: 0.0018, Neg Dist: 24.1339\n",
      "Best model saved at epoch 6 with validation loss 0.0012\n",
      "Model checkpoint saved at ../../data/logs/mol2dreams/20241009_170605_mol2dreams/model_epoch_6.pt\n",
      "Epoch [7/10], Loss: 0.0461, Pos Dist: 6.4102, Neg Dist: 25.4160\n",
      "Epoch [8/10], Loss: 0.0465, Pos Dist: 6.7204, Neg Dist: 25.6796\n",
      "Validation Loss: 0.0005, Pos Dist: 0.0016, Neg Dist: 23.3681\n",
      "Best model saved at epoch 8 with validation loss 0.0005\n",
      "Model checkpoint saved at ../../data/logs/mol2dreams/20241009_170605_mol2dreams/model_epoch_8.pt\n",
      "Epoch [9/10], Loss: 0.0306, Pos Dist: 6.5687, Neg Dist: 25.6146\n",
      "Epoch [10/10], Loss: 0.0259, Pos Dist: 6.4265, Neg Dist: 26.4769\n",
      "Validation Loss: 0.0006, Pos Dist: 0.0033, Neg Dist: 25.9217\n",
      "Model checkpoint saved at ../../data/logs/mol2dreams/20241009_170605_mol2dreams/model_epoch_10.pt\n"
     ]
    }
   ],
   "execution_count": 9
  },
  {
   "metadata": {
    "ExecuteTime": {
     "end_time": "2024-10-09T15:08:21.700343Z",
     "start_time": "2024-10-09T15:08:19.131663Z"
    }
   },
   "cell_type": "code",
   "source": "trainer.test()",
   "id": "29609b7f5f16604d",
   "outputs": [
    {
     "name": "stdout",
     "output_type": "stream",
     "text": [
      "Test Loss: 0.0012, Pos Dist: 0.0039, Neg Dist: 26.0174\n"
     ]
    }
   ],
   "execution_count": 10
  }
 ],
 "metadata": {
  "kernelspec": {
   "display_name": "Python 3",
   "language": "python",
   "name": "python3"
  },
  "language_info": {
   "codemirror_mode": {
    "name": "ipython",
    "version": 2
   },
   "file_extension": ".py",
   "mimetype": "text/x-python",
   "name": "python",
   "nbconvert_exporter": "python",
   "pygments_lexer": "ipython2",
   "version": "2.7.6"
  }
 },
 "nbformat": 4,
 "nbformat_minor": 5
}
