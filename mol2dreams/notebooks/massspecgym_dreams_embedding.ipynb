{
 "cells": [
  {
   "cell_type": "code",
   "id": "initial_id",
   "metadata": {
    "collapsed": true,
    "ExecuteTime": {
     "end_time": "2024-10-07T09:29:54.962030Z",
     "start_time": "2024-10-07T09:29:50.059761Z"
    }
   },
   "source": [
    "import random\n",
    "from cgitb import small\n",
    "\n",
    "import tqdm\n",
    "import numpy as np\n",
    "import h5py\n",
    "import torch\n",
    "import pandas as pd\n",
    "import matplotlib.pyplot as plt\n",
    "from dreams.utils.data import MSData\n",
    "from dreams.api import dreams_embeddings\n",
    "from dreams.utils.plots import init_plotting\n",
    "from dreams.utils.mols import formula_type\n",
    "from dreams.definitions import DREAMS_EMBEDDING\n",
    "from matchms.importing import load_from_mgf\n",
    "from matchms.exporting import save_as_mgf\n",
    "from mol2dreams.featurizer.featurize import MoleculeFeaturizer\n",
    "from mol2dreams.utils.data import prepare_datasets\n",
    "from mol2dreams.featurizer.atom_features import AtomFeaturizer\n",
    "from mol2dreams.featurizer.bond_features import BondFeaturizer"
   ],
   "outputs": [
    {
     "name": "stderr",
     "output_type": "stream",
     "text": [
      "/var/folders/bl/73ckjztx5js4cc0cj85qgvlm0000gn/T/ipykernel_43067/1913502961.py:2: DeprecationWarning: 'cgitb' is deprecated and slated for removal in Python 3.13\n",
      "  from cgitb import small\n",
      "/Users/macbook/UTILS/anaconda3/envs/mol2dreams/lib/python3.11/site-packages/tqdm/auto.py:21: TqdmWarning: IProgress not found. Please update jupyter and ipywidgets. See https://ipywidgets.readthedocs.io/en/stable/user_install.html\n",
      "  from .autonotebook import tqdm as notebook_tqdm\n",
      "Determination of memory status is not supported on this \n",
      " platform, measuring for memoryleaks will never fail\n"
     ]
    }
   ],
   "execution_count": 1
  },
  {
   "metadata": {
    "ExecuteTime": {
     "end_time": "2024-10-07T09:29:55.098254Z",
     "start_time": "2024-10-07T09:29:54.967892Z"
    }
   },
   "cell_type": "code",
   "source": [
    "hdf5_path = \"../../data/data/MassSpecGym_DreaMS.hdf5\"\n",
    "msdata = MSData.from_hdf5(hdf5_path, prec_mz_col='precursor_mz')\n",
    "embs = msdata[DREAMS_EMBEDDING]\n",
    "embs.shape"
   ],
   "id": "d9553df755e2165f",
   "outputs": [
    {
     "data": {
      "text/plain": [
       "(213548, 1024)"
      ]
     },
     "execution_count": 2,
     "metadata": {},
     "output_type": "execute_result"
    }
   ],
   "execution_count": 2
  },
  {
   "metadata": {},
   "cell_type": "markdown",
   "source": "## Connect",
   "id": "48f94b575fa6f1f6"
  },
  {
   "metadata": {
    "ExecuteTime": {
     "end_time": "2024-10-07T09:29:55.140874Z",
     "start_time": "2024-10-07T09:29:55.138424Z"
    }
   },
   "cell_type": "code",
   "source": [
    "bond_config = {\n",
    "    'features': {\n",
    "        'bond_type': True,\n",
    "        'conjugated': True,\n",
    "        'in_ring': True,\n",
    "        'stereochemistry': False,\n",
    "    }\n",
    "}\n",
    "\n",
    "atom_config = {\n",
    "    'features': {\n",
    "        'atom_symbol': True,\n",
    "        'total_valence': True,\n",
    "        'aromatic': True,\n",
    "        'hybridization': True,\n",
    "        'formal_charge': True,\n",
    "        'default_valence': True,\n",
    "        'ring_size': True,        \n",
    "        'hydrogen_count': True,\n",
    "    },\n",
    "    'feature_attributes': {\n",
    "        'atom_symbol': {\n",
    "            'top_n_atoms': 42,     \n",
    "            'include_other': True,    \n",
    "        },\n",
    "\n",
    "    }\n",
    "}"
   ],
   "id": "621eece674798da6",
   "outputs": [],
   "execution_count": 3
  },
  {
   "metadata": {},
   "cell_type": "markdown",
   "source": "## Computing embeddings",
   "id": "20f15a5f6878385"
  },
  {
   "metadata": {
    "ExecuteTime": {
     "end_time": "2024-10-07T09:29:55.147474Z",
     "start_time": "2024-10-07T09:29:55.145309Z"
    }
   },
   "cell_type": "code",
   "source": [
    "def extract_first_n_spectra(original_mgf_path, new_mgf_path, n=50):\n",
    "\n",
    "    spectra = load_from_mgf(original_mgf_path)\n",
    "\n",
    "    first_n_spectra = []\n",
    "    for i, spectrum in enumerate(spectra):\n",
    "        if i >= n:\n",
    "            break\n",
    "        first_n_spectra.append(spectrum)\n",
    "\n",
    "    save_as_mgf(first_n_spectra, new_mgf_path)\n",
    "    print(f\"Extracted {len(first_n_spectra)} spectra and saved to {new_mgf_path}\")\n",
    "\n",
    "# # Example usage\n",
    "# original_mgf = \"../../data/data/MassSpecGym.mgf\"\n",
    "# new_mgf = \"../../data/data/MassSpecGym_first50.mgf\"\n",
    "# extract_first_n_spectra(original_mgf, new_mgf, n=50)"
   ],
   "id": "36fa07488b29aef7",
   "outputs": [],
   "execution_count": 4
  },
  {
   "metadata": {
    "ExecuteTime": {
     "end_time": "2024-10-07T09:38:49.084550Z",
     "start_time": "2024-10-07T09:38:45.227135Z"
    }
   },
   "cell_type": "code",
   "source": [
    "new_mgf = \"../../data/data/MassSpecGym_first50.mgf\"\n",
    "dreams_embs_50 = dreams_embeddings(new_mgf, prec_mz_col='PRECURSOR_MZ')"
   ],
   "id": "6048b50e52c6f7e2",
   "outputs": [
    {
     "name": "stderr",
     "output_type": "stream",
     "text": [
      "Computing DreaMS embedding: 100%|██████████| 50/50 [00:01<00:00, 43.97it/s]\n"
     ]
    }
   ],
   "execution_count": 17
  },
  {
   "metadata": {},
   "cell_type": "markdown",
   "source": "## Preparing dataset",
   "id": "320127e7288013d0"
  },
  {
   "metadata": {
    "ExecuteTime": {
     "end_time": "2024-10-07T09:29:55.160045Z",
     "start_time": "2024-10-07T09:29:55.157403Z"
    }
   },
   "cell_type": "code",
   "source": [
    "# def prepare_datasets(msdata, embs, splits=['train', 'val', 'test'], \n",
    "#                     smiles_col='smiles', embedding_col='DreaMS_embedding', fold_col='FOLD',\n",
    "#                     extra_cols=['COLLISION_ENERGY', 'adduct', 'precursor_mz']):\n",
    "#     \"\"\"\n",
    "#     Prepares train, validation, and test datasets from MSData and embeddings, ensuring unique IDENTIFIERs.\n",
    "# \n",
    "#     Args:\n",
    "#         msdata (MSData): The MSData object loaded from HDF5.\n",
    "#         embs (np.ndarray or torch.Tensor): Embeddings matrix with shape [num_samples, embedding_size].\n",
    "#         splits (list of str): List of fold names to extract. Default is ['train', 'valid', 'test'].\n",
    "#         smiles_col (str): Column name for SMILES strings in the DataFrame. Default is 'smiles'.\n",
    "#         embedding_col (str): Column name for embeddings in the DataFrame. Default is 'DreaMS_embedding'.\n",
    "#         fold_col (str): Column name for fold attribute in the DataFrame. Default is 'FOLD'.\n",
    "#         extra_cols (list of str): Additional columns to include in the datasets.\n",
    "# \n",
    "#     Returns:\n",
    "#         dict: A dictionary where keys are split names and values are lists of dictionaries \n",
    "#               with 'smiles', 'embedding', and extra attributes.\n",
    "#     \"\"\"\n",
    "#     # Convert msdata to pandas DataFrame\n",
    "#     df = msdata.to_pandas()\n",
    "#     \n",
    "#     # Check alignment\n",
    "#     num_rows = df.shape[0]\n",
    "#     if embs.shape[0] != num_rows:\n",
    "#         raise ValueError(f\"Number of embeddings ({embs.shape[0]}) does not match number of data samples ({num_rows}).\")\n",
    "#     \n",
    "#     # Assign embeddings to the DataFrame\n",
    "#     # Ensure embeddings are numpy arrays\n",
    "#     if isinstance(embs, torch.Tensor):\n",
    "#         embs = embs.numpy()\n",
    "#     elif not isinstance(embs, np.ndarray):\n",
    "#         embs = np.array(embs)\n",
    "#     \n",
    "#     df[embedding_col] = list(embs)\n",
    "#     \n",
    "#     datasets = {split: [] for split in splits}\n",
    "#     \n",
    "# \n",
    "#     for split in splits:\n",
    "#         split_df = df[df[fold_col] == split].reset_index(drop=True)\n",
    "#         print(f\"Processing split '{split}' with {len(split_df)} samples.\")\n",
    "#         \n",
    "#         for idx, row in tqdm.tqdm(split_df.iterrows(), total=split_df.shape[0], desc=f\"Featurizing {split}\"):\n",
    "#             identifier = row.get('IDENTIFIER', None)\n",
    "#             smiles = row.get(smiles_col, None)\n",
    "#             embedding = row.get(embedding_col, None)\n",
    "#             \n",
    "#             extra_attrs = {col: row.get(col, None) for col in extra_cols}\n",
    "#             \n",
    "#             if pd.isna(smiles):\n",
    "#                 print(f\"Skipping row {idx} due to missing SMILES.\")\n",
    "#                 continue\n",
    "#             if pd.isna(identifier):\n",
    "#                 print(f\"Skipping row {idx} due to missing IDENTIFIER.\")\n",
    "#                 continue\n",
    "#             if embedding is None or len(embedding) != embs.shape[1]:\n",
    "#                 print(f\"Skipping row {idx} due to invalid embedding.\")\n",
    "#                 continue\n",
    "#             \n",
    "#             datasets[split].append({\n",
    "#                 'IDENTIFIER': identifier,\n",
    "#                 'smiles': smiles,\n",
    "#                 'embedding': embedding,\n",
    "#                 **extra_attrs\n",
    "#             })\n",
    "#     \n",
    "#     unique_folds = df[fold_col].unique()\n",
    "#     additional_folds = set(unique_folds) - set(splits)\n",
    "#     for split in additional_folds:\n",
    "#         split_df = df[df[fold_col] == split].reset_index(drop=True)\n",
    "#         print(f\"Processing additional split '{split}' with {len(split_df)} samples.\")\n",
    "#         datasets[split] = []\n",
    "#         for idx, row in tqdm(split_df.iterrows(), total=split_df.shape[0], desc=f\"Featurizing {split}\"):\n",
    "#             identifier = row.get('IDENTIFIER', None)\n",
    "#             smiles = row.get(smiles_col, None)\n",
    "#             embedding = row.get(embedding_col, None)\n",
    "#             \n",
    "#             extra_attrs = {col: row.get(col, None) for col in extra_cols}\n",
    "# \n",
    "#             if pd.isna(smiles):\n",
    "#                 print(f\"Skipping row {idx} in split '{split}' due to missing SMILES.\")\n",
    "#                 continue\n",
    "#             if pd.isna(identifier):\n",
    "#                 print(f\"Skipping row {idx} in split '{split}' due to missing IDENTIFIER.\")\n",
    "#                 continue\n",
    "#             if embedding is None or len(embedding) != embs.shape[1]:\n",
    "#                 print(f\"Skipping row {idx} in split '{split}' due to invalid embedding.\")\n",
    "#                 continue\n",
    "#             \n",
    "#             datasets[split].append({\n",
    "#                 'IDENTIFIER': identifier,\n",
    "#                 'smiles': smiles,\n",
    "#                 'embedding': embedding,\n",
    "#                 **extra_attrs\n",
    "#             })\n",
    "#     \n",
    "#     return datasets"
   ],
   "id": "87713a00e046a0f6",
   "outputs": [],
   "execution_count": 6
  },
  {
   "metadata": {
    "ExecuteTime": {
     "end_time": "2024-10-07T09:29:55.165698Z",
     "start_time": "2024-10-07T09:29:55.164227Z"
    }
   },
   "cell_type": "code",
   "source": [
    "# hdf5_path = \"../../data/data/MassSpecGym_DreaMS.hdf5\"\n",
    "# msdata = MSData.from_hdf5(hdf5_path, prec_mz_col='precursor_mz')"
   ],
   "id": "a30010d1895d01d8",
   "outputs": [],
   "execution_count": 7
  },
  {
   "metadata": {
    "ExecuteTime": {
     "end_time": "2024-10-07T09:29:55.173353Z",
     "start_time": "2024-10-07T09:29:55.171040Z"
    }
   },
   "cell_type": "code",
   "source": "msdata.columns()",
   "id": "1acf75dd4ff76749",
   "outputs": [
    {
     "data": {
      "text/plain": [
       "['COLLISION_ENERGY',\n",
       " 'DreaMS_embedding',\n",
       " 'FOLD',\n",
       " 'FORMULA',\n",
       " 'IDENTIFIER',\n",
       " 'INCHIKEY',\n",
       " 'INSTRUMENT_TYPE',\n",
       " 'PARENT_MASS',\n",
       " 'PRECURSOR_FORMULA',\n",
       " 'SIMULATION_CHALLENGE',\n",
       " 'adduct',\n",
       " 'precursor_mz',\n",
       " 'smiles',\n",
       " 'spectrum']"
      ]
     },
     "execution_count": 8,
     "metadata": {},
     "output_type": "execute_result"
    }
   ],
   "execution_count": 8
  },
  {
   "metadata": {
    "ExecuteTime": {
     "end_time": "2024-10-07T09:30:00.799774Z",
     "start_time": "2024-10-07T09:29:55.184504Z"
    }
   },
   "cell_type": "code",
   "source": [
    "embs = msdata[DREAMS_EMBEDDING]  \n",
    "extra_features = ['COLLISION_ENERGY', 'adduct', 'precursor_mz']\n",
    "# Prepare datasets\n",
    "datasets = prepare_datasets(\n",
    "    msdata=msdata, \n",
    "    embs=embs, \n",
    "    splits=['train', 'val'],  # Include 'test' if present\n",
    "    smiles_col='smiles', \n",
    "    embedding_col='DreaMS_embedding', \n",
    "    fold_col='FOLD'\n",
    ")\n"
   ],
   "id": "72781e0698facaf0",
   "outputs": [
    {
     "name": "stdout",
     "output_type": "stream",
     "text": [
      "Processing split 'train' with 194119 samples.\n"
     ]
    },
    {
     "name": "stderr",
     "output_type": "stream",
     "text": [
      "Featurizing train: 100%|██████████| 194119/194119 [00:03<00:00, 53170.64it/s]\n"
     ]
    },
    {
     "name": "stdout",
     "output_type": "stream",
     "text": [
      "Processing split 'val' with 19429 samples.\n"
     ]
    },
    {
     "name": "stderr",
     "output_type": "stream",
     "text": [
      "Featurizing val: 100%|██████████| 19429/19429 [00:00<00:00, 51265.86it/s]\n"
     ]
    }
   ],
   "execution_count": 9
  },
  {
   "metadata": {
    "ExecuteTime": {
     "end_time": "2024-10-07T09:30:00.807549Z",
     "start_time": "2024-10-07T09:30:00.805753Z"
    }
   },
   "cell_type": "code",
   "source": "# datasets",
   "id": "35020694fefab459",
   "outputs": [],
   "execution_count": 10
  },
  {
   "metadata": {
    "ExecuteTime": {
     "end_time": "2024-10-07T09:30:00.813771Z",
     "start_time": "2024-10-07T09:30:00.812372Z"
    }
   },
   "cell_type": "code",
   "source": "# datasets['val']",
   "id": "8ec95b32155e6ddb",
   "outputs": [],
   "execution_count": 11
  },
  {
   "metadata": {
    "ExecuteTime": {
     "end_time": "2024-10-07T09:30:00.820309Z",
     "start_time": "2024-10-07T09:30:00.818792Z"
    }
   },
   "cell_type": "code",
   "source": [
    "small_dataset = {}\n",
    "small_dataset['valid'] = datasets['train'][:50]\n",
    "small_dataset['valid'] = datasets['val'][:50]"
   ],
   "id": "e56941028eb807f8",
   "outputs": [],
   "execution_count": 12
  },
  {
   "metadata": {
    "ExecuteTime": {
     "end_time": "2024-10-07T09:30:01.516287Z",
     "start_time": "2024-10-07T09:30:00.826817Z"
    }
   },
   "cell_type": "code",
   "source": [
    "spectrum_embedding_size = 1024 \n",
    "featurizer = MoleculeFeaturizer(atom_config, bond_config, spectrum_embedding_size)\n",
    "\n",
    "data_list_train = featurizer.featurize_dataset(\n",
    "    small_dataset['valid'], include_extra_attr=True)\n",
    "\n",
    "data_list_valid = featurizer.featurize_dataset(\n",
    "    small_dataset['valid'], include_extra_attr=True)\n",
    "\n",
    "print(f\"Number of successfully featurized training molecules: {len(data_list_train)}\")\n",
    "print(f\"Number of successfully featurized validation molecules: {len(data_list_valid)}\")"
   ],
   "id": "26c1b27e83143cb3",
   "outputs": [
    {
     "name": "stderr",
     "output_type": "stream",
     "text": [
      "Featurizing dataset: 100%|██████████| 50/50 [00:00<00:00, 145.01it/s]\n",
      "Featurizing dataset: 100%|██████████| 50/50 [00:00<00:00, 146.77it/s]"
     ]
    },
    {
     "name": "stdout",
     "output_type": "stream",
     "text": [
      "Number of successfully featurized training molecules: 50\n",
      "Number of successfully featurized validation molecules: 50\n"
     ]
    },
    {
     "name": "stderr",
     "output_type": "stream",
     "text": [
      "\n"
     ]
    }
   ],
   "execution_count": 13
  },
  {
   "metadata": {
    "ExecuteTime": {
     "end_time": "2024-10-07T09:30:01.529239Z",
     "start_time": "2024-10-07T09:30:01.526194Z"
    }
   },
   "cell_type": "code",
   "source": "data_list_train",
   "id": "d47a552288c82dc1",
   "outputs": [
    {
     "data": {
      "text/plain": [
       "[Data(x=[64, 84], edge_index=[2, 128], edge_attr=[128, 7], y=[1, 1024], IDENTIFIER=[1], COLLISION_ENERGY=[1, 1], adduct=[1], precursor_mz=[1, 1]),\n",
       " Data(x=[64, 84], edge_index=[2, 128], edge_attr=[128, 7], y=[1, 1024], IDENTIFIER=[1], COLLISION_ENERGY=[1, 1], adduct=[1], precursor_mz=[1, 1]),\n",
       " Data(x=[64, 84], edge_index=[2, 128], edge_attr=[128, 7], y=[1, 1024], IDENTIFIER=[1], COLLISION_ENERGY=[1, 1], adduct=[1], precursor_mz=[1, 1]),\n",
       " Data(x=[64, 84], edge_index=[2, 128], edge_attr=[128, 7], y=[1, 1024], IDENTIFIER=[1], COLLISION_ENERGY=[1, 1], adduct=[1], precursor_mz=[1, 1]),\n",
       " Data(x=[64, 84], edge_index=[2, 128], edge_attr=[128, 7], y=[1, 1024], IDENTIFIER=[1], COLLISION_ENERGY=[1, 1], adduct=[1], precursor_mz=[1, 1]),\n",
       " Data(x=[64, 84], edge_index=[2, 128], edge_attr=[128, 7], y=[1, 1024], IDENTIFIER=[1], COLLISION_ENERGY=[1, 1], adduct=[1], precursor_mz=[1, 1]),\n",
       " Data(x=[42, 84], edge_index=[2, 96], edge_attr=[96, 7], y=[1, 1024], IDENTIFIER=[1], COLLISION_ENERGY=[1, 1], adduct=[1], precursor_mz=[1, 1]),\n",
       " Data(x=[42, 84], edge_index=[2, 96], edge_attr=[96, 7], y=[1, 1024], IDENTIFIER=[1], COLLISION_ENERGY=[1, 1], adduct=[1], precursor_mz=[1, 1]),\n",
       " Data(x=[42, 84], edge_index=[2, 96], edge_attr=[96, 7], y=[1, 1024], IDENTIFIER=[1], COLLISION_ENERGY=[1, 1], adduct=[1], precursor_mz=[1, 1]),\n",
       " Data(x=[42, 84], edge_index=[2, 96], edge_attr=[96, 7], y=[1, 1024], IDENTIFIER=[1], COLLISION_ENERGY=[1, 1], adduct=[1], precursor_mz=[1, 1]),\n",
       " Data(x=[42, 84], edge_index=[2, 96], edge_attr=[96, 7], y=[1, 1024], IDENTIFIER=[1], COLLISION_ENERGY=[1, 1], adduct=[1], precursor_mz=[1, 1]),\n",
       " Data(x=[42, 84], edge_index=[2, 96], edge_attr=[96, 7], y=[1, 1024], IDENTIFIER=[1], COLLISION_ENERGY=[1, 1], adduct=[1], precursor_mz=[1, 1]),\n",
       " Data(x=[42, 84], edge_index=[2, 96], edge_attr=[96, 7], y=[1, 1024], IDENTIFIER=[1], COLLISION_ENERGY=[1, 1], adduct=[1], precursor_mz=[1, 1]),\n",
       " Data(x=[42, 84], edge_index=[2, 96], edge_attr=[96, 7], y=[1, 1024], IDENTIFIER=[1], COLLISION_ENERGY=[1, 1], adduct=[1], precursor_mz=[1, 1]),\n",
       " Data(x=[42, 84], edge_index=[2, 96], edge_attr=[96, 7], y=[1, 1024], IDENTIFIER=[1], COLLISION_ENERGY=[1, 1], adduct=[1], precursor_mz=[1, 1]),\n",
       " Data(x=[49, 84], edge_index=[2, 96], edge_attr=[96, 7], y=[1, 1024], IDENTIFIER=[1], COLLISION_ENERGY=[1, 1], adduct=[1], precursor_mz=[1, 1]),\n",
       " Data(x=[49, 84], edge_index=[2, 96], edge_attr=[96, 7], y=[1, 1024], IDENTIFIER=[1], COLLISION_ENERGY=[1, 1], adduct=[1], precursor_mz=[1, 1]),\n",
       " Data(x=[49, 84], edge_index=[2, 96], edge_attr=[96, 7], y=[1, 1024], IDENTIFIER=[1], COLLISION_ENERGY=[1, 1], adduct=[1], precursor_mz=[1, 1]),\n",
       " Data(x=[49, 84], edge_index=[2, 96], edge_attr=[96, 7], y=[1, 1024], IDENTIFIER=[1], COLLISION_ENERGY=[1, 1], adduct=[1], precursor_mz=[1, 1]),\n",
       " Data(x=[49, 84], edge_index=[2, 96], edge_attr=[96, 7], y=[1, 1024], IDENTIFIER=[1], COLLISION_ENERGY=[1, 1], adduct=[1], precursor_mz=[1, 1]),\n",
       " Data(x=[49, 84], edge_index=[2, 96], edge_attr=[96, 7], y=[1, 1024], IDENTIFIER=[1], COLLISION_ENERGY=[1, 1], adduct=[1], precursor_mz=[1, 1]),\n",
       " Data(x=[49, 84], edge_index=[2, 96], edge_attr=[96, 7], y=[1, 1024], IDENTIFIER=[1], COLLISION_ENERGY=[1, 1], adduct=[1], precursor_mz=[1, 1]),\n",
       " Data(x=[49, 84], edge_index=[2, 96], edge_attr=[96, 7], y=[1, 1024], IDENTIFIER=[1], COLLISION_ENERGY=[1, 1], adduct=[1], precursor_mz=[1, 1]),\n",
       " Data(x=[49, 84], edge_index=[2, 96], edge_attr=[96, 7], y=[1, 1024], IDENTIFIER=[1], COLLISION_ENERGY=[1, 1], adduct=[1], precursor_mz=[1, 1]),\n",
       " Data(x=[49, 84], edge_index=[2, 96], edge_attr=[96, 7], y=[1, 1024], IDENTIFIER=[1], COLLISION_ENERGY=[1, 1], adduct=[1], precursor_mz=[1, 1]),\n",
       " Data(x=[49, 84], edge_index=[2, 96], edge_attr=[96, 7], y=[1, 1024], IDENTIFIER=[1], COLLISION_ENERGY=[1, 1], adduct=[1], precursor_mz=[1, 1]),\n",
       " Data(x=[49, 84], edge_index=[2, 96], edge_attr=[96, 7], y=[1, 1024], IDENTIFIER=[1], COLLISION_ENERGY=[1, 1], adduct=[1], precursor_mz=[1, 1]),\n",
       " Data(x=[49, 84], edge_index=[2, 96], edge_attr=[96, 7], y=[1, 1024], IDENTIFIER=[1], COLLISION_ENERGY=[1, 1], adduct=[1], precursor_mz=[1, 1]),\n",
       " Data(x=[49, 84], edge_index=[2, 96], edge_attr=[96, 7], y=[1, 1024], IDENTIFIER=[1], COLLISION_ENERGY=[1, 1], adduct=[1], precursor_mz=[1, 1]),\n",
       " Data(x=[49, 84], edge_index=[2, 96], edge_attr=[96, 7], y=[1, 1024], IDENTIFIER=[1], COLLISION_ENERGY=[1, 1], adduct=[1], precursor_mz=[1, 1]),\n",
       " Data(x=[49, 84], edge_index=[2, 96], edge_attr=[96, 7], y=[1, 1024], IDENTIFIER=[1], COLLISION_ENERGY=[1, 1], adduct=[1], precursor_mz=[1, 1]),\n",
       " Data(x=[49, 84], edge_index=[2, 96], edge_attr=[96, 7], y=[1, 1024], IDENTIFIER=[1], COLLISION_ENERGY=[1, 1], adduct=[1], precursor_mz=[1, 1]),\n",
       " Data(x=[49, 84], edge_index=[2, 96], edge_attr=[96, 7], y=[1, 1024], IDENTIFIER=[1], COLLISION_ENERGY=[1, 1], adduct=[1], precursor_mz=[1, 1]),\n",
       " Data(x=[49, 84], edge_index=[2, 96], edge_attr=[96, 7], y=[1, 1024], IDENTIFIER=[1], COLLISION_ENERGY=[1, 1], adduct=[1], precursor_mz=[1, 1]),\n",
       " Data(x=[49, 84], edge_index=[2, 96], edge_attr=[96, 7], y=[1, 1024], IDENTIFIER=[1], COLLISION_ENERGY=[1, 1], adduct=[1], precursor_mz=[1, 1]),\n",
       " Data(x=[49, 84], edge_index=[2, 96], edge_attr=[96, 7], y=[1, 1024], IDENTIFIER=[1], COLLISION_ENERGY=[1, 1], adduct=[1], precursor_mz=[1, 1]),\n",
       " Data(x=[49, 84], edge_index=[2, 96], edge_attr=[96, 7], y=[1, 1024], IDENTIFIER=[1], COLLISION_ENERGY=[1, 1], adduct=[1], precursor_mz=[1, 1]),\n",
       " Data(x=[49, 84], edge_index=[2, 96], edge_attr=[96, 7], y=[1, 1024], IDENTIFIER=[1], COLLISION_ENERGY=[1, 1], adduct=[1], precursor_mz=[1, 1]),\n",
       " Data(x=[49, 84], edge_index=[2, 96], edge_attr=[96, 7], y=[1, 1024], IDENTIFIER=[1], COLLISION_ENERGY=[1, 1], adduct=[1], precursor_mz=[1, 1]),\n",
       " Data(x=[49, 84], edge_index=[2, 96], edge_attr=[96, 7], y=[1, 1024], IDENTIFIER=[1], COLLISION_ENERGY=[1, 1], adduct=[1], precursor_mz=[1, 1]),\n",
       " Data(x=[49, 84], edge_index=[2, 96], edge_attr=[96, 7], y=[1, 1024], IDENTIFIER=[1], COLLISION_ENERGY=[1, 1], adduct=[1], precursor_mz=[1, 1]),\n",
       " Data(x=[49, 84], edge_index=[2, 96], edge_attr=[96, 7], y=[1, 1024], IDENTIFIER=[1], COLLISION_ENERGY=[1, 1], adduct=[1], precursor_mz=[1, 1]),\n",
       " Data(x=[49, 84], edge_index=[2, 96], edge_attr=[96, 7], y=[1, 1024], IDENTIFIER=[1], COLLISION_ENERGY=[1, 1], adduct=[1], precursor_mz=[1, 1]),\n",
       " Data(x=[49, 84], edge_index=[2, 96], edge_attr=[96, 7], y=[1, 1024], IDENTIFIER=[1], COLLISION_ENERGY=[1, 1], adduct=[1], precursor_mz=[1, 1]),\n",
       " Data(x=[49, 84], edge_index=[2, 96], edge_attr=[96, 7], y=[1, 1024], IDENTIFIER=[1], COLLISION_ENERGY=[1, 1], adduct=[1], precursor_mz=[1, 1]),\n",
       " Data(x=[49, 84], edge_index=[2, 96], edge_attr=[96, 7], y=[1, 1024], IDENTIFIER=[1], COLLISION_ENERGY=[1, 1], adduct=[1], precursor_mz=[1, 1]),\n",
       " Data(x=[49, 84], edge_index=[2, 96], edge_attr=[96, 7], y=[1, 1024], IDENTIFIER=[1], COLLISION_ENERGY=[1, 1], adduct=[1], precursor_mz=[1, 1]),\n",
       " Data(x=[49, 84], edge_index=[2, 96], edge_attr=[96, 7], y=[1, 1024], IDENTIFIER=[1], COLLISION_ENERGY=[1, 1], adduct=[1], precursor_mz=[1, 1]),\n",
       " Data(x=[41, 84], edge_index=[2, 94], edge_attr=[94, 7], y=[1, 1024], IDENTIFIER=[1], COLLISION_ENERGY=[1, 1], adduct=[1], precursor_mz=[1, 1]),\n",
       " Data(x=[41, 84], edge_index=[2, 94], edge_attr=[94, 7], y=[1, 1024], IDENTIFIER=[1], COLLISION_ENERGY=[1, 1], adduct=[1], precursor_mz=[1, 1])]"
      ]
     },
     "execution_count": 14,
     "metadata": {},
     "output_type": "execute_result"
    }
   ],
   "execution_count": 14
  },
  {
   "metadata": {},
   "cell_type": "markdown",
   "source": "# Try torch dataloader ",
   "id": "8529b1b2f42cc688"
  },
  {
   "metadata": {
    "ExecuteTime": {
     "end_time": "2024-10-07T09:30:03.104255Z",
     "start_time": "2024-10-07T09:30:01.600823Z"
    }
   },
   "cell_type": "code",
   "source": [
    "from torch_geometric.loader import DataLoader\n",
    "\n",
    "batch_size_train = 32\n",
    "batch_size_valid = 32\n",
    "\n",
    "loader_train = DataLoader(\n",
    "    data_list_train, \n",
    "    batch_size=batch_size_train, \n",
    "    shuffle=True, \n",
    "    num_workers=1  \n",
    ")\n",
    "\n",
    "loader_valid = DataLoader(\n",
    "    data_list_valid, \n",
    "    batch_size=batch_size_valid, \n",
    "    shuffle=False, \n",
    "    num_workers=1  \n",
    ")\n",
    "\n",
    "\n",
    "for batch in loader_train:\n",
    "    print(batch)\n",
    "    print(f\"Batch size: {batch.num_graphs}\")  \n",
    "    print(f\"Node feature shape: {batch.x.shape}\")          \n",
    "    print(f\"Edge index shape: {batch.edge_index.shape}\")  \n",
    "    print(f\"Edge feature shape: {batch.edge_attr.shape}\") \n",
    "    print(f\"Spectrum embedding shape: {batch.y.shape}\")  \n",
    "    break  "
   ],
   "id": "2eb36a00ed872708",
   "outputs": [
    {
     "name": "stdout",
     "output_type": "stream",
     "text": [
      "DataBatch(x=[1555, 84], edge_index=[2, 3164], edge_attr=[3164, 7], y=[32, 1024], IDENTIFIER=[32], COLLISION_ENERGY=[32, 1], adduct=[32], precursor_mz=[32, 1], batch=[1555], ptr=[33])\n",
      "Batch size: 32\n",
      "Node feature shape: torch.Size([1555, 84])\n",
      "Edge index shape: torch.Size([2, 3164])\n",
      "Edge feature shape: torch.Size([3164, 7])\n",
      "Spectrum embedding shape: torch.Size([32, 1024])\n"
     ]
    }
   ],
   "execution_count": 15
  },
  {
   "metadata": {
    "ExecuteTime": {
     "end_time": "2024-10-07T09:30:03.148007Z",
     "start_time": "2024-10-07T09:30:03.146473Z"
    }
   },
   "cell_type": "code",
   "source": "",
   "id": "1d2bd7aedaee81f8",
   "outputs": [],
   "execution_count": null
  },
  {
   "metadata": {
    "ExecuteTime": {
     "end_time": "2024-10-07T09:30:03.160561Z",
     "start_time": "2024-10-07T09:30:03.159276Z"
    }
   },
   "cell_type": "code",
   "source": "",
   "id": "85094161e9d5370a",
   "outputs": [],
   "execution_count": null
  },
  {
   "metadata": {
    "ExecuteTime": {
     "end_time": "2024-10-07T09:30:03.173714Z",
     "start_time": "2024-10-07T09:30:03.172434Z"
    }
   },
   "cell_type": "code",
   "source": "",
   "id": "ba1515ebbc6fde28",
   "outputs": [],
   "execution_count": null
  }
 ],
 "metadata": {
  "kernelspec": {
   "display_name": "Python 3",
   "language": "python",
   "name": "python3"
  },
  "language_info": {
   "codemirror_mode": {
    "name": "ipython",
    "version": 2
   },
   "file_extension": ".py",
   "mimetype": "text/x-python",
   "name": "python",
   "nbconvert_exporter": "python",
   "pygments_lexer": "ipython2",
   "version": "2.7.6"
  }
 },
 "nbformat": 4,
 "nbformat_minor": 5
}
