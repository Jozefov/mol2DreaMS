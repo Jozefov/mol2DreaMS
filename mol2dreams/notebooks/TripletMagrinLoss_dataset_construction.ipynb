{
 "cells": [
  {
   "cell_type": "code",
   "id": "initial_id",
   "metadata": {
    "collapsed": true,
    "ExecuteTime": {
     "end_time": "2024-10-14T08:42:50.854471Z",
     "start_time": "2024-10-14T08:42:47.804727Z"
    }
   },
   "source": [
    "from matchms.importing import load_from_mgf\n",
    "from mol2dreams.featurizer.featurize import MoleculeFeaturizer\n",
    "from mol2dreams.utils.data import construct_triplets, pre_featurize_molecules\n",
    "from mol2dreams.datasets.TripletDataset import TripletDataset\n",
    "from mol2dreams.utils.parser import build_trainer_from_config\n",
    "\n",
    "import numpy as np\n",
    "import pandas as pd\n",
    "import torch\n",
    "from torch.utils.data import Dataset, DataLoader\n",
    "\n",
    "from torch_geometric.data import Batch\n"
   ],
   "outputs": [],
   "execution_count": 1
  },
  {
   "metadata": {
    "ExecuteTime": {
     "end_time": "2024-10-14T08:43:05.449911Z",
     "start_time": "2024-10-14T08:43:05.445633Z"
    }
   },
   "cell_type": "code",
   "source": [
    "def load_mgf_with_folds(mgf_path):\n",
    "\n",
    "    spectra = list(load_from_mgf(mgf_path))\n",
    "    records = []\n",
    "    for spec in spectra:\n",
    "        record = spec.to_dict()\n",
    "        records.append(record)\n",
    "    df = pd.DataFrame(records)\n",
    "\n",
    "    if 'fold' not in df.columns:\n",
    "        raise ValueError(\"fold column is missing. Ensure the dataset has been split into train/val/test.\")\n",
    "    \n",
    "    df.collision_energy = df.collision_energy.astype(float)\n",
    "    df.parent_mass = df.parent_mass.astype(float)\n",
    "    df.precursor_mz = df.precursor_mz.astype(float)\n",
    "    \n",
    "    return df\n"
   ],
   "id": "a81f9ee170c321b5",
   "outputs": [],
   "execution_count": 2
  },
  {
   "metadata": {
    "ExecuteTime": {
     "end_time": "2024-10-14T08:43:48.695048Z",
     "start_time": "2024-10-14T08:43:10.773806Z"
    }
   },
   "cell_type": "code",
   "source": [
    "spectra_path = \"../../data/data/MassSpecGym.mgf\"\n",
    "df = load_mgf_with_folds(spectra_path)\n",
    "print(df.head())"
   ],
   "id": "7623c4cf5ad80a44",
   "outputs": [
    {
     "name": "stdout",
     "output_type": "stream",
     "text": [
      "             identifier                                         smiles  \\\n",
      "0  MassSpecGymID0000001  CC(=O)N[C@@H](CC1=CC=CC=C1)C2=CC(=CC(=O)O2)OC   \n",
      "1  MassSpecGymID0000002  CC(=O)N[C@@H](CC1=CC=CC=C1)C2=CC(=CC(=O)O2)OC   \n",
      "2  MassSpecGymID0000003  CC(=O)N[C@@H](CC1=CC=CC=C1)C2=CC(=CC(=O)O2)OC   \n",
      "3  MassSpecGymID0000004  CC(=O)N[C@@H](CC1=CC=CC=C1)C2=CC(=CC(=O)O2)OC   \n",
      "4  MassSpecGymID0000005  CC(=O)N[C@@H](CC1=CC=CC=C1)C2=CC(=CC(=O)O2)OC   \n",
      "\n",
      "         inchikey    formula precursor_formula  parent_mass  precursor_mz  \\\n",
      "0  VFMQMACUYWGDOJ  C16H17NO4         C16H18NO4   287.115224      288.1225   \n",
      "1  VFMQMACUYWGDOJ  C16H17NO4         C16H18NO4   287.115224      288.1225   \n",
      "2  VFMQMACUYWGDOJ  C16H17NO4         C16H18NO4   287.115224      288.1225   \n",
      "3  VFMQMACUYWGDOJ  C16H17NO4         C16H18NO4   287.115224      288.1225   \n",
      "4  VFMQMACUYWGDOJ  C16H17NO4         C16H18NO4   287.115224      288.1225   \n",
      "\n",
      "   adduct instrument_type  collision_energy   fold simulation_challenge  \\\n",
      "0  [M+H]+        Orbitrap              30.0  train                 True   \n",
      "1  [M+H]+        Orbitrap              20.0  train                 True   \n",
      "2  [M+H]+        Orbitrap              40.0  train                 True   \n",
      "3  [M+H]+        Orbitrap              55.0  train                 True   \n",
      "4  [M+H]+        Orbitrap              10.0  train                 True   \n",
      "\n",
      "                                          peaks_json  \n",
      "0  [[91.0542, 0.24524524524524524], [125.0233, 1....  \n",
      "1  [[91.0542, 0.0990990990990991], [125.0233, 0.2...  \n",
      "2  [[69.0343, 0.03403403403403404], [91.0542, 0.3...  \n",
      "3  [[69.0343, 0.17917917917917917], [91.0542, 0.4...  \n",
      "4  [[91.0542, 0.07807807807807808], [125.0233, 0....  \n"
     ]
    }
   ],
   "execution_count": 3
  },
  {
   "metadata": {
    "ExecuteTime": {
     "end_time": "2024-10-14T09:00:51.926974Z",
     "start_time": "2024-10-14T09:00:47.501794Z"
    }
   },
   "cell_type": "code",
   "source": [
    "# Here is condition for\n",
    "triplets_df = construct_triplets(df)\n",
    "print(triplets_df.head())"
   ],
   "id": "73044d6308386f0b",
   "outputs": [
    {
     "name": "stdout",
     "output_type": "stream",
     "text": [
      "Filtered dataset size: 11186 spectra\n",
      "Constructed triplets for 11186 anchors.\n",
      "                                       anchor_smiles             anchor_id  \\\n",
      "0  CC(C)[C@H]1C(=O)O[C@@H](C(=O)N([C@H](C(=O)O[C@...  MassSpecGymID0000261   \n",
      "1  C[C@@H]1CC2=C(C=C(C(=C2C(=O)O1)O)C(=O)N[C@@H](...  MassSpecGymID0000740   \n",
      "2  CC[C@H](C)C(=O)O[C@H]1CCC=C2[C@H]1[C@H]([C@H](...  MassSpecGymID0000882   \n",
      "3       CC1=CC2=C(C(=C1)O)C(=O)C3=C(C2=O)C=C(C=C3O)O  MassSpecGymID0001133   \n",
      "4  COC1=C2C3=C(C(=O)CC3)C(=O)OC2=C4[C@@H]5C=CO[C@...  MassSpecGymID0001358   \n",
      "\n",
      "  positive_ids                                       negative_ids  \n",
      "0           []  [MassSpecGymID0221255, MassSpecGymID0195900, M...  \n",
      "1           []  [MassSpecGymID0218556, MassSpecGymID0218874, M...  \n",
      "2           []  [MassSpecGymID0204692, MassSpecGymID0223906, M...  \n",
      "3           []  [MassSpecGymID0226835, MassSpecGymID0092045, M...  \n",
      "4           []  [MassSpecGymID0232803, MassSpecGymID0159715, M...  \n"
     ]
    }
   ],
   "execution_count": 16
  },
  {
   "metadata": {
    "ExecuteTime": {
     "end_time": "2024-10-14T08:43:53.135211Z",
     "start_time": "2024-10-14T08:43:53.121085Z"
    }
   },
   "cell_type": "code",
   "source": [
    "triplets_df['num_positive'] = triplets_df['positive_ids'].apply(len)\n",
    "triplets_df['num_negative'] = triplets_df['negative_ids'].apply(len)\n",
    "\n",
    "# Compute value counts for positive_ids\n",
    "positive_counts = triplets_df['num_positive'].value_counts().sort_index()\n",
    "print(\"Positive IDs counts:\")\n",
    "print(positive_counts)\n",
    "\n",
    "# Compute value counts for negative_ids\n",
    "negative_counts = triplets_df['num_negative'].value_counts().sort_index()\n",
    "print(\"\\nNegative IDs counts:\")\n",
    "print(negative_counts)\n",
    "\n",
    "# Compute unique compounds \n",
    "unique_compounds = triplets_df['anchor_smiles'].unique()\n",
    "print(\"\\nUnique compounds:\")\n",
    "print(len(unique_compounds))"
   ],
   "id": "5f6673f8345b75b9",
   "outputs": [
    {
     "name": "stdout",
     "output_type": "stream",
     "text": [
      "Positive IDs counts:\n",
      "num_positive\n",
      "0    7467\n",
      "1    1756\n",
      "2    1137\n",
      "3     440\n",
      "4     190\n",
      "5     196\n",
      "Name: count, dtype: int64\n",
      "\n",
      "Negative IDs counts:\n",
      "num_negative\n",
      "0        2\n",
      "1       13\n",
      "2       11\n",
      "3        8\n",
      "4       12\n",
      "5    11140\n",
      "Name: count, dtype: int64\n",
      "\n",
      "Unique compounds:\n",
      "9154\n"
     ]
    }
   ],
   "execution_count": 5
  },
  {
   "metadata": {},
   "cell_type": "markdown",
   "source": "## Join with embedding",
   "id": "421bd2c3e20d5a5a"
  },
  {
   "metadata": {
    "ExecuteTime": {
     "end_time": "2024-10-14T08:43:56.301072Z",
     "start_time": "2024-10-14T08:43:53.160793Z"
    }
   },
   "cell_type": "code",
   "source": [
    "from mol2dreams.utils.data import prepare_datasets\n",
    "from dreams.utils.data import MSData\n",
    "from dreams.definitions import DREAMS_EMBEDDING"
   ],
   "id": "ecb5ff6ca07d0608",
   "outputs": [
    {
     "name": "stderr",
     "output_type": "stream",
     "text": [
      "/Users/macbook/UTILS/anaconda3/envs/mol2dreams/lib/python3.11/site-packages/tqdm/auto.py:21: TqdmWarning: IProgress not found. Please update jupyter and ipywidgets. See https://ipywidgets.readthedocs.io/en/stable/user_install.html\n",
      "  from .autonotebook import tqdm as notebook_tqdm\n",
      "Determination of memory status is not supported on this \n",
      " platform, measuring for memoryleaks will never fail\n"
     ]
    }
   ],
   "execution_count": 6
  },
  {
   "metadata": {
    "ExecuteTime": {
     "end_time": "2024-10-14T08:43:56.758362Z",
     "start_time": "2024-10-14T08:43:56.329458Z"
    }
   },
   "cell_type": "code",
   "source": [
    "hdf5_path = \"../../data/data/MassSpecGym_DreaMS.hdf5\"\n",
    "msdata = MSData.from_hdf5(hdf5_path, prec_mz_col='precursor_mz')\n",
    "embs = msdata[DREAMS_EMBEDDING]\n",
    "embs.shape"
   ],
   "id": "187e015e72c6b744",
   "outputs": [
    {
     "data": {
      "text/plain": [
       "(213548, 1024)"
      ]
     },
     "execution_count": 7,
     "metadata": {},
     "output_type": "execute_result"
    }
   ],
   "execution_count": 7
  },
  {
   "metadata": {
    "ExecuteTime": {
     "end_time": "2024-10-14T08:44:18.592037Z",
     "start_time": "2024-10-14T08:44:02.852838Z"
    }
   },
   "cell_type": "code",
   "source": [
    "extra_features = ['COLLISION_ENERGY', 'adduct', 'precursor_mz', 'INSTRUMENT_TYPE']\n",
    "# Prepare datasets\n",
    "datasets = prepare_datasets(\n",
    "    msdata=msdata, \n",
    "    embs=embs, \n",
    "    splits=['train', 'val'],  # Include 'test' if present\n",
    "    smiles_col='smiles', \n",
    "    embedding_col='DreaMS_embedding', \n",
    "    fold_col='FOLD'\n",
    ")"
   ],
   "id": "b54acdab4909c558",
   "outputs": [
    {
     "name": "stdout",
     "output_type": "stream",
     "text": [
      "Processing split 'train' with 194119 samples.\n"
     ]
    },
    {
     "name": "stderr",
     "output_type": "stream",
     "text": [
      "Featurizing train: 100%|██████████| 194119/194119 [00:10<00:00, 18025.02it/s]\n"
     ]
    },
    {
     "name": "stdout",
     "output_type": "stream",
     "text": [
      "Processing split 'val' with 19429 samples.\n"
     ]
    },
    {
     "name": "stderr",
     "output_type": "stream",
     "text": [
      "Featurizing val: 100%|██████████| 19429/19429 [00:02<00:00, 7871.15it/s] \n"
     ]
    }
   ],
   "execution_count": 8
  },
  {
   "metadata": {
    "ExecuteTime": {
     "end_time": "2024-10-14T08:44:35.614889Z",
     "start_time": "2024-10-14T08:44:35.612545Z"
    }
   },
   "cell_type": "code",
   "source": "train_data = datasets['train']",
   "id": "25f770538807fa62",
   "outputs": [],
   "execution_count": 9
  },
  {
   "metadata": {
    "ExecuteTime": {
     "end_time": "2024-10-14T08:44:36.387508Z",
     "start_time": "2024-10-14T08:44:36.352626Z"
    }
   },
   "cell_type": "code",
   "source": "identifier_to_data = {entry['IDENTIFIER']: entry for entry in train_data}",
   "id": "d4951a91e703a84e",
   "outputs": [],
   "execution_count": 10
  },
  {
   "metadata": {
    "ExecuteTime": {
     "end_time": "2024-10-14T08:49:00.733725Z",
     "start_time": "2024-10-14T08:49:00.707569Z"
    }
   },
   "cell_type": "code",
   "source": [
    "# Anchors\n",
    "anchor_ids = set(triplets_df['anchor_id'])\n",
    "\n",
    "# Positives\n",
    "positive_ids_set = set([pid for sublist in triplets_df['positive_ids'] for pid in sublist])\n",
    "\n",
    "# Negatives\n",
    "negative_ids_set = set([nid for sublist in triplets_df['negative_ids'] for nid in sublist])\n",
    "\n",
    "# Union of all identifiers\n",
    "all_triplet_ids = anchor_ids.union(positive_ids_set).union(negative_ids_set)"
   ],
   "id": "6361d4e6e4f71fd8",
   "outputs": [],
   "execution_count": 12
  },
  {
   "metadata": {
    "ExecuteTime": {
     "end_time": "2024-10-14T08:49:03.939329Z",
     "start_time": "2024-10-14T08:49:03.925181Z"
    }
   },
   "cell_type": "code",
   "source": [
    "dataset_ids = set(identifier_to_data.keys())\n",
    "identifiers_not_in_datasets = all_triplet_ids - dataset_ids\n",
    "\n",
    "if identifiers_not_in_datasets:\n",
    "    print(f\"Identifiers in triplets not in datasets: {len(identifiers_not_in_datasets)}\")\n",
    "    print(identifiers_not_in_datasets)\n",
    "else:\n",
    "    print(\"All identifiers in triplets are present in datasets.\")"
   ],
   "id": "913d4d998f22cc52",
   "outputs": [
    {
     "name": "stdout",
     "output_type": "stream",
     "text": [
      "All identifiers in triplets are present in datasets.\n"
     ]
    }
   ],
   "execution_count": 13
  },
  {
   "metadata": {
    "ExecuteTime": {
     "end_time": "2024-10-14T08:49:09.276812Z",
     "start_time": "2024-10-14T08:49:09.219778Z"
    }
   },
   "cell_type": "code",
   "source": [
    "identifier_to_embedding = {entry['IDENTIFIER']: entry['embedding'] for entry in train_data}\n",
    "identifier_to_smiles ={entry['IDENTIFIER']: entry['smiles'] for entry in train_data}"
   ],
   "id": "d3e8794bcdb1ed01",
   "outputs": [],
   "execution_count": 14
  },
  {
   "metadata": {
    "ExecuteTime": {
     "end_time": "2024-10-14T08:49:10.432628Z",
     "start_time": "2024-10-14T08:49:10.430184Z"
    }
   },
   "cell_type": "code",
   "source": "len(identifier_to_embedding), len(identifier_to_smiles)",
   "id": "f854e4d701e751e5",
   "outputs": [
    {
     "data": {
      "text/plain": [
       "(194119, 194119)"
      ]
     },
     "execution_count": 15,
     "metadata": {},
     "output_type": "execute_result"
    }
   ],
   "execution_count": 15
  },
  {
   "metadata": {},
   "cell_type": "markdown",
   "source": "# Make TripletMargin Dataset",
   "id": "57bda41090dda573"
  },
  {
   "metadata": {
    "ExecuteTime": {
     "end_time": "2024-10-09T14:43:40.767737Z",
     "start_time": "2024-10-09T14:43:40.764848Z"
    }
   },
   "cell_type": "code",
   "source": [
    "bond_config = {\n",
    "    'features': {\n",
    "        'bond_type': True,\n",
    "        'conjugated': True,\n",
    "        'in_ring': True,\n",
    "        'stereochemistry': False,\n",
    "    }\n",
    "}\n",
    "\n",
    "atom_config = {\n",
    "    'features': {\n",
    "        'atom_symbol': True,\n",
    "        'total_valence': True,\n",
    "        'aromatic': True,\n",
    "        'hybridization': True,\n",
    "        'formal_charge': True,\n",
    "        'default_valence': True,\n",
    "        'ring_size': True,        \n",
    "        'hydrogen_count': True,\n",
    "    },\n",
    "    'feature_attributes': {\n",
    "        'atom_symbol': {\n",
    "            'top_n_atoms': 42,     \n",
    "            'include_other': True,    \n",
    "        },\n",
    "\n",
    "    }\n",
    "}\n",
    "global_config = {\n",
    "        'features': {\n",
    "            'collision_energy': True,\n",
    "            'adduct': True,\n",
    "            'instrument_type': True,\n",
    "            'precursor_mz': True\n",
    "        }\n",
    "}\n",
    "\n",
    "spectrum_embedding_size = 1024 \n",
    "featurizer = MoleculeFeaturizer(atom_config, bond_config, global_config=global_config, spectrum_embedding_size=spectrum_embedding_size)"
   ],
   "id": "5c92cd860bd96a80",
   "outputs": [],
   "execution_count": 16
  },
  {
   "metadata": {
    "ExecuteTime": {
     "end_time": "2024-10-09T14:44:30.929080Z",
     "start_time": "2024-10-09T14:43:41.001020Z"
    }
   },
   "cell_type": "code",
   "source": "featurized_molecules, failed_identifiers = pre_featurize_molecules(triplets_df, identifier_to_smiles, identifier_to_embedding, featurizer)",
   "id": "4c2b08ce20109691",
   "outputs": [
    {
     "name": "stdout",
     "output_type": "stream",
     "text": [
      "Total unique identifiers to featurize: 11186\n",
      "Featurizing molecules...\n"
     ]
    },
    {
     "name": "stderr",
     "output_type": "stream",
     "text": [
      "Featurizing dataset: 100%|██████████| 11186/11186 [00:49<00:00, 224.17it/s]"
     ]
    },
    {
     "name": "stdout",
     "output_type": "stream",
     "text": [
      "Featurized 11186 molecules out of 11186\n"
     ]
    },
    {
     "name": "stderr",
     "output_type": "stream",
     "text": [
      "\n"
     ]
    }
   ],
   "execution_count": 18
  },
  {
   "metadata": {
    "ExecuteTime": {
     "end_time": "2024-10-09T14:44:31.631269Z",
     "start_time": "2024-10-09T14:44:31.443081Z"
    }
   },
   "cell_type": "code",
   "source": [
    "triplet_dataset = TripletDataset(triplets_df, featurized_molecules)\n",
    "\n",
    "# Create the DataLoader\n",
    "batch_size = 32\n",
    "triplet_loader = DataLoader(\n",
    "    triplet_dataset,\n",
    "    batch_size=batch_size,\n",
    "    shuffle=False,\n",
    "    collate_fn=triplet_dataset.collate_fn,\n",
    "    num_workers=0\n",
    ")"
   ],
   "id": "971aa8d4c4fa3113",
   "outputs": [
    {
     "name": "stdout",
     "output_type": "stream",
     "text": [
      "Total valid triplets: 3719\n"
     ]
    }
   ],
   "execution_count": 21
  },
  {
   "metadata": {
    "ExecuteTime": {
     "end_time": "2024-10-09T14:44:31.751405Z",
     "start_time": "2024-10-09T14:44:31.749972Z"
    }
   },
   "cell_type": "code",
   "source": "",
   "id": "812a70c85ed9d2fc",
   "outputs": [],
   "execution_count": null
  },
  {
   "metadata": {
    "ExecuteTime": {
     "end_time": "2024-10-09T14:44:31.870886Z",
     "start_time": "2024-10-09T14:44:31.869476Z"
    }
   },
   "cell_type": "code",
   "source": [
    "# save_path = '../../data/data/triplet_dataset.pt'\n",
    "# torch.save(triplet_dataset, save_path)\n",
    "# print(f\"TripletDataset saved to {save_path}\")"
   ],
   "id": "e4ad9faaff37fba0",
   "outputs": [],
   "execution_count": 22
  },
  {
   "metadata": {
    "ExecuteTime": {
     "end_time": "2024-10-09T14:44:33.036002Z",
     "start_time": "2024-10-09T14:44:31.989881Z"
    }
   },
   "cell_type": "code",
   "source": [
    "load_path = '../../data/data/triplet_dataset.pt'\n",
    "triplet_dataset_loaded = torch.load(load_path)\n",
    "print(f\"TripletDataset loaded from {load_path}\")"
   ],
   "id": "e74a9cd9f0449d81",
   "outputs": [
    {
     "name": "stdout",
     "output_type": "stream",
     "text": [
      "TripletDataset loaded from ../../data/data/triplet_dataset.pt\n"
     ]
    }
   ],
   "execution_count": 23
  },
  {
   "metadata": {
    "ExecuteTime": {
     "end_time": "2024-10-09T14:44:33.158927Z",
     "start_time": "2024-10-09T14:44:33.156980Z"
    }
   },
   "cell_type": "code",
   "source": [
    "batch_size = 32\n",
    "triplet_loader_loaded = DataLoader(\n",
    "    triplet_dataset_loaded,\n",
    "    batch_size=batch_size,\n",
    "    shuffle=False,\n",
    "    collate_fn=triplet_dataset.collate_fn,\n",
    "    num_workers=0\n",
    ")"
   ],
   "id": "4da39efa1a4efcdf",
   "outputs": [],
   "execution_count": 24
  },
  {
   "metadata": {
    "ExecuteTime": {
     "end_time": "2024-10-09T14:44:33.285932Z",
     "start_time": "2024-10-09T14:44:33.278736Z"
    }
   },
   "cell_type": "code",
   "source": [
    "for first in triplet_loader_loaded:\n",
    "    print(first)\n",
    "    break"
   ],
   "id": "69b9779df5db004d",
   "outputs": [
    {
     "name": "stdout",
     "output_type": "stream",
     "text": [
      "(DataBatch(x=[527, 84], edge_index=[2, 1092], edge_attr=[1092, 7], y=[32, 1024], identifier=[32], batch=[527], ptr=[33]), DataBatch(x=[527, 84], edge_index=[2, 1092], edge_attr=[1092, 7], y=[32, 1024], identifier=[32], batch=[527], ptr=[33]), DataBatch(x=[542, 84], edge_index=[2, 1130], edge_attr=[1130, 7], y=[32, 1024], identifier=[32], batch=[542], ptr=[33]))\n"
     ]
    }
   ],
   "execution_count": 25
  },
  {
   "metadata": {},
   "cell_type": "markdown",
   "source": "# Train from config",
   "id": "88517742f68e7ed9"
  },
  {
   "metadata": {
    "ExecuteTime": {
     "end_time": "2024-10-09T14:44:33.413012Z",
     "start_time": "2024-10-09T14:44:33.406978Z"
    }
   },
   "cell_type": "code",
   "source": [
    "import yaml\n",
    "\n",
    "with open(\"/Users/macbook/CODE/mol2DreaMS/mol2dreams/configs/local_config_triplet_margin.yaml\") as stream:\n",
    "    config = yaml.safe_load(stream)"
   ],
   "id": "31e1553552854fd",
   "outputs": [],
   "execution_count": 26
  },
  {
   "metadata": {
    "ExecuteTime": {
     "end_time": "2024-10-09T14:44:37.066850Z",
     "start_time": "2024-10-09T14:44:33.535927Z"
    }
   },
   "cell_type": "code",
   "source": "trainer = build_trainer_from_config(config)",
   "id": "6230a6af8964d191",
   "outputs": [
    {
     "name": "stderr",
     "output_type": "stream",
     "text": [
      "/Users/macbook/UTILS/anaconda3/envs/mol2dreams/lib/python3.11/site-packages/torch/nn/utils/weight_norm.py:28: UserWarning: torch.nn.utils.weight_norm is deprecated in favor of torch.nn.utils.parametrizations.weight_norm.\n",
      "  warnings.warn(\"torch.nn.utils.weight_norm is deprecated in favor of torch.nn.utils.parametrizations.weight_norm.\")\n"
     ]
    }
   ],
   "execution_count": 27
  },
  {
   "metadata": {
    "ExecuteTime": {
     "end_time": "2024-10-09T14:45:52.662283Z",
     "start_time": "2024-10-09T14:44:37.196125Z"
    }
   },
   "cell_type": "code",
   "source": "trainer.train()",
   "id": "b26ec271666b1cab",
   "outputs": [
    {
     "name": "stdout",
     "output_type": "stream",
     "text": [
      "Epoch [1/10], Loss: 0.1789, Pos Dist: 7.8130, Neg Dist: 15.6266\n",
      "Epoch [2/10], Loss: 0.0966, Pos Dist: 7.9670, Neg Dist: 20.3984\n",
      "Validation Loss: 0.0017, Pos Dist: 0.0003, Neg Dist: 21.9667\n",
      "Best model saved at epoch 2 with validation loss 0.0017\n",
      "Model checkpoint saved at ../../data/logs/mol2dreams/20241009_164437_mol2dreams/model_epoch_2.pt\n",
      "Epoch [3/10], Loss: 0.0750, Pos Dist: 8.0283, Neg Dist: 22.3910\n",
      "Epoch [4/10], Loss: 0.0716, Pos Dist: 7.7800, Neg Dist: 24.4136\n",
      "Validation Loss: 0.0013, Pos Dist: 0.0002, Neg Dist: 25.5010\n",
      "Best model saved at epoch 4 with validation loss 0.0013\n",
      "Model checkpoint saved at ../../data/logs/mol2dreams/20241009_164437_mol2dreams/model_epoch_4.pt\n",
      "Epoch [5/10], Loss: 0.0812, Pos Dist: 7.2210, Neg Dist: 22.8026\n",
      "Epoch [6/10], Loss: 0.0497, Pos Dist: 7.0394, Neg Dist: 24.5281\n",
      "Validation Loss: 0.0017, Pos Dist: 0.0016, Neg Dist: 24.5976\n",
      "Model checkpoint saved at ../../data/logs/mol2dreams/20241009_164437_mol2dreams/model_epoch_6.pt\n",
      "Epoch [7/10], Loss: 0.0491, Pos Dist: 7.3907, Neg Dist: 28.4621\n",
      "Epoch [8/10], Loss: 0.0462, Pos Dist: 7.0535, Neg Dist: 26.4739\n",
      "Validation Loss: 0.0006, Pos Dist: 0.0016, Neg Dist: 28.3386\n",
      "Best model saved at epoch 8 with validation loss 0.0006\n",
      "Model checkpoint saved at ../../data/logs/mol2dreams/20241009_164437_mol2dreams/model_epoch_8.pt\n",
      "Epoch [9/10], Loss: 0.0497, Pos Dist: 7.7232, Neg Dist: 30.2036\n",
      "Epoch [10/10], Loss: 0.0506, Pos Dist: 7.5754, Neg Dist: 30.2900\n",
      "Validation Loss: 0.0010, Pos Dist: 0.0010, Neg Dist: 36.9421\n",
      "Model checkpoint saved at ../../data/logs/mol2dreams/20241009_164437_mol2dreams/model_epoch_10.pt\n"
     ]
    }
   ],
   "execution_count": 28
  },
  {
   "metadata": {
    "ExecuteTime": {
     "end_time": "2024-10-09T14:45:52.792523Z",
     "start_time": "2024-10-09T14:45:52.791319Z"
    }
   },
   "cell_type": "code",
   "source": "",
   "id": "953b73903947644a",
   "outputs": [],
   "execution_count": null
  },
  {
   "metadata": {
    "ExecuteTime": {
     "end_time": "2024-10-09T14:45:52.919225Z",
     "start_time": "2024-10-09T14:45:52.917747Z"
    }
   },
   "cell_type": "code",
   "source": "",
   "id": "98bd9b639c84b043",
   "outputs": [],
   "execution_count": null
  }
 ],
 "metadata": {
  "kernelspec": {
   "display_name": "Python 3",
   "language": "python",
   "name": "python3"
  },
  "language_info": {
   "codemirror_mode": {
    "name": "ipython",
    "version": 2
   },
   "file_extension": ".py",
   "mimetype": "text/x-python",
   "name": "python",
   "nbconvert_exporter": "python",
   "pygments_lexer": "ipython2",
   "version": "2.7.6"
  }
 },
 "nbformat": 4,
 "nbformat_minor": 5
}
