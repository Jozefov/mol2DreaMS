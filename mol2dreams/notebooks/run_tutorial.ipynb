{
 "cells": [
  {
   "cell_type": "code",
   "id": "initial_id",
   "metadata": {
    "collapsed": true,
    "ExecuteTime": {
     "end_time": "2024-10-11T09:13:20.667792Z",
     "start_time": "2024-10-11T09:13:19.246265Z"
    }
   },
   "source": [
    "import yaml\n",
    "from mol2dreams.utils.parser import (\n",
    "    build_model_from_config,\n",
    "    build_trainer_from_config)\n",
    "from mol2dreams.datasets.TripletDataset import TripletDataset"
   ],
   "outputs": [],
   "execution_count": 1
  },
  {
   "metadata": {
    "ExecuteTime": {
     "end_time": "2024-10-11T09:15:35.749144Z",
     "start_time": "2024-10-11T09:15:35.742965Z"
    }
   },
   "cell_type": "code",
   "source": [
    "with open(\"../configs/local_config_triplet_margin.yaml\") as stream:\n",
    "    config = yaml.safe_load(stream)"
   ],
   "id": "d4e42489b4386fc2",
   "outputs": [],
   "execution_count": 7
  },
  {
   "metadata": {
    "ExecuteTime": {
     "end_time": "2024-10-11T09:13:48.937984Z",
     "start_time": "2024-10-11T09:13:45.769530Z"
    }
   },
   "cell_type": "code",
   "source": "trainer = build_trainer_from_config(config)",
   "id": "e5254c7e30b2310d",
   "outputs": [
    {
     "name": "stderr",
     "output_type": "stream",
     "text": [
      "/Users/macbook/UTILS/anaconda3/envs/mol2dreams/lib/python3.11/site-packages/torch/nn/utils/weight_norm.py:28: UserWarning: torch.nn.utils.weight_norm is deprecated in favor of torch.nn.utils.parametrizations.weight_norm.\n",
      "  warnings.warn(\"torch.nn.utils.weight_norm is deprecated in favor of torch.nn.utils.parametrizations.weight_norm.\")\n"
     ]
    }
   ],
   "execution_count": 3
  },
  {
   "metadata": {
    "ExecuteTime": {
     "end_time": "2024-10-11T09:13:52.537067Z",
     "start_time": "2024-10-11T09:13:50.096843Z"
    }
   },
   "cell_type": "code",
   "source": "trainer.test()",
   "id": "e56cab94c5abcf32",
   "outputs": [
    {
     "name": "stdout",
     "output_type": "stream",
     "text": [
      "Test Loss: 0.9630, Pos Cosine: 1.0000, Neg Cosine: 0.9994\n"
     ]
    }
   ],
   "execution_count": 4
  },
  {
   "metadata": {
    "ExecuteTime": {
     "end_time": "2024-10-11T09:15:13.303639Z",
     "start_time": "2024-10-11T09:13:54.787052Z"
    }
   },
   "cell_type": "code",
   "source": "trainer.train()",
   "id": "71e16229d916bc50",
   "outputs": [
    {
     "name": "stdout",
     "output_type": "stream",
     "text": [
      "Epoch [1/10], Loss: 0.1639, Pos Sim: 0.8824, Neg Sim: 0.6430\n",
      "Epoch [2/10], Loss: 0.0890, Pos Sim: 0.9328, Neg Sim: 0.6305\n",
      "Validation Loss: 0.0013, Pos Sim: 1.0000, Neg Sim: 0.6361\n",
      "Best model saved at epoch 2 with validation loss 0.0013\n",
      "Model checkpoint saved at ../../data/logs/mol2dreams/20241011_111348_mol2dreams/model_epoch_2.pt\n",
      "Epoch [3/10], Loss: 0.0557, Pos Sim: 0.9490, Neg Sim: 0.6373\n",
      "Epoch [4/10], Loss: 0.0567, Pos Sim: 0.9567, Neg Sim: 0.6583\n",
      "Validation Loss: 0.0003, Pos Sim: 1.0000, Neg Sim: 0.6924\n",
      "Best model saved at epoch 4 with validation loss 0.0003\n",
      "Model checkpoint saved at ../../data/logs/mol2dreams/20241011_111348_mol2dreams/model_epoch_4.pt\n",
      "Epoch [5/10], Loss: 0.0522, Pos Sim: 0.9622, Neg Sim: 0.6393\n",
      "Epoch [6/10], Loss: 0.0601, Pos Sim: 0.9702, Neg Sim: 0.6803\n",
      "Validation Loss: 0.0007, Pos Sim: 1.0000, Neg Sim: 0.7261\n",
      "Model checkpoint saved at ../../data/logs/mol2dreams/20241011_111348_mol2dreams/model_epoch_6.pt\n",
      "Epoch [7/10], Loss: 0.0369, Pos Sim: 0.9734, Neg Sim: 0.7102\n",
      "Epoch [8/10], Loss: 0.0409, Pos Sim: 0.9758, Neg Sim: 0.7107\n",
      "Validation Loss: 0.0009, Pos Sim: 1.0000, Neg Sim: 0.7554\n",
      "Model checkpoint saved at ../../data/logs/mol2dreams/20241011_111348_mol2dreams/model_epoch_8.pt\n",
      "Epoch [9/10], Loss: 0.0578, Pos Sim: 0.9815, Neg Sim: 0.7348\n",
      "Epoch [10/10], Loss: 0.0348, Pos Sim: 0.9822, Neg Sim: 0.7661\n",
      "Validation Loss: 0.0009, Pos Sim: 1.0000, Neg Sim: 0.7576\n",
      "Model checkpoint saved at ../../data/logs/mol2dreams/20241011_111348_mol2dreams/model_epoch_10.pt\n"
     ]
    }
   ],
   "execution_count": 5
  },
  {
   "metadata": {
    "ExecuteTime": {
     "end_time": "2024-10-11T09:15:15.720512Z",
     "start_time": "2024-10-11T09:15:13.309079Z"
    }
   },
   "cell_type": "code",
   "source": "trainer.test()",
   "id": "93cac9bb2de85bd7",
   "outputs": [
    {
     "name": "stdout",
     "output_type": "stream",
     "text": [
      "Test Loss: 0.0021, Pos Cosine: 1.0000, Neg Cosine: 0.7561\n"
     ]
    }
   ],
   "execution_count": 6
  }
 ],
 "metadata": {
  "kernelspec": {
   "display_name": "Python 3",
   "language": "python",
   "name": "python3"
  },
  "language_info": {
   "codemirror_mode": {
    "name": "ipython",
    "version": 2
   },
   "file_extension": ".py",
   "mimetype": "text/x-python",
   "name": "python",
   "nbconvert_exporter": "python",
   "pygments_lexer": "ipython2",
   "version": "2.7.6"
  }
 },
 "nbformat": 4,
 "nbformat_minor": 5
}
